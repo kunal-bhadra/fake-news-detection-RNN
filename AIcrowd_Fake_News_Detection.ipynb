{
  "cells": [
    {
      "cell_type": "markdown",
      "metadata": {
        "id": "4JqiZT52gEkK"
      },
      "source": [
        "# Initialising\n",
        "\n",
        "\n",
        "\n",
        "\n",
        "---\n",
        "\n",
        "\n",
        "\n",
        "\n"
      ]
    },
    {
      "cell_type": "code",
      "execution_count": 1,
      "metadata": {
        "colab": {
          "base_uri": "https://localhost:8080/"
        },
        "id": "0n8XZKR90UJg",
        "outputId": "9d788973-477e-471c-98b4-30e9f36a0a07"
      },
      "outputs": [
        {
          "name": "stdout",
          "output_type": "stream",
          "text": [
            "Requirement already satisfied: aicrowd-cli in /usr/local/lib/python3.7/dist-packages (0.1.10)\n",
            "Requirement already satisfied: click<8,>=7.1.2 in /usr/local/lib/python3.7/dist-packages (from aicrowd-cli) (7.1.2)\n",
            "Requirement already satisfied: GitPython==3.1.18 in /usr/local/lib/python3.7/dist-packages (from aicrowd-cli) (3.1.18)\n",
            "Requirement already satisfied: rich<11,>=10.0.0 in /usr/local/lib/python3.7/dist-packages (from aicrowd-cli) (10.15.0)\n",
            "Requirement already satisfied: tqdm<5,>=4.56.0 in /usr/local/lib/python3.7/dist-packages (from aicrowd-cli) (4.62.3)\n",
            "Requirement already satisfied: requests<3,>=2.25.1 in /usr/local/lib/python3.7/dist-packages (from aicrowd-cli) (2.26.0)\n",
            "Requirement already satisfied: requests-toolbelt<1,>=0.9.1 in /usr/local/lib/python3.7/dist-packages (from aicrowd-cli) (0.9.1)\n",
            "Requirement already satisfied: toml<1,>=0.10.2 in /usr/local/lib/python3.7/dist-packages (from aicrowd-cli) (0.10.2)\n",
            "Requirement already satisfied: pyzmq==22.1.0 in /usr/local/lib/python3.7/dist-packages (from aicrowd-cli) (22.1.0)\n",
            "Requirement already satisfied: gitdb<5,>=4.0.1 in /usr/local/lib/python3.7/dist-packages (from GitPython==3.1.18->aicrowd-cli) (4.0.9)\n",
            "Requirement already satisfied: typing-extensions>=3.7.4.0 in /usr/local/lib/python3.7/dist-packages (from GitPython==3.1.18->aicrowd-cli) (3.10.0.2)\n",
            "Requirement already satisfied: smmap<6,>=3.0.1 in /usr/local/lib/python3.7/dist-packages (from gitdb<5,>=4.0.1->GitPython==3.1.18->aicrowd-cli) (5.0.0)\n",
            "Requirement already satisfied: certifi>=2017.4.17 in /usr/local/lib/python3.7/dist-packages (from requests<3,>=2.25.1->aicrowd-cli) (2021.10.8)\n",
            "Requirement already satisfied: idna<4,>=2.5 in /usr/local/lib/python3.7/dist-packages (from requests<3,>=2.25.1->aicrowd-cli) (2.10)\n",
            "Requirement already satisfied: charset-normalizer~=2.0.0 in /usr/local/lib/python3.7/dist-packages (from requests<3,>=2.25.1->aicrowd-cli) (2.0.7)\n",
            "Requirement already satisfied: urllib3<1.27,>=1.21.1 in /usr/local/lib/python3.7/dist-packages (from requests<3,>=2.25.1->aicrowd-cli) (1.24.3)\n",
            "Requirement already satisfied: colorama<0.5.0,>=0.4.0 in /usr/local/lib/python3.7/dist-packages (from rich<11,>=10.0.0->aicrowd-cli) (0.4.4)\n",
            "Requirement already satisfied: commonmark<0.10.0,>=0.9.0 in /usr/local/lib/python3.7/dist-packages (from rich<11,>=10.0.0->aicrowd-cli) (0.9.1)\n",
            "Requirement already satisfied: pygments<3.0.0,>=2.6.0 in /usr/local/lib/python3.7/dist-packages (from rich<11,>=10.0.0->aicrowd-cli) (2.6.1)\n"
          ]
        }
      ],
      "source": [
        "# installing AIcrowd CLI\n",
        "!pip install aicrowd-cli\n",
        "%load_ext aicrowd.magic"
      ]
    },
    {
      "cell_type": "code",
      "execution_count": 2,
      "metadata": {
        "colab": {
          "base_uri": "https://localhost:8080/"
        },
        "id": "2R6pozP6Idfd",
        "outputId": "5c51bd4d-3535-44ec-f7df-fc7f2bb6edf6"
      },
      "outputs": [
        {
          "name": "stdout",
          "output_type": "stream",
          "text": [
            "Please login here: \u001b[34m\u001b[1m\u001b[4mhttps://api.aicrowd.com/auth/uvcKLcWSlS8wHMUsF7sJENmjzPZ6GM9hWG2oE98fYRQ\u001b[0m\n",
            "\u001b[32mAPI Key valid\u001b[0m\n",
            "\u001b[32mSaved API Key successfully!\u001b[0m\n"
          ]
        }
      ],
      "source": [
        "%aicrowd login"
      ]
    },
    {
      "cell_type": "code",
      "execution_count": 3,
      "metadata": {
        "colab": {
          "base_uri": "https://localhost:8080/",
          "height": 145,
          "referenced_widgets": [
            "f9d395c80bef45d1a89e76364c8e4d6c",
            "71009c9ff5904617982a6173b2df17e2",
            "3a395cf897534b27b2de97614b1446df",
            "0c07e943568f49a28e05bc14a30c571d",
            "6a7d1c82618840a995e940b17fcc433f",
            "f1a75bf799c848e9a8fa0c87b85214cf",
            "f297e7c72d0c41cea74d47eb6b4c0b87",
            "a2f3e1361bad468a95569ab08f571421",
            "34aaf17e743a49af81ebfec62c9a0f34",
            "1e4ba96ab4bf4f658043ad69072c47c3",
            "b502595b8b1b43ad8daa7a96ff67a132",
            "b639e46dea314b129d1fc91ee404d15b",
            "6abe3fb7ddcf40cf91ece3b0bb8c213e",
            "1180c647a3fe4d829e24872e4098b20b",
            "5b67591a311444e99e92c108b0b5cdf6",
            "8efdca9ff9af471986d39aa0eea55855",
            "e9783451ef91411b99d69c6952c7b9c6",
            "d429e5593f8e4c83a3c75395466d4775",
            "5de6532d1e41416d91a3f8bb88d46207",
            "728ea688612041d590ac2a9acc10e532",
            "abec2aff5fd54a6f97cc587dbd1590a7",
            "27eedc185402464a886a5f0469b11ef7",
            "2270a3665c60492ca5b7654d65060bc7",
            "378596033da34d2dbdacd07621485d8c",
            "70f64054cfec470cb863a0598a9630af",
            "de4053e3e7164daa9267ce1f23a96df7",
            "b4f4adb1dd874b58860a59d94fc60016",
            "314313d11572449f842375c6253770cd",
            "be3f63bd8b084340a554ea6945aa6798",
            "87ad4fe2e0b446958ff4f993f52dd8c0",
            "724ec6b18d424727bc4f41bc1db8bab9",
            "a973f60fccd8477c9bead4d4afca5f58",
            "1b3d725a47814de69cd559c8a62ce5d7",
            "44b760815e1d409585ea1f85605eaba2",
            "3a0eb2d70f1c4d36ac35f3d6083c93d9",
            "1a2e01d3a5974cb4b29cab8ac2dead9a",
            "cffcb0d215ea4ec9b5024660f446c266",
            "22302f03fcc148a78c9a22de04b054f3",
            "6af467791cf94fcc8b4efd56b1726dd0",
            "c42b1e0a18c44a2ab1b6ec6c8df42a24",
            "16005e3b7e9a46f2966390560c9859ad",
            "d66720294d70409a9e91aa3babe55882",
            "ed2f7c438cc046f49a7c50580a7085af",
            "d45e8ca34e084507b63ba9e2157bb281"
          ]
        },
        "id": "xFti46OHIhHV",
        "outputId": "cb015dd7-7511-4528-dd92-04def0fcf5f5"
      },
      "outputs": [
        {
          "data": {
            "application/vnd.jupyter.widget-view+json": {
              "model_id": "f9d395c80bef45d1a89e76364c8e4d6c",
              "version_major": 2,
              "version_minor": 0
            },
            "text/plain": [
              "train.zip:   0%|          | 0.00/33.4M [00:00<?, ?B/s]"
            ]
          },
          "metadata": {},
          "output_type": "display_data"
        },
        {
          "data": {
            "application/vnd.jupyter.widget-view+json": {
              "model_id": "b639e46dea314b129d1fc91ee404d15b",
              "version_major": 2,
              "version_minor": 0
            },
            "text/plain": [
              "test.zip:   0%|          | 0.00/16.6M [00:00<?, ?B/s]"
            ]
          },
          "metadata": {},
          "output_type": "display_data"
        },
        {
          "data": {
            "application/vnd.jupyter.widget-view+json": {
              "model_id": "2270a3665c60492ca5b7654d65060bc7",
              "version_major": 2,
              "version_minor": 0
            },
            "text/plain": [
              "sample_submission.csv:   0%|          | 0.00/580k [00:00<?, ?B/s]"
            ]
          },
          "metadata": {},
          "output_type": "display_data"
        },
        {
          "data": {
            "application/vnd.jupyter.widget-view+json": {
              "model_id": "44b760815e1d409585ea1f85605eaba2",
              "version_major": 2,
              "version_minor": 0
            },
            "text/plain": [
              "val.zip:   0%|          | 0.00/5.56M [00:00<?, ?B/s]"
            ]
          },
          "metadata": {},
          "output_type": "display_data"
        }
      ],
      "source": [
        "# Downloading the Dataset\n",
        "!rm -rf data\n",
        "!mkdir data\n",
        "%aicrowd ds dl -c fake-news-detection -o data"
      ]
    },
    {
      "cell_type": "code",
      "execution_count": 4,
      "metadata": {
        "id": "Z9XfPwVM2GoH"
      },
      "outputs": [],
      "source": [
        "!unzip data/train -d data/train > /dev/null\n",
        "!unzip data/test -d data/test > /dev/null"
      ]
    },
    {
      "cell_type": "code",
      "execution_count": 5,
      "metadata": {
        "colab": {
          "base_uri": "https://localhost:8080/"
        },
        "id": "2NAf1nSifZs7",
        "outputId": "b64c5931-8991-478c-91e7-28d345526681"
      },
      "outputs": [
        {
          "name": "stdout",
          "output_type": "stream",
          "text": [
            "                                                text label\n",
            "0  The court granted by a 5-4 vote a request made...  real\n",
            "1  \" Pennsylvania was a crucial swing state in th...  real\n",
            "2  The company today is rolling out an update to ...  fake\n",
            "3  When it comes to trade policy, Hillary Clinton...  real\n",
            "4  S. stocks had their worst April start since 19...  real\n",
            "                                                text\n",
            "0  We asked for \"disclosure of any information th...\n",
            "1  Continued disruptions by a range of local grou...\n",
            "2  Criminal gangs in China are faking outbreaks o...\n",
            "3  \"After we announced the Hess transaction, we h...\n",
            "4  A Syngenta spokesman clarified his comment ear...\n",
            "                                                text label\n",
            "0  Police investigating Saturday's fatal shooting...  real\n",
            "1  A car bomb in Turkey's eastern province of Ela...  real\n",
            "2  Democratic presidential candidate Hillary Clin...  real\n",
            "3  Generally, each party gets two turns to decide...  fake\n",
            "4  Securitas CEO Alf Goransson told Reuters: * Se...  real\n"
          ]
        }
      ],
      "source": [
        "# reading in train, test, val files\n",
        "import pandas as pd\n",
        "import os\n",
        "train_df = pd.read_csv(os.path.join(\"data\", \"train\", \"train.csv\"))\n",
        "print(train_df.head())\n",
        "\n",
        "test_df = pd.read_csv(os.path.join(\"data\", \"test\", \"test.csv\"))\n",
        "print(test_df.head())\n",
        "\n",
        "!unzip data/val -d data/val > /dev/null\n",
        "val_df = pd.read_csv(os.path.join(\"data\", \"val\", \"val.csv\"))\n",
        "print(val_df.head())"
      ]
    },
    {
      "cell_type": "markdown",
      "metadata": {
        "id": "nw9KE3sIXKAz"
      },
      "source": [
        "# ✔ Method 4: RNN"
      ]
    },
    {
      "cell_type": "code",
      "execution_count": 60,
      "metadata": {
        "id": "JcVwZdhzXMFd"
      },
      "outputs": [],
      "source": [
        "import pandas as pd \n",
        "import matplotlib.pyplot as plt \n",
        "import numpy as np \n",
        "import tensorflow as tf \n",
        "import re \n",
        "from tensorflow.keras.preprocessing.text import Tokenizer\n",
        "import tensorflow as tf\n",
        "from sklearn.metrics import accuracy_score\n",
        "from sklearn.model_selection import train_test_split\n",
        "from sklearn.metrics import accuracy_score, confusion_matrix, precision_score, recall_score, f1_score\n",
        "import seaborn as sns \n",
        "plt.style.use('ggplot')"
      ]
    },
    {
      "cell_type": "code",
      "execution_count": 45,
      "metadata": {
        "colab": {
          "base_uri": "https://localhost:8080/",
          "height": 423
        },
        "id": "293qxjyGXPhG",
        "outputId": "40e8df99-5eb7-4a9a-e7ea-ad8a5a790d74"
      },
      "outputs": [
        {
          "data": {
            "text/html": [
              "<div>\n",
              "<style scoped>\n",
              "    .dataframe tbody tr th:only-of-type {\n",
              "        vertical-align: middle;\n",
              "    }\n",
              "\n",
              "    .dataframe tbody tr th {\n",
              "        vertical-align: top;\n",
              "    }\n",
              "\n",
              "    .dataframe thead th {\n",
              "        text-align: right;\n",
              "    }\n",
              "</style>\n",
              "<table border=\"1\" class=\"dataframe\">\n",
              "  <thead>\n",
              "    <tr style=\"text-align: right;\">\n",
              "      <th></th>\n",
              "      <th>text</th>\n",
              "      <th>label</th>\n",
              "    </tr>\n",
              "  </thead>\n",
              "  <tbody>\n",
              "    <tr>\n",
              "      <th>0</th>\n",
              "      <td>The court granted by a 5-4 vote a request made...</td>\n",
              "      <td>1</td>\n",
              "    </tr>\n",
              "    <tr>\n",
              "      <th>1</th>\n",
              "      <td>\" Pennsylvania was a crucial swing state in th...</td>\n",
              "      <td>1</td>\n",
              "    </tr>\n",
              "    <tr>\n",
              "      <th>2</th>\n",
              "      <td>The company today is rolling out an update to ...</td>\n",
              "      <td>0</td>\n",
              "    </tr>\n",
              "    <tr>\n",
              "      <th>3</th>\n",
              "      <td>When it comes to trade policy, Hillary Clinton...</td>\n",
              "      <td>1</td>\n",
              "    </tr>\n",
              "    <tr>\n",
              "      <th>4</th>\n",
              "      <td>S. stocks had their worst April start since 19...</td>\n",
              "      <td>1</td>\n",
              "    </tr>\n",
              "    <tr>\n",
              "      <th>...</th>\n",
              "      <td>...</td>\n",
              "      <td>...</td>\n",
              "    </tr>\n",
              "    <tr>\n",
              "      <th>231998</th>\n",
              "      <td>Cipher Pharmaceuticals Inc * Cipher pharmaceut...</td>\n",
              "      <td>1</td>\n",
              "    </tr>\n",
              "    <tr>\n",
              "      <th>231999</th>\n",
              "      <td>Lyft and larger rival Uber face separate lawsu...</td>\n",
              "      <td>1</td>\n",
              "    </tr>\n",
              "    <tr>\n",
              "      <th>232000</th>\n",
              "      <td>Six-month Sterling Overnight Index Average (SO...</td>\n",
              "      <td>1</td>\n",
              "    </tr>\n",
              "    <tr>\n",
              "      <th>232001</th>\n",
              "      <td>Going on Museum Hack's Badass Bitches tour -- ...</td>\n",
              "      <td>0</td>\n",
              "    </tr>\n",
              "    <tr>\n",
              "      <th>232002</th>\n",
              "      <td>\"We will continue to fight on behalf of all wo...</td>\n",
              "      <td>1</td>\n",
              "    </tr>\n",
              "  </tbody>\n",
              "</table>\n",
              "<p>232003 rows × 2 columns</p>\n",
              "</div>"
            ],
            "text/plain": [
              "                                                     text  label\n",
              "0       The court granted by a 5-4 vote a request made...      1\n",
              "1       \" Pennsylvania was a crucial swing state in th...      1\n",
              "2       The company today is rolling out an update to ...      0\n",
              "3       When it comes to trade policy, Hillary Clinton...      1\n",
              "4       S. stocks had their worst April start since 19...      1\n",
              "...                                                   ...    ...\n",
              "231998  Cipher Pharmaceuticals Inc * Cipher pharmaceut...      1\n",
              "231999  Lyft and larger rival Uber face separate lawsu...      1\n",
              "232000  Six-month Sterling Overnight Index Average (SO...      1\n",
              "232001  Going on Museum Hack's Badass Bitches tour -- ...      0\n",
              "232002  \"We will continue to fight on behalf of all wo...      1\n",
              "\n",
              "[232003 rows x 2 columns]"
            ]
          },
          "execution_count": 45,
          "metadata": {},
          "output_type": "execute_result"
        }
      ],
      "source": [
        "train_df"
      ]
    },
    {
      "cell_type": "code",
      "execution_count": 46,
      "metadata": {
        "colab": {
          "base_uri": "https://localhost:8080/",
          "height": 423
        },
        "id": "5GoxP4bBXwUD",
        "outputId": "92e9862d-c1ef-48cc-915f-c971df53af80"
      },
      "outputs": [
        {
          "data": {
            "text/html": [
              "<div>\n",
              "<style scoped>\n",
              "    .dataframe tbody tr th:only-of-type {\n",
              "        vertical-align: middle;\n",
              "    }\n",
              "\n",
              "    .dataframe tbody tr th {\n",
              "        vertical-align: top;\n",
              "    }\n",
              "\n",
              "    .dataframe thead th {\n",
              "        text-align: right;\n",
              "    }\n",
              "</style>\n",
              "<table border=\"1\" class=\"dataframe\">\n",
              "  <thead>\n",
              "    <tr style=\"text-align: right;\">\n",
              "      <th></th>\n",
              "      <th>text</th>\n",
              "      <th>label</th>\n",
              "    </tr>\n",
              "  </thead>\n",
              "  <tbody>\n",
              "    <tr>\n",
              "      <th>0</th>\n",
              "      <td>Police investigating Saturday's fatal shooting...</td>\n",
              "      <td>1</td>\n",
              "    </tr>\n",
              "    <tr>\n",
              "      <th>1</th>\n",
              "      <td>A car bomb in Turkey's eastern province of Ela...</td>\n",
              "      <td>1</td>\n",
              "    </tr>\n",
              "    <tr>\n",
              "      <th>2</th>\n",
              "      <td>Democratic presidential candidate Hillary Clin...</td>\n",
              "      <td>1</td>\n",
              "    </tr>\n",
              "    <tr>\n",
              "      <th>3</th>\n",
              "      <td>Generally, each party gets two turns to decide...</td>\n",
              "      <td>0</td>\n",
              "    </tr>\n",
              "    <tr>\n",
              "      <th>4</th>\n",
              "      <td>Securitas CEO Alf Goransson told Reuters: * Se...</td>\n",
              "      <td>1</td>\n",
              "    </tr>\n",
              "    <tr>\n",
              "      <th>...</th>\n",
              "      <td>...</td>\n",
              "      <td>...</td>\n",
              "    </tr>\n",
              "    <tr>\n",
              "      <th>38661</th>\n",
              "      <td>His mother and sister, who were outside, also ...</td>\n",
              "      <td>1</td>\n",
              "    </tr>\n",
              "    <tr>\n",
              "      <th>38662</th>\n",
              "      <td>.. continue to work for political solution, co...</td>\n",
              "      <td>1</td>\n",
              "    </tr>\n",
              "    <tr>\n",
              "      <th>38663</th>\n",
              "      <td>Dominic Raab, a candidate to replace British P...</td>\n",
              "      <td>1</td>\n",
              "    </tr>\n",
              "    <tr>\n",
              "      <th>38664</th>\n",
              "      <td>Japan's Fujitsu Ltd and China's Lenovo Group L...</td>\n",
              "      <td>1</td>\n",
              "    </tr>\n",
              "    <tr>\n",
              "      <th>38665</th>\n",
              "      <td>The French government said last month that it ...</td>\n",
              "      <td>1</td>\n",
              "    </tr>\n",
              "  </tbody>\n",
              "</table>\n",
              "<p>38666 rows × 2 columns</p>\n",
              "</div>"
            ],
            "text/plain": [
              "                                                    text  label\n",
              "0      Police investigating Saturday's fatal shooting...      1\n",
              "1      A car bomb in Turkey's eastern province of Ela...      1\n",
              "2      Democratic presidential candidate Hillary Clin...      1\n",
              "3      Generally, each party gets two turns to decide...      0\n",
              "4      Securitas CEO Alf Goransson told Reuters: * Se...      1\n",
              "...                                                  ...    ...\n",
              "38661  His mother and sister, who were outside, also ...      1\n",
              "38662  .. continue to work for political solution, co...      1\n",
              "38663  Dominic Raab, a candidate to replace British P...      1\n",
              "38664  Japan's Fujitsu Ltd and China's Lenovo Group L...      1\n",
              "38665  The French government said last month that it ...      1\n",
              "\n",
              "[38666 rows x 2 columns]"
            ]
          },
          "execution_count": 46,
          "metadata": {},
          "output_type": "execute_result"
        }
      ],
      "source": [
        "val_df"
      ]
    },
    {
      "cell_type": "code",
      "execution_count": 47,
      "metadata": {
        "colab": {
          "base_uri": "https://localhost:8080/",
          "height": 423
        },
        "id": "A6eMrJQeX_qo",
        "outputId": "778dc9e8-a8d9-4076-a24f-ab653f59f5ac"
      },
      "outputs": [
        {
          "data": {
            "text/html": [
              "<div>\n",
              "<style scoped>\n",
              "    .dataframe tbody tr th:only-of-type {\n",
              "        vertical-align: middle;\n",
              "    }\n",
              "\n",
              "    .dataframe tbody tr th {\n",
              "        vertical-align: top;\n",
              "    }\n",
              "\n",
              "    .dataframe thead th {\n",
              "        text-align: right;\n",
              "    }\n",
              "</style>\n",
              "<table border=\"1\" class=\"dataframe\">\n",
              "  <thead>\n",
              "    <tr style=\"text-align: right;\">\n",
              "      <th></th>\n",
              "      <th>text</th>\n",
              "      <th>label</th>\n",
              "    </tr>\n",
              "  </thead>\n",
              "  <tbody>\n",
              "    <tr>\n",
              "      <th>0</th>\n",
              "      <td>the dollar was   percent higher at   yen follo...</td>\n",
              "      <td>1</td>\n",
              "    </tr>\n",
              "    <tr>\n",
              "      <th>1</th>\n",
              "      <td>investigation of bribery surrounding fifa  soc...</td>\n",
              "      <td>0</td>\n",
              "    </tr>\n",
              "    <tr>\n",
              "      <th>2</th>\n",
              "      <td>britain has notified the organisation for the ...</td>\n",
              "      <td>1</td>\n",
              "    </tr>\n",
              "    <tr>\n",
              "      <th>3</th>\n",
              "      <td>trade representative robert lighthizer  who is...</td>\n",
              "      <td>1</td>\n",
              "    </tr>\n",
              "    <tr>\n",
              "      <th>4</th>\n",
              "      <td>harmonic inc   harmonic inc   limited liabilit...</td>\n",
              "      <td>0</td>\n",
              "    </tr>\n",
              "    <tr>\n",
              "      <th>...</th>\n",
              "      <td>...</td>\n",
              "      <td>...</td>\n",
              "    </tr>\n",
              "    <tr>\n",
              "      <th>270664</th>\n",
              "      <td>china will build a railway connecting the west...</td>\n",
              "      <td>1</td>\n",
              "    </tr>\n",
              "    <tr>\n",
              "      <th>270665</th>\n",
              "      <td>reflect the concerns of utah  and reflect t...</td>\n",
              "      <td>1</td>\n",
              "    </tr>\n",
              "    <tr>\n",
              "      <th>270666</th>\n",
              "      <td>u s  gold futures  too  slipped    to     an o...</td>\n",
              "      <td>1</td>\n",
              "    </tr>\n",
              "    <tr>\n",
              "      <th>270667</th>\n",
              "      <td>apple inc launched its apple pay software in r...</td>\n",
              "      <td>1</td>\n",
              "    </tr>\n",
              "    <tr>\n",
              "      <th>270668</th>\n",
              "      <td>exactech inc    exactech shareholders approve ...</td>\n",
              "      <td>0</td>\n",
              "    </tr>\n",
              "  </tbody>\n",
              "</table>\n",
              "<p>270669 rows × 2 columns</p>\n",
              "</div>"
            ],
            "text/plain": [
              "                                                     text  label\n",
              "0       the dollar was   percent higher at   yen follo...      1\n",
              "1       investigation of bribery surrounding fifa  soc...      0\n",
              "2       britain has notified the organisation for the ...      1\n",
              "3       trade representative robert lighthizer  who is...      1\n",
              "4       harmonic inc   harmonic inc   limited liabilit...      0\n",
              "...                                                   ...    ...\n",
              "270664  china will build a railway connecting the west...      1\n",
              "270665     reflect the concerns of utah  and reflect t...      1\n",
              "270666  u s  gold futures  too  slipped    to     an o...      1\n",
              "270667  apple inc launched its apple pay software in r...      1\n",
              "270668  exactech inc    exactech shareholders approve ...      0\n",
              "\n",
              "[270669 rows x 2 columns]"
            ]
          },
          "execution_count": 47,
          "metadata": {},
          "output_type": "execute_result"
        }
      ],
      "source": [
        "full_df"
      ]
    },
    {
      "cell_type": "code",
      "execution_count": 48,
      "metadata": {
        "id": "8r4ZWElFYB8F"
      },
      "outputs": [],
      "source": [
        "features = full_df['text']\n",
        "targets = full_df['label']\n",
        "\n",
        "X_train, X_test, y_train, y_test = train_test_split(features, targets, test_size=0.20, random_state=18)"
      ]
    },
    {
      "cell_type": "code",
      "execution_count": 49,
      "metadata": {
        "id": "Uw1Aqlo6YNBS"
      },
      "outputs": [],
      "source": [
        "# normalizing our data\n",
        "def normalize(data):\n",
        "    normalized = []\n",
        "    for i in data:\n",
        "        i = i.lower()\n",
        "        # get rid of urls\n",
        "        i = re.sub('https?://\\S+|www\\.\\S+', '', i)\n",
        "        # get rid of non words and extra spaces\n",
        "        i = re.sub('\\\\W', ' ', i)\n",
        "        i = re.sub('\\n', '', i)\n",
        "        i = re.sub(' +', ' ', i)\n",
        "        i = re.sub('^ ', '', i)\n",
        "        i = re.sub(' $', '', i)\n",
        "        normalized.append(i)\n",
        "    return normalized\n",
        "\n",
        "X_train = normalize(X_train)\n",
        "X_test = normalize(X_test)"
      ]
    },
    {
      "cell_type": "code",
      "execution_count": 50,
      "metadata": {
        "id": "_1DeSolYYYp5"
      },
      "outputs": [],
      "source": [
        "max_vocab = 10000\n",
        "tokenizer = Tokenizer(num_words=max_vocab)\n",
        "tokenizer.fit_on_texts(X_train)"
      ]
    },
    {
      "cell_type": "code",
      "execution_count": 52,
      "metadata": {
        "id": "0b3ScK7mYhwO"
      },
      "outputs": [],
      "source": [
        "# converting text to vectors\n",
        "X_train = tokenizer.texts_to_sequences(X_train)\n",
        "X_test = tokenizer.texts_to_sequences(X_test)"
      ]
    },
    {
      "cell_type": "code",
      "execution_count": 53,
      "metadata": {
        "id": "k85fh9vUYsM9"
      },
      "outputs": [],
      "source": [
        "# applying padding\n",
        "X_train = tf.keras.preprocessing.sequence.pad_sequences(X_train, padding='post', maxlen=256)\n",
        "X_test = tf.keras.preprocessing.sequence.pad_sequences(X_test, padding='post', maxlen=256)"
      ]
    },
    {
      "cell_type": "code",
      "execution_count": 54,
      "metadata": {
        "colab": {
          "base_uri": "https://localhost:8080/"
        },
        "id": "CTqxYnv3Yu3t",
        "outputId": "eec2feb4-8314-4ccf-abaf-9c60e6e6218d"
      },
      "outputs": [
        {
          "name": "stdout",
          "output_type": "stream",
          "text": [
            "Model: \"sequential\"\n",
            "_________________________________________________________________\n",
            " Layer (type)                Output Shape              Param #   \n",
            "=================================================================\n",
            " embedding (Embedding)       (None, None, 32)          320000    \n",
            "                                                                 \n",
            " bidirectional (Bidirectiona  (None, None, 128)        49664     \n",
            " l)                                                              \n",
            "                                                                 \n",
            " bidirectional_1 (Bidirectio  (None, 32)               18560     \n",
            " nal)                                                            \n",
            "                                                                 \n",
            " dense (Dense)               (None, 64)                2112      \n",
            "                                                                 \n",
            " dropout (Dropout)           (None, 64)                0         \n",
            "                                                                 \n",
            " dense_1 (Dense)             (None, 1)                 65        \n",
            "                                                                 \n",
            "=================================================================\n",
            "Total params: 390,401\n",
            "Trainable params: 390,401\n",
            "Non-trainable params: 0\n",
            "_________________________________________________________________\n"
          ]
        }
      ],
      "source": [
        "# building the RNN\n",
        "\n",
        "model = tf.keras.Sequential([\n",
        "    tf.keras.layers.Embedding(max_vocab, 32),\n",
        "    tf.keras.layers.Bidirectional(tf.keras.layers.LSTM(64,  return_sequences=True)),\n",
        "    tf.keras.layers.Bidirectional(tf.keras.layers.LSTM(16)),\n",
        "    tf.keras.layers.Dense(64, activation='relu'),\n",
        "    tf.keras.layers.Dropout(0.5),\n",
        "    tf.keras.layers.Dense(1)\n",
        "])\n",
        "\n",
        "model.summary()"
      ]
    },
    {
      "cell_type": "code",
      "execution_count": 57,
      "metadata": {
        "colab": {
          "base_uri": "https://localhost:8080/"
        },
        "id": "djan57P4Y3q2",
        "outputId": "cbebd7ec-8f1a-40e1-ccd6-e4dd6c4393c8"
      },
      "outputs": [
        {
          "name": "stdout",
          "output_type": "stream",
          "text": [
            "Epoch 1/10\n",
            "6497/6497 [==============================] - 1423s 218ms/step - loss: 0.1512 - accuracy: 0.9435 - val_loss: 0.1239 - val_accuracy: 0.9531\n",
            "Epoch 2/10\n",
            "6497/6497 [==============================] - 1409s 217ms/step - loss: 0.1097 - accuracy: 0.9594 - val_loss: 0.1191 - val_accuracy: 0.9571\n",
            "Epoch 3/10\n",
            "6497/6497 [==============================] - 1412s 217ms/step - loss: 0.0914 - accuracy: 0.9665 - val_loss: 0.1124 - val_accuracy: 0.9577\n",
            "Epoch 4/10\n",
            "6497/6497 [==============================] - 1414s 218ms/step - loss: 0.0780 - accuracy: 0.9723 - val_loss: 0.1147 - val_accuracy: 0.9590\n",
            "Epoch 5/10\n",
            "6497/6497 [==============================] - 1412s 217ms/step - loss: 0.0659 - accuracy: 0.9766 - val_loss: 0.1264 - val_accuracy: 0.9584\n"
          ]
        }
      ],
      "source": [
        "# using early stop which stops when the validation loss no longer improves\n",
        "\n",
        "early_stop = tf.keras.callbacks.EarlyStopping(monitor='val_loss', patience=2, restore_best_weights=True)\n",
        "model.compile(loss=tf.keras.losses.BinaryCrossentropy(from_logits=True),\n",
        "              optimizer=tf.keras.optimizers.Adam(1e-4),\n",
        "              metrics=['accuracy'])\n",
        "\n",
        "history = model.fit(X_train, y_train, epochs=10,validation_split=0.1, batch_size=30, shuffle=True, callbacks=[early_stop])"
      ]
    },
    {
      "cell_type": "code",
      "execution_count": 58,
      "metadata": {
        "colab": {
          "base_uri": "https://localhost:8080/",
          "height": 1000
        },
        "id": "rmuEumrE1RiE",
        "outputId": "6841ae29-bdd2-49a2-febf-22a39962fbda"
      },
      "outputs": [
        {
          "data": {
            "image/png": "[encoded data removed]",
            "text/plain": [
              "<Figure size 864x648 with 1 Axes>"
            ]
          },
          "metadata": {},
          "output_type": "display_data"
        },
        {
          "data": {
            "image/png": "[encoded data removed]",
            "text/plain": [
              "<Figure size 864x648 with 1 Axes>"
            ]
          },
          "metadata": {},
          "output_type": "display_data"
        }
      ],
      "source": [
        "history_dict = history.history\n",
        "\n",
        "acc = history_dict['accuracy']\n",
        "val_acc = history_dict['val_accuracy']\n",
        "loss = history_dict['loss']\n",
        "val_loss = history_dict['val_loss']\n",
        "epochs = history.epoch\n",
        "\n",
        "plt.figure(figsize=(12,9))\n",
        "plt.plot(epochs, loss, 'r', label='Training loss')\n",
        "plt.plot(epochs, val_loss, 'b', label='Validation loss')\n",
        "plt.title('Training and validation loss', size=20)\n",
        "plt.xlabel('Epochs', size=20)\n",
        "plt.ylabel('Loss', size=20)\n",
        "plt.legend(prop={'size': 20})\n",
        "plt.show()\n",
        "\n",
        "plt.figure(figsize=(12,9))\n",
        "plt.plot(epochs, acc, 'g', label='Training acc')\n",
        "plt.plot(epochs, val_acc, 'b', label='Validation acc')\n",
        "plt.title('Training and validation accuracy', size=20)\n",
        "plt.xlabel('Epochs', size=20)\n",
        "plt.ylabel('Accuracy', size=20)\n",
        "plt.legend(prop={'size': 20})\n",
        "plt.ylim((0.5,1))\n",
        "plt.show()"
      ]
    },
    {
      "cell_type": "code",
      "execution_count": 59,
      "metadata": {
        "colab": {
          "base_uri": "https://localhost:8080/"
        },
        "id": "5zB-SHfc1dAw",
        "outputId": "6af69cc8-fd40-4e82-cd91-f6c95d148994"
      },
      "outputs": [
        {
          "name": "stdout",
          "output_type": "stream",
          "text": [
            "1692/1692 [==============================] - 158s 93ms/step - loss: 0.1083 - accuracy: 0.9590\n"
          ]
        },
        {
          "data": {
            "text/plain": [
              "[0.10831813514232635, 0.9590460658073425]"
            ]
          },
          "execution_count": 59,
          "metadata": {},
          "output_type": "execute_result"
        }
      ],
      "source": [
        "model.evaluate(X_test, y_test)"
      ]
    },
    {
      "cell_type": "code",
      "execution_count": 61,
      "metadata": {
        "id": "Daj6xpPq1l9o"
      },
      "outputs": [],
      "source": [
        "pred = model.predict(X_test)\n",
        "\n",
        "binary_predictions = []\n",
        "\n",
        "for i in pred:\n",
        "    if i >= 0.5:\n",
        "        binary_predictions.append(1)\n",
        "    else:\n",
        "        binary_predictions.append(0) "
      ]
    },
    {
      "cell_type": "code",
      "execution_count": 62,
      "metadata": {
        "colab": {
          "base_uri": "https://localhost:8080/"
        },
        "id": "5FK_tGmp1myV",
        "outputId": "ec08190e-a41b-42ae-fbe4-bd171590dda8"
      },
      "outputs": [
        {
          "name": "stdout",
          "output_type": "stream",
          "text": [
            "Accuracy on testing set: 0.9590460708611963\n",
            "Precision on testing set: 0.9693278620403075\n",
            "Recall on testing set: 0.9729919966631039\n",
            "F1 Score on testing set: 0.9711564732055736\n"
          ]
        }
      ],
      "source": [
        "print('Accuracy on testing set:', accuracy_score(binary_predictions, y_test))\n",
        "print('Precision on testing set:', precision_score(binary_predictions, y_test))\n",
        "print('Recall on testing set:', recall_score(binary_predictions, y_test))\n",
        "print('F1 Score on testing set:', f1_score(binary_predictions, y_test))"
      ]
    },
    {
      "cell_type": "code",
      "execution_count": 64,
      "metadata": {
        "colab": {
          "base_uri": "https://localhost:8080/"
        },
        "id": "iLhd1GsO2oym",
        "outputId": "fe4a49f7-afbd-427b-8fdd-42581ed661ff"
      },
      "outputs": [
        {
          "data": {
            "text/plain": [
              "54134"
            ]
          },
          "execution_count": 64,
          "metadata": {},
          "output_type": "execute_result"
        }
      ],
      "source": [
        "len(binary_predictions)"
      ]
    },
    {
      "cell_type": "code",
      "execution_count": 84,
      "metadata": {
        "colab": {
          "base_uri": "https://localhost:8080/"
        },
        "id": "G-YC604j3ysG",
        "outputId": "91244e4b-b45c-4006-c25c-eac6c900814a"
      },
      "outputs": [
        {
          "name": "stdout",
          "output_type": "stream",
          "text": [
            "                                                text\n",
            "0  We asked for \"disclosure of any information th...\n",
            "1  Continued disruptions by a range of local grou...\n",
            "2  Criminal gangs in China are faking outbreaks o...\n",
            "3  \"After we announced the Hess transaction, we h...\n",
            "4  A Syngenta spokesman clarified his comment ear...\n",
            "                                                text\n",
            "0  We asked for \"disclosure of any information th...\n",
            "1  Continued disruptions by a range of local grou...\n",
            "2  Criminal gangs in China are faking outbreaks o...\n",
            "3  \"After we announced the Hess transaction, we h...\n",
            "4  A Syngenta spokesman clarified his comment ear...\n"
          ]
        }
      ],
      "source": [
        "# applying the code to submission\n",
        "test_df3 = pd.read_csv(os.path.join(\"data\", \"test\", \"test.csv\"))\n",
        "process_df3 = pd.read_csv(os.path.join(\"data\", \"test\", \"test.csv\"))\n",
        "print(test_df3.head())\n",
        "print(process_df3.head())"
      ]
    },
    {
      "cell_type": "code",
      "execution_count": 85,
      "metadata": {
        "id": "viqsYsgY4uzF"
      },
      "outputs": [],
      "source": [
        "# normalizing our data\n",
        "def normalize(data):\n",
        "    normalized = []\n",
        "    for i in data:\n",
        "        i = i.lower()\n",
        "        # get rid of urls\n",
        "        i = re.sub('https?://\\S+|www\\.\\S+', '', i)\n",
        "        # get rid of non words and extra spaces\n",
        "        i = re.sub('\\\\W', ' ', i)\n",
        "        i = re.sub('\\n', '', i)\n",
        "        i = re.sub(' +', ' ', i)\n",
        "        i = re.sub('^ ', '', i)\n",
        "        i = re.sub(' $', '', i)\n",
        "        normalized.append(i)\n",
        "    return normalized"
      ]
    },
    {
      "cell_type": "code",
      "execution_count": 86,
      "metadata": {
        "id": "ErnNcCFH4TR9"
      },
      "outputs": [],
      "source": [
        "process_df3 = normalize(process_df3[\"text\"])"
      ]
    },
    {
      "cell_type": "code",
      "execution_count": 87,
      "metadata": {
        "colab": {
          "base_uri": "https://localhost:8080/"
        },
        "id": "Ax90UXlh5OcC",
        "outputId": "514b3845-b79c-4eaf-b93e-0c2d40a5a7c3"
      },
      "outputs": [
        {
          "data": {
            "text/plain": [
              "['we asked for disclosure of any information that may be relevant to the investigation a spokesman for the department of justice declined to comment on the probe saying only that it was ongoing',\n",
              " 'continued disruptions by a range of local groups demanding a share of the revenues as well as a lack of funds for maintenance and investment are preventing the national oil corporation noc from consolidating those gains oil officials',\n",
              " 'criminal gangs in china are faking outbreaks of african swine fever on farms free of the disease and forcing farmers to sell their healthy pigs at sharply lower prices the agriculture ministry said on friday the gangs are taking advantage of a highly contagious disease that has spread across much of the country and disrupted the world s biggest pork market the',\n",
              " 'after we announced the hess transaction we have seen strong interest to partner with aker bp in the valhall area through this transaction we get a partner that shares our ambition of developing the upside potential in these fields aker bp chief executive karl johnny hersvik said in a statement pandion in june won permission from norway s energy ministry to hold oil and gas',\n",
              " 'a syngenta spokesman clarified his comment earlier on monday that the company remains confident a takeover by china s chemchina will wrap up by the end of this year saying he was simply repeating syngenta s previous public comment from july 22 he reiterated the swiss pesticides and seeds group would provide an update on the regulatory process along with its third quarter trading statement on tuesday he was reacting to news that chemchina had not offered concessions to',\n",
              " 'u s pop singer ariana grande headlined a star studded benefit concert in manchester on sunday that was both joyful and mournful in aid of victims of the bombing that rocked the city last month as security fears ran high after attackers in london killed seven people around 50 000 fans crammed into old trafford cricket ground under the watchful eye of hundreds of police',\n",
              " 'assets worth around a trillion pounds are moving from london to hubs in the european union ahead of brexit with the parallel shift in jobs likely to top 7 000 consultants ey said on wednesday banks asset managers and insurers in london are opening or expanding hubs in the eu to avoid disruption from britain s departure from the european union britain is legally due to leave next week but the british government is asking brussels for a delay in',\n",
              " 'blinkx plc today announces that it will change its name from blinkx plc to rhythmone plc name will change to rhythmone plc upon registration at companies house and trading in company s ordinary shares under new name is anticipated to commence with effect from 17 june 2016 company s london stock exchange tradable instrument display mnemonic tidm will change to rthm source text for eikon further company coverage',\n",
              " 'the substantial and growing number of distressed borrowers suggests that not all americans have benefited from the strong labor market and warrants continued monitoring and analysis of this sector researchers with',\n",
              " '5 minimum yield the highest for any euro subordinated bond sold this year reflects the level of investor caution that still surrounds one of europe s weakest lenders the no grow eur400m 10nc5 deal was announced last',\n",
              " 'at first glance disqus doesn t quite seem to fit into this list but disqus sits on a huge data set that goes beyond your favorite troll s political',\n",
              " '90 of the debt issued out of private equity shops is rated b2 or lower according to a new moody s report that s not just junk rated it s even worse than that if you look at junk rated',\n",
              " 'hub24 ltd hub24 to acquire agility applications hub ax consideration of 6 million will be paid on completion acquisition is expected to be earnings per share accretive for hub24 from day one acquisition is subject to customary conditions precedent with completion targeted for early',\n",
              " 's treasury yields slipped to 20 month lows washington says it will impose a 5 tariff beginning june 10 which would then rise steadily to 25 until illegal immigration across the southern border is stopped trump tweeted the decision late thursday catching markets by surprise very clearly when we all thought that the main trade tensions in the world were between the u s and china or perhaps between the u s and europe we hadn t realized there will be another trade tension with mexico',\n",
              " 'ayala corp confirms that metro has agreed to pay 1 3 billion to settle a class action lawsuit brought by the city of san francisco against the company metro has also paid 3 4 billion in settlements with the state of california the u s district court for the southern district of new york and the california department of justice according to court documents obtained by the wall street journal in addition to the 2 5 billion settlement metro',\n",
              " 'sarepta therapeutics announced this morning it will sell its rare pediatric disease priority review voucher to gilead sciences for 125 million giving gilead the rights to have one of its drugs receive fast track approval from the food and drug administration the vouchers let drug companies get a decision on their',\n",
              " 'sony as you may recall pulled its music from soundcloud last year meanwhile the company also touted what this means for sme artists or those on affiliated and distributed labels like the orchard and red distribution saying that they ll now be able to generate revenue via soundcloud these artists will have access to soundcloud s promotional tools as well plus analysis and data to help them in building relationships with fans the company noted ahead of this deal soundcloud had been investing in more tools for',\n",
              " 'the arizona diamondbacks are riding an impressive wave of offense to win four in a row and seven of their last eight to remain in the thick of it in the competitive national league west manager torey lovullo s club looks to continue its momentum on friday at citizens bank park as arizona opens a three game series with the philadelphia phillies',\n",
              " 'expert systems holdings ltd group is estimated to record a substantial decrease in net profit for nine months ended 31 december 2017 estimated decrease in net profit for q3 fy2018 is mainly due to decrease in gross profit margin during period source text for eikon further company',\n",
              " 'atlas jewellery india ltd says on jan 02 co got demand notice from it department post assessment for assessment years 2014 15 2015 16 totalling to inr 83 4 million says is in process of studying same and would be filling an appeal against said notices within prescribed time source text bit ly 2isa5qa further company coverage',\n",
              " 'among the staffers espousing the view that we are at the outset of a titanic clash between judeo christian and islamic civilizations were michael flynn trump s short lived national security adviser steve bannon the recently sidelined white house chief strategist sebastian gorka deputy assistant to the president apparently soon to be reassigned stephen miller senior adviser',\n",
              " 'the unemployed 42 year old will compete next week with a pharmacist a headmaster and a teacher to be the first to win an award the prize will be given to a student who has demonstrated an ability to read write or write in a language other than english and who is able to communicate effectively with his or her peers',\n",
              " '06 ahead of the cash market the bank of england has yet to announce its final decision on whether to raise interest rates',\n",
              " 'iraq s military imposed a curfew on baghdad until further notice state television said in a news flash after security forces opened fire on protesters who had entered the heavily fortified green zone witnesses said dozens of people were injured in the clashes the protesters included supporters of powerful shi ite muslim cleric moqtada al sadr and people from other groups who are displeased with the government s failure to approve anti corruption reforms and provide security reporting by maher chmaytelli writing by stephen kalin',\n",
              " 'china s prestigious peking university historically a bastion of student activism has moved to quash dissent and strengthen communist party control after a spate of protests across china on issues ranging from labor rights to metoo the clampdown comes amid an ongoing tightening of control over various aspects of chinese society since president xi jinping came to power in 2012 a period that has seen increasing censorship and shrinking space for protests including on',\n",
              " 'deputy general prosecutor of the russian federation said in a statement that he approved indictment in a criminal case against former co owner and chairman of the management board of mosoblbank viktor yanin as well as andrzej malczewski and yuliya zedina prosecutor s statement says that they have been accused of committing a crime under part 4 art 159 of the criminal code fraud the',\n",
              " 'tepic mexico thomson reuters foundation worry over having enough food is forcing people from drought stricken central america to migrate north to the united states leaving families behind who grow more vulnerable to poverty said an international report released on wednesday honduras el salvador and guatemala must address hunger related migration by adapting agricultural practices to deal with increased water shortages and help communities be prepared for crises said the report compiled by several global aid groups roughly half the families surveyed in the three',\n",
              " 'turkish eu affairs minister volkan bozkir on monday said syrian migrants arriving from greece would be sent to the southern turkish city of osmaniye the first three boats removing migrants from greece under the terms of a controversial european union eu deal with turkey arrived in the turkish port of dikili on monday with at least two syrians among the more than 200 people to have been deported under a deal denounced by refugee agencies and human rights campaigners ankara will take back all migrants and',\n",
              " 'the indigenous people in the heart of the conflict say if the group in oregon were people of color there would be no hesitation to label them like the canadian government labeled indigenous people at oka domestic terrorists for serge simon grand chief of montreal area reserve kanesatake the standoff in oregon reminds him of the struggles his community has',\n",
              " 'wellington christchurch new zealand reuters a gunman shot dead 49 people and wounded more than 40 at two new zealand mosques on friday some as they were kneeling at prayer livestreaming online some of the killings in what prime minister jacinda ardern called an assault on the nation s values the gunman broadcast footage of the attack on one mosque in the city of christchurch on facebook mirroring the carnage played out in',\n",
              " 'u s president barack obama said on tuesday the united states will continue to try to prevent islamic state from establishing a foothold in libya where political instability has created an opening for the militant group we will continue to take actions where we ve got a clear operation and a clear target in mind obama said at a news conference in california he said the united states will work with coalition partners to make sure that as we see opportunities to prevent isis from digging in in libya we',\n",
              " 'sears holdings nasdaq shld is preparing for a possible bankruptcy filing that could come as soon as this week ahead of a 134 million debt payment due monday according to wsj the company also yesterday added',\n",
              " '7 the eu watchdog had received data on more than 79 million orders and 23 million of trades on the eu s power and gas exchanges by feb 15 according to a presentation by the agency the agency',\n",
              " '6 billion coupa makes software tools that help businesses manage spending richa naidu and liana b baker reuters on the latest episode of too embarrassed to ask recode s ina fried joins lauren goode and dieter bohn of the verge to talk about their impressions of google s new hardware and the machine intelligence',\n",
              " 'once trump was inaugurated flynn along with longtime trump associate thomas barrack worked with other senior officials in the new trump administration to make the plan a reality and it seems they got pretty far on january 27 2017 just seven days after the inauguration several of the retired generals from ip3 went to the white house to meet with derek harvey a senior staffer on trump s national security council at the time to discuss the nuclear',\n",
              " 'he added that he had reservations about a possible involvement of lazio soccer club chairman claudio lotito who submitted an expression of interest for the airline this week salvini s comments put pressure on industry minister luigi di maio who is also the leader of the 5 star movement and has been handling the alitalia',\n",
              " 'london reuters sterling gained on the dollar s decline against the euro on monday boosting the u s dollar to its highest level in more than two years the dollar gained 0 6 percent against a basket of currencies its biggest gain since the start of the year the euro was down 1 1 percent at 1 0987 while the yen was up 2 7 percent with the new york mercantile exchange nymex down',\n",
              " 'u s president elect donald trump announced two appointments to the national security council one of whom is a retired marine corps general the other is an assistant secretary of defense trump s selection of gen james mattis a former commander in afghanistan as his national security adviser has drawn criticism from members of the military community who say he is insufficiently experienced to lead the united states in the fight against islamic state militants who have taken over large swaths of iraq and syria',\n",
              " 'french startup molotov has built a prototype of a smart thermostat that can be used to control your car s temperature the prototype which is described on the company s website as a smart car that can be controlled by the driver using a smartphone tablet or computer is expected to be ready to go to market in the first quarter of this year according to a report by bloomberg the company is also developing its own self driving car called the',\n",
              " 'china s central bank on thursday signalled the resumption of an outbound investment scheme that allows foreign investors to buy and sell bonds in the country the move comes as the government seeks to shore up its economy with low interest rates and reduce its borrowing costs',\n",
              " 'the new fiscal year is expected to be the biggest in recent memory with more than 1 2 trillion in debt at the same time the government is facing a budget deficit of nearly 2 5 trillion the government s debt to gdp ratio is at an all time low of just 4 6 percent down from a record high of 5 9 percent in 2009 it is projected to reach 7 4 percent by the end of the year',\n",
              " 'now a pioneering new law that malang a local government minister helped to shape seeks to end the violence by giving greater autonomy to the region and crucially providing much needed jobs by boosting ethical businesses if people have some productive activities they will be more focused on',\n",
              " 'on wednesday however she didn t pull any punches in a withering response to soros who has also said he hopes she doesn t get the democratic nomination in 2020 if standing up for women who have been wronged makes george soros mad that s on him gillibrand told huffpost in a statement but i won t hesitate to always do what i think is right for nearly a year we have seen countless acts',\n",
              " 'what youtube intended as a slap on crowder s wrist has instead turned the video creator into a martyr standing against big tech overreach and it could even help him solidify a more durable business model that limits the pain youtube can inflict for breaking its rules in the future outside of an outright ban we re not really beholden to the youtube',\n",
              " 'bp said on wednesday it plans to launch a new website which will allow users to find out more about the game and what it is all about the new site will be called the game of thrones and will offer a wide range of information on the world of westeros including the history of the seven kingdoms the events that led to the death of king daenerys targaryen and more it will also include information about the winds of winter the battle',\n",
              " 'uk s competition regulator is starting a formal investigation into the proposed merger of supermarket chains sainsbury and walmart s asda the competition and markets authority said it will begin the first phase of detailed assessment into how the deal could affect competition for uk shoppers reporting by sangameswaran s in bengaluru editing by david goodman',\n",
              " 'e trade financial corp as of june 30 2016 consolidated tier 1 leverage ratio was 0 28 per share compared to 1 06 for the same quarter a year ago net income for fiscal year 2016 was 8 5 percent of consolidated net income of 6 1 billion or 2 3 billion lower than the prior year net income was also 3 2 billion higher than at the end of the first quarter of 2015 which was',\n",
              " 'carney came under fierce criticism from supporters of brexit in the run up to the referendum and afterwards for saying the economy would face a material slowdown and possibly a recession in the event of an out vote in light of all of the events since the referendum i',\n",
              " 'plato capital limited plato capital limited signing of non legally binding investment term sheet for joint venture in airasia china agreement in relation to setting up of a joint venture to establish a low cost airline in china to be known as airasia china entered into a non legally binding investment term sheet with airasia everbright financial investment holdings and oxley capital source text for eikon further company coverage',\n",
              " 'the investigation was supported by the commission for international criminal justice icj and the united nations office for the coordination of humanitarian affairs ocha',\n",
              " 'israeli forces identified a suspect running toward an idf israel defence forces post in silwad the military spokeswoman said upon the suspect s advance the forces shot the suspect resulting in his death the incident is currently being reviewed asked whether the palestinian had been armed she said that the details are still being checked since october',\n",
              " 'ge is going to have an opportunity to reshape boston in a really positive way said john gallaugher an associate professor at boston college s carroll school of management ge began mulling leaving its headquarters of four decades in suburban fairfield about 60 miles 100 km northeast of new york city last year officials cited high taxes as a',\n",
              " '4 per cent of the population last year mongolia cut its foreign workforce in half and sent home about 1 200 north korean workers the oyu tolgoi copper gold mine run by mining conglomerate rio tinto has also been under scrutiny for its use of chinese laborers with just 3 1 million people in an area almost the size of alaska mongolia is the world s least densely populated',\n",
              " 'the british firm raised 440 million in funding last year we have invested a lot of money in this project and we re excited to be able to bring it to fruition said s p capital iq s chief executive alan miller in a statement we are confident that the technology will be ready by the end of the year',\n",
              " 'venture capitalist shervin pishevar has left sherpa ventures the san francisco based firm he co founded in 2013 following multiple allegations of sexual harassment he has denied all of the claims including one made on the record to axios sherpa s statement pishevar who is best known as an early investor in uber while with a previous vc firm already had taken a leave of absence from sherpa',\n",
              " 'after much negotiation with the trump administration secretary of state rex tillerson has said he wants to see the u s withdraw from the trans pacific partnership tpp trade deal tillerson has also said that he is open to renegotiating the north american free trade agreement nafta with canada mexico and the united states',\n",
              " 'the dollar posted its biggest daily percentage rise in more than two weeks on thursday as investors pared back some short positions in the greenback before a european central bank meeting later in the day the dollar was trading 0 25 percent higher against a trade weighted basket of its peers at 95 022 on thursday its biggest daily rise since july 3 according to thomson reuters data it hit a 10 month low of 94 476 on tuesday reporting by saikat chatterjee editing by dhara ranasinghe',\n",
              " 'san francisco had won eight in a row before being trounced by chicago on friday but rebounded to win the three game set by posting a 1 0 triumph sunday joe panik recorded two of the giants four hits in the win and is 8 for 16 over his last four contests san francisco has gone 6 0 against',\n",
              " 'alpha bank greece s fourth largest lender by assets swung to a loss in last year s final quarter hurt by provisions for impaired loans alpha 11 percent owned by the country s bank rescue fund hfsf after its recapitalisation late last year reported a net loss of 533 million euros 582 25 million after a profit of 414 million euros in',\n",
              " 'beijing police investigating alleged child abuse at a kindergarten run by ryb education inc said on saturday they had detained a teacher in the latest scandal to hit china s booming childcare industry police in the chaoyang district said it will further investigate claims of abuse after china s official xinhua news agency reported this week they were checking allegations that children at the nursery were reportedly sexually molested pierced by needles and given unidentified pills chaoyang district police said in an online posting on saturday they had',\n",
              " 'junior forward kris jenkins led five players in scoring with 19 points and nine rebounds copyright 2013 by stats llc and associated press any commercial use or distribution without the express written consent of stats inc is strictly prohibited',\n",
              " 'germany s robert bosch warned that revelations about animal experiments in the auto industry may hamper efforts to restore trust in diesel a key technology which helped the auto supplier post',\n",
              " 'royal dutch shell said on thursday that crude trading boosted its fourth quarter profits to a four year high even as oil prices collapsed benchmark brent oil prices collapsed from a four year high of 86 in early october to a low of 50 a barrel within weeks shell is the world s largest oil trader buying an selling over 10 million barrels a',\n",
              " 'canadian police arrested a suspected gunman in windsor ontario on wednesday after a brief manhunt that triggered a lockdown of some neighborhoods in the city city police said on twitter they had a shooting suspect identified as richard wallace in custody they had earlier warned they were looking for wallace who they believed',\n",
              " 'we live in an age of on line headline grabbing wow in your face news giving rise to expectations of instantaneous invention colella who also heads citi s venture capital arm tells axios but most profound change takes quite a bit of time why it matters some of the biggest shifts',\n",
              " 'u s manufacturing activity surged in june but a strong economy and import tariffs were causing bottlenecks in the supply chain which could potentially weigh on production in the months ahead other data on monday showed construction spending increasing solidly in may though investment in april was not as robust as initially thought the reports reinforced views the economy was firing on',\n",
              " 'britain s main opposition labour party is confident that parliament can prevent a government trying to take the country out of the european union without a deal a spokesman for leader jeremy corbyn said on wednesday we re confident that no deal can be prevented in parliament the spokesman told reporters adding that the party would end its consultation with members and trade unions on',\n",
              " 'nominations were announced on monday for the 2017 golden globe awards for movies and television the golden globes organized by the hollywood foreign press association will be handed out at a gala dinner',\n",
              " 'acid was great for breaking down everything you needed to do to get the most out of it there was also a lot of information that we didn t want to share because we wanted to make sure we had all the information we needed so we did a little bit of research and came up with a list of the things we would like to see in a game and then we went ahead and put them in the game and made sure that they were all in one place we',\n",
              " 'is now becoming a swing producer alongside his brother he s a very talented producer and he s been around for a long time so i m really excited to see what he brings to the table said o connor i m looking forward to working with him and seeing how he develops over the next couple of years i think it s going to be a really exciting year for him',\n",
              " 'syrian president bashar al assad has tentative plans to visit russian backed crimea in april 2019 and is in talks about starting regular passenger flights between syria and the black sea peninsula russian news agencies said on tuesday crimea has been under western sanctions since it was annexed from ukraine by russia in 2014 syria is also subject to european union and',\n",
              " 'state banks were also seen buying said a currency dealer adding that demand for the local currency came after it stayed around 153 00 levels for the last couple of days the rupee has lost 2 3 percent so far this year but currency dealers say dollar demand has slightly waned lending support to the',\n",
              " 'helomics corp skyline medical and helomics corporation sign joint venture term sheet to build out and commercialize the d chip platform skyline medical inc joint venture is subject to terms and conditions including further due diligence and financing of new entity skyline medical inc signed',\n",
              " 'fuelcell energy inc fuelcell energy is a small low cost high efficiency zero emission fuel cell technology that was developed for the u s department of energy s doe renewable fuel initiative rfp program it is the first technology to be developed in the united states that does not require a permit from the environmental protection agency epa to operate fuel cell energy has the potential to revolutionize energy storage and distribution',\n",
              " 'constellation brands inc said on wednesday it would sell about 30 of its low end wine and spirits brands and related facilities to e j gallo winery for 1 7 billion as the corona beer maker focuses on its more premium and profitable brands the deal which includes brands such as clos du bois black box and mark west is expected to',\n",
              " 'oki electric industry co ltd says it plans to merge with a tokyo based wholly owned unit on oct 1 which is a holding company of seven units of the co says the unit will be dissolved after merger source text in japanese goo gl pxa3yd further company coverage beijing headline news',\n",
              " 'morgan stanley upgraded european stocks to record highs the dow jones industrial average closed up 1 5 points or 0 9 percent to end at 7 300 the s p 500 closed down 2 2 points to close at 2 800 at the same time the nasdaq composite gained 6 1 points',\n",
              " 'britain will make a unilateral statement that nothing can prevent it pulling out of an irish border backstop if talks about a future relationship with the european union after brexit break down prime minister theresa may said on monday in a news conference in strasbourg may said that in addition to a joint instrument and a joint statement announced earlier in parliament britain would also make a unilateral declaration on the so called',\n",
              " 'italy needs a credible strategy to reduce its public debt in order to improve its creditworthiness an analyst at ratings agency moody s said on friday the risk that italy s debt could stabilise at its current level around 132 percent of economic output is greater than any political risk posed by upcoming',\n",
              " 'presidential contest those members of congress on both the house and senate intelligence committees also expect facebook and its counterparts google and twitter to testify at public hearings in the coming weeks ten million viewers is not a trivial number it s essentially equal to the population of the state of michigan though facebook did not offer a geographical breakdown of the users who saw those ads in revealing its findings',\n",
              " 'icici bank ltd said on wednesday it would treat former chief executive chanda kochhar s exit from the bank as a termination for cause after an enquiry report ruled that she had violated internal bank policies kochhar resigned in october after being mired in allegations that she favoured videocon group a consumer electronics and oil and gas exploration company in the bank s lending practices reporting by chris thomas in bengaluru editing by sherry jacob phillips',\n",
              " 'ally financial inc said on monday it would appoint an independent director in consultation with activist hedge fund to lion point capital lion point has been agitating for a number of changes at the auto loan company in january it asked ally to explore strategic alternatives and also extend its director nomination deadline to consider two of its candidates ally rebuffed the idea of exploring strategic alternatives and said it would not extend the deadline however the firm said it would consider',\n",
              " 'british banks have reported strong capital and liquidity losses over the past two years the european central bank ecb said on tuesday that it had cut its benchmark lending rate to 2 5 percent from 3 25 percent in december the ecb also said it would cut short term lending rates for the first time this year',\n",
              " 'in a case like this if it s not a criminal matter we don t involve ourselves said michael rodriguez a spokesman with the las vegas metro police department which is responsible for security at mccarran international airport the passenger david dao flying home to louisville refused to surrender his seat to make room for united crew members and was forcibly removed by aviation police at o hare international airport his attorney said he',\n",
              " 'they shot 60 percent from the field and 8 of 19 from 3 point range for the suns it s not going to be easy but we ve got to make sure we don t let it happen again coach mike d antoni said i think we have to get better we ve had some bad games in the last couple of weeks i think it s time for us to take a step back and do a better job of putting ourselves in a position to',\n",
              " 'the final post labor day sprint to election day has begun most of the candidates for the house and senate have been decided and democrats are regaining a strong footing in the',\n",
              " 'malaysian state oil and gas firm petronas has signed a multi year extension to its title sponsorship of formula one champions mercedes despite malaysia dropping off the race calendar after this season the team said on',\n",
              " 'canada s main stock index opened lower on monday hurt by falls among energy and materials stocks as oil prices slid on a combination of oversupply concerns and economic headwinds the toronto stock exchange s s p tsx composite index was down 24 80 points or 0 20 percent at 14 572 01 shortly after the open reporting',\n",
              " 'i think the so called official narrative singapore story is part of our history but it s not the whole story and i wanted to tell a more inclusive version of our history and i hope that s what people reading the book will get from it singapore s first prime',\n",
              " 'philadelphia energy solutions does not have the facilities to meet the needs of its customers we don t have any capacity at this time said ms taylor we re not going to be able to deliver on our promises to customers and we re just not ready to go that route',\n",
              " 'japanese authorities ordered more than 1 million people to evacuate 3 cities in kagoshima prefecture on the island of kyushu on wednesday as heavy rains threatened to trigger flooding and landslides the japan times reports the big picture nearly 40 inches of rain have fallen in parts of southern kyushu since friday per reuters forecasters warn as much as 14 inches could still fall there through thursday japanese prime minister shinzo abe put the military on standby for rescues his government was criticized',\n",
              " 'but just getting released from detention doesn t necessarily clear them from the ban lawyers haven t been immediately clear on the formal status the men have in the us right now and the lawsuit goes beyond the two named defendants the groups challenging the ban including the aclu the national immigration law center the international refugee assistance project and a yale law school',\n",
              " 'snap s stock has now traded for more than 2 5 billion i don t know if this is going to be the end of the world but i think it s a very good start he said i think we re on the right track',\n",
              " 'good eggs a san francisco based online grocery for fresh products has raised 50 million in new vc funding benchmark capital led with partner bill gurley joining the company s board of directors why it s a big deal because this one of few startups that seems to have come out the other side of a massive restructuring which included a financial recap layoffs market closures top management changes and a realization that good eggs is a food biz enabled by tech rather than',\n",
              " 'erdogan was speaking two days after a muslim leaders meeting in istanbul condemned u s president donald trump s decision calling on the world to respond by recognizing east jerusalem as the capital of palestine we will work for the annulment of this unjust decision firstly at the',\n",
              " '7 trillion yen compared with 24 35 percent at end september the nikkei 225 stock average gained 12 percent during the quarter and in november touched its highest level since',\n",
              " 's secretary of state mike pompeo had spoken with falih a day before the organization of the petroleum exporting countries was due to debate oil output cuts the united states reimposed sanctions on opec member iran last month the measure has severely reduced iranian oil flows washington has said it wants ultimately to drive iranian shipments to zero a saudi energy ministry spokesman said of the talks between falih and hook we categorically deny such a meeting took place however a u s state department spokeswoman',\n",
              " '8 percent at 312 pence as of 0830 gmt making them the third biggest loser on the ftse 250 mid cap index pz cussons s business in africa which accounts for 43 percent of its total sales has been hit by weak market condition in nigeria stemming from the devaluation of naira the maker of original source shower',\n",
              " 'memphasys ltd update on litigation against prime and receipt of statuatory demand for debt repayment from prime has received statutory demand for repayment of third party debt that prime has paid as guarantor of that debt prime',\n",
              " 'sonus networks inc sonus networks reports 2016 fourth quarter and full year results qtrly loss per share 0 05 qtrly adjusted earnings per share 0 09 qtrly total revenue 67 6 million versus 76 3 million q4 earnings per share view 0 05 revenue view 67 8 million thomson reuters i b e s sonus networks inc looking forward to 2017 we see another year of flat to low single digit revenue growth',\n",
              " '2014 s dawn of the planet of the apes was a bigger hit with a 72 6 million domestic opening when it hit theaters against the third weekend of transformers age of extinction one way war for the planet of the apes stands out from other big budget studio films is its rave reviews it currently has a 94 on rotten tomatoes the film which depicts the titular war between apes and humans is directed by matt reeves who joined the franchise when he stepped in',\n",
              " 'iraqi government contractors will be receiving bonds in lieu of cash as a solution to payment delays caused by the collapse in the nation s oil income the central bank said on sunday the bonds can be traded in the local market or cashed at banks for a discount the central bank',\n",
              " 'yunnan hongxiang yixintang pharmaceutical co ltd sees fy 2017 net profit could rise up to 30 percent or to be 353 4 million yuan to 459 4 million yuan says fy 2016 net profit was 353 4 million yuan source text in chinese goo gl rel2kv further company coverage beijing headline news',\n",
              " 'in fact the 2019 ev debut will be the first of its kind in the u s the company says it expects to have more than 1 000 vehicles on the road by the end of the year',\n",
              " 'the u s justice department is probing whether the department of homeland security dhs violated federal civil rights laws when it failed to protect the rights of transgender people in the workplace the federal government has been under fire for its handling of the transgender community in recent years the obama administration has called for an end to discrimination based on sexual orientation and gender identity and for the repeal of an obama era law known as the defense of marriage act doma that prohibits same',\n",
              " 'new york reuters breakingviews fedex is feeling the squeeze from the u s china trade war the 41 billion parcel carrier made a virtue over the past few years of being a global operator not least in touting its unique position as the only',\n",
              " 'still an aecc official at the site told reuters that the firm was not giving interviews nor holding events at airshow china engine mock ups gas turbines whose design dates back to 2002 and an interactive science exhibition offered little more than a rough sketch of a company with a nearly 100 000 strong workforce drawn together in a',\n",
              " 'u s presidential candidate bernie sanders called the image horrific and said the democratic national committee had been shocked and appalled by the attack sanders said he was deeply saddened to hear about the incident this is not the first time that we ve seen this kind of behavior he said',\n",
              " 's company to signal confidence in the cuba u s cuba relations we are very pleased to have the opportunity to work with the cuban government and the united states on the development of a relationship that will allow us to continue to strengthen our relationship with cuba and to support the efforts of the u n security council to promote a mutually beneficial relationship between the two countries said white house spokesman josh earnest in a statement we look forward to working closely with',\n",
              " 'it started in 2016 when a report surfaced that facebook was suppressing conservative news content in the trending section facebook said that s not true the company had to go on the defensive to try and explain how it worked and u s politicians took the report as a clear sign that facebook has a liberal bias it was still part of the conversation around facebook when ceo mark zuckerberg testified before congress in april on top of that even just looking at the section',\n",
              " 'thermon group holdings inc quarter end backlog of 85 7 million an increase of 4 thermon group holdings updating its revenue guidance to reflect a mid single digit percentage decline for fiscal 2017 as compared to fiscal 2016 thermon group holdings encountering project execution delays by customers as well as continued deferral of capital and maintenance spending thermon reports second quarter fiscal 2017 results q2 adjusted earnings per share 0 10 q2 gaap earnings per share 0 11 q2 revenue 68 8 million',\n",
              " 'we expect the new law to encourage the development of the market in a faster stronger and more sustainable manner deputy finance minister huynh quang hai said at the forum the draft law is expected to be submitted to lawmakers for approval',\n",
              " 'the statement said former lawmaker candido vaccarezza who had been a workers party government leader in the lower house was arrested over allegations that he received bribes of nearly 500 000 from sargeant marine in exchange for helping it win asphalt supply contracts from state controlled oil company petroleo brasileiro sa reuters could not immediately reach representatives for vaccarezza or sargeant marine',\n",
              " 'but as they stood on the steps of the building they saw a man dressed in a white robe and carrying a large bag who is this the man asked are you here to see me the man nodded and said i am the mayor of dukedom i have just arrived from the capital and i am asking you to come with me do you know who this man is he is an old man he has a beard that looks like',\n",
              " 'the golden state warriors encountered few issues with washington in recent seasons and look to post their 11th victory in the past 12 meetings when they visit the wizards on tuesday small forward kevin durant plays in his hometown of washington d c for the first time as a member of the warriors after spurning the wizards and his former oklahoma city coach in scott brooks during his free agency situation last',\n",
              " 'the ties between french banker benoit d angelin and president emmanuel macron could prove useful as d angelin s boutique firm joins goldman sachs and nomura to help arrange fiat s',\n",
              " 'rapier gold inc rapier gold provides corporate update and announces financing non brokered debt this is a non brokered debt it is unsecured and does not have to be paid off low interest rate low interest rates will not affect this debt and can be used to improve your credit score this debt will be repaid over the life of the loan the interest rate is based on the amount of interest you pay on your loan at the time of payment',\n",
              " 'tmx group ltd x to canada s biggest stock exchange operator reported on wednesday that its second quarter profit more than doubled helped by lower operating expenses and continued market volatility continued market volatility drove significant increases in volumes across our markets translating into solid revenue growth and even stronger earnings growth the',\n",
              " 'n staff and contractors experienced sexual harassment in the past two years according to a report released by the united nations on tuesday the online survey carried out by deloitte in november was completed by 30 364 people from the united nations and its agencies just 17 percent of those eligible in a letter to staff secretary general antonio guterres described the response rate as moderately low this tells me',\n",
              " 'a newly leaked memo is raising concerns that democrats are only paying lip service to the work of activists involved with the movement for black lives guccifer 2 0 a hactivist blog released memos late tuesday mic reported and while the blog states that the memos were retrieved from a folder from house minority leader nancy pelosi d ca s personal computer representatives for pelosi emailed vox that she does not have a personal computer at the dccc',\n",
              " 'o j simpson which led the tv nominations with five grinned that not all the nominees are white and in keeping with a bit she literally did on the tonight show in september in which she rapped all of nicki minaj s monster stranger things star millie bobby',\n",
              " 'as usual in silicon valley that s only the tip of the iceberg it s easy to see why google and facebook are betting on the future of social media it s not just that they re using the internet as a platform to build a brand it s that facebook is using it to make money from its users that s why they want to be the world s leading social network by 2020 and how they do it will determine whether or not google or facebook will be able to',\n",
              " 'united rentals inc united rentals announces partial redemption of 7 625 senior notes on its balance sheet united states credit union nyse u s c the ftse 100 is up 1 8 on the s p 500 the dow jones industrial average djia is down 0 6 the nasdaq composite index ixic has gained 2 1 for more information please visit http',\n",
              " 'you don t need to be sworn in a witness who is not under oath cannot face perjury charges but they could face charges pertaining to making false statements a broader statute that is not specific to lying under oath as lawfare clarifies by far the broadest federal',\n",
              " 'ffshore oil and gas drilling company seadrill ltd said in court papers on wednesday it must urgently remedy a payment problem for some creditors who got new notes as part of its plan for an exit from bankruptcy seadrill once the world s largest offshore driller by market capitalization filed for chapter 11 protection in u s',\n",
              " 'cosmos group co ltd says it plans to pay a cash dividend of 0 8 yuan before tax per 10 shares to shareholders of record on may 31 for 2015 says the company s shares will be traded ex right and ex dividend on june 1 and the dividend will be paid on june 1 source text in chinese goo gl 1yct7q further company coverage beijing headline news',\n",
              " 'march 10 reuters akme star housing finance ltd considered allotment of bonus shares pursuant to bonus issue to shareholders source text this is to inform that the board of directors of the company at its meeting held on march 10th 2017 started at',\n",
              " 'we ll try a couple and tomorrow we will find a place some of these places will be great some of them will not be so great i don t know what to make of it i said it s not a good feeling it s a very unpleasant feeling but it s something i can live with for the rest of my life i m just going to do what i do best and i ll do it as best as i possibly can',\n",
              " 'basra iraq april 29 reuters iraq has signed a contract with two chinese companies powerchina and norinco international to build an oil refinery at the port of fao on the gulf an iraqi oil official said on sunday the refinery in fao will have the capacity to produce 300 000 barrels per day and will include a petrochemical plant he told reuters saying the agreement was signed on',\n",
              " 'moody s investors service warned on wednesday that without the loan a default would likely set off a series of missed debt payments and revive the prospect of the city filing for bankruptcy or pursuing debt restructuring outside bankruptcy the city and state agreed on a 74 million loan but terms have not been announced and there has been no final agreement moody s said even so the city will make its payroll on friday and plans to also make the august 1st debt payment on',\n",
              " 'rakuten has grabbed investor attention with its overseas tech bets despite modest means compared with bigger japanese rival softbank group corp whose founder and ceo masayoshi son has tapped saudi arabian oil money and abundant cash from softbank s telco business to fund his tech investments rakuten s investments include lyft which listed in march and online scrapbook company pinterest inc which listed last month it also took a stake in dubai based ride hailing firm',\n",
              " 'so it s not surprising that he s continuing to attack judge gonzalo curiel the federal judge presiding over two class action lawsuits against trump university by saying his mexican heritage makes him biased against trump but even so',\n",
              " 'weekend reports that italy s main parties could converge on a proportional electoral law pointed to growing chances of an early election in the autumn possibly leading to no clear majority in an interview on sunday',\n",
              " 'apple is finally getting around to adding web previews to its mobile devices the company has announced that it will be rolling out a new version of the chrome browser that will allow users to preview web pages on their smartphones tablets and pcs the preview will come in the form of an app called preview which will let users preview the content of their favorite websites and apps in a variety of ways including on the web in real time as well as on screen it',\n",
              " 'the camera and printer manufacturer on wednesday forecast an operating profit of 325 billion yen 2 97 billion for 2019 down 5 2 percent from 342 95 billion yen a year earlier the first decline since 2016 that would be below a',\n",
              " 'the mexican finance ministry said on thursday it blocked the bank accounts of 26 people for their alleged involvement in human trafficking as mexico broadens its migration clampdown amid growing pressure from u s president donald trump the ministry s financial intelligence unit fiu said in a statement',\n",
              " 'the international monetary fund imf will not set a particular exchange rate for the argentine peso as a condition on a financing deal for the south american country a spokesman for the washington based lender said on monday argentina has a floating exchange rate whose value is determined by the market we fully support this policy the spokesman said there',\n",
              " 'some indian media reports speculated siddhartha was under pressure over outstanding debts the letter blamed an unnamed private equity partner for pressuring him into a share buyback and tax authorities for harassment and decisions that hurt the company s',\n",
              " 'senator from delaware served as barack obama s vice president for eight years leaving office in january 2017 after the election of republican president donald trump according to federal and state tax returns the bidens earned about 11 million in 2017 and 4 58 million in 2018 about',\n",
              " 'the white house s tech week is hitting the road and president trump plans to tell iowans wednesday that he s committed to including internet connectivity in any infrastructure package the administration builds with congress aide ray starling told reporters that pledge will come as part of an event at cedar rapids kirkwood community college that will highlight',\n",
              " 'walmart is launching a technology startup incubator called store no 8 in silicon valley to focus on revamping its retail experience with new innovations like virtual reality autonomous vehicles drone delivery and personalized shopping the retailer is hoping that move which e commerce ceo mark lore announced monday at the shoptalk conference in las vegas will give the company a competitive edge over amazon why',\n",
              " 'sabahattin bas chairman of borsa gold a jeweler and gold seller in istanbul s historic grand bazaar said he was only accepting liras to fight what he called a renewed attack on turkey by western powers who had backed the failed coup they are trying to open a new front and that is economic war he said in his shop a large ring glistening on his hand several restaurants and barber shops in istanbul suburbs have been offering free lunches and hair cuts to clients with a receipt',\n",
              " 'snap is gearing up to debut tools for third party developers including a login button and camera features dubbed snapkit according to techcrunch why it matters snap has long been reluctant to open itself up to outside apps but it s choosing an interesting time to do so fresh on the heels of facebook s cambridge analytica scandal which forced the social media giant to pull back on its platform snap s app however doesn t collect as much user data as other social apps',\n",
              " 'or whistleblowers and leakers who worked for the u s intelligence community 2 lime s founding ceo steps down as his co founder takes control lime announced co founder and chief executive officer toby sun will transition out of the c suite to focus on company culture and r d brad bao a lime co founder and longtime tencent executive will assume ceo responsibilities 3 the us',\n",
              " 'the fourth prototype of china s home built c919 narrowbody passenger jet completed its first test flight on thursday state media said as the country pushes forward with a homegrown rival to airbus se and',\n",
              " 'the russian government would intervene if domestic retail fuel prices surpass average inflation russian deputy prime minister dmitry kozak said on wednesday however he said that the possible introduction of punitive export',\n",
              " 's vice president mike pence at the pyeongchang winter olympics pre opening party on friday but pence had other ideas he left the reception after just a few minutes skipping the hopeful dessert and a potentially awkward encounter with north korea s nominal head of state kim yong nam south korea has some difficult homework to solve regarding some countries moon told the gathering of some 200 vips at the reception before pence arrived there are some who would not want',\n",
              " 'today in congress privacy reform faced a significant setback as the house voted 256 to 164 to extend a controversial piece of legislation that provides for a warrantless surveillance program that at times targets american citizens the law part of the foreign intelligence surveillance act known as section 702 is leveraged as a loophole that',\n",
              " 'independent estimates suggest that as much as 99 percent of multilevel marketing participants lose money due to unsold stock participation fees and other costs the practice is particularly sketchy when it s used to sell bogus products that don t help people enter youngevity as the daily beast s tim mak found in investigating the company',\n",
              " 'oil prices edged higher on friday as output cuts by opec members met with lingering concern that other producers could try to shirk their share of planned decreases aimed at curbing global oversupply brent crude futures the benchmark for international oil prices were trading',\n",
              " 'but with crude oil prices languishing near 12 year lows of around 34 a barrel and forecasts of a slow recovery investors have raised concerns about the viability of the cash and share deal that would increase',\n",
              " 'the rio 2016 organizing committee is worried about the rapid spread of the zika virus in brazil but has not yet seen evidence of people cancelling travel to the olympics in august communications director mario andrada said on tuesday the organizing committee will follow travel guidelines issued by the world health organization who he added reporting by pedro fonseca editing',\n",
              " 'hobbled by recession and one of the world s highest inflation rates argentina may be lurching toward the next in a series of economic crises afflicting the country over the last 70 years consumer prices streaked more than 54 percent higher in the 12 months through march in defiance of central bank efforts to control inflation fueling poverty and further damaging a business climate blighted by nose bleed high borrowing rates the peso which lost 50 5 percent of its value against the u s dollar in 2018 has',\n",
              " 'iran may further scale back compliance with its nuclear deal soon unless european countries shield it from u s sanctions through a trade mechanism the head of',\n",
              " 'vectron systems ag resolves the issue of using a different color for each of the components fixes an issue that caused the installer to not show the correct error message when trying to install the package on an unsupported system version 1 2 1 2015 08 26 fixed a bug that could cause an uninstalled package to be unusable added a new option to disable the installation of packages that are not',\n",
              " 'japan s top government spokesman said on friday that japan would continue to ask the united states to exempt it from washington s plan to impose tariffs on imports of steel and aluminum chief cabinet secretary yoshihide suga told a news conference that japan s steel and aluminum shipments did not pose a threat to u s national security and that they contributed greatly to employment and industry in the united states u s president donald trump pressed ahead on thursday with import',\n",
              " 'china on monday accused japan of trying to confuse the situation in the south china sea after its neighbor said it would step up activity in the contested waters through joint training patrols with the united states ties between asia s two largest economies have long been overshadowed by arguments over their painful wartime history and a territorial spat in the east china sea among other issues china has repeatedly denounced what it views as interference by the',\n",
              " 'l on thursday appointed former hsbc hsba l executive irene dorner as chairwoman creating a rare female duo at the top of one of britain s ftse 350 listed companies virgin money had said in october it was in talks to hire dorner who will join jayne anne gadhia',\n",
              " 'there were seven germans from clubs outside the country all of whom were playing in germany the next day the german newspaper die welt published an article about the bombing the newspaper said the german government has said that it was not responsible for the attack but it is understood that the germans were trying to conceal the fact that they had carried out an attack it is not known how many of the victims were from germany the article went on to say that there had been',\n",
              " 'march 1 reuters s africa s competition commission recommended to tribunal that proposed merger of glencore sa intends to acquire csa be approved with conditions found that proposed transaction of glencore sa csa deal raises public interest concerns approved without conditions proposed merger whereby commscope intends to',\n",
              " 'rotopino pl sa said on monday that it reported q2 revenue of 10 6 million zlotys 2 8 million versus 8 3 million zlotys a year ago q2 net profit was 241 000 zlotys versus a loss of 362 000 zlotys a year ago source text for eikon further company coverage 1 3 8071 zlotys gdynia newsroom',\n",
              " 'xerox corp shareholders carl icahn and jefferies group inc the company s shares rose 2 6 percent to 1 11 or 0 07 per share in afternoon trading while the dow jones industrial average rose 1 4 percent the s p 500 index gained 3 2 percent and the nasdaq composite gained 2 percent according to thomson reuters i b e s',\n",
              " 'when uber sets loose the world s most expensive taxi service it will be hard to see how it can survive without uber s help uber is a major driver of the taxi industry in india and it is not going away anytime soon it will continue to grow and expand but it may not be able to meet the needs of its customers said vijay singh ceo of uber india in an interview with cnbc i don t believe that uber is going to survive',\n",
              " 'and next year my state of connecticut is predicted to experience a 24 percent hike the biggest increase yet fortunately i receive subsidies which have softened the effects of the increases in the past i haven t been notified yet about',\n",
              " 'ruch chorzow sa said on friday that as the result of the capital increase palau sp z o o acquired 5 38 pct shares in ruch chorzow before the transaction palau sp z o o did not own any shares of ruch chorzow said on friday',\n",
              " 'united airlines united airlines says entered into note purchase agreement dated as of september 27 2016 sec filing united airlines says note purchase agreement provides for future issuance by company of equipment notes in aggregate principal amount of 919 593 000 united airlines says agreement to',\n",
              " 'complicating the sale further greece passed a law in july which raised desfa s gas tariffs from next year by a much lower amount than expected the greek side has taken some steps which violate the tender process that s why desfa s price should be now half its initial value rovnag abdullayev told reporters socar does not intend to pull out of the deal he said and added that socar',\n",
              " 'the data captured between december 2018 and now provides a window into the trump campaign s inner workings which includes the decisions made by the campaign and the white house as well as the actions of senior members of the administration trump s campaign has repeatedly denied that it colluded with russia during the 2016 presidential election trump has also said that his campaign did not collude with the russian government in any way and that he has no knowledge of russian efforts to interfere in the election',\n",
              " 'from yale law and an m b a from harvard business school a republican with strong ties to trumpland told us justin muzinich is going to be a grappling hook for everybody in',\n",
              " '2 billion in 2014 as concerns about the fund s management and financials had begun to circulate the newspaper said on wsj com 2lizi9m citing unidentified people familiar with the matter prosecutors are mainly looking into the role of tan boon kee a colleague of a former goldman sachs group inc executive tim leissner who worked with him on 1mdb related business the paper said she left goldman to become asia pacific',\n",
              " 'stealthgas inc stealthgas 1 4 flamethrower 2 2 level 1 100 stickybomb launcher minicrit_boost_charge_rate 5 fire_spread_time_recoil_increase 0 8 min_ilevel_mod_max 3 max_iec_when_burning_cube 10 crit_dmg_falloff 100 dmg_invalid',\n",
              " 'plant in oregon starting in 2019 as it looks to diversify its products for a broader set of customers such as auto safety and wireless connections for mobile phones kahlon s spokesman told reuters the government and intel had agreed on the size of the grant after talks regarding the new factory had intensified over the past year he noted that grants were crucial for israel to compete with',\n",
              " 'but let me tell them something and make sure they understand this the country is sick of the division they re sick of the fighting they re sick of the childish behavior there isn t a single person among you biden continued gaining speed jabbing his finger into the podium or anywhere in this country who could get away',\n",
              " 'trump campaign chair paul manafort was convicted of financial crimes flipped and then un flipped and former trump attorney michael cohen also struck a plea deal just last week so far though flynn s cooperation remains mysterious it does not appear to have any obvious connection the other developments in the investigation and has not led to any known charges it s unclear what mueller s team has been doing with him these past 12 months and whether it s led anywhere we do',\n",
              " 'drug developer ocular therapeutix inc said the u s food and drug administration fda is looking into the company s claims the fda has been investigating the drug for more than a year according to a statement from the agency s office of drug evaluation and research oderr which is responsible for approving drugs for use in the united states the agency has not ruled out the possibility of a lawsuit but it has yet to make a determination on whether',\n",
              " 'a new lawsuit asks why new york city s subway accepts advertisements depicting erectile dysfunction bare buttocks inflatable plastic breasts kyng sized condoms and cactuses shaped like phalluses but is refusing ads for women s sex toys dame products a women owned startup that promises to close the pleasure gap for women by selling toys for sex sued the metropolitan transit authority on tuesday accusing it of sexism and illegal censorship for refusing its ads since last november the',\n",
              " 'game recognize game and altria s game is nicotine addiction it knows it s been one upped by juul s tactics so it s hedged its own success by handing the startup over a tenth of the public corporation s market cap in cash juul argues it can help people switch from obviously dangerous smoking to supposedly healthier vaping but in reality the tiny aluminum device helps people switch from nothing to vaping which can lead some to start smoking the real thing a',\n",
              " 'comcast announced this morning that it s halting its efforts to acquire the film and television assets of 21st century fox disney made a deal to acquire those assets last year but after a district court judge approved the merger',\n",
              " 'a stabilising currency helped qatar rebound former yemeni president ali abdullah saleh said on saturday he was ready for a new page in ties with the saudi led coalition fighting in yemen if it stopped attacks on his country in a move that could pave the way to end nearly three years of war the saudi stock index gained 1 2 percent to 7 089 points it rose above resistance around 7 000 points which has capped the market since mid october and roughly coincides with the 200 day average now at',\n",
              " 'a running guide to donald trump s highly abnormal presidency a running guide to donald trump s highly abnormal presidency sign up for a weekly newsletter about president donald trump to be delivered to your inbox every friday donald trump made it clear at the beginning of his campaign that he wasn t going to follow',\n",
              " 'douala cameroon reuters a top general in charge of cameroon s fight against islamist militant group boko haram died in an accidental helicopter crash on a patrol mission the government said on monday the crash happened on sunday evening in the bogo district of the far north region where cameroonian troops and a regional',\n",
              " 'rio de janeiro reuters when graham delaet was in need of a caddie for the rio olympics he did what any canadian would do he drafted a hockey player with his',\n",
              " 'a flurry of data from china in coming weeks is likely to show weaker trade and investments traders also cited data from market intelligence firm genscape showing a build of 230 025 barrels at the cushing',\n",
              " 'private equity firm warburg pincus has completed a deal to buy a 49 percent stake in the san francisco based firm the deal is expected to close by the end of the year',\n",
              " 'what they re saying all three blasted trump for mocking christine blasey ford collins i don t know what she s going to do collins was born and raised in new york city she grew up on the upper east side of manhattan where her father a real estate broker worked as a child s playmate her mother who was also a businesswoman was a beauty queen she says she was bullied at school because of her appearance',\n",
              " 'the goal for kohl s of letting the fox guard the henhouse to give consumers a new reason to come into their stores in the hope that',\n",
              " 'president trump s top economic adviser larry kudlow suffered a heart attack monday night the president confirmed the news on twitter around 8 40 p m just minutes before he was scheduled to meet with kim jong un according to trump kudlow is being treated at the walter reed hospital cover image white house national economic council director larry kudlow holds a news briefing about the upcoming g7 meetings in the brady press briefing room at the white house on june 6 2018 in washington dc kudlow said president donald',\n",
              " 'tunis reuters tunisia has allowed dozens of migrants mostly from bangladesh to disembark after three weeks stranded in the mediterranean so that they can return to their home countries the red crescent said on wednesday an egyptian boat rescued the migrants in tunisian waters last month but local authorities in the governorate of medinine said its migrant centers were too overcrowded to let them ashore leaving the vessel stranded 25 km off the coastal',\n",
              " 'ringkjoebing landbobank a s fy profit before tax increased by 3 5 in 2013 interest rate increased to 1 25 from 1 on december 31 2013 and 2 75 for the year to january 1 2014 interest rates are subject to change without notice',\n",
              " 'media reports suggesting that britain could seal a divorce deal with the european union in the next few days should be taken with a very large pinch of salt a senior uk government source told the press association on thursday both sides have indicated that they are',\n",
              " 'u s district judge vince chhabria said in a san francisco court filing that the amount does not fall within the range of reasonableness the sticking point chhabria said was that attorneys for the plaintiffs estimated the total potential claim for expense reimbursement for drivers at 64 million',\n",
              " 'bangkok reuters armed insurgents stopped and torched a bangkok bound passenger bus on a highway in southern thailand on sunday police said all 14 passengers as well as the bus driver and his',\n",
              " 'netflix said that it found people watched more of story when it tested video previews and they browsed less which is why it made the decision to roll out the feature to its worldwide audience',\n",
              " 'that is leading more families to send their children to school the bottom line is if you are going to do this you have to get it done he said',\n",
              " 'etiler gida decides to buy 7 percent of altinyag kombinalari at total 2 1 million lira 561 857 88 company to buy total 4 2 million a group shares at 0 5 lira per share price company to hold 17 18 pct of altinyag kombinalari after the transaction source text for eikon further company',\n",
              " 's president donald trump said on saturday he would soon give formal notice to the u s congress to terminate the north american free trade agreement nafta giving lawmakers six months to approve a new trade deal between the united states mexico and canada to replace it trump',\n",
              " 'in a speech peppered with populist pledges khan promised to create jobs for the poor and the middle class we will create a new generation of leaders who will lead us to a better future for all of us he said',\n",
              " 'similar to its competitors the app promises an easy way for smaller businesses to quickly create and design content like fliers coupons catalogs price lists e cards and more as well as quickly share them across social media sprightly is a product emerging',\n",
              " 'the hang seng index was unchanged at 27 741 35 points while the china enterprises index a gauge of mainland industry leaders listed in hong kong gained 0 1 percent to 11 191 59 points sector performance was mixed gains were led by property developers as top developer china',\n",
              " 'u s short term interest rate futures were little changed on friday after a government report showed big job gains last month underscoring the likelihood that the federal reserve will raise rates next week and two more times in 2017 traders continue to bet overwhelmingly on a march rate hike and give a better than even chance of two more rate hikes over',\n",
              " 'cloud computing giant salesforce com inc said prominent computer hacking expert trey ford will join the company as a senior vice president ford who has worked for microsoft ibm hewlett packard corp and oracle corp will serve as chief technology officer ford is also the co founder and chief executive officer of google inc the world s largest internet company',\n",
              " 'google ceo sundar pichai said wednesday that the company plans to continue working with partners on its nexus smartphone line though it may become more opinionated on issues like how the phones are designed our plan is still to work with hardware partners pichai said speaking',\n",
              " 'butte county sheriff kory honea has warned that remains of some victims may never be found teams resumed their search on saturday butte county sheriff s office spokeswoman miranda bowersox said ahead of more rains that are expected to start on wednesday a total of 2 to 3 inches 5 to 8 cm of rain is forecast for areas burned by the camp fire from wednesday through saturday said meteorologist david roth of the',\n",
              " 'federal reserve raised interest rates and noted that some rate hikes would be needed next year a more aggressive stance than many expected the central bank after its last policy meeting of the year said the u s economy has been growing at a strong rate and the job market has continued to improve economic forecasts',\n",
              " 'ok so we probably don t have to worry about that so what s your take on the debate is there a lot of people out there who think that it s just a matter of time before we start talking about it or is it something we need to talk about in the next couple of weeks and if so what are some of the things you d like to see addressed by the house ethics committee let us know your thoughts below',\n",
              " 'mi kept its door open on wednesday to a possible merger with german equity partner prosiebensat 1 media psmgn de but said the italian group s plan to create a pan european media alliance took priority mediaset chief executive pier silvio berlusconi told reporters his priority was to finalize the company s recently unveiled plan to use a new dutch holding company mediaforeurope mfe as a platform to develop the pan european alliance mediaset and other traditional european broadcasters are looking',\n",
              " 'addsino co ltd says it acquired 90 percent stake in a beijing based company for 1 2 billion it s the first time in the history of the company that i ve been able to acquire a majority share in such a large company co is quoted as saying i m very proud of it',\n",
              " 's pressure was working our pressure on iran is simple it s aimed at cutting off the supply of uranium to iran he said but the u s led coalition which has been bombing iran for more than a decade has not been able to stop iran s stockpile of enriched uranium from reaching the united states in the past week the obama administration has ramped up its efforts to persuade iran to halt its nuclear program the white house said monday that it',\n",
              " 'supreme court justice ruth bader ginsburg is up and working and making jokes after being hospitalized with rib fractures her nephew said on thursday at the premiere of a new movie about her early career fighting for women s equality daniel stiepleman who wrote the script for the film on the basis of sex about his aunt s work as a young lawyer with input from the justice herself told reuters the 85 year old ginsburg was doing great the last i heard she was up and working of course',\n",
              " 'the prospect of u s tax cuts has also helped push shares higher at the same time measures of market volatility are at rock bottom the u s vix index fell on tuesday to 9 56 its lowest since late 2006 reut rs 2pja9xd however trump s abrupt sacking of fbi director',\n",
              " 'in late 2013 tim draper left the decades old firm he d co founded draper fisher jurvetson but he suggested he might be back some day specifically he told this reporter i am not leaving dfj ever i am just skipping a fund to do some work building draper university which is draper s boarding school for aspiring entrepreneurs and experimenting with new models for venture capital he d added at the time i will of course be an investor in',\n",
              " 's territory and 95 percent remain without power according to the u s defense department some are expected to be without power for months but on saturday federal emergency management administration fema officials reported that a third of the island s telecommunications network had been restored and some 765 gas stations well over half had fuel though it was not clear how much maria the most powerful storm to strike puerto rico in nearly 90 years has destroyed roads making it difficult to get food water and fuel',\n",
              " 'china trade war loomed large msci s index of emerging market shares fell to a four year low china s economic growth slowed in the first half of the year and inflation rose to its lowest level in three years according to data from the world bank',\n",
              " 'it was the index s worst day since feb 25 2016 the blue chip csi300 index meanwhile tumbled 4 8 percent to 3 124 11 points its lowest level since july 2016 steven leung sales director at brokerage uob kay hian said the impact of the u s equity sell off and trade',\n",
              " 'deutsche bank ag s dbkgn de u s securities division agreed to pay a 1 4 million fine to the financial industry regulatory authority on wednesday to settle charges that it violated reporting and supervisory rules related to equity and municipal bond trades deutsche bank declined to',\n",
              " 'paris oct 3 reuters five gunmen took millions of dollars of jewellery from u s reality tv star kim kardashian at a luxury residence in central paris early on monday a police source said the armed men robbed kardashian at gunpoint at around 3 a m 0100 gmt but no',\n",
              " 'this election was supposed to be close but republicans were supposed to have a slight edge that s the conclusion of a comprehensive election forecast vox built that projects the campaign s outcome based on the most accurate political science models in existence jacob montgomery of washington university in st louis',\n",
              " 'two oil tankers had unloaded their cargo by the end of the day we re going to have to get out of here he said we ve got a lot of work to do',\n",
              " 'tunisians will not forgive you he added after months of protests the bill was amended from an original draft which would have also granted amnesty to corrupt businessmen as it stands they will be liable to prosecution for crimes committed during ben ali s 24 year rule witnesses said police beat protesters who had shouted slogans against the president and the ruling parties ennahda and nidaa',\n",
              " 'julius baer ceo tells news conference expects to be number one or number two private bank in monaco within the next two years julius baer ceo says must not be in a hurry for m a but confident there will be more m a opportunities in private banking julius baer cfo says expects to add around 120 net new client advisors in 2016 compared to roughly 40 in 2015 further company coverage reporting by zurich newsroom',\n",
              " 'thirty three new measles cases were recorded in the united states last week most of them in new york federal health officials said on monday bringing the number of confirmed cases this year to 1 077 in the worst u s outbreak of the virus since 1992 the u s centers for disease control and prevention said the cases of the highly contagious and sometimes deadly disease rose 3 in the week ended june 20 from the',\n",
              " 'two iraqi army pilots were killed on thursday when their helicopter was shot down over the city of mosul by islamic state according to a military statement the helicopter was providing',\n",
              " 'the 500 million mta revenue bonds qualify as green bonds because public transportation is considered environmentally friendly they are certified by climate bonds initiative cbi a nonprofit that aims to spur issuance of green bonds by leaving their',\n",
              " 'an indiana state judge threw out a lawsuit by the former wife of longtime subway pitchman jared fogle who accused the sandwich chain of continuing to use the now imprisoned fogle as its spokesman after learning about his sexual interest in children judge matthew kincaid',\n",
              " 'the abu dhabi investment authority adia said on tuesday its private equity department would acquire a stake of up to 21 4 percent in pension insurance corporation group from funds advised by private equity firm j c flowers co hamad',\n",
              " 'russian foreign minister sergei lavrov said on monday the situation in the rebel held syrian province of idlib could not be tolerated indefinitely ria news',\n",
              " 'president donald trump the two neighbors have clashed over trump s trade and immigration polices including his push for a border wall although lopez obrador has mostly avoided public criticism of trump lopez obrador who took office in december described to reporters on wednesday a good meeting at a tuesday night dinner with jared kushner trump s son in law and senior adviser at the',\n",
              " 'in a february deposition related to the department of homeland security s investigation into the leaks a former u s intelligence official said that the agency had received a tip from the russian government about the leak of classified information i think the intelligence community is aware of it said the former official who spoke on the condition of anonymity because he was not authorized to discuss the matter publicly it s a very very serious matter and it s very difficult for us to respond to',\n",
              " 's national highway traffic safety administration said on tuesday it is withdrawing a 2012 obama administration proposal to require event data recorders in all new cars and trucks because it says automakers have voluntarily installed the devices in nearly all vehicles the agency known as nhtsa had proposed requiring the devices sometimes known as black boxes in all vehicles but had not finalized it the',\n",
              " 'british foreign secretary boris johnson said on thursday u s recognition of jerusalem as israel s capital was not helpful and that the world would like to see some serious announcements from president donald trump on how to resolve middle eastern issues reporting by william james writing by stephen addison editing by guy faulconbridge',\n",
              " '7 even if creditors didn t want it i think it s fair to say that we don t have to worry about creditors he said we re going to work very hard to get this done we ve got to make sure that this doesn t happen again',\n",
              " 'but nigeria have to put behind them a number of important players i think we have a lot of good players who can play for us but i don t think it s a priority he said it s not about the money it s about what s best for the team if we can do that then we ll be good',\n",
              " 'zimbabwe s new government pledged on thursday to re engage with international lenders curb spending and attract investors in order to revive its battered economy in the first budget since last month s removal of long time ruler robert mugabe finance minister patrick chinamasa',\n",
              " 'why it matters traders raised their bullish bets on bitcoin to the highest level in 11 months on monday data from cryptocurrency exchange bitfinex shows and traders are continuing to pile into the cryptocurrency by the numbers long positions have risen by 35 in the last three weeks while short positions have remained largely unchanged long positions are near historic highs but',\n",
              " 'the program will offer buyers rebates of up to 60 percent of the incremental purchase cost of an electric truck compared with an equivalent diesel vehicle up to a cap of c 75 000 per vehicle according to documents seen by reuters ontario s new green commercial vehicle program which also gives rebates on other fuel saving devices helps brings the province in line with other jurisdictions like quebec california and new york states',\n",
              " 'adib will complete its 1 billion dirham 272 4 million rights issue next week increasing its share capital to 3 63 billion dirhams from 3 17 billion last week adib raised 750 million of additional tier one capital through a perpetual sukuk the bank is studying another capital',\n",
              " 'callinicos who will also serve as the strategic advisor to the company s board of directors is a seasoned financial executive who spent a large chunk of his career from 1992 to 2007 at microsoft he then moved to google where he stayed for nearly seven years to be the vice president of treasury and the chief accountant callinicos s most recent role at uber in which pishevar is an early investor was his shortest he joined the company',\n",
              " 'castles technology says it will pay cash dividend of t 0 5 per share t 31 238 982 in total for 2015 says it will pay stock dividend of t 0 5 per share t 31 238 980 in total ex dividend and ex right date aug 9 last date before book closure aug 10 with book closure period from aug 11 to aug 15 record date aug 15 payment date sep 23 source text in chinese 985 so 6rgq further company coverage beijing headline news',\n",
              " 'eater kyron cartwright hit a running home run in the seventh inning to make it 3 0 i don t think i ve ever hit home runs in my career he said i ve never been in a situation like that i think it s a good thing and i m glad i was able to get out there and hit it it was a pretty good game',\n",
              " 'they re outnumbering us 10 to 1 he said referring to croatian fans fears of violence and racism ahead of the world cup bolstered by memories of clashes between england and russia fans marseille during the european championship in france in',\n",
              " 'we are living in an era of unprecedented and unprecedented levels of inequality in our society we are witnessing a widening gap in wealth between the rich and the poor this gap is not limited to the richest 1 of the world s population it extends to all of us including our children our grandchildren and our great grandchildren who are at risk of losing their homes their jobs and their livelihoods if they are not able to make ends meet what we are seeing is',\n",
              " 'but wouldn t it take a huge collection of experts phds authors and so on to keep up with the variety of nonfiction being published yes it would and building just such a collection is where blinkist has put a great deal of its resources as a subscription service it has steady revenues that it can deploy intelligently maintaining a large network of experts whom',\n",
              " 'four years after forming the association of american physicians and surgeons the group became known as the american federation of medical colleges afmc the group was founded in 1967 by then president john f kennedy who had been elected to the u s house of representatives in 1960 founded in 1968 afmc has grown to include more than 1 500 physicians hospitals and other health care providers the organization s mission is to provide health care to all',\n",
              " 'more than 30 white house aides will no longer have access to sensitive national security information bloomberg reports their clearance will be downgraded while a background probe on them continues why it matters this comes after white house chief of staff john kelly downgraded jared kushner s security clearance as part of an overhaul plan citing sources familiar with the overhaul bloomberg reports that none of officials were asked to leave and their access to top secret intelligence information will be transferred to other staff members with',\n",
              " 'britain intends to prevent a hard border in ireland after leaving the european union whatever the outcome of talks with the bloc uk s brexit minister said on monday saying comments that this was not legally enforceable were taken out of context davis on sunday said that a pledge on the irish border agreed as part of a divorce settlement was a statement of intent rather than a legally binding move but said the media had twisted his words of course it s legally enforceable under the',\n",
              " 'a princeton new jersey startup called pivotal is developing a self driving car that will roll off the assembly line in the u s next year the company plans to test the prototype in new york city where it will be able to drive in a range of speeds according to the company s website the car will also be powered by a lithium ion battery which will keep the car on the road for up to 30 minutes at a time the site says',\n",
              " 'a non opioid drug developed by pfizer and eli lilly met the main goals of a new study published in the journal of the american medical association jama the drug was approved by the food and drug administration fda for use in children adolescents and adults the study led by researchers at columbia university school of medicine in new york city found that the drug did not increase the risk of developing neurodegenerative diseases such as alzheimer s disease',\n",
              " 'however musk is not the only one to be concerned about the state of the tesla model s last week tesla ceo elon musk told cnbc that the company is in a period of transition and that it s looking at ways to improve the car s performance ap photo charles dharapak photo carlos barria afp getty images story highlights tesla is working on a self driving car that can drive itself not just the vehicle itself',\n",
              " 'here s what cook actually wrote to apple s global team of circa 123 000 employees team today apple passed a significant milestone at our closing share price of 207 39 the stock market now values apple at more than 1 trillion while we have much to be proud of in this achievement it s not the most important measure of',\n",
              " 'on sunday president donald trump s treasury secretary steven mnuchin announced that he will be leaving the white house mnuchin s departure is the latest in a series of moves by trump to shake up the united states financial system which has been plagued by a string of high profile scandals over the last few years in january trump ordered the securities and exchange commission sec to investigate the trump organization for possible violations of the dodd frank wall street reform and consumer protection',\n",
              " 's embassy in mexico said on thursday a security alert posted on the embassy s website warned american citizens to exercise caution and said mexican authorities continued to investigate the blast two more explosive devices were found attached to another ferry on the island of cozumel on thursday local media reported saying marine troops had secured the scene the ministry of the marina did not immediately respond to a request',\n",
              " 'eight of markakis past 12 hits have come from the left side of the field in the past two seasons the braves have allowed a league high five runs or fewer in five of their past six games and they ve allowed just one run or less in four of those games',\n",
              " 'alibaba which has had a huge impact on the chinese economy is also one of the world s biggest banks the bank of china boc is china s largest bank with an annual turnover of more than 1 trillion the boc has been in charge of many major banks in the country including bnp paribas baidu banco santander credit suisse goldman sachs hsbc jp morgan chase jpmorgan chase co',\n",
              " 'the british government is planning to pass a law that would make it illegal for a british citizen to work in the united kingdom the new law which would apply to all british citizens was introduced by home secretary theresa may in a speech to the conservative party conference last week it was signed into law by the prime minister david cameron on tuesday',\n",
              " 'the company reportedly began investigating the breach in september and in december announced that the hack had affected roughly 383 million records not the 500 million that had previously been estimated but that hackers had obtained the unencrypted passport numbers of',\n",
              " 'materion corp materion i ve never seen anything like this before it s such a beautiful thing i can t wait to see it again soundbite of music summary of chorus song',\n",
              " 'polish politician jaroslaw gowin said the demonstrations had caused us to lose sight of the fact that there are millions of poles in the country who want to stay in poland gowin a former polish prime minister said he had been disappointed by the outpouring of support for his party he added that he was not surprised that the protests had turned violent i am not surprised that we have been able to do this he said',\n",
              " 'iran s foreign minister said israel s accusations on tehran s nuclear program were old allegations that had been dealt by the united nations nuclear watchdog in the past pres trump is jumping on a rehash of old allegations already dealt with by the iaea to nix the deal how convenient coordinated timing',\n",
              " 'the united states is trying to stifle chinese technology company huawei and curb its influence in the country according to a report in the wall street journal the report by the center for strategic and international studies csis and the washington institute for near east policy wip says that china has engaged in an unprecedented effort to disrupt the u s china relationship the report says the chinese government has been turning its back on the',\n",
              " '1 billion and this week s disposal of a stake in a brazilian parking garage company was the first of its kind in the world last week the brazilian government announced that it will pay 5 million to settle a lawsuit brought by a group of people who say they were forcibly removed from a parking lot in rio de janeiro the settlement which will be announced later this month is expected to be the largest in brazil s history',\n",
              " 'as part of the gaming option for tesla s cars todd howard the director of bethesda games said that the company s fallout shelter game will be coming to tesla displays elon musk is a huge fan of the fallout series saying in an interview at the e3 gaming',\n",
              " 'the pentagon said the saudi government would send a team to saudi arabia to assist with the investigation it was not immediately clear if the u s led coalition was involved',\n",
              " 'beijing shunxin agriculture co ltd the company s chief executive zhang ziyang told a news conference in beijing on tuesday that the company plans to build a 10 000 square metre 1 200 hectare factory in the city by the end of the year the factory which will be the first of its kind in china is expected to produce 1 5 million tonnes of vegetables a year he said citing data from',\n",
              " 'marine lieutenant colonel oliver north will step down as president of the national rifle association north said on saturday adding he was being forced out due to his allegations that nra leaders engaged in financial improprieties in a letter read to the organization s annual meeting in indianapolis by an nra board member north a conservative commentator best known',\n",
              " 'britain s former brexit minister david davis said on tuesday that the ruling conservative party will face dire consequences at the next election if it sticks with prime minister theresa may s brexit plans the sun newspaper reported',\n",
              " 'power station staff were in august testing a new version of the system which has yet to be released to the public',\n",
              " 'tower international inc reports solid first quarter raises full year 2016 outlook and expects double digit earnings growth in 2017 including retention of europe business q1 adjusted earnings per share 0 63 excluding items outlook for full year 2016 earnings from continuing operations is being raised from 3 00 to 3 20 per share source text for eikon further company coverage',\n",
              " 'harold lanier a fairhope alabama investor leading the three proposed group lawsuits or class actions complained that the exchanges let preferred traders pay premiums to receive market data up to 1 499 microseconds earlier than less fortunate investors he said this was done by giving data to the traders before feeding the information through a processor for wider distribution violating his contractual rights and leaving him and other ordinary',\n",
              " 'the world is full of uncertainties at the moment the shares were down 2 percent at 1004 gmt abb said orders an indicator of future profit rose 0 2 percent to 8 277 billion in the three months ended dec 31 from the same period a year earlier helped by improvements in the united states and',\n",
              " 's administration was also dealing with the north korean nuclear issue the white house has repeatedly said that north korea has no intention of developing a nuclear warhead and that the u s south korean joint military exercises are a part of that but there has been no indication that pyongyang has any plans to test a missile capable of reaching the continental united states or to launch an intercontinental ballistic missile',\n",
              " 'but lenders who offer mobile phone services to people who don t have a bank account or a credit card are likely to be reluctant to lend to them for example if a person has a debit card they may not be able to borrow money from the bank but if the person does have an account he or she may be willing to pay for the service even if his or her credit score is not good enough to justify the loan',\n",
              " 'the fund s authorized owner link said the money would be used to pay up to 3 5 million in state and local taxes i think it s fair to say we re not going to be paying them he said i don t think there s any other way to put it',\n",
              " 'what was your read on why she does that as the love interest it was very important for me to find if they do connect why do they connect ground it in something very real',\n",
              " 'the s p tech sector has been the best performing sector this year despite concerns about stretched valuations as investors look for growth sectors immune to policy uncertainties netflix s strong results has caused money to move to tech stocks in anticipation of stronger earnings said adam sarhan chief executive officer at 50 park investments if the big names such as alphabet facebook amazon are able to show growth in an otherwise low growth environment then investors will pay for these stocks all three big tech names will report results',\n",
              " 'the 26 5 billion merger between t mobile and sprint may just happen after all driving the news t mobile is near a deal with dish network that would prop up dish as a new fourth u s wireless competitor likely giving it cover for doj approval cnbc reports flashback the companies have been working on',\n",
              " 'lebanon s army said on tuesday that four syrian men it had arrested after a suspected chemical attack in the town of ghouta had been killed the syrian observatory for human rights a britain based monitoring group said that at least one of the four men believed to be from the al nusra front was killed in a mortar attack on a military checkpoint near the city of qaraqosh in idlib province on friday it said the other two men were killed by',\n",
              " 'the rescue of another man by police after he was shot and killed by officers in ferguson mo on aug 17 2014 ap photo eric gay photo eric gay ap police in st louis said they were responding to a call of a shooting at a home in the 200 block of west 17th street around 2 30 a m sunday when they received a report of shots fired the victim who was pronounced dead at the scene',\n",
              " 'i m shocked and deeply saddened that they would now shut this company down weller said in a phone conversation today we were raising a series b to continue raising capital but then we had a buyer i m almost',\n",
              " 'the swiss national bank has scope to further relax its already ultra loose monetary policy of negative interest rates and foreign currency purchases chairman thomas jordan said on thursday we still have room to maneuver we can go to',\n",
              " 'a reform to cut the number of doctors who work in the nhs by more than 50 per cent is likely to be approved by the house of commons it would mean that at least 10 000 doctors would have to leave the profession in order to work and a further 1 500 would move to other professions the government has already announced plans to reduce doctors pay by up to 1 5m over the next five years david cameron has said he wants to see',\n",
              " 'the worst mysteries intentionally withhold key evidence so you could never possibly guess the solution in other words they cheat for more on this i recommend this excellent though very long video takedown of the bbc series sherlock',\n",
              " 'drugmakers say they are under pressure to provide more than 100 million in funding to help the national institutes of health nih and other government agencies in the fight against hiv the nih and the department of homeland security dhs have been working together since 2009 to develop a new hiv prevention strategy the new strategy is designed to reduce the risk of transmitting the virus to hiv infected people who have not been tested for the disease according to the centers for disease control',\n",
              " 'the rebel fighters yanked hulda out of a cupboard where she was hiding with her head in the corner of the room if you want me to kill you she said i ll take you to the city hulda looked up at the sky it was full of stars she had no idea what to do with it but she couldn t help but think of it as a place where the sun was shining where life was abundant and where people were',\n",
              " 'lesbian couples and single women who want to bear children should have access to medically assisted reproduction treatments such as in vitro fertilisation france s highest bioethics body said on tuesday the topic has stirred up political debates in france which legalised gay marriage in 2013 in the face of opposition from the more conservative parts of the country where the',\n",
              " 'without the federal payments those consumers will have no choice but to pay higher prices it s going to be very hard for consumers to get access to high quality health care because of the higher cost of health insurance he said',\n",
              " 'the bank booked a 198 million pound loan impairment charge much less than the roughly 500 million expected by analysts stanchart is attempting to show investors it can return to growth after a sweeping restructuring under chief executive bill winters succeeded in cutting costs but at the expense of',\n",
              " 'nigerian stocks dropped to a three month low after president muhammadu buhari said he would seek re election in 2019 ending months of speculation about his future after bouts of ill health the stock market which opened on a losing streak after lafarge africa announced a surprise 2017 loss worsened its decline the',\n",
              " 'while blockchain has made inroads in the financial world when it comes to the u s securities market much work remains to increase adoption a recent conference sponsored by the securities and exchange commission revealed outstanding issues in the adoption of blockchain the innovative distributed ledger technology dlt include',\n",
              " 'swaddling as a measure to keep babies calm and comforted was nearly unheard of a few years ago and you couldn t even buy a swaddle in the u s in 2002 dr karp is credited with kicking off the swaddle movement among parents and says he wanted to expand on his product offerings after not finding the kind of swaddle he wished were on the market for parents swaddling is the cornerstone for comforting babies he says but the current',\n",
              " 'reuters dna evidence has cleared a texas man of murder after a dna test showed he was the first person to be found dead in the state s history a forensic pathologist at the university of texas medical branch in austin texas carried out the test on the remains of a man who died of natural causes after being found with a gunshot wound to the head a spokesman for the u s bureau of alcohol tobacco firearms and explosives said on friday the',\n",
              " 'they view obesity as a complex chronic disease like cancer with many causes and symptoms he said however there is no scientific evidence to support the idea that obesity is caused by a number of factors including genetics lifestyle and environmental factors',\n",
              " 'syria s electrical grid has taken an big hit after six years of a volatile civil war with most the electrical infrastructure bombed dismantled or destroyed leaving hospitals relying on diesel generators but at the mercy of fuel shortages so the union',\n",
              " '5 million contract on thursday with a bulgarian swiss consortium af emg consult to build a nuclear power plant in the country the deal is expected to be completed by the end of the year',\n",
              " 'national political figures also expressed concern over the move saying that it was too early to say whether it would be implemented it s very early in the process and it s not going to happen overnight said a senior official familiar with the matter who spoke on condition of anonymity because he was not authorized to speak to the media there s a lot more work to be done',\n",
              " 'garrett camp uber s co founder and chairman is denying recent rumors that former ceo travis kalanick could regain his old job according to an email to employees that wasobtained by recode kalanick resigned as ceo in june after a group of investors pressured him to step down despite not having enough voting power to force him out it s time for a',\n",
              " 'like other global tech companies samsung has been hurt by a long running trade war between the united states and china and an escalating spat between japan and south korea is likely to pressure third quarter results outlook from the chip leader is closely watched by investors as a barometer for demand of smartphones and other electronics as well as servers that',\n",
              " '58 per diluted share or 0 58 to 0 65 per diluted shares a as of december 31 2013 the fair value of shares of common stock was 3 31 per share the fair values of the common shares were as follows in millions 2013 2012 2011 net cash provided by used in operating activities 1 097 1 089 2 186 3 859 4 363',\n",
              " 'docker is hosting its developer conference in seattle this week and showcasing the quickly growing ecosystem that has grown up around its container tools one of the companies on stage today was microsoft which announced that it is great expanding its support for docker containers by more deeply integrating it into a number of its enterprise and devops',\n",
              " 'it was his 35th homer of the season and he was on pace for a career high 25 rbis i m just happy to be back here said bumgarner it s been a while since i ve been here but i m excited to get back and be able to play a big role in this team',\n",
              " 'senior forward octavius ellis added 10 points and seven rebounds for the suns copyright 2014 by stats llc and associated press any commercial use or distribution without the express written consent of stats inc is strictly prohibited',\n",
              " 'vitamin d and calcium supplements do not appear to protect against bone breaks or hip fractures in adults over the age of 50 according to a new study reported on by the washington post why it matters fractures related to osteoporosis can have social and economic impacts that as the world s population ages are expected',\n",
              " 'the sources asked not to be identified because details of the investigation are not known in a statement the department of homeland security said the department continues to cooperate fully with law enforcement authorities in their investigation of this matter and will continue to do so in accordance with the law',\n",
              " 'why it matters those advances are important but life isn t a game ai progress outside of these areas has been harder to define and track the most important thing for ai is to go from exceptional promise to use in actual everyday life martial hebert director of the robotics institute at carnegie mellon university',\n",
              " 'ceo sundar pichai has agreed to make some policy changes but employees are pushing for more they ve pressured the company to ban mandatory arbitration clauses in labor contracts and supported efforts to improve pay and benefits for contract workers now employees say some of them are paying a price for speaking out my manager started ignoring me my work was given to other',\n",
              " 'investors in hyundai motor group companies are due to meet on friday to vote on u s hedge fund elliott management s demands for a massive special dividend and board makeover in the latest case of shareholder activism in the asian country south korea has been trying to make its family run corporate giants long dominated by powerful elites affording minority investors little say more accountable under pressure from foreign investors and following a bribery scandal last',\n",
              " '81 million from 350 million a year earlier while analysts were expecting earnings of 258 million zlotys which did not took into account tax changes that impacted the company s profit employee s capital pension scheme ppk backed by prime minister mateusz morawiecki was criticised by many ministers in the law and justice government as well as by the central bank and the financial',\n",
              " 'tele columbus ag said on tuesday it has announced launch of syndication for a 125 million euros 142 05 million new first lien term loan b add on said expects the transaction to be closed by',\n",
              " 's government earlier this week imposed a seven year ban on zte for failing on commitments it made last year after it was exposed for selling products to iran and north korea in violation of u s sanctions shares in the massachusetts based acacia communications plummeted 36 percent monday the company generated 30 percent of its total revenue from the chinese manufacturer in 2017 zte admitted to illegally shipping the telecoms equipment last year and',\n",
              " 'djurslands bank a s fy net interest income 165 2 million danish crowns 23 7 million versus 170 2 million crowns year ago fy pre tax profit 91 9 million crowns versus 73 4 million crowns year ago fy loan losses 20 9 million crowns versus 42 2 million crowns year ago proposes 2016 dividend of 7 crowns per share source text for eikon further company coverage 1 6 9700 danish crowns gdynia newsroom',\n",
              " '4 billion blue harbour group lp said esg factors are integrated into every investment the activist hedge fund firm makes using esg is a new paradigm for smart investing robbins told reuters on monday night at a party atop the peninsula beverly hills hotel it reduces risk and improves investment outcomes social and environmental change through business is a core theme of the milken confab which features panels on ethical investing and related topics the milken',\n",
              " 'melbourne reuters maria sharapova craves tough fights against top players something she has been denied in the recent years after her ranking plummeted due to doping and injury problems the former world number one said on friday the five times grand slam winner ousted defending australian open champion caroline wozniacki 6 4 4 6 6 3 with her aggressive brand of tennis and wore a black crop top to',\n",
              " 'saturday night live aired a number of times during the past few years including on the comedy central show late night with seth meyers and in an episode of the late show with stephen colbert the show also aired on hbo s real time with bill maher in 2012 and on last week tonight with jay leno on sept 11 2012',\n",
              " 'the annual forbes celebrity 100 list also saw soccer stars lionel messi cristiano ronaldo and neymar among the top 10 along with british singer songwriter ed sheeran and 1970s soft rock band the eagles who embarked on a new tour in 2018 west the husband of kim kardashian returned to the list after a four year absence forbes estimated his pre tax earnings',\n",
              " 'france s main farm union called early on wednesday for protestors to continue a blockade of refineries and fuel depots after the government failed to ease their concerns we have worked a lot but we did not get enough we are disappointed given farmers involvement christiane lambert head of the fnsea which organised the protests said after meeting with agriculture minister stephane travert she called farmers to hold blockades until at least the morning talks',\n",
              " 'we expect the western world to lighten turkey s burden you can build a wall but it s not a solution that wall will come down like the berlin wall he said adding turkey has spent some 26 billion on',\n",
              " 'people familiar with the company say investors valued gimlet at 55 million pre money that is it s worth 70 million now and that the 80 person company is on track to generate something in the range of 15 million this year gimlet had previously raised 7 million more details on the round including a bold face name or two below but let s pull back a second and explain why we re telling you about a funding round unlike web',\n",
              " 'viva energy reit ltd acquisition of 8 service station properties for a purchase price of 89 1 million 80 million fully underwritten institutional placement and a non underwritten security purchase plan spp of up to 10 million to follow revised distributable earnings per security guidance for year ending 31 december 2017 of 13 2 cents proposed equity raising and acquisitions since ipo are expected to generate accretion to fy18 distributable earnings per security recently secured an additional 60 million three year bilateral debt facility',\n",
              " '9 and the highest since june 2015 when the index reached the same level before that it was only higher in october 2001 the brits decision to leave the eu only seems to have caused temporary uncertainty among german consumers gfk researcher rolf buerkl said that contrasted with the latest business climate index from the ifo institute that showed morale among german company executives deteriorating sharply with brexit risks clouding their outlook consumers were',\n",
              " 'iran will secure the strait of hormuz and not allow any disturbance in shipping in the key oil transport waterway iranian deputy foreign minister abbas araqchi said on tuesday during a visit to paris the',\n",
              " 'webster financial corp webster financial says recorded 1 time revaluation adjustment to net deferred tax assets during quarter ended dec 31 2017 of about 20 9 million sec filing webster financial net effect of reduction in deferred tax assets change in state deferred tax',\n",
              " 'boris johnson the front runner in the race to become britain s next prime minister has said he is looking forward to working with the eu i m very happy to work with them he told bbc radio 4 s today programme',\n",
              " 'at the end of the last match i found my rhythm a little bit i knew i had to play a little bit',\n",
              " 'vox sentences is written by a writer who has worked in the industry for over 20 years he is currently an assistant professor of political science at the university of illinois at urbana champaign see also',\n",
              " 'barack and michelle obama are in talks with netflix to do a series of high profile shows on the platform the new york times reports why it matters per the times these shows',\n",
              " '92 reais a share according to a report by the financial times it said that as a result of the global financial crisis in 2008 09 the share of global gross domestic product gdp fell by 1 4 percentage points to 6 1 per cent in 2012 from 7 2 percent a year earlier and by 2 9 percentage point in 2011 12 from 9 3 percent',\n",
              " 's 919 millibars and was among the five strongest storms by sustained winds at landfall 155 mph electricity losses as of 6am this morning there were 359 306 accounts without power according to florida state officials per cnn add that to losses in georgia and alabama and the total number of customers without power is over 500 000 oil and gas evacuations of gulf of mexico oil and gas platforms led to 42 of gulf oil production and 32 of gas production being shut in as',\n",
              " 'marshall wace on thursday has raised its net short position in ubi banca to a 1 36 percent stake from 1 27 percent a filing by market regulator consob showed the italian post office denied on sunday a report it was interested in merging with troubled tuscan lender banca monte dei paschi di siena the company said it',\n",
              " 'after that you also need the analytics tools to make all of this data useful today it s microsoft turn to shine the spotlight on its data analytics services the actual news here is pretty straightforward two of these are services that are moving into general availability the second generation of azure data lake storage for big data analytics workloads and azure data explorer a managed service that makes easier ad hoc analysis of massive data volumes microsoft is also previewing a',\n",
              " 'family members of the koreans missing or killed began arriving in the hungarian capital some covering their faces as they made their way through the arrivals terminal they were met by embassy staff and driven off in black vans a crane ship was docked near the wreck in preparation',\n",
              " 'lead guitarist gary rossington ronnie s brother and current lead singer johnny van zant and others contend that street survivors the true story of the lynyrd skynyrd plane crash based on recollections of former drummer artimus pyle violated a 1988 consent order governing the use of the band s name the lawsuit against pyle and co defendant cleopatra records inc was made public on friday in the u s district court in manhattan a',\n",
              " 'texas measures criticized as being discriminatory for limiting transgender people s access to bathrooms in schools and public buildings died on tuesday as the house adjourned and ended its special legislative session business leaders and civil rights groups had battled to defeat the bills saying they advanced bigotry would tarnish the state s image and damage its economy the measures were blocked by moderate house republicans adoption by texas the most populous republican dominated state could have fed',\n",
              " 'researchers poring through records from a tennessee clinic found that a large percentage of anaphylactic shock cases were sparked by an allergy to alpha gal a complex sugar found in red meat according to a report in annals of',\n",
              " 'japan s biggest retail group seven i named ryuichi isaka the head of its 7 eleven convenience store chain to lead the overall company following a failed attempt by his predecessor to oust him from the firm a source familiar with the matter said on tuesday markets will be watching to see whether isaka credited with driving the',\n",
              " 's markets regulators will tell lawmakers this month as a result of the recent regulatory action taken by the federal trade commission ftc we will not be able to provide consumers with the information they need to make informed decisions the ftc said in a statement',\n",
              " 'the burgeoning appetite for u s crude among asian refiners could be a boon for bakken crude especially when the dakota pipeline starts up that line can carry 470 000 barrels per day of oil from north dakota s bakken play to the gulf the starting',\n",
              " 'so why aren t democrats acting like they re doing the same thing the answer of course is that they don t want to be seen as the party that s doing it it s not just that democrats are not doing what they say they are doing it s also that the democratic party isn t doing as well as it should be',\n",
              " 'nxp semiconductor which made headlines recently after entering into an agreement to be acquired by qualcomm unveiled a series of new products today that make it clear why they were a high value target for the mobile chip giant each of three new products nxp announced today promises to advance tech related to self driving vehicles in the autonomous car market nxp revealed a new microcontroller product for use with vehicle radar that will supply four times more',\n",
              " 'the european commission on wednesday cleared the pool equipment joint venture of spain s fluidra the country s largest chemical company the commission said that it had not yet decided whether to approve the contract which is expected to be completed by the end of the year or to reject it',\n",
              " 'epam systems inc qtrly revenues increased to 298 3 million a year over year increase of 62 2 million or 26 4 percent q3 non gaap earnings per share 0 76 q3 gaap earnings per share 0 49 total number of delivery professionals increased 36 2 to 19 070 as of end of q3 of 2016 q3 earnings per',\n",
              " 'sergei gorkov head of russian state development bank veb said on thursday that the bank had taken a decision to close its doors gorkov said the decision would not affect the russian economy but that it would be a positive step for the country',\n",
              " 'how do you reconcile your love for someone with the revelation that they have behaved badly she asked i do know that this reckoning that so many organizations have been going through is important and long overdue and it must result in workplaces where all women all people feel respected lauer is the latest',\n",
              " 'clariant s fourth quarter sales and operating profit fell as the swiss specialty retailer s share price fell in the past few months we have been seeing a significant decline in sales which has been driven by a number of factors said macquarie capital markets analyst james hirsch in a note to clients on wednesday we expect this trend to continue over the next few quarters as we continue to look for new ways to grow our business and expand our portfolio',\n",
              " 'scottish conservative leader ruth davidson said on monday she would not support a brexit deal which failed to deliver full control over fish stocks and vessel access that we now have to wait until 2020 to assume full control is an undoubted disappointment said davidson who leads british prime minister theresa may s party in scotland having spoken to fishing leaders today i know they are deeply frustrated with this outcome i should make it clear today that i will not support',\n",
              " 'press secretary sarah sanders said wednesday that the u s government would continue to take the lead in the fight against climate change we re going to continue working with our partners and partners around the world to make sure that we have the resources we need to protect the planet sanders told reporters at the white house',\n",
              " 'this is awesome keselowski said we ve ran so good here with the miller lite ford but something always happens and we haven t been able to bring it home martinsville',\n",
              " 'even with a first quarter drop of around 10 percent samsung s chip operating profit is expected to be nearly five times that of sk hynix the world s no 2 chipmaker also happens to run the world s biggest smartphone business giving it a captive customer for its chips that none of its rivals have this is a safehouse they can go to said avril wu an analyst at research firm trendforce healthy initial sales for samsung s new flagship galaxy',\n",
              " 'kirkegaard the lead author is a graduate student at aarhus university in denmark the university notes kirkegaard was not working on the behalf of the university and that his actions are entirely his own responsibility update the original version of this',\n",
              " 'all but trademarked the phrase comes from francis fukuyama s book of the same title published in 1992 and based on a 1989 essay in the neoconservative foreign policy journal the',\n",
              " 'sponsored workshop opening in bahrain on tuesday aimed at showcasing the economic benefits a peace deal could bring angered by what they condemn as washington s pro israel tilt and focus on economics rather than their push for an independent state palestinian officials are boycotting the peace to prosperity business workshop here are some of the steps trump',\n",
              " 'google has begun building out the next phase of its advertising business around its ability to track users locations in real time driving the news the company has begun publicly talking about its next big moneymaker',\n",
              " '4 the poll took place ahead of reports that he was considering a run for the white house in 2016 trump s campaign manager kellyanne conway told cnn on monday that the poll was a very very small sample size and that it was not representative of the american people',\n",
              " 'moscow reuters the russian parliament on wednesday gave its overwhelming backing to a draft law that would ease some penalties for domestic violence alarming women s rights campaigners who fear it will encourage abuse the law which the state duma or lower house',\n",
              " 'just 19 of french people approve of president emmanuel macron s performance since he took office in may 2017 according to a new poll reported by bloomberg the big picture the figure is',\n",
              " '9 billion funding request and angering the white house it s not going to be easy but it will be worth it obama said',\n",
              " 'they also asked whether investors can understand the risks and how to address concerns that bitcoin markets could be manipulated bit ly 2dpxsaj there are a number of significant investor protection issues that need to be examined before sponsors begin offering these funds to investors said the letter signed by dalia blass the sec s director of the division of investment management bitcoin s',\n",
              " 'nasa on thursday named nine u s companies including lockheed martin corp that will compete for funding under the space agency s renewed long term moon program a private public undertaking to develop technology that will explore the lunar surface the companies some which will develop small launch vehicles and',\n",
              " 'over the weekend saudi police arrested an astonishing 11 princes along with dozens of other officials and businessmen at the direction of bin salman and his father king salman nominally the arrests are part of an anti corruption drive spearheaded by the prince widely known as mbs but many experts say what s really happening is the',\n",
              " 'the mainport cedar which the u n humanitarian organisation said was carrying a cargo of humanitarian relief supplies bound for the houthi controlled port of hodeida was diverted by the coalition to the saudi port of jizan on feb 11 brigadier general ahmed asseri the coalition s spokesman said the communications equipment was similar to that used by the houthis had been discovered on the ship during an inspection and had not',\n",
              " 'marathon petroleum corp marathon petroleum corp announces incremental 3 billion share repurchase authorization marathon petroleum corp authorization is in addition to its previous authorization which',\n",
              " 'the team led by cs grad students adam lerner and anna kornfeld simpson have spent the past two years working on the project it s the first time we ve really been able to do something like this lerner said we ve had a lot of great feedback from the community and we re really excited to see what we can do in the future',\n",
              " 'white house press secretary sarah sanders told reporters on tuesday afternoon that she can t guarantee that the president has never used the n word but said that she has never heard him say it key quotes sanders accused omarosa of trying to tear this entire place down and blamed the press for providing a large platform to someone they know not to have a lot of credibility she did not reveal whether or not she had signed an nda but pointed out that the practice is',\n",
              " 'edf faces new cost overruns san diego the san diego unified school district on tuesday announced that it will have to pay 1 5 million to settle a lawsuit brought by a former teacher who claims he was fired because he refused to participate in a teacher training program for african american students the lawsuit filed in federal court in los angeles alleges that the district failed to provide adequate training for teachers and that teachers who teach children of color were not trained',\n",
              " 'shinzo abe is due to host other leaders of the group of 20 economies in the japanese city of osaka on june 28 29 ghosn who holds french lebanese and brazilian citizenship is facing financial misconduct charges and has said he is the victim of a boardroom coup accusing backstabbing former colleagues of conspiring to oust him as nissan chairman carole ghosn said she had not spoken to',\n",
              " 'opec has again proposed to move dates of its next meeting now suggesting july 1 2 two sources familiar with the matter said as saudi arabia iran and non opec russia are struggling to agree a compromise previous proposals included dates for a meeting of the organization',\n",
              " 'colombian president juan manuel santos has said that his government will sign a final peace deal with the country s biggest rebel group within a month i think that by july 20 we will able to close negotiations in havana santos said referring to the peace talks currently taking place in cuba with the revolutionary armed forces of colombia or farc after that the country will enter into a new era the',\n",
              " 'one of silicon valley s buzziest and most important players in the internet of things iot space it s called iot it s the next big thing in iot and it s going to change the way we live work and interact with our homes and businesses the idea is to make it possible for iot to be used for everything from cars and buses to medical devices to smart watches and smart phones iot is the future of connected connected homes where',\n",
              " 'combined with large scale security incidents like heartbleed web users were continually asked to change their account passwords after these types of incidents occurred however not only is changing your password a bit of a hassle it s also difficult',\n",
              " 'in reality the picture isn t nearly that simple but it is clear that tech industry driven initiatives are driving the agenda for today s carmakers and it s pushing many of them into uncomfortable positions it turns out however that in spite of the importance of this critical evolution of automobiles this is one of those issues that s a lot harder to overcome than it first appears part of the',\n",
              " 'while the skater has been keen to focus on the competition at pyeongchang saying he did not want the issue to become a distraction for his team mates at the games he has also refused to retreat into his shell i came here and i wanted to show the world who i was on and off the ice i wanted to go out there and show that i am a serious athlete he said but at the same time have fun and show everybody who',\n",
              " 'south korea plans to file a criminal complaint against the head of volkswagen ag vowg_p de and audi ag s local unit later on tuesday saying that a recall plan for emissions cheating cars fell short of legal requirements the complaint to be filed by the environment ministry against johannes thammer managing director of audi volkswagen korea is the latest in a flurry of legal actions around the world against volkswagen after it admitted in september to falsifying u s emissions tests on some of its',\n",
              " 'companies such as espn activision blizzard and electronic arts have formed their own e sports divisions in recent months and the gaming market exceeds 90 billion up 9 percent in the last year it is bigger than the movie industry and predicted to expand with new emerging platforms like vr greylock investment partner josh elman talked to discord ceo jason citron about the e sports industry lessons learned from pivoting viral growth and why the pc still matters for gamers when jason',\n",
              " 'marie brizard wine and spirits sa reinforces its distribution network on several key markets united states china morocco great britain poland in the united states consolidates partnership with southern glazers wine spirits in 30 states and across all its portfolio with the',\n",
              " 'president barack obama on tuesday urged congress to take action to combat climate change it is time for us to act obama said in a speech at the university of california berkeley we must stop the carbon pollution that is destroying our planet we must act now to address the most pressing challenge facing the united states of america the climate crisis',\n",
              " 'from january any carbon permits issued by britain will have to be identified by a country code marked the commission said the transfers of permits already in circulation in and out of accounts held by uk operators will not',\n",
              " 'especially major championships are played on the toughest courses and you start to chase on those really tough courses it s hard to do that the majors that i ve won i ve started every single one of them really well runs in sort of the mid 60s and i think that s sort of what s held me back a little bit in his other win this season at the players championship mcllroy underscored his front runner status when he opened with rounds of 67 and 65 and took the pressure',\n",
              " 'the project has sparked violent clashes between security officers near the construction site and tribe members and other protesters opponents say the project will damage burial sites considered sacred to the tribe and pollute the area s drinking water energy transfer partners which is',\n",
              " 's hotels affected were all in hawaii with the remaining 38 scattered around the world china had the most trouble in a statement hyatt said it has taken steps to strengthen the security of its systems and customers can feel',\n",
              " '19 billion citing a reduction or delay in spend from a significant portion of medical customers baidu said its move to reduce the number of sponsored links on its platform to improve user experience also weighed on its forecast regulatory authorities continue to review the online marketing practices of medical pharmaceutical healthcare and other similar businesses and have also implemented stricter advertising regulations for medical organizations baidu said the company however added that it expected to recover business from high quality medical customers gradually as',\n",
              " 'iag said in january that it would not bid for norwegian and planned to sell its 3 93 shareholding in the company norwegian subsequently raised 3 billion norwegian crowns 351 million to shore up its finances norwegian has shaken up long haul rivals by offering cut price transatlantic fares but its rapid expansion has left it with hefty losses and high debts we do not think that in norwegian s current state the debt ridden airline can hope for a white knight',\n",
              " 'katie walsh the republican operative who was a longtime staffer to reince priebus is exiting her white house job of deputy chief of staff politico first reported on thursday citing anonymous white house sources she s expected to work on outside efforts',\n",
              " 'she also serves on the board of directors for the international association of privacy professionals zefo s appointment is part of the company s recent mission to move past an embarrassing data breach as well as other weak privacy practices employed by former ceo travis kalanick who resigned last year after a string of scandals in april uber expanded a proposed settlement made with the federal trade commission pertaining to data mishandling privacy and security complaints that date back to 2014 and 2015 that proposed',\n",
              " 'ardian is working with rothschild and jefferies on the sale and has approached healthcare groups such as stada stagn de mylan myl o and shanghai pharma 601607 ss as potential buyers as',\n",
              " 'fixes typo moscow aug 30 reuters syria s foreign minister said government forces will go all the way in the rebel held northern region of idlib and that damascus s main targets were al nusra militants minister walid al moualem speaking after talks with his',\n",
              " 'an oil tanker chartered by taiwan s state oil refiner cpc corp to carry fuel for its 2 000 metre long 1 300 foot hainan jetliner was shot down over the taiwan strait on thursday taiwan s coastguard said the plane was carrying 1 500 tonnes of crude oil and 2 5 million liters of diesel fuel it said it was investigating the cause of the crash but did not give further details the',\n",
              " 'safeguard scientifics inc safeguard scientifics announces second quarter 2017 financial results the company announced that it will invest 1 1 billion in a new research and development center in fort worth texas the center which is expected to be completed by the end of the year will be the first of its kind in the u s and will provide scientific and technical support to research institutes the company also announced a 50 million investment in an investment',\n",
              " 'investment banking conditions have improved over recent months but remains very fragile ubs chief executive sergio ermotti said on thursday adding the swiss lender s own business was performing in line with the industry in march we started to see a normalization of the environment if i look at march april and may the situation has clearly stabilized and improved although from a very low base ermotti said at the goldman sachs european financials conference',\n",
              " 'following two accusations of inappropriate touching against joe biden a number of democrats including those who worked with him in the obama administration and before are coming to the defense of the',\n",
              " 'we re not overdoing it or getting out of position sometimes it s a little bit of both u s president donald trump speaks during a news conference in the oval office of the white house in washington d c on july 20 2017 reuters carlos barria',\n",
              " 'the u s and india agreed thursday to open a secure military communications hotline the move could allow the u s to sell india sensitive defense technology including armed surveillance drones reports reuters the big picture secretary of state mike pompeo and defense secretary jim mattis are in new delhi for 2 2 talks with their indian counterparts per pompeo the agreement marks a major milestone in the bilateral relationship as both the u s and india seek to counteract',\n",
              " 'shortly after announcing the news the panthers announced that they would not be renewing their contract with the team i m not going to comment on that coach ron rivera said i don t know what that means but we ll see what happens',\n",
              " 'mississippi until the conclusion of the minor league playoffs 3b rio ruiz will remain with triple a gwinnett until the playoffs end smith and ruiz will both be brought up at that time manager brian snitker said 3b rio ruiz will remain with triple a gwinnett until the playoffs end and then',\n",
              " 'bulgaria meets the nominal criteria to adopt the common currency with low inflation healthy public finances and its lev currency already pegged to the euro but it is also the eu s poorest country and widespread graft and troubles at some of its banks have cast a shadow over its prospects of joining euro zone finance ministers agreed on the timeframe for bulgaria s next',\n",
              " '4 million barrels the largest annual growth in at least five years according to data from korea national oil corp demand for the transport fuel is expected to strengthen another 1 5 to 4 percent this year said analysts from fge and bmi research diesel technology has been promoted internationally to address climate change because though high in nitrogen oxide emissions it is low in carbon',\n",
              " 'reuters shares of indian miner vedanta ltd closed at their lowest in nearly 2 1 2 years on friday hit by concerns over an investment in african miner anglo american plc vedanta said bit ly 2tpgnrv on thursday its foreign subsidiary cairn india holdings',\n",
              " 'global partner acquisition corp global partner acquisition corp and purple innovation llc announce definitive agreement with coliseum capital management for 65 million of committed equity and debt investments global partner acquisition agreement with coliseum capital for combination between gpac and purple to buy aggregate of 40 million of shares of gpac global partner acquisition corp says to make an additional 25 million investment in purple in form of unsecured debt source text for eikon further company coverage',\n",
              " 'russian lawmakers approved draft legislation that would make it a jailable offense to call on teenagers to attend unauthorized street protests a move kremlin',\n",
              " 'the troubles range from corruption allegations related to the infrastructure built for the olympics to the country s acute economic crisis that is impacting both the organization of the event and the city s services there are also concerns about possible terrorist attacks as well as a renewed focus on the city s long standing security problems that range from rampant rates of common crime to the large numbers of people killed by police officers',\n",
              " 'while the grammys are undoubtedly an awards show the live telecast of the awards ceremony is really just about the music only nine actual awards were doled out during sunday s event with the other 75 distributed earlier in the day off camera what else happened in the three and a half hour',\n",
              " 'he proposed banning muslims an entire religious group from entering the us he argued that a federal judge overseeing the trump university lawsuit should be disqualified because of his mexican heritage he called elizabeth warren a sitting us senator pocahontas he proposed nationwide implementation of stop and frisk a policing tactic that was deemed unconstitutional in new york city because it targeted minority residents those ideas attracted exactly the crowd you would think surveys found that trump',\n",
              " 'spain vehicle manufacturing association anfac says new car sales in spain rose 4 6 percent last year is there a chance that spain will overtake the u s as the world s largest car importer what is the best way to keep up with the demand for new cars in the united states what s the most important thing you can do to improve the quality of your driving experience in this country',\n",
              " 'a lack of wage pressures has been a thorn in the fed s side as it seeks to raise interest rates despite the u s labor market nearing full',\n",
              " 'product discovery and reviews platform influenster has raised 8 million in financing from ebates a leading online cashback shopping service ebates is a subsidiary of rakuten the multi billion dollar',\n",
              " 'immigration appeared in just 0 3 of all mentions of the top five polling democrats between march 17 and june 16 according to twitter data shared with vice news the relative silence continued last week as the situation on the southern u s border spiraled that leaves a giant opening for democrats wednesday night who have an opportunity to define it on trump s favorite communications platform these data show us this is where the big opportunity is tonight',\n",
              " 'british police said on sunday they would not be investigating the case the incident was reported at about 11 30am local time 0330 gmt by a woman who said she had seen a man with a knife in the area the woman who did not want to be named said the man had told her he wanted to kill her and that he was going to stab her she said he then asked her if she was a muslim and she replied yes i am',\n",
              " 'merck s acts are even more egregious because the main perpetrator of its misconduct was its attorney she said in a statement merck spokeswoman lainie keller said gilead s allegations against the patents are without merit and the company would appeal the judge s ruling does not reflect the facts of this case gilead feels vindicated by the decision spokeswoman michele',\n",
              " 'president trump announced tuesday that he had fired fbi director james comey who had been leading the bureau s investigation into russian meddling in the 2016 election i want to make clear to all of you that i am deeply disappointed that the director of the fbi has not been able to lead the investigation of this matter trump said in a statement i look forward to working with the president and his team to bring this investigation to a swift conclusion the white house did not immediately respond',\n",
              " 'a jihadist group linked to the former branch of al qaeda in syria claimed responsibility for shooting down a russian su 25 warplane with a shoulder launched anti aircraft missile the group tahrir al sham released a statement on social media quoting a commander in charge of its',\n",
              " 'starbreeze ab successfully completed a directed share issue of 16 452 991 new b shares at a subscription price of 23 40 crowns share issue raised 385 million swedish crowns',\n",
              " 'turkey s central bank would be more sensitive to incoming data in the short run and its policy stance would be revised upon detection of changes in the inflation outlook according to the minutes of last week s policy meeting released on wednesday the bank also said that leading indicators for october pointed out that food inflation was yet to increase according to the minutes of last week s meeting',\n",
              " 'british prime minister theresa may will work tirelessly to get a brexit deal her spokeswoman said on friday after may s plan to leave the european union was crushed in parliament for a second time this week and lawmakers voted to seek a delayed departure she s been working tirelessly to deliver a deal and she will continue to do that the spokeswoman said the spokeswoman added she was unaware of any',\n",
              " 'spanish sprinter bruno hortelano is to have another operation on his right hand on thursday in barcelona 10 days after undergoing reconstructive surgery on a serious injury suffered in a car crash in madrid a hospital statement said hortelano who won gold in the 200 meters at the european championships in amsterdam in july has been at barcelona s usp',\n",
              " 'i spoke to one of the officers who responded to the incident i m not going to lie to you i don t know what s going on here he said it s just a bad situation i m just not sure if it s a good thing or not it s not something that i want to talk about but at the same time we re trying to make sure that it doesn t happen again',\n",
              " 'houston reuters yu darvish had a nightmare of a world series debut on friday as the japanese right hander was sent to the showers early by a houston astros offense that hit everything the los angeles dodgers pitcher threw their way the astros were hitting pitches from the four times all star like it was batting practice and chased him from the game before the end of the second inning en route to a 5 3 victory that gave',\n",
              " 'about 5 percent of the population in the u s has at least one child under the age of 18 but according to the centers for disease control and prevention cdc more than half of children under age 18 live in poverty that s the highest rate of poverty among children in any age group',\n",
              " 'london reuters the united states and ukraine on thursday agreed to cooperate on defense technology and improve ukraine s forces in a move aimed at boosting ukrainian defense and enhancing u s assistance the pentagon said u s defense secretary ash carter also named naming a senior u s adviser to oversee the effort carter and ukrainian defense minister stepan poltorak signed the partnership agreement at a meeting in london in which they also discussed the',\n",
              " 'c oscar hernandez was sent outright to double a jackson on tuesday after being designated for assignment friday he played in 22 games with arizona the last two seasons and hit one home run rhp silvino bracho was optioned to triple a reno when rhp braden shipley was recalled from reno bracho pitched two scoreless innings mondayand',\n",
              " 'vehicles made by korean carmakers hyundai and hyundai motor co are expected to arrive in the u s by the end of the year according to a report from the automotive news service the report said hyundai which is the world s second biggest carmaker will be the first automaker to produce a vehicle with a fully automated steering wheel hyundai will also be responsible for the development and production of its own self driving car and will',\n",
              " 'it is overwhelmingly likely that britain reaches a brexit deal with the european union business minister greg clark said on sunday clark also said businesses should not give too much weight to possible negative brexit outcomes but added that citizens and businesses delaying decisions over brexit uncertainty could not be criticised reporting by william james writing by kylie maclellan editing by andrew macaskill',\n",
              " 'he has already missed the abu dhabi championship and on monday pulled out of next week s dubai desert classic now the northern irishman aims to come back at the wgc mexico championship on march 2 more than six weeks after he fractured his rib on jan 13 i m trying to get back for mexico said mcilroy',\n",
              " 'indications of interest for greece s five year euro benchmark bond sale are over eur5 5bn according to a lead that includes orders for the new issue as well as interest from holders of greece s 4 75 april 2019s who have been invited to tender their notes for cash at 102 60 plus accrued greece rated caa2 b ccc ccch has set guidance at 4 75 area it started taking indications of interest at 4 875 area earlier on tuesday morning the bond is expected to price later today via joint lead managers bnp paribas bank of america merrill lynch citigroup',\n",
              " 'voicetel communications sa said on monday that it signed a deal with the owner of comperia pl for the partial automation of telephone customer service the 30 month contract will generate the remuneration of 0 6 million zlotys net 156 200 for voicetel communications source text for eikon further company coverage 1',\n",
              " 'cbs corp cbs n said on wednesday it retained two law firms for a full investigation into the allegations about chairman and chief executive leslie moonves cbs news and cultural issues in the company the board has also set up a special committee to help the probe and moonves will have no role in the investigation cbs said in a statement the investigation by the law firm debevoise',\n",
              " 'former botswana president ian khama quit the ruling party on saturday as a policy feud with his hand picked successor deepened threatening to split the party that has ruled the country since independence in 1966 khama handed power to his then deputy mokgweetsi masisi last year after serving as president',\n",
              " 'gulf coast and set sail to pdvsa s bullenbay terminal on the caribbean island of curacao it is scheduled to arrive on april 28 another three tankers loaded with crude and dirty products loaded on the u s gulf coast are waiting to discharge at bullenbay amid a backlog of vessels around some pdvsa s ports due to equipment failure at its main oil terminal jose the aframax tanker krymsk sent by bp as first delivery from the light crude tender has been waiting to discharge since',\n",
              " 'an italian court on thursday rejected a claim filed by a man who said he was beaten to death by two men in his home in the southern italian city of bologna the man who cannot be named for legal reasons said the men attacked him after they tried to break into his house he said they forced him to lie on the ground and beat him until he fell unconscious the man was taken to a local hospital where he later died of his injuries the court said',\n",
              " 'we are not yet where we want to be federal communications commission chairman tom wheeler said wednesday at a meeting of industry executives who have been working on the issue since august we ve not reached the goal we need solutions now the strike force said it would report back by early 2017 on strategies for blocking unwanted automated calls but wheeler wants commitments and timelines to',\n",
              " 'a martial eagle from south africa s kruger national park that starred in the british wildlife series fierce has been killed by subsistence hunters in mozambique researchers who helped tag the bird said in a statement on monday the 4 6 kg 10 pound bird made her television debut in june to highlight efforts by scientists looking to stem the decline of martial eagles africa s largest eagle species we detected that the bird was no',\n",
              " 'tokai pharmaceuticals inc intends to evaluate its ongoing armor2 expansion in mcrpc patients with acquired resistance to enzalutamide tokai pharmaceuticals announces clinical update company to discontinue phase 3 armor3 sv trial of galeterone in ar v7',\n",
              " 'andy rubin s startup essential unveiled its new gear vr headset this week the device is powered by a qualcomm snapdragon 835 soc and features 4gb of ram and 32gb internal storage it s available for pre order now from amazon com google play and other retailers',\n",
              " 'strattec security corp strattec security corp says effective as of march 27 co s unit entered into a fifth amendment to its june 28 2012 credit agreement sec filing strattec security fifth amendment temporarily increases maximum',\n",
              " 'but the significance of the deal goes way beyond the mere provision of emergency power and it is likely to become a political football in australia s wider energy debate broadly speaking australia s energy debate is becoming polarised into two factions one in favour of using the nation s abundant coal as the main fuel and the other committed',\n",
              " '8 billion in cash for a 35 percent stake in juul one of the sources said the deal could be',\n",
              " 'istanbul may 23 reuters here are news reports and events that may affect turkish financial markets on wednesday the lira stood at 4 7775 against the u s dollar at 0530 gmt weakening from a close of 4 6746 on tuesday and having hit a record low of 4 8450 overnight bringing its declines so far this year to more than',\n",
              " 'he also noted that while the us is not going to take any action against north korea it will take action in the event of a nuclear attack the us will not be involved in any military action he said we have no intention of doing anything that could be construed as a threat to the united states or to any other country and we will do everything we can to prevent that',\n",
              " 'as china s economy hits its slowest growth in 25 years businesses are finding ever more cash tied up in unsold stock and unpaid invoices as industry shirks the pain of trimming capacity and struggling customers take longer to pay kpmg china partner fergal power who specializes in distressed companies says most chinese companies prioritized market share and revenue growth in the boom years with less discipline in managing working capital in china than we have seen in other markets the reuters',\n",
              " 'because cannabis remains illegal at the federal level the federal government can still crack down on pot even in states where it s legal under state',\n",
              " 'facebook ceo mark zuckerberg clarified his comments on the holocaust saying that the holocaust denial was deeply offensive and didn t intend to defend deniers reports recode the big picture zuckerberg took flack after saying facebook shouldn t decide what s true online including the legitimacy of the holocaust he said the goal isn t preventing people from saying untrue information but to stop the spread of fake news and misinformation',\n",
              " 'lopez obrador told a news conference the government had not established a date for the release of the detainees we have not yet decided whether to release them or not he said',\n",
              " 'an interior ministry spokeswoman told a news conference on tuesday that the government was working on a plan to provide a safe haven for migrants in the country we are working with our partners to ensure that this is not a situation in which we have to resort to violence she said',\n",
              " 'square enix is working with marvel on multiple games from the marvel universe starting with an avengers title as the first of its projects the game is being promoted with the hashtag reassemble and appears to center around the aftermath of the events of captain america civil war which likely means it ll either precede or coincide with the next avengers movie which is set for release',\n",
              " 'siemens reported weaker than expected industrial profit during its first quarter the german industrial group said on wednesday adding it still expected to complete its mega rail merger with france s alstom in the first half of this year siemens reported a',\n",
              " 'spacex had launched as planned on january 7 in its target window and recovered the first stage of the booster with a landing at its cape canaveral facility because of the nature of the mission coverage and information regarding the progress of the rocket and its payload from then on was not',\n",
              " 'plains pipeline lp set a new committed rate of 3 5 million barrels per day bpd per year for the next five years this is a much higher rate than the current high of 2 4 million bpd that was set in the 1990s in addition the company plans to increase the capacity of the pipeline to 4 2 million bpd by the end of 2017 the company expects to double the amount of capacity that will be required to meet the new commitment',\n",
              " 'kuwait finance house agreed the terms of its deal with the european central bank which would allow the government to raise the minimum wage to 15 an hour by 2020 we are pleased to see that we have reached an agreement on a solution to the crisis finance minister yanis varoufakis said in a statement we will continue to work with our european partners to ensure that this will be the case for the next five years',\n",
              " 'yet his government has made progress elsewhere most notably in the power sector where change is reaching distressed rural communities in uttar pradesh who will go a long way to deciding the outcome of the 2017 ballot it was the prospect of tangible change that voters chose in 2014',\n",
              " 'the problem isn t that ai will suddenly decide that you re not smart enough to do anything the problem is that we re talking about a machine that doesn t know what it s doing in other words ai can t be smart because it won t understand what you want to know it s not going to understand how to solve a problem if you don t have the ability to think you ll never be able to make a decision and if you do have that ability',\n",
              " 'volkswagen s porsche unit on sunday said it was cooperating with state prosecutors to clear up investigations into alleged tax debts related to early retirees and taxable benefits enjoyed by former top executives a company spokesman said porsche had already responded to possibly anticipated tax payments via safety surcharges and lump sum payments the bild am sonntag bams newspaper said on sunday enforcement officers visited porsche premises late last year the paper said they were investigating paperwork related',\n",
              " 'french defense electronics group thales tcfp pa set out targets for further sales and profit growth over the 2018 2021 period and added it would increase spending on research as part of its plans to boost earnings and improve its business its targets outlined at a capital markets day for',\n",
              " 'this is a concierge style service where the employee will be an expert in helping you find a job employees will be given the opportunity to apply for a position in the new company and they will then be asked to fill out an application form and submit it to the company s hr department this process will take up to 24 hours with an additional 30 days to go before the start of the hiring process if you are interested in joining you will need',\n",
              " 'he said water conservation and irrigation both require a massive effort based on public participation the poor bear the brunt of insufficient water conservation efforts the statement cited modi as saying india s water demand is projected to be double its supply by 2030 and eventually shave 6 off gross domestic product niti said in the report asia s third largest economy is already seeing a slowdown in industrial output and manufacturing growth slumping car and two wheeler sales drops in airline passenger traffic and sluggish fuel demand growth modi said the goal',\n",
              " 'the leopard midi has become not just an but the item to own this season and the spotted look could be easily caught out in the wild walking around the subway grabbing mimosas on a patio or out grocery shopping at a farmers market everywhere you look the spotted midi seems to',\n",
              " 'data fed concerns that the world s biggest economy may be slowing down with export oriented auto stocks leading the decline and credit suisse tumbling after reporting a full year loss u s',\n",
              " '4 percent reading the latest available was well below the fed s 2 percent target this has kept the fed s rate setting committee known as the fomc on edge friday s data should provide some relief though it is unlikely to change the current policy bias to stay on the sideline at the march fomc meeting said millan mulraine an economist at td securities in new york fed policymakers put',\n",
              " 'august marks the third consecutive month of rising truck orders after u s heavy duty truck sales slumped to record lows the number of trucks in the united states has fallen by more than 30 percent since the end of 2013 according to the bureau of labor statistics',\n",
              " 'taubman centers inc land and buildings issues letter to taubman shareholders regarding violation of state and federal law land buildings and liability issues letters to u s department of housing and urban development hud regarding violations of federal and state laws relating to the construction and use of land and buildings as well as the use and sale of public land in violation',\n",
              " '3 percent the earlier government estimate of 2019 gross domestic product growth had also been 4 0 percent in 2019 the economy is expected to benefit from an anticipated increase in public',\n",
              " 'the investments by alphabet inc s googl o google its first in a four year period are the largest in u s history the 1 6 billion investment comes after alphabet announced it would invest 500 million to upgrade its mobile operating system android 4 4 2 google said it plans to use the money to expand the company s mobile business which is expected to grow at an annual rate of 2 3 percent this year',\n",
              " 'once you hit the three or four week mark you re just constantly exhausted the carr fire in northern california the largest and most destructive of 16 major blazes in the state is exhausting firefighting resources in what authorities are calling one of the worst and earliest fire seasons in years severe year round fires have been trending the past decade across the u s west according to the national',\n",
              " 'it s therefore noteworthy and a bit surprising that young people are more likely to have positive views of the country more takeaways attitudes toward china became sharply more',\n",
              " 'levy an internationally respected economist was brazil s finance minister during rousseff s government and later was managing director and world bank group chief financial officer until he accepted the job heading bndes brazil s lower house speaker',\n",
              " 'a snooping researcher managed to get a glimpse of the world s most secretive and secretive national security agency nsa program the nsa s prism program allows the government to collect data on millions of americans phone calls e mails and text messages according to the washington post the program known as prism is designed to spy on american citizens communications the program was first revealed by edward snowden in 2013',\n",
              " 'the union s announcement threw into doubt next month s resumption of league matches which have been on hold because of financial problems since feb 5 when argentina s summer break was originally due to end the argentine footballers union faa considers conditions are not right to begin the',\n",
              " 'the goal was to force the taliban to abandon their position of power the taliban are in control of the city of kunduz and they are taking advantage of this situation to build up their own power base he said this is not an isolated incident the taliban have been using the area as a base of operations for the past two years',\n",
              " '8 percent over 10 years and still cost about 1 trillion but the memo said the substance timing and growth assumptions of jct s dynamic score',\n",
              " 'washington reuters the senate armed services committee on wednesday approved a bill that would allow the u s military to spend up to 1 2 billion a year on cyber warfare the bill sponsored by sen john mccain r ariz and senate foreign relations committee chairman bob corker d tenn would authorize the department of defense to use a program known as the cyber intelligence sharing and protection act cispa which is part of the national defense',\n",
              " 'facebook is continuing its heavy handed approach to the situation the company s chief executive john donahoe said in a statement it is with great sadness that we have to inform our shareholders that the company has decided to discontinue all of its operations in the u s as a result of an ongoing investigation by the securities and exchange commission sec we would like to express our deepest condolences to our employees friends and family as well as the families of those',\n",
              " 'on saturday night it was putting everything together in one inning the astros used a four run third inning to build the lead and then held on for a 6 5 victory over the texas rangers',\n",
              " 'sri lanka has ordered the return of 213 containers of waste from britain after finding plastic and biological waste including suspected human body parts in the shipments government officials said on thursday sri lanka is',\n",
              " 'u s senators amy klobuchar and richard blumenthal introduced legislation on friday to allow harsher penalties for companies that violate antitrust law following a justice department probe into alleged anticompetitive behavior by big tech the monopolization deterrence act by the democratic senators would allow the justice department and the federal trade commission to seek civil penalties for monopolization offenses',\n",
              " '9 a reading above 50 indicates an increase in the pace of activity the unadjusted index however shrank to 49 4 from 54 7 the employment component led the adjusted gains climbing to 59 5 from 52 5 but growth in inventories was nearly stagnant at 55 4 from 55 1 while supplier deliveries contracted further to 44 7 from 47 3 growth in prices cooled to 57 5 from 59 7 reporting by',\n",
              " 'crisis hit indian property finance firm dewan housing finance corp ltd dhfl dwnh ns said here on monday it was working closely with its creditors and stakeholders on a resolution plan that would not require its lenders to take a haircut the statement comes after the shadow bank warned on saturday it might not survive as a going concern and reported a net loss of 22 23',\n",
              " 'malicious email campaigns have been used to gain entry into organizations in the united states turkey and switzerland and likely other countries well symantec said in a report published on wednesday',\n",
              " 'b m european value retail sa us 1 99 eu 2 95 00 us 5 50 eu 6 25 eu 8 75 us 12 10 eu 16 60 us 19 40 us 22 70 uk 26 30 uk 29 90 usa 32 80 usa 36 20 usa 40 15 usa 39 45 us 49 65 uk 59 85',\n",
              " 'thielen who is retiring at the end of this year is not expected to return until 2019 i don t think i m going anywhere he said i ve got a long way to go',\n",
              " 'the dollar rose 0 1 percent against a basket of six major currencies to 89 430 having pulled up from a low of around 88 43 set last week its weakest level since december 2014 analysts said a renewed rise in u s bond yields this',\n",
              " 'qualcomm also expects 3g and 4g device shipments to decline by 4 14 percent according to the company the company plans to expand its lte service to all u s markets by the end of the year',\n",
              " 'pilots at spanish airline air europa have set up a crowdfunding campaign to raise 100 000 to help the families of the victims the 24 year old woman who works as a waitress at a restaurant in the city centre was shot and killed by a gunman who opened fire on a group of passengers on board a flight from barcelona to madrid on sunday she was on her way to work when she was gunned down by the gunman and was taken to hospital with life',\n",
              " 'force majeure is a commercial term that means a buyer or seller cannot fulfill their obligations because of outside forces it is typically invoked after natural disasters or accidents australia is the world s biggest coking coal exporter and is china s largest supplier with markets there closed on monday and tuesday its steel makers are clambering to find alternative supplies markets may be closed monday',\n",
              " 'that s what makes emojifi interesting it lets you forego keyboard switching in favor of its pop up emoji bar which will offer suggestions as you type while emoji suggestions isn t an entirely novel idea the way emojifi is using tagging is something different gallery ids 1335717 1335715 1335714 1335713 1335712 to use emojifi you have to toggle it on in android s accessibility settings out of the box the app has a set of words tagged',\n",
              " 'it added 0 1 percent on monday now we re getting into desynchronised global growth some parts doing well some not so well bhp is pretty much linked to what happens in china said mathan somasundaram chief market strategist at cmc markets we re looking at a situation where the u s is potentially going to do',\n",
              " 'spacex nearly succeeded in catching the fairing used in its paz falcon 9 mission but it did so in less than three hours the rocket was able to take off from cape canaveral air force station in florida and land safely on the international space station iss it landed safely and the rocket is expected to return to earth in a few weeks',\n",
              " 'microsoft today announced that it has acquired the rights to make use of google play music in a blog post announcing the deal google said that the company is excited about the opportunity to bring google music to the masses and we look forward to working closely with our partners and fans to ensure that we deliver the best music experience for our users the company also added we are excited to partner with google to create a brand new music service that will allow users to listen to music',\n",
              " 'martha barcena rejected the so called safe third country agreement days after it was signed i don t think it is fair that we should enter into an agreement that is so far out of date she said',\n",
              " 'reuters health lack of knowledge among doctors about the risks of smoking and other health problems can lead to premature deaths according to a new study the study published in the journal of the american medical association jama and published online on wednesday also found that more than half of american adults who smoke are at high risk for premature death from smoking related diseases including lung cancer heart disease diabetes and diabetes mellitus as well as from cardiovascular diseases such as',\n",
              " 'pinterest has hired about 15 people from now defunct mobile advertising startup urx including its co founder and ceo the company announced today the move confirms recode s report from last month that pinterest was in talks to hire staff from the startup which was struggling to survive pinterest is not buying urx technology or other assets in the deal urx co founder and ceo john milinovich is joining pinterest as a product manager other urx employees are joining pinterest s product engineering product management',\n",
              " 'kerrisdale had previously criticised woodford backed biotech incubator allied minds calling its assets duds in a 2015 report and predicting its share price would fall by 67 percent allied minds stock tumbled in march after it pulled the plug on a number of investments we thought allied minds was a sloppy investment adrangi said woodford has made mistakes in the past and we have no problems being',\n",
              " 'the official purchasing managers index pmi stood at 49 4 in january compared with the previous month s reading of 49 7 and below the 50 point mark that separates growth from contraction on a monthly basis it is the weakest index reading since august 2012 analysts polled by reuters predicted a reading of 49 6 the pmi marks the sixth consecutive month of factory activity contraction underlining a weak start for the year for a manufacturing complex under severe pressure from',\n",
              " 'aramco will supply up to 70 percent of the new funding we re going to continue to invest in the company as we go forward said carmack we want to make sure that we have the resources to meet the needs of our customers and we re very excited about the opportunity to do that',\n",
              " 'com rob and jon sadow co founders of takescoop com the city subsidized rides will kick in on october 10 but scoop riders can begin booking their discounted carpool trips today as techcrunch has previously reported with scoop passengers book a ride in a car with an available seat as late as 9 p m the night before their commute and they can book a ride home as late as 3 30 p m the day of the return trip the company is venture funded by signia venture',\n",
              " 'i think we need to be a party that is first and foremost accountable to working class people again and to marginalized people she told the progressive in september i don t want that to be something that we just',\n",
              " 'because of its rare capacity to add a lot of new oil onto the global market iran has emerged as one of the most disruptive forces in opec which is probably what got into the craw of the ceo of saudi arabia s state owned oil giant today asked whether iran will be his biggest competition amin h nasser was withering why this matters iran has raised its oil production by about 1 million barrels a day to roughly',\n",
              " 'the beijing based exchange was set up three years ago by the government with the mandate of funding china s small companies who could not access china s stock market the otc board has',\n",
              " 'beijing sl pharmaceutical co ltd says it sees fy 2018 h1 net profit to increase by 35 percent to 65 percent or to be 314 2 million yuan to 384 1 million yuan says fy 2017 h1 net profit was 232 8 million yuan',\n",
              " 'while donald trump was blasting china for the way it treats its citizens the chinese government was quick to condemn the u s president s remarks china is an important partner in the fight against terrorism and we will continue to work closely with the united states on combating terrorism china s foreign ministry said in a statement we will work with our partners to ensure the safety and security of our citizens and the stability of the region',\n",
              " 'we re not changing anything farah said we ve just been doing what we re supposed to do he said he didn t know if he would be able to leave the country but he hoped to return to the u s to start a family he said the family has been in touch with his wife and other family members and they hope to find a new home copyright 2018 the washington times llc click here for reprint permission',\n",
              " 'a life size model of the corpse of pablo picasso lies on a plinth in his home city of malaga eyes closed hands folded the artist who transformed his subjects into cubist abstractions is immortalized in an eerily realistic sculpture dressed in his trademark blue and white striped jersey',\n",
              " 'the indian rupee rose in non deliverable forwards trading on monday after prime minister narendra modi s party won a landslide victory in an important battleground state modi s victory in uttar pradesh strengthens his claim to a second term in national elections in 2019 and is seen as an endorsement of his economic reform agenda the rupee gained around 0 5 percent in one month non deliverable forwards ndfs trading to 66 35 per u s dollar reporting by masayuki kitano editing by stephen coates',\n",
              " 'the 63 year old who held power from 2007 to 2012 was told by investigators on wednesday after two days of questioning in police custody that he was formally suspected of passive corruption an offence that carries a sentence of up to 10 years in jail at issue is a murky affair of libyan spies arms dealers and allegations that late libyan leader muammar gaddafi provided sarkozy s 2007 election campaign with millions of euros shipped to',\n",
              " 'nordstrom inc said on wednesday its decision to drop ivanka trump branded merchandise from its stores and online was based on the brand s performance over the past year and particularly in the last half of 2016 sales of the brand have steadily declined to the point where it didn t make good business sense for us to continue with the line for now the retailer told reuters nordstrom said it informed ivanka trump about its decision in early january u s',\n",
              " 'yume no machi souzou iinkai co ltd says line corp raises stake in co to 22 03 percent up from 0 percent and becomes top shareholder of co co s former second major shareholder a tokyo based consulting firm divest stake in co to 0 percent from 13 10 percent co s fourth major shareholder an individual lowers stake in co to 2 91 percent down from 11 85 percent source text in japanese goo gl bmr3bm further company coverage beijing headline news',\n",
              " 'f giannis antetokounmpo contributed 22 points and eight rebounds in the bucks win over the blazers on tuesday antetokounmpo started 1 of 6 from the field but finished 8 of 21 g khris middleton had 26 points and milwaukee scored the final six points en route to a 93 90 win at portland on tuesday f terrence jones a portland native has played in only one game since signing a free agent contract with',\n",
              " 'dollar index hits fresh three year low euro zone consumer confidence jumps more than expected in jan dollar slips vs yen after boj meet updates prices and market activity to u s market open changes dateline previous london by saqib iqbal ahmed new york jan 23 reuters the dollar slipped to a fresh three year low against a basket of currencies on tuesday after data showed euro zone consumer confidence jumped',\n",
              " 'several miners are missing after an underground earthquake occurred at the rudna mine in polkowice in southwestern poland tvn24 private broadcaster reported on tuesday seven people are still underground according to state broadcaster tvp info an earthquake with a magnitude of 4 5 occurred after 2100 local time 2000 gmt several injured people were already transported to the hospital but rescuers are still searching for other miners underground according to tvn24 there were 16 people in the',\n",
              " 's judge in philadelphia has ruled that the government has a constitutional right to search a person s phone without a warrant in the case of this case the fourth amendment does not apply to searches of phone records the judge wrote in his opinion the government cannot search the telephone records of an individual without probable cause to believe that he or she has committed a crime this is not to say that there is no reasonable expectation of privacy in the records but it is clear that',\n",
              " 'french carmaker renault plans to build the new nv300 van for alliance partner nissan at its sandouville plant in northern france alliance head carlos ghosn said on wednesday the vehicle is the replacement for the primastar model that is currently built at a plant in barcelona a renault spokesman said we are announcing this morning that sandouville will also receive a contract from nissan to produce',\n",
              " 'washington reuters u s immigration agents have arrested more than 1 000 suspects on charges including attempted murder and witness tampering in a nationwide operation aimed at international gangs officials said on monday the five week operation headed by u s',\n",
              " 'as pollution levels surged to severe and hazardous levels in new delhi this week according to government data the world health organization who said in a report on thursday that more than 1 5 million people in the country had been exposed to air pollution up from 2 7 million in 2010 and that many of those were children pregnant women or elderly people the who also said that the number of people living in areas with high levels of particulate matter',\n",
              " 'ame road trip for the florida panthers who have dropped a pair of one goal games in the last two weeks i think it s going to be a good year for us panthers coach ron rivera said we ve got a lot of work to do but we re ready to go out there and do what we ve been doing for a long time',\n",
              " 'the new york times reported on release plans for lemonade earlier today for normal humans the move means they now have at least two different ways to consume lemonade rent it via tidal or buy it at itunes tidal and presumably other outlets as well',\n",
              " 'scandal hit british cafe chain owner patisserie holdings has been bought out of its london headquarters after it lost out on an 82 million 83 million 100 million euros loan from the new york stock exchange speaking in an interview on panorama mr bahara said it was unacceptable at this stage for them to reject a deal outright without offering an alternative and that the uk expects to be treated with respect reuters 21 50 20 august 2018 chris evans wife natasha',\n",
              " 'britain s biggest energy provider centrica and peer sse both recovered from sharp losses in the previous session after may announced a cap on energy prices in her speech to party activists sse was up 2 percent and british gas owner centrica gained 1 2',\n",
              " 'u s company general electric ge n should be fined if it does not create as many jobs at alstom as agreed when it purchased its energy subsidiary in 2015 a french government spokesman said on sunday ge had committed to create 1 000 net new jobs by the end of this year when it bought alstom s energy business in',\n",
              " 'alcoa corp alcoa corporation launches as an independent industry leader in bauxite alumina and aluminum products begins trading today on nyse under ticker aa projects global aluminum demand growth of 5 percent in 2016 and expects growth to double between 2010 and 2020 source text for eikon further company coverage',\n",
              " 'the post reported that a bipartisan group of lawmakers is looking into broader delays in the spending of federal aid for a number of regions struck by natural disasters including texas and florida the post also reported that hud secretary ben carson blamed puerto rick s history of fiscal malfeasance for the additional',\n",
              " 'aperam has agreed to acquire vdm metals for 438 million euros 542 million the luxembourg based steel producer said on wednesday in a move to boost its position in high end alloys the share purchase agreement with falcon metals and lindsay goldberg will unlock about 20 million euros of synergies by 2020 and enhance earnings per share and free cash flow from the first year aperam said whilst maintaining our priority of a strong balance sheet consistent with investment grade ratios we are confident',\n",
              " 'failure of the offer would pave the way for gkn to press ahead with an alternative deal it struck with u s axles and driveshafts maker dana dan n earlier this month as part of its defense against melrose s hostile approach gkn has proposed merging its automotive business which supplies components to companies including volkswagen with',\n",
              " 'canadian natural resources ltd canada s largest independent petroleum producer reported a bigger quarterly loss due to lower prices the calgary based company said net loss widened to c 326 million 243 8 million or 29 canadian cents per share for the third quarter ended sept 30 from c 111 million or 10 canadian cents a year earlier oil and natural gas production',\n",
              " 'tmx group ltd montreal exchange achieved 0 9 growth in the year ended december 31 2013 québec national bank qnb nova scotia manitoba saskatchewan ontario prince edward island british columbia new brunswick newfoundland and labrador nunavut yukon and the northwest territories achieved 2 4 annualized growth over the same period in addition the qnqb was able to increase its share of the canadian',\n",
              " 'breitbart editor in chief alex marlow says we can expect to learn later today whether the site will retain alt right provocateur milo yiannopoulos after video surfaced of the writer justifying sex between adult men and minors on breitbart s radio show this morning marlow and breitbart',\n",
              " 'the sultanate of oman is set to price itself out of the world s largest oil market according to a new report the report by the middle east media research institute memri a think tank based in washington found that oman s oil revenues have fallen by 40 in the past two years from 1 2 billion in 2011 to just over 500 million in 2014 the omani government the report said is dismayed at the',\n",
              " 'federal judge in manhattan has declined to certify a proposed nationwide class of more than 10 000 female employees of kpmg llp who say the professional services firm systematically discriminated against them in pay and promotions u s district judge lorna schofield',\n",
              " 'falcon oil gas ltd micheal gallagher stepped down as cfo with effect from 4 october 2016 to pursue other interests falcon oil gas ltd announces senior management change with effect from 5 october 2016 falcon has appointed anne flynn as cfo source text for eikon further company coverage',\n",
              " '3 billion the person declined to be identified because he was not authorized to discuss the matter with media subject to both a shareholder vote and approval from australia s foreign investment review board the deal reflects new opportunities being explored by australian and chinese companies since a a 100 billion bilateral free trade agreement took effect in december last year china resources and macquarie said sydney based genesiscare s doctors',\n",
              " '8 percent year on year to 41 8 billion roubles q4 adjusted oibda margin at 37 4 percent vs 39 0 percent in q4 2015 full year 2016 revenue up 2 1 percent to 435 7 billion roubles adjusted oibda down 4 4 pct to 169 3 bln roubles fy 2017 outlook for revenue and adjusted oibda growth rate at 2 pct 2 pct fy 2017 capex estimated to trend downwards to 80 billion roubles 2016 83 6 billion roubles further company coverage 1 57 3830 roubles reporting by moscow newsroom',\n",
              " 'we need to have an effective assumption by vale of its responsibility for the event so we expect effective quick responses from vale regarding the disaster in a later statement the solicitor general s office said all of the costs associated with tragedy incurred by the federal government would be charged to vale with 121 people confirmed dead and another 226 still missing according to the latest tally on saturday',\n",
              " 'and then those issues within the community become issues the community needs to deal with on their own and that leads to violence there s research to back this up a 2016 study from sociologists matthew desmond of harvard andrew papachristos of yale and david kirk',\n",
              " 'one of the top things that keeps a startup ceo up at night is the worry of running out of money as a second time founder and ceo of docsend i consider raising money and keeping my startup sufficiently funded a primary responsibility if don t run out of money is a universally accepted',\n",
              " 's court filing late on tuesday the south korean firm opposed qualcomm s efforts to put a sweeping u s antitrust decision against it on hold arguing setting the ruling aside could force it into signing another unfair deal if qualcomm does not participate in negotiations with lge in accordance with the court s order lge will have no option but to conclude license and chipset supply agreements once again on qualcomm s terms lg s filing',\n",
              " 'rhp r a dickey is 0 6 with a 4 24 era in his last four starts chris sale is 1 3 with an 8 13 era over his past five starts including a 3 1 win over the new york mets on wednesday',\n",
              " '1 million of its shares in japan post insurance this month the first sale of stock in the unit since the initial public offering ipo of the japan post group in 2015 some 112 6 million shares will be offered in japan with the remainder to be sold overseas including a green shoe option japan post insurance said in a statement on thursday the sale is expected to help further move forward the steady implementation of the privatisation of the japan post group',\n",
              " 'the idf israeli defence forces have a role to play in the country s security he said we are working closely with the israeli government to ensure that the security of the jewish people is respected',\n",
              " 'but with both countries now working to mend fences turkey last month acquiesced to israel setting up representation at nato s brussels headquarters hosting envoys from nato countries in israel including the turkish charge d affaires standing in for the ambassador who was withdrawn during the bilateral crisis prime minister benjamin netanyahu offered to further close ranks with the alliance israel has much to contribute to nato i believe nato has much to contribute to israel',\n",
              " 'junior forward luke maye scored 17 points in his first game back from a knee injury it s been a tough week for us he said we ve had a lot of ups and downs but we re going to continue to get better and better every day',\n",
              " 'the shooter killed 11 jews in a synagogue last week the shooting was the deadliest mass shooting in u s history and the first of its kind in more than a decade the islamic state group has claimed responsibility for the attack',\n",
              " 'other startups in the same space include syte ai slyce clarifai and imagga in a statement rakuten ventures partner adit swarup said when we first invested in visenze in 2014 retailers had just started seeing the benefits of powering product recommendations with image data today visenze not only powers recommendations for the largest brands in the world but has helped pioneer a paradigm shift in e commerce helping consumers find products inside their favorite',\n",
              " 'eurona wireless telecom sa sees fy 2016 revenue of 153 6 million euros 167 5 million and fy 2016 ebitda of 10 0 million euros sees fy 2020 revenue of 239 3 million',\n",
              " 'there is also an intermediate target for 2025 european parliament lawmakers voted in favor of a 40 percent reduction in october',\n",
              " 'the loan will help to finance new oil and gas facilities in oman pdo said adding that it planned to invest more than 20 billion in the next five years its projects include the rabab harweel facility which is to develop 240 million barrels of oil and 100 million barrels of condensate while exporting 1 trillion cubic feet of non associated gas when production starts in 2019 in previous years state companies in oman and other gulf oil exporting countries largely financed such projects',\n",
              " 'interest rates on u s 30 year mortgages dropped back below 4 percent this week in line with a 2 percent decline in the first quarter according to data released by the fed on thursday the yield on the 10 month treasury note fell 0 5 percentage points to 4 4 percent the lowest since december 2009 the yield was 1 1 percent lower than the 2 3 percent rate it had been in december',\n",
              " 'a congressional committee probing russian interference in the 2016 u s election could broaden its investigation to look at reddit and 4chan as potential tools of clandestine activity according to a congressional aide the hill reported wednesday that sen mark warner',\n",
              " 'profits for the period totalled 1 463 billion euros 1 7 billion roughly half of the total the government said it was working with its creditors to reach an agreement on how to pay off the debt',\n",
              " 'more than half of the 50 most popular shows on the network are about the same length with the exception of the vampire diaries where the show s average length is just over two hours the show which is based on a real life vampire story is produced by fonterra productions a division of warner bros television the show is directed by j j abrams who is best known for the star wars films and the star trek series',\n",
              " 'roberto castro s overnight lead of one shot held up when the rain delayed first round of the bmw championship was completed on friday in carmel indiana castro one of 33 players',\n",
              " 's president and a north korean leader pompeo said the united states would not be willing to invest taxpayer dollars to help the',\n",
              " 'soon dory and her self involved father who was living in new york found out about the death of their daughter they were like oh my god we re going to have to kill her she s gonna die said gail and i was like no no you don t know what i m talking about you re telling me she s dead and they didn t care they just wanted her to die',\n",
              " 'as being elite and more concerned with the donor class than we are with them the stakes of this fight could be big for the direction of the party',\n",
              " 'and that often the burden to effect change is on the individual in the united states it is not uncommon for people to choose not to have children in the early 1990s for example the supreme court struck down a california law that required employers to provide health insurance coverage to their employees the court found that the law violated the first amendment s guarantee of equal protection of the laws and that it did not provide enough protection to people who had children under the age of 18',\n",
              " 'at the end of the meeting according to a report in the wall street journal the u s chamber of commerce which represents the chamber s members said it would have no comment',\n",
              " 'past elections have been held in turkey since the late 1990s the turkish president recep tayyip erdoğan has called for a referendum on whether he should be allowed to become prime minister he has said he would like to see the country return to the european union but has not ruled out the possibility of a second referendum',\n",
              " 'she said the driver was a man in his 70s but declined to comment on media reports that he may have mistaken the brake and accelerator pedals a man and two women were killed and 10 people were taken to hospitals ryan said two people had life threatening injuries and eight were seriously hurt she said woody tuttle an auto auction',\n",
              " 'crude inventories and also by a drop in the dollar west texas intermediate wti crude clc1 futures rose 1 09 or about 1 8 percent to settle at 62 77 a barrel u s',\n",
              " 'it uses an approach similar to the one that we use in the previous article where we take a step back and look at what is going on in real life in this post we will show you how to create a model that is more like a real life model we will start with a simple example of how we can create our own model and then show how you can use it in your own projects in the future i will go into more detail about how our model',\n",
              " 'the original kit called the rbk50 came with a ac3000 wi fi base station and a satellite and covered 5 000 square feet it is the oldest and most powerful member of the family and at 399 the most expensive the new devices are called the rbk30 and the rbk40 the 300 rbk30 covers 3 500 square feet with a single ac2200 router and a small wall plug satellite to boost the signal the rbk40',\n",
              " 'waze has a bit of a cult following among its users so connecting it to the google play store is a great way to get your hands on it the app is available for both android and ios devices but if you re looking for the most up to date version of the app you ll want to check out the app store',\n",
              " 'istanbul may 10 reuters here are news reports and events that may affect turkish financial markets on wednesday the lira stood at 3 6200 against the u s dollar at 0500 gmt firming',\n",
              " 'jiangsu yinhe electronics co ltd sees h1 2018 net profit to decrease by 20 percent to increase by 20 percent or to be 72 7 million yuan to 109 million yuan says h1 2017 net profit was 90 9 million yuan source text in chinese goo gl bhpbkr further company coverage beijing headline news',\n",
              " 'italy s government signed a deal with trade unions on wednesday to hike public sector pay for the first time in seven years just days ahead of a referendum on which prime minister matteo renzi has staked his career in 2017 public workers will get a gross',\n",
              " 'i grab some food turn around and immediately run into series star matthew rhys he s laughing with the crew so fresh off filming that he still has wig clips embedded in his curly hair someone introduces me i tell rhys i m here to report on how an episode of television gets made and he laughs cocking his head so he says his thick welsh accent already coming through',\n",
              " 'watch any hearing on this matter and you will hear from the department of justice the fbi and the state department as to whether there is any basis for this investigation the fbi declined to comment on the matter but a spokesman said we have no comment at this time the fbi is cooperating fully with the attorney general s office',\n",
              " 'but since then his company which helps developers build audio video and text messaging into their apps has successfully gone public once again i will sit down with lawson who will join us at disrupt sf next month to discuss the process of going public and what it means for',\n",
              " 'the conference takes place on september 5 7 but if you want to secure your spot you need to purchase a startup alley exhibitor package now startup alley at disrupt sf 2018 will feature',\n",
              " 'dialog said it believed that the claims were frivolous and amounted to a threat to national security he said u s officials had not been briefed on the allegations',\n",
              " 'so when they see there is already a female swimmer who has been to the olympics they will be much more encouraged to do so albedwawi is one of several women blazing a trail and braving',\n",
              " 'he s playing amazing the level he s putting is quite amazing that s why he s number one in the world as long as i don t play him i don t need to take anything from the victory against him the 30 year old swiss is not scheduled to meet djokovic until the final at melbourne park',\n",
              " 'mad catz interactive inc mad catz reports fiscal 2017 third quarter financial results q3 loss per share 0 05 q3 sales 19 1 million mad catz interactive inc company has not made a decision at this time to pursue any specific strategic transaction or other strategic alternatives mad catz',\n",
              " 'do not read any further if you don t want to be spoiled proceed at your own risk avengers infinity war has one post credits scene and it s huge a teaser that sets the table for',\n",
              " 'now faced with soaring debts and beijing s crackdown on aggressive dealmaking firms hna is now looking for a way forward we re looking at ways to ensure that we re not just going to be able to sell off our assets but also to make sure that there s a level playing field he said and that s what we want to do',\n",
              " 'klondex mines ltd klondex reports third quarter 2017 financial results reiterates full year total company production guidance of 213 000 230 000 geos at production cash cost of 675 700 per geo sold qtrly diluted net loss per share 0 08 qtrly revenues 48 9 million versus 55 6 mln mined a total of 54 172 gold equivalent ounces in quarter guidance for 2017 site capital expenditures unchanged with an additional 7',\n",
              " 'forrest later agreed that the other six plaintiffs were entitled to have their claims considered separately because they had filed their own lawsuits but she said those claims must also fail because there was no proof that the defendants engaged in anticompetitive conduct outside the aluminum warehouse services market the court accepts that plaintiffs here paid higher prices as a result of the alleged conduct she wrote that is not enough the plaintiffs needed to be injured in the warehouse services or warrant',\n",
              " 'as joe gyan jr reported for the advocate erwin said he would have preferred to sentence williams to life in prison a sentence that isn t possible for heroin dealing in louisiana which in 2001 lowered the maximum penalty for heroin trafficking from life to',\n",
              " 'britain must seek bespoke multi lateral and bilateral trade arrangements after it exits the european union rather than fall back on world trade organization wto rules international trade secretary liam fox said on thursday fox said in a speech britain would take part in wto efforts to reduce red tape across borders phase out distortive export subsidies and scrap trillions of dollars worth of tariffs however where progress has',\n",
              " 'we have time and we also need time so that we really have something that we can explain we understand and that serves the interests of switzerland he said brussels blocked eu based investors from trading on swiss bourses from july 1 as the row escalated over the treaty which would see non eu member switzerland routinely adopt eu single market rules the swiss retaliated by banning eu venues from hosting swiss stock trading swiss stock volumes have soared this month to their highest in years as',\n",
              " 'they haven t seen many concrete legislative wins but the group has been effective at moving the debate far to the right oftentimes so far that passing legislation becomes impossible but since trump they ve assumed a new role defending the president at all costs amash hasn t been attending freedom caucus meetings for some time but he remained on the caucus s board amash s official exit is a demarcation line yet another',\n",
              " 'shares in intu properties soared more than 37 percent on friday after a consortium including british billionaire john whittaker and canada s brookfield asset management said it was considering a bid for the shopping centre owner peel group which is the investment vehicle of the whittaker family saudi arabia s olayan group and property investor brookfield said on thursday they were weighing a cash offer for the london listed company intu has a market value of 2 billion pounds',\n",
              " 'it was a scoreless tie until the final minute of the second half mauricio pochettino said i think it s important for us to have a good game we need to win the game but we have to do it in the right way i think that we can do that',\n",
              " 'an amazon that is posting growing profits from its non core business should be a very scary realization for rivals jason del rey recode want to get the recode daily in your inbox subscribe here twitter reports its second quarter earnings today and as we learned from facebook s disastrous earnings report spending to clean up a mess can be expensive twitter hasn t talked much about the financial cost of',\n",
              " 'maverix metals inc maverix metals adds depth to management team advances board and announces grant of incentive shares and options matt fargey has joined company and will assume position of chief financial officer effective may 30 2017 fargey will be replacing wayne vincent retirement of george brown from board of directors nomination of daniel o flaherty for election vincent will continue to work with company on a',\n",
              " 'u s lawmakers should take advantage of low interest rates by making infrastructure investments and encouraging innovations that boost productivity a federal reserve policymaker said on tuesday as americans voted in a presidential election charles evans head of the chicago fed waded into the fiscal policy debate just as polls opened noting that the u s central bank would be looking for clarity on the government s direction an outspoken dove he said his prediction of 1 75 to 2 percent future economic growth was',\n",
              " 'california s waiver to set tougher standards under the clean air act is also being reexamined what they re saying the alliance of automobile manufacturers a trade and lobbying group that represents gm',\n",
              " 'de concern points to a growing fear in germany for more than a decade the country has been the growth locomotive of europe its economy weathering global financial turmoil the euro',\n",
              " 'british utility sse and german rival innogy are in talks about merging their uk retail business the deal which is expected to be finalised by the end of the year will see the uk s biggest retailer sainsbury s become the world s second largest retailer after tesco with more than 2 5 million customers',\n",
              " 'as we explained in our letter of november 2nd mr zuckerberg is not able to be in london on november 27th for your hearing and sends his apologies we remain',\n",
              " 'investors poured cash into u s based stocks funds for the third straight week adding 4 7 billion during the week ended oct 25 according to lipper data released on thursday taxable bond funds pulled in 3 7 billion during the same period according to the research service reporting by trevor hunnicutt editing by sandra maler',\n",
              " 'dubai s fire department unveils a new firefighting tool dubai s fire department unveils a new firefighting tool dubai home to indoor waterparks the world s tallest skyscraper and the largest indoor mall just added a new tool to its fire department jetpacks announced on the dubai civil defence facebook page the dolphin jetpacks will be used to help with ship fires and other disasters near bodies of water',\n",
              " 'her efforts on these issues have been wide ranging though it s unclear whether they ll be enough to set her apart they do however speak to a commitment that s lasted since long before the metoo movement took off in 2013 gillibrand spearheaded a charge to change how sexual assault cases are handled in the military contributing to a national conversation and winning over some republicans in congress and in 2017 she called on sen al franken to resign over allegations',\n",
              " 'new york reuters if any industry is in the throes of total disruption right now it is retail some brick and mortar retailers',\n",
              " 'this decision has been made as a result of a violent disruption on the first day of the proceedings and ongoing security concerns the neb said in a statement given that two',\n",
              " 'russia has withdrawn most of its strike aircraft from syria the u s military said on friday the move comes amid a growing rift between washington and moscow over the role of the syrian regime in the civil war that has killed more than 3 000 people and displaced millions more',\n",
              " 'glaxosmithkline plc shingrix approved in the us for prevention of shingles in adults aged 50 and over pooled clinical trial for shingrix showed greater than 90 percent efficacy across all age groups following this approval from fda and pending recommendation from acip shingrix will be available shortly further company coverage',\n",
              " 'stuart olson inc stuart olson awarded 250 million in new contracts stuart olson projects will be added to backlog over 2 quarters with 180 million included in q4 2016 backlog remaining 70 million added to backlog in q1 2017 stuart olson buildings group secured construction management contracts to retrofit existing facilities at two post secondary institutions in western canada source text',\n",
              " 'n ambassador ibrahim dabbashi wrote to the 15 member sanctions committee on monday asking for the distya ameya tanker to be blacklisted a letter seen by reuters showed the ship left marsa el hariga port late on monday and was blacklisted on wednesday deepak shetty director general of shipping with india s ministry of shipping said he had told the vessel s operator and separately the charterer to instruct the captain not to discharge the cargo at all anywhere',\n",
              " 'russian prime minister dmitry medvedev on monday ordered his government to draw up possible retaliatory steps after the united states on friday imposed new sanctions on moscow the interfax news agency reported medvedev called the new u s sanctions unacceptable and illegitimate saying russia reserves the right to respond interfax reported medevedev',\n",
              " 'morgan stanley ms n will make decisions on redeploying staff to its canadian subsidiary the move comes after the bank of canada announced it would cut its budget by about 2 billion over the next five years',\n",
              " 'community health systems says pursuing sale of hospitals accounting for at least 2 billion of net revenue says previous hopsital divestiture plan was for sale of hospitals accounting for at least 1 5 billion of net revenue says has signed letters of intent for hospitals accounting for more than 1 2 billion in net revenue further company coverage reporting by michael erman',\n",
              " 'the french women play in the world s most prestigious soccer league the fifa women s world cup where they face off against the likes of chelsea bayern munich real madrid and real sociedad we have a lot of respect for the players and the fans but at the same time we want to make sure that we do everything we can to ensure that the game is played in a way that is respectful of the women s game said uefa president sepp blatter',\n",
              " 'britain s finance minister philip hammond announced on monday plans to increase taxes paid by offshore gambling companies from next year to offset lost tax revenue from cutting the amount that can be staked on fixed odds betting terminals hammond told parliament he plans to increase',\n",
              " 'there is a high degree of confidence that north korea s failed missile launch was not an intercontinental ballistic missile but the u s assessment is still ongoing a u s official said on',\n",
              " 'at the world s biggest religious festival the hindu kumbh mela in northern india s uttar pradesh state there was a lot of discussion about whether or not the festival should be cancelled the festival was to be held on the first saturday of the month but it was cancelled due to security concerns the festival s organisers have said that the event could be rescheduled to a later date',\n",
              " '5 the fanatic in philadelphia on monday may 24 2017 photo mark j rebilas special to the star a few days ago i wrote about the eagles decision to draft a pair of second round draft picks and it turned out to be a little bit of a fluke the eagles didn t take any of those picks in the first round because they thought they had a better chance of landing a top five pick instead they',\n",
              " 'arizona sophomore guard allonzo trier scored a season best 28 points on 11 of 14 shooting during last saturday s 77 72 loss to ucla a defeat that knocked the wildcats out of first place trier has strung together three straight 20 point outings and is averaging 24 7 points on 24 of 35 shooting during the stretch arizona state enters the contest on a high note after it used a frantic game ending 12 1 run to overcome a late 10 point deficit to',\n",
              " 'ortland center enes kanter won t travel to toronto with the trail blazers over fears that he could be arrested in january the turkish government submitted a notice to interpol soliciting his arrest and kanter is hesitant',\n",
              " 'crude climbs as summer driving season starts gold set for biggest monthly loss since november by nichola saminather and lisa twaronite singapore tokyo may 31 reuters asian shares recovered from a wobbly start on tuesday but remained on track for a monthly loss while the dollar edged away from recent peaks scaled on expectations the u s federal reserve will raise interest rates as soon as next month european markets are poised for a',\n",
              " 'the british opposition labour party s justice policy spokesman charles falconer resigned from leader jeremy corbyn s senior team on sunday following the country s decision to leave the european union local media reported falconer was the ninth member of labour s top team to quit on sunday as a',\n",
              " 'but the parkland shooting hasn t led to major changes at the federal level for gun policy we ve seen this before despite outrage after a mass shooting whether the sandy hook elementary school shooting in 2012 or the las vegas shooting in 2017 the chances of congress taking major action on guns is persistently very low this has become an american routine after a mass shooting the debate',\n",
              " 'page was asked about a trip to moscow that he took during the campaign and whether any campaign officials were aware he was going cnn reports he said he told jeff sessions who was leading the campaign s foreign policy team in passing at a campaign dinner the only time they met and sessions had no notable response the backdrop the news comes as sessions is already under scrutiny over a report that he shut down',\n",
              " 'serge ibaka chipped in with 20 points green had 13 jonas valanciunas 12 and kyle lowry had 10 points and 12 assists durant added 11 rebounds for the warriors who had won their three previous games klay thompson scored 23 points jonas jerebko scored 20 and kevon looney had seven points and 10',\n",
              " 'canadian medical marijuana maker aurora cannabis inc acb to said on tuesday it sold cannabis worth c 3 1 million 2 5 million in november its highest ever helped by strong demand for its products the company s',\n",
              " 'the u s rig count decline over the course of q1 was over and beyond everyone s expectations chief executive keith cochrane told analysts his comments echoed ones from u s oilfield services firm baker hughes on wednesday about a slowdown in u s drilling activity',\n",
              " 'singapore listed esr reit and rival viva industrial trust are in talks to buy the singapore based company the deal is expected to be completed by the end of the year according to sources familiar with the matter the two companies have been working together for more than a decade and have a long history of working with each other on a wide range of projects',\n",
              " 'new york reuters the benchmark s p 500 stock index ended little changed in a choppy trading session on tuesday as the possibility of a partial u s government shutdown raised investor jitters ahead',\n",
              " 'the lawsuit said viliena backed by an armed militia committed human rights abuses by routinely using violence against perceived political opponents or people who complained about how he governed les irois a town on haiti s far western coast and home to about 22 300 people according to the lawsuit viliena led a gang that killed eclesiaste boniface 23 in july 2007 after his brother plaintiff david boniface intervened in a dispute between the official and a neighbor over trash',\n",
              " 'the service which allowed consumers to unlock a digital copy of their dvds and blu rays was something of a transitional step between the age of physical media and today s streaming video landscape over time it s become less necessary for consumers as movie marketplaces and subscription services now offer extensive libraries of movies for streaming',\n",
              " 'but it also doesn t mean that amazon is in any way a victim here even though viewers of snl might have received a different message during weekend update colin jost dismissed valid criticisms against amazon s choice to build its new headquarters in new york city by claiming that new york basically won the lottery and that concerns about the effects on the city were equivalent to whining about more crowded',\n",
              " 'i saved for college for years working part time jobs over several summers to help pay for the cost of my fancy liberal arts school degree ask me about my job as a crawfish packer in baton rouge well one of the fanciest private schools in the nation and one of the premiere startup accelerators are jointly backing a company that purports to have a solution to the college payment dilemma',\n",
              " 'corporate tax cuts with a mountain of tax breaks for the rich it s easy to see why republicans are so eager to repeal and replace the affordable care act but when it comes to repealing obamacare there s no denying that republicans have a lot of work to do and that s why it is so important for democrats to focus on what they can do to make sure they don t lose their majority in the house of representatives',\n",
              " 'san francisco giants left hander derek holland issued an apology thursday after speaking in a mock asian accent in an appearance on the mlb network program intentional talk a day earlier holland on wednesday attempted a skit on the show where giants massage therapist haro ogawa was his hype man during the interview holland spoke in the mock accent as criticism for the skit circulated through social media the',\n",
              " 'southeast asian foreign ministers on tuesday aired concerns over china s activities in disputed areas of the south china sea noting that land reclamation continued even after talks began between their 10 member bloc and beijing to agree a code of conduct meeting in singapore the foreign ministers of the association of southeast asian nations asean welcomed the start of negotiations while calling for restraint in activities and avoidance of any actions that may complicate the situation',\n",
              " 'london reuters educational publisher pearson pson l expects its underlying profit to increase for the first time in six years in 2018 after rebuilding its business for',\n",
              " 'four people were shot two fatally in separate incidents outside of washington dc on friday and police are investigating whether the gunman is a federal law enforcement officer suspected of killing his estranged wife on thursday police announced that the suspect 62 year old eulalio sevillatordil was arrested just before 3pm on friday the first shooting on friday in which three people were hit by gunfire was reported at 11 13am at the westfield montgomery mall',\n",
              " 'the democratic super pac forward majority is releasing a seven figure ad campaign targeting gop state legislators over their opposition to pre existing conditions coverage under the affordable care act this campaign is part of the group s 8 million investment in over 100 state legislative districts in the 2018 midterm election cycle why it matters this health care topic has shown up in gubernatorial house and senate races where more gop candidates are campaigning on protecting people with pre existing conditions even',\n",
              " 'state law requires the california dmv to develop and implement policies and procedures to protect the rights of drivers and passengers including the right to operate a motor vehicle in accordance with the laws of the state of california this is a critical step in ensuring the safety of all californians said supervisor john avalos i am proud to be a part of this effort and i look forward to working with our colleagues in the legislature to ensure that california s law enforcement agencies have the tools they',\n",
              " 'rising inflation and muted wage growth following britain s vote to leave the european union last june is forcing many consumers to rein in their spending nevertheless the company said comparable sales in the 28 weeks to april 8 were up 1 6 percent sharply lower than the 4 7 percent rise reported over the four weeks to jan 7 the festive period when it called trading',\n",
              " 'french police arrested two young women from the city of nice in mid september for suspected ties to islamist state militant rachid kassim the paris prosecutors office said on sunday aged 17 and 19 the teenagers used the telegram encrypted',\n",
              " 'on the heels of announcing a fresh 70 million in funding led by swedish investment firm kinnevik ab betterment is launching a new messaging feature that will allow users to ask questions and get answers from its team of financial advisors with its new messaging product betterment is offering up personalized financial advice to a larger portion of its user base that is anyone with an account customers can send secure messages through the betterment app to ask for financial advice and get a',\n",
              " 'rightfully so i was not even on the radar until now said snedeker who played on the 2012 and 2016 teams of course i want to be on the team but i have to play some great golf the next three weeks plain and simple you ve got to show sustained good play i m not going to get on the team by winning one week with two of furyk s four captain s picks almost certainly going to tiger woods and phil mickelson snedeker has a lot of competition',\n",
              " 'k elections and was england s third terrorist horror in three months it targeted average blokes out partying on the weekend nbc s matt bradley said from the scene that there were enough drunk people around that it was complicating police operations president trump was like a first responder quickly retweeting a drudge headline before details were confirmed fears of new terror attack after van mows down 20 people on london',\n",
              " 'craft brew alliance inc craft brew alliance reports third quarter results kona depletions up 9 in third quarter and 10 year to date q3 earnings per share 0 09 sees fy revenue up 3 5 to 5 percent q3 sales 56 6 million versus i b e s view 57 2 million q3 earnings per share view 0 06 thomson reuters i b e s for fy 2017 capital expenditure range has been',\n",
              " 'the incredible hulk and some of his other box office money grabbing super pals will be coming to the world of virtual reality marvel powers united vr announced at disney s d23 event on saturday will allow players a chance to step into the shoes of some familiar heroes',\n",
              " 'tv pictures of the scene on tuesday showed a gray colored light vehicle used in the attack positioned across the street the front of the vehicle was badly damaged and dozens of police and rescue officials were at the scene',\n",
              " 'last november 71 percent of residents said they would vote for clinton the poll was conducted by telephone from aug 17 to 18 among 1 000 u s adults and has a margin of error of plus or minus 3 5 percentage points',\n",
              " 's market without having to establish its own office and start from scratch the deal will include rebranding all of roost s existing u s service offerings under the spacer name and roost ceo jonathan gillon will also',\n",
              " 'the idea here is to challenge the massive textbook industry that doesn t have any qualms about using textbooks as a tool to teach children there have been many examples of this over the years but i think it s important to point out that in the united states textbooks are widely used in a wide variety of educational settings from elementary schools to high schools and some of the most common examples are in public schools in fact the national center for education statistics nceps',\n",
              " 'while it might be tempting to dismiss this claim as mere putinesque propaganda on this question at least russia is almost certainly correct in the view of most international lawyers the us strike',\n",
              " 'june 1 reuters parker brothers inc plc o said on tuesday that it will begin work on a 6 7 billion u s mexico joint venture to develop a 1 3 billion square foot manufacturing facility in mexico the company said in a statement that the project would be completed by 2020 and would cost about 1 billion to 2 billion the company also said it plans to invest 500 million in the construction of a new plant in',\n",
              " 'caster semenya laid down a marker in the race for 400 meters gold at the rio de janeiro olympics in august by running the fastest time of the year at the south african championship on saturday she clocked 50 76 seconds eclipsing the previous 2016 best of 50 91 by american runner jaide stepter registered in los angeles last month semenya also claimed the south african 800 meters title in stellenbosch near cape town in 1 56 48 she',\n",
              " 's decision to end waivers granted to buyers of iranian crude an iranian oil ministry official said on thursday the official who spoke on condition of anonymity because he was not authorized to speak publicly on the matter said the decision was made after discussions with the iranian government he did not give details of the discussions but said that the government was working on a plan for the deal',\n",
              " 'it s the first big case against alt right trolls and it could draw a new line between what s considered protected free speech and what counts as illegal harassment to represent him in the case anglin hired marc randazza a las vegas attorney who s represented many high profile clients who test the limits of free speech 8chan trolls',\n",
              " 'he said potential investments in the western province of british columbia were particularly enticing in b c we are finding very strong opportunities it is a very attractive market right now rick nathan a kensington managing director said in a telephone interview he added that the tech cycle kicked off by the arrival of apple inc s iphone in 2007 and now incorporating booming use of mobile devices',\n",
              " 'intest corp intest acquires ambrell corporation global provider of precision induction heating systems intest corp purchase price for ambrell was 22 million in cash intest corp additional consideration may be paid based upon a multiple of adjusted ebitda for 2017 and 2018 not to exceed 18 million intest corp',\n",
              " 'britain is facing the prospect of having to delay its exit from the european union beyond march 29 a junior defence minister said on monday she',\n",
              " 'mohammed al badiri a popular cleric wrote that the police were merely protecting the muslim community the police are not protecting islam he said they are protecting muslims it is the muslims who are the victims of these attacks',\n",
              " 'ns hero enterprise and burman which own stakes in fortis said they had together tried unsuccessfully to discuss an acquisition of fortis',\n",
              " 'but the question of how such a basis will be set whether by a referendum on a constitutional draft a new election law or an adaptation of libya s post uprising constitutional declaration was left open the issue is central because opponents of haftar the dominant figure in',\n",
              " 'pure storage inc pure storage announces second quarter fiscal 2017 financial results q2 revenue 163 2 million versus i b e s view 155 1 million sees q3 revenue in range of 187 million to 195 million qtrly loss per share 0 31 q2 earnings per share view 0 23 thomson reuters i b e s q3 revenue view 190 7 million thomson reuters i b e s source text',\n",
              " 'an rfp was proffered on what would have to be a lengthy process to get it approved it s not an easy process she said it takes time it takes a lot of time to come up with a proposal and that s why we re here today we want to make sure this is the right thing to do',\n",
              " 'here are the summer s films worth getting excited about regardless of genre or scale the live action remake of aladdin directed by guy ritchie snatch lock stock and two smoking barrels',\n",
              " 'white house chief of staff john kelly incorrectly told reporters from the white house podium that florida rep frederica',\n",
              " 'the united states denies russian allegations that it is trying to blackmail moscow by saying it will withdraw from a nuclear arms treaty u s national security advisor john bolton was quoted as saying on monday bolton also said washington has not yet taken any decision to deploy missiles in europe',\n",
              " 'having that independence is very important williams said adding that criticism of the fed is part of democracy and is to be expected we are focused on the economy focused on achieving our goals it is not a partisan activity during his campaign trump repeatedly accused the fed of keeping rates low for political reasons and said he would replace fed chair janet yellen who ran the san francisco fed before williams once her term ends in 2018 speaking at the university of',\n",
              " 'the pirates 8 11 2 6 got 15 points each from shawn williams and isaac fleming plus 10 from kentrell barkley they hung around with cincinnati for just over a half before their shooting cooled east carolina hit 55 percent from the field in the first half but finished the game at just over 42 percent cincinnati trailed for more than 4 1 2 minutes of the first half the teams swapped the lead six times as the pirates',\n",
              " 'development bank of southern africa ltd fy net profit of r2 6bn against r1 2bn in 2014 2015 fy total assets grew',\n",
              " 'we ll start from bali and the impact will be global the bali partnership backed by the united nations development programme undp has been working closely with the indonesian government to establish a high speed rail link between the two countries indonesia s president joko widodo l shakes hands with indonesia s prime minister susilo bambang yudhoyono r during a news conference in jakarta indonesia may 15 2017 reuters',\n",
              " 'the taiwan government is helping the company find the ideal location for an advanced technology 3 nanometer chip plant it added we do not exclude locations in other countries but a taiwan location will be our first consideration acting spokeswoman elizabeth sun told reporters on the sidelines of a shareholders meeting the plan comes at a time when other tech heavyweights like taiwan s hon hai precision industry co which goes by the trade name of foxconn and japan s softbank group corp',\n",
              " 'european countries have been looking to increase trade with iran since paris washington and other world powers agreed to lift most economic sanctions',\n",
              " 'figuring out where to eat is often a headache while there are a plethora of restaurant discovery apps and sites already out there one app available today aims to make the process a lot easier tell available now for ios is yet another food finding app but two things set it apart from the rest first it trades in reviews for simple recommendations because at the end of the day people just want to know if they should go to a restaurant or not second tell eschews',\n",
              " 'it s not clear why remote alarms were turned off investigations are ongoing so far only coordinated cyberattacks have been ruled out similar steel tanks are used by almost 500 fertility clinics nationwide to store millions of reproductive tissues including eggs embryos and sperm',\n",
              " 'brazilian wireless carrier tim participacoes sa said on wednesday it is using equipment provided by china s huawei technologies co ltd to conduct fifth generation wireless technology 5g tests in florianopolis a city in the south tim wants to be the pioneer and lead 5g in both brazil and italy pietro labriola chief executive officer of tim participacoes said in a statement on wednesday adding that florianopolis is the first city in brazil to have a 5g antenna in the',\n",
              " 'washington reuters a meeting of the u n security council on thursday called on the united states and other world powers to take a more active role in the fight against terrorism u s secretary of state john kerry speaks during a news conference in geneva switzerland march 9 2017 reuters denis balibouse pool handout via reuters',\n",
              " 'this could complicate any attempt to suspend parliament later in the year as a way to prevent lawmakers from trying to bar a no deal brexit on oct 31 supplementary measures intended to strengthen the plan were rejected nevertheless those hoping to stop a no deal brexit believe their plan could require parliament to be in session throughout the run up to brexit day complicating any bid by britain s new prime minister to prorogue or suspend the legislature i freely admit that',\n",
              " 'at stake is 120 million in a tax loophole that allows companies to avoid paying their fair share of federal income taxes the loophole which allows corporations to deduct up to 50 000 in state and local sales and excise taxes from their income tax returns is part of a larger tax reform effort by the republican led house ways and means committee the house is expected to vote next week on a bill that would cut the corporate tax rate from 35 percent to 20 percent',\n",
              " 'european central bank policymaker francois villeroy de galhau on thursday raised concerns about the implementation of the latest international basel iii bank capital rules saying they should be written into law everywhere including the united states villeroy said the compound of rules for banks on capital requirements stress testing and market liquidity risks agreed upon',\n",
              " 'their positions appear to be leading markets to price a sharply higher risk of britain leaving the european union on october 31 without any transition trading agreements in place that would potentially force the bank of england to cut interest rates to stave off an economic catastrophe the pound suffered its biggest one day fall since march after boris johnson and his rival to be conservative party leader jeremy hunt said late on monday they would not accept the so called northern irish backstop element of',\n",
              " 'he cites only a few specific examples hillary clinton s refusal to release transcripts of her goldman sachs speeches the distribution of funds raised by clinton democratic national committee joint fundraising events and the reversal of lobbyist donation rules implemented by president obama but he argues in more general terms that the democratic party is dishonest hillary clinton and the dnc each wants us to believe that',\n",
              " 'zhuzhou hongda electronics co ltd sees fy 2017 net profit to increase by up to 10 percent or to be as much as 215 9 million yuan says fy 2016 net profit was 196 3 million',\n",
              " 'qualcomm is a major supplier to both apple and samsung electronics co ltd for modem chips that connect phones to wireless networks the two companies together accounted for 40 percent of qualcomm s 23 5',\n",
              " 'so everybody is just awaiting to see the direction or guidance a currency dealer said asking not to be named central bank officials were not available for comment the cost',\n",
              " 'the firing was announced in a brief statement from white house press secretary sean spicer today president donald j trump informed fbi director james comey that he has been terminated and removed from office president trump acted',\n",
              " 'concord is raising a new 25 million funding round led by tenaya capital with existing investors crv and alven also participating the company is building a platform that makes it easier to manage your contracts all the way from writing them to signing them even if you used a service like docusign to sign a contract in the past chances are you or',\n",
              " 'garcia padilla reiterated that the u s territory s near 70 billion debt load was not sustainable even with tax increases and other revenue boosting measures implemented in the last two years bondholders later were critical of his presentation if puerto rico were to lose its current level of federal support from the affordable care act and other measures the cumulative deficit would rise to 59 billion and even if spending is reduced to pay the debt you will soon realize that any reduction in spending implies intolerable',\n",
              " 'old school companies have tended to be on prem while new ones like snowflake have sprung up in the last few years so where does this leave us i don t know it s too early to tell but i do know that i m not the only one who s worried about the future of the internet a lot of people are too',\n",
              " 'based gilead sciences zmapp an intravenous treatment made by san diego s mapp pharmaceutical japanese drug favipiravir and regeneron pharmaceuticals regn3450 3471 3479 remdesivir was administered to its first patient in the town of beni on tuesday who is doing well the ministry said in its bulletin the ministry said',\n",
              " 'new york jan 19 reuters u s treasuries prices fell on tuesday as a bounce in global stock markets on less pessimistic data on chinese economic growth reduced safehaven bids for low risk government debt the initial rise in u s oil futures also pared demand for treasuries sending benchmark yields above the three month lows set on friday the data from china were not as bad as some people had feared that gave',\n",
              " 'bk brasil will use the proceeds from the sale of new shares to fund expansion of its chain of 492 restaurants in the country the transaction underlines how a stock market rally has turned companies attention back to the equities market after a',\n",
              " 'csra inc csra wins 1 5 million in cash and stock in return the company agreed to pay 100 000 to settle a lawsuit brought by a former employee who alleges that he was retaliated against for speaking out about his sexual harassment claims the settlement which was reached in april is expected to be finalized by the end of the year according to a source familiar with the matter who spoke on the condition of anonymity because the deal has not been finalized',\n",
              " 'the senate voted 63 30 for the bill that would display gmo contents with words pictures or a bar code that can be scanned with smartphones the u s agriculture department usda would decide which ingredients would be considered genetically modified the measure now goes to the house of representatives where it is expected to pass drawing praise from farmers the bill sponsored by republican senator pat',\n",
              " 'london received the most foreign investment in the world in 2015 with 1 3 billion up from 500 million in 2014 according to the world bank',\n",
              " 'samsung electronics co ltd paid apple inc 1 1 billion to settle a class action lawsuit alleging that it interfered with apple s mobile operating system apple and its parent company apple computer corp agreed to pay a 3 5 billion class action lawsuit filed in federal court in san francisco on tuesday the same day apple filed a motion to dismiss the lawsuit according to court documents the settlement was first reported by the wall street journal apple said it would pay apple',\n",
              " 'tesla ceo elon musk acknowledged that tesla is in the process of building a battery factory in california in an interview with the wall street journal musk said that the company is working on a prototype of the tesla model 3 which he said will be capable of charging up to 100 000 kilowatt hours kwh in less than a year the company plans to use the battery to power its electric cars tesla said in a statement',\n",
              " 'german environment minister svenja schulze said the government was committed to keeping the country safe we will continue to work with our partners to ensure the safety of our citizens and our environment she said in a statement',\n",
              " 'ubs switzerland s largest bank said it expects to be sued by the u s department of justice as early as thursday on civil charges related to the sale of mortgage backed securities in the run up to the 2008 09 financial',\n",
              " 'the s p 500 dow jones industrials and nasdaq composite clocked record closes with investors drawn to riskier assets as concerns about u s tensions with north korea eased and the financial impact from hurricane irma appeared less severe than was feared last week after the closing bell nordstrom shares jwn n',\n",
              " 'the oil tanker british heritage is operated by bp under an isle of man flag according to shipping data iranian foreign minister mohammad javad zarif dismissed the british report as worthless according to the semi official fars news agency the incident came almost a week after british royal marines boarded an iranian tanker the grace 1 off gibraltar and seized it on suspicion that it was breaking eu sanctions by taking oil to syria tensions',\n",
              " '19 with the foreign investment data for toronto and vancouver which together account for about 50 percent of home sales by value it s a good thing that this is coming but it would have been better to have it years ago government policy has been reactive whether they had evidence or not to base a reaction on said david madani senior economist with capital economics the most obvious example of policy made without proof of',\n",
              " 'below is the statement she delivered outside her residence in downing street on wednesday sir graham brady has confirmed that he has received 48 letters from conservative mps so there will now be a vote of confidence in my leadership of the conservative party i will contest that vote with everything i ve got i have been a member of the conservative party for over 40 years i have served it as an activist councillor mp shadow minister home secretary and now as prime minister',\n",
              " 'india s tata motors ltd reported on tuesday a loss for the three months through june hurt by higher raw material costs it said it made a net loss of 19 02 billion rupees 277 million compared with a profit of 31 82 billion rupees in the same quarter a year ago changes to the way jlr s pension payments are calculated had resulted in a one time gain of 36 09 billion rupees last year total expenses during april june rose about 17 percent to 698 90 billion rupees 1 68 5825 indian rupees',\n",
              " 'a montrose husband and wife said that after reading last month s reuters report they became alarmed and canceled a prepaid cremation contract with hess documents they retrieved from sunset mesa they said led them to believe their bodies would have been donated to science against their wishes the couple',\n",
              " 'duracell said the move will lead to a sophisticated reduction in the number of people who have to pay for their own health care we re going to have a system that will provide for everybody he said',\n",
              " 'wages to recover after the first industrial age automation of the 1810s and the agriculture to industrial shift of the 20th century lasted four decades karen harris managing director of bain s macro trends group forecasts that the new automation wave could displace 2 5 million workers a year that compares with 1 2 million a year displaced in the agricultural upheaval from 1900 to',\n",
              " 'it was up 19 bps in late trade marking its biggest daily jump since 2014 and biggest weekly rise in five years a little over a week ago it was trading below zero percent to view a graphic on italy s 2 year bond yield rockets click reut rs 2kuhawi ten year bond yields in spain italy and portugal were up 5 to 6 bps each spain s benchmark stock index fell 1 7 percent',\n",
              " 'twitter said its disclosures were the first time the company had disclosed such information to the public we will continue to work with our partners to ensure that our customers have access to our products and services as they see fit the statement said we look forward to sharing more information with you as soon as possible',\n",
              " 'after we have completed this step we can proceed to the next step 1 first you will need to make sure that you have the latest version of the application installed on your computer if you do not have this installed then it is not necessary to update it to do this follow the instructions in this section once you are done with the installation process create a new folder called application in this folder add the following line to your bashrc file',\n",
              " 'south africa s cabinet meeting set for wednesday has been postponed and a new date would be announced later the government s communication service said on tuesday hours after confirmation that president jacob zuma had been ordered by the ruling anc party to step down as head of state reporting by nqobile dludla editing by james macharia',\n",
              " 'artisan told reuters that it too wants the power grids spinoff which would help abb boost its profit margins abb is currently conducting a strategic review the results of which',\n",
              " 'government british columbia and alberta have been at war over kinder morgan canada ltd s kml to trans mountain project for months b c s government has pledged restrictive new environmental rules to block the project alberta home of canada s energy heartland',\n",
              " 'the securities and exchange commission has also launched a probe regarding musk s tweets on top of the sec s investigation into the company s stock price musk who is chairman of tesla motors inc has said he plans to sell his stake in tesla for 1 5 billion in a deal that would allow him to buy more shares in the automaker the deal is expected to be completed by the end of this year according to a person familiar with the matter',\n",
              " 'fortress biotech inc entered lease agreement for manufacturing facility to support clinical development commercialization of co s car t product candidates facility is expected to be operational for production of personalized car t therapies in 2018 has entered into a lease agreement with umass medicine science park in worcester massachusetts source text for eikon further company coverage',\n",
              " 'according to the indictment the gifts were worth more than 130 000 in return netanyahu allegedly used his executive powers to help milchen in his personal and business affairs',\n",
              " 'argentina s bonds rallied by up to two points on monday after a favorable ruling on friday in the country s legal battle against holdout creditors argentina s 2033 discount notes were among the most',\n",
              " 'le mans 24 hours winners toyota have committed to staying in the world endurance championship wec after 2020 when rule changes come into force and the top category switches to hypercars the japanese manufacturer said in a statement before this weekend s race at le mans sarthe circuit that it',\n",
              " 'the firm aims to start trial runs in october at a newly built refinery in the northeastern port city of dalian that will be among the five biggest refineries in china we will start using our quota this year said a senior hengli official who declined to be identified because he was not authorized to speak to the media we hope to get enough allowances for the refinery to start trial operations',\n",
              " 'stockholm reuters north american heavy truck orders class 8 were for 13 100 units in june the lowest figure since the third quarter of 2010 preliminary figures from act research showed on wednesday despite increasingly easy year over year comparisons class 8 vehicle orders continued to lose traction in june kenny vieth act s president and senior analyst said in a statement reporting by sven nordenstam',\n",
              " 'bouygues said chairman and chief executive martin bouygues will propose his son edward and nephew cyril as members of the board of the telecoms media and construction group putting a younger generation in place as he prepares his succession the proposals were made in resolutions',\n",
              " 'polarityte inc polarityte inc enters formal agreement with cell therapy and regenerative medicine a leading cell therapy manufacturer in the intermountain west polarityte inc announces signing of a manufacturing agreement with cell therapy and regenerative medicine at university of utah school of medicine source text for eikon further company coverage',\n",
              " 'they ve received a 2 million grant from the walmart foundation and a 3 million series a from ctw venture partners this latest round is a series a1 the company s sewbots has produced 2 million home goods since',\n",
              " 'raffensperger defeated former georgia congressman john barrow a democrat garnering more than 50 percent of the vote with most of georgia s 2 634 precincts reporting raffensperger will serve as georgia s chief elections official and oversee voting in the state the results come weeks after georgia s controversial governor s race former georgia secretary of state brian kemp a republican defeated former house minority leader stacey abrams a democrat who would have been america s first black woman governor in an election',\n",
              " 'many unable to vote due to ebola conflict vote chooses successor to kabila contest may be congo s',\n",
              " 'nutanix inc nutanix inc says on october 27 2017 bipul sinha resigned from his role as a member of board of nutanix inc sec filing nutanix board expanded size of board from seven to eight members nutanix inc appointed susan l bostrom and craig conway to serve as class i and class ii directors respectively source text bit ly 2a4alsw further company coverage',\n",
              " 'u s secretary of state rex tillerson on tuesday called for global action after north korea fired a long range rocket into the sea off the korean peninsula north korea is capable of launching an intercontinental ballistic missile icbm at any time tillerson said at a news conference in new york the united states and the international community must ensure that this is not the case we need to make sure that we do what we can to prevent this from happening again',\n",
              " 'oct 16 reuters telstra corporation s profit is expected to halve upon the national broadband network s nbn scheduled rollout in 2021 telstra s chairman said in an address at its annual general meeting not a few percent half john mullen chairman of australia s biggest telecom operator said highlighting the impact of the nbn s rollout on telstra s earnings the company earlier said the network would hit earnings by about a 3 billion a year after its scheduled completion but had not previously flagged an impact on profit reporting by aditya',\n",
              " 'royal dutch shell is not taking any british flagged tankers through the strait of hormuz amid heightened tensions with iran in the vital chokepoint for oil shipments there are shell managed vessels in the strait of hormuz and that will probably continue to be the case currently though there are no uk flagged vessels chief executive ben van beurden told reporters if the anglo dutch oil and gas company does use a british flagged vessel in the future it will be accompanied by the royal navy as a precaution',\n",
              " 'chris jones chief product officer at amperity says this is an important step for the startup if you think about the evolution of our company we started with an idea that turned into a marketing data platform which was the engine that powered all of that',\n",
              " 'tim chairman arnaud de botton said there are a number of factors that are driving this he said in a statement one of them is that the government does not have the resources to make sure that we have a system in place to ensure that everyone is getting the services they need',\n",
              " 'office of management and budget director mick mulvaney reopened the debate over affordable care act payments to insurers this afternoon suggesting at a white house briefing that the trump administration hasn t decided whether to provide the may payments for cost sharing reduction subsidies flashback the administration promised democrats last week that it would keep making the payments for now a promise',\n",
              " 'general motors has offered voluntary buyouts to 18 000 salaried employees in north america who have at least 12 years of experience as the automaker looks to cut costs all while investing in its electric and autonomous future the company has described this as a proactive measure aimed at preparing for coming headwinds such as slow sales in north america and china commodity prices and tariffs but it s just as much about preparing for',\n",
              " 'turkey wants to open a new border gate with iraq in cooperation with the central government in baghdad after it shuts down the existing gate in response to last week s kurdish independence referendum prime minister binali yildirim said we have proposed opening the new ovakoy gate west of currently used habur gate to baghdad and we are expecting their support we will be',\n",
              " 'as he was deliberating last year he found that there was no such thing as a state of mind it was just a feeling he said i didn t know what i was going to do i just felt like i had to make a decision',\n",
              " 'the following are some of the major issues that i ve encountered in my day to day work 1 not enough time is given to people who don t know how to get things done i have to make sure that people understand that they need to be able to do what they want with their time and i m not going to allow that to happen in the first place if you can t get people to understand what s going on then you re not doing the job',\n",
              " 'mahindra and mahindra financial services ltd mahindra and mahindra financial services ltd consensus forecast for sept quarter profit was 1 60 billion rupees sept quarter profit 779 9 million rupees sept quarter revenue from operations 16 61 billion rupees profit in sept quarter last year was 948 2 million rupees revenue from operations was 14 92 billion rupees says aum as on sept 30 up by 14 percent at 499 18 billion rupees',\n",
              " 'french startup soundcharts is building a new way of doing business the startup soundcharts is working with u s and international companies to create a mobile app that allows users to manage their business on their mobile devices the app will be available on ios android and windows phone devices by the end of the year the company said in a blog post on its website it also said that the app would be able to be used by businesses in the united states',\n",
              " 'china s central bank on tuesday lent 200 billion yuan 29 12 billion to financial institutions via its one year medium term lending facility mlf with the',\n",
              " 'the students also said that the post parkland gun control debate has failed to fully acknowledge how gun violence affects black youth according to a 2017 analysis of fatal and nonfatal childhood firearm injuries compiled by researchers from the centers for disease control and prevention black children face the highest rates of firearm mortality a difference largely driven by black youth being more likely to',\n",
              " 'marine harvest asa ceo says expects high cost level also in q4 ceo says our average price is about 90 percent of spot price due to contract commitments ceo says we see that we will have a high contract share also in the first half of 2017 further company coverage reporting by joachim dagenborg editing',\n",
              " 'gabriel told turkey s mevlut cavusoglu he worried about the humanitarian consequences of an escalation in syria and both men agreed the syrian political process should now be continued in an intensive manner a ministry official said turkish president tayyip erdogan on monday said there would be no stepping back from a turkish air and ground push across the border aimed at crushing u s backed kurdish ypg fighters who control syria s afrin region gabriel is under fire from opposition lawmakers and even members of',\n",
              " 'voters in three congolese cities known as opposition strongholds will be excluded from presidential elections on security and health grounds officials said in a move that looks certain to inflame political tensions before sunday s ballot the national electoral commission ceni said an ebola outbreak the second worst in history was behind the postponement of voting until march in the eastern democratic republic',\n",
              " 'about one quarter of federal operations have been partially closed by a lack of funding since dec 22 after trump demanded 5 7 billion this year from congress for building a security wall on the southwest u s border at a speech to an american farm bureau convention in new orleans trump again urged congress to grant him the money saying drones sensors and other technology cannot do what a wall can do to stop illegal border crossings farmers a key',\n",
              " 'a panel of experts appointed by president cyril ramaphosa to advise south africa s government on how to resolve the issue of land reform restitution and redistribution handed in its final report on tuesday the presidency said land rights are among the most pressing issues in south africa more than two decades after the end of apartheid when millions among the black majority were dispossessed of their land by a white minority last year the ruling african national congress anc proposed a constitutional',\n",
              " 'central bank said the economy had gained steam and job gains remained solid and expressed more optimism that inflation was moving toward its 2 percent target the fed is teasing investors by inserting language to suggest they need just',\n",
              " 'the republic of turkey is reopening its march 2027 bond for an expected us 1bn according to leads the bond is being marketed at an initial yield of 5 85 area the notes which carry a',\n",
              " 'president trump will not meet today s deadline to file his 2017 tax returns white house press secretary sarah sanders confirmed tuesday and has filed for an extension with the irs why it matters trump s tax returns have come under intense scrutiny after he broke decades of precedent by refusing to release them during his presidential campaign and though sanders said trump will file his 2017 returns by the extension deadline of october 15',\n",
              " 'faced with weak international prices and the fact that the country s economy is struggling to make ends meet the government has not been willing to invest in the renewable energy sector we have to look at the long term future of the electricity sector the minister said we need to take steps to ensure that our country is able to meet its energy needs we are in a difficult situation but we have a lot of work to do in order to get there',\n",
              " 'mike allen passes on a telling quote from a newspaper columnist i don t know if he s going to be able to get a job but he has a lot of talent he s got a good body i think he ll be a very very good player for a long long time to come',\n",
              " 'iraq s top shi ite cleric abu musab al zarqawi has said that the u s led coalition is engaged in a war of attrition against the islamic state of iraq and the levant isil we are fighting a war against isil and this war is going to be waged by the united states and its allies against daesh zawahiri said in an interview with al monitor on sunday we will not allow this',\n",
              " 'it s no secret that many in the district of columbia are unhappy with congress control of its budget and resent its lack of federal',\n",
              " 'rs 2biywft the tunnel would connect the cities airports and it would also be used to transport cargo to and from the world trade center i think we re going to have to wait and see he said',\n",
              " 'all flights at amsterdam s schiphol airport were cancelled on thursday due to a severe storm it said in a statement the airport scrapped',\n",
              " 'there is a refugee admission ceiling set by the obama administration i think we have to make sure that we are going to do the right thing for the people of this country he said',\n",
              " 'some car makers are experimenting with putting alexa in their vehicles making it possible for drivers to access amazon s voice assistance while driving but logitech has a new feature that makes it possible to get in car alexa access without waiting for infotainment system integration the new logitech collaboration with amazon s alexa service adds alexa voice control to the suite of features available on logitech s zerotouch smart car mounts which include',\n",
              " 'angels in america has been a constant source of news coverage in the u s for more than a decade in 2015 for example the new york times published an article titled president trump s first 100 days in office the article focused on the president s first 100 days as president noting that he spent the first four months of his presidency with a record of approval ratings of 61 percent this year his approval rating has increased to 62 percent according to the',\n",
              " 'europe s largest airline by passenger numbers pledged in december to recognize unions for the first time but it has struggled to reach collective labor agreements with some its pilots in germany voted overwhelmingly on monday in',\n",
              " 'the only thing for certain about brexit proofing your portfolio is the transaction costs on the eve of the critical british referendum on brexit the polls were reasonably tight with enough variety to please all sides votes for',\n",
              " 'despite the backlash hurled at the nra following last month s florida high school shooting the group has come under fire for its position on gun control in a statement issued thursday nra executive vice president wayne lapierre said the nra is committed to the second amendment and the right to keep and bear arms and to ensuring that those rights are respected by all americans regardless of their race color religion national origin sexual orientation gender identity or disability the nra has',\n",
              " 'hong kong shares fell for a third straight day on wednesday the hong kong stock exchange the world s largest trading exchange closed up 0 4 at hk 9 30 while the s p 500 index closed down 1 2',\n",
              " 'global energy related carbon dioxide co2 emissions could be reduced by 70 percent by 2050 and completely phased out by 2060 research by the international renewable energy agency irena showed',\n",
              " 'mylan nv entered into definitive documentation to establish an unsecured commercial paper program sec filing company may issue short term unsecured commercial paper notes amounts available under cp program may be borrowed repaid and re borrowed with principal amount of cp notes outstanding not to exceed 1 65 billion source text for eikon further company coverage',\n",
              " 's carriers are facing mounting concern about the mosquito borne virus as investors mull a slump in demand to the caribbean and other tourist hotspots zika is not airborne so there is not a danger of it being transmitted between passengers american s president scott kirby said on a call with investors friday as a result you wouldn t expect it to have as big an impact as something like sars zika linked to birth defects',\n",
              " 'at the same time altmaier has called on china to ensure a level playing field in economic relations and he warned that the government had a duty to protect critical infrastructure such as power and communication networks germany introduced rules to shield critical sectors against foreign influence in 2004 and expanded them in 2017 they are meant to protect vital infrastructure such as energy water food supply',\n",
              " 'theresa may s request for a brexit extension lacks meaning without the support of parliament and the european union should not decide on it before this becomes clear a senior member of german chancellor angela merkel s conservatives said may',\n",
              " 'there s just one wrinkle there s absolutely no science behind marijuana as an analgesic for period pain and with the legal landscape around marijuana shifting in this country we may see more celebrities attempting to profit off the green rush with pseudoscience products i searched for scientific',\n",
              " 'two lawsuits have been filed against apple on thursday by plaintiffs in california and illinois who argue that the company did not have consent to slow down their iphones',\n",
              " 'canada s main stock index turned lower in early trade on thursday as financial and railway stocks slipped while broad gains for resource stocks on higher commodity prices offset the downdraft the toronto stock exchange s s p tsx composite index',\n",
              " 'pedro florimon began the bottom of the 12th with a grounder to reds second baseman scooter gennett who overthrew first baseman joey votto and florimon ended up at second a sacrifice bunt moved florimon to third and hernandez was intentionally walked by right hander austin brice 0 1 before kingery hit a fly to right to score florimon right hander yacksel rios 1 0 recorded one out in the top of',\n",
              " 'beijing thunisoft co ltd says it signs mou with tsinghua university china s alibaba group holding corp baba o said on thursday it had signed a deal with the university of hong kong the country s second largest university for the first time since its founding in 1997 the deal was announced at a meeting of the university s board of governors which included alibaba ceo jack ma we are pleased to be a part of this new partnership',\n",
              " 'the average new york city taxi driver may still be sassy but will not be required to speak english any longer the change is the result of a new law that mayor bill deblasio signed in april and went into effect on friday eliminating the english proficiency exam for taxi and for hire vehicle drivers it is the latest big change for cab drivers as policymakers and regulators try to adapt the city s requirements to demographic and technological changes the legislation created a',\n",
              " 'the united states is pushing mexico to keep asylum seekers on its side of the border clamp down on people smugglers and tighten controls on migrants in the south of the country three mexican sources said ahead of talks in washington on wednesday among the talking points ahead of a meeting at the white house to stave of threatened tariffs are u s',\n",
              " 'known as 30 30 30 30 the plan would require nato to have 30 land battalions 30 air fighter squadrons and 30 ships ready to deploy within 30 days of being put on alert it does not discuss specific troop numbers or a deadline for setting up the strategy the size of battalions vary across nato from 600 to 1 000 soldiers that lays down a challenge for european governments pilloried by u s president',\n",
              " 'applied materials inc the world s largest supplier of equipment used to make chips reported a 19 3 percent rise in quarterly revenue on thursday as chipmakers ramped up spending to meet rising demand for memory from smartphone makers net income rose to 1 17 billion or 1 17 per share in the third quarter ended july 29 from 925 million or 85 cents per share a year earlier net sales rose to 4 47 billion from 3 74 billion reporting by munsif vengattil in bengaluru',\n",
              " 'paramount resources ltd paramount resources ltd enters into an agreement to sell 310 net sections of its deep basin musreau kakwa assets to seven generations energy ltd for total consideration of 1 9 billion seven generations provided paramount',\n",
              " 'now they realize they re in the same boat and need to row in tandem to keep global crude supply and demand in balance',\n",
              " 'hanjin lawyers said that many cargo owners had received their goods on credit but have yet to pay the shipping company hanjin the world s seventh largest container carrier filed for bankruptcy in august stranding 14 billion worth of cargo at sea as the company lacked cash to pay cargo handlers tug operators or ports south korea s government said on friday that enough money had been pledged to unload hanjin ships by the end of october an attorney for ashley furniture industries a wisconsin based furniture',\n",
              " '5 fernando verdasco of spain turkish airlines open antalya serbian qualifier viktor troicki endured soaring temperatures and knocked out top seeded frenchman benoit paire 7 6 4 7 6 5 to reach the quarterfinals paire fired 11 aces and won 85 percent of his first service points but converted only two of his five break chances against the 193rd ranked challenger troicki next faces countryman miomir',\n",
              " 'under the hood the dual sim handset has a qualcomm snapdragon 425 chipset 1gb ram and 8gb of storage though there s a slot for expanding storage capacity up to 128gb also on board 4g cellular',\n",
              " 'by the numbers most of the industry s big players swelled their lobbying budgets by at least 10 in the second quarter of this year compared with the same period in 2018 phrma 6 22 million up 12 3 american hospital association 4 87 million up',\n",
              " 'the lawyers for the italian government argued that the country s top administrative court should unblock a landmark reform to transform the large popolari banks into joint stock companies a legal document seen by reuters showed on july 31 italy s state council an administrative court will',\n",
              " 'we knew the xbox one was set to get keyboard and mouse support eventually but now we know exactly when november 14th don t expect all xbox one games to play friendly with the new keyboard mouse functionality right out of the gate it s up to individual developers to figure out if how it works with their games and patch things up accordingly so only a handful will support it at first but one of the first titles picking up support is a',\n",
              " 'u s authorities have been investigating the companies controlled by j f alongside their brazilian counterparts since 2012 in july the justice department launched an investigation into the two companies which are listed on the new york stock exchange',\n",
              " 'csi300 index 3 6 pct shanghai composite 2 7 pct trump said to want trade agreement with xi at g20 domestic investors cheer xi support pledge for private firms hsi up 4 2 pct biggest daily',\n",
              " 'crude prices settled up 3 7 percent on hopes that opec and non opec producers would tackle an unrelenting supply glut with oil at 12 year lows and threatening to put higher cost producers out of business investors have been reeling from a turbulent start to the year that has left the s p down 7 percent from the end of 2015 this is a schizophrenic',\n",
              " 'u s olympic gold medallist and bronze medalist in the 100m freestyle relay he was a member of the women s team at the 2012 beijing olympics',\n",
              " 'a journalist working for the largest dutch financial newspaper who was expelled from turkey on thursday was deported on suspicion of links to terrorism a turkish official said he did not provide further details on the allegations against ans boersma 31 her paper het financieele dagblad said she had been visiting an immigration office in istanbul to extend her visa on wednesday when she was detained reporting by dominic evans writing',\n",
              " 'every week throughout season six a handful of vox s writers will discuss the latest episode of game of thrones before you dig in check out our recap of sunday s episode as well the archive of our entire discussion to date first up this week is culture editor todd vanderwerff todd vanderwerff what just happened on game of thrones vox writer caroline framke asked me',\n",
              " 'when the congressional budget office released its assessment of the republican bill to replace obamacare coverage converged on the startling estimate that 24 million people would lose coverage as a result of the gop plan but the bill would also raise costs for poor and older americans and cut medicaid by 880 billion over 10 years despite the widely negative coverage of the score and swift condemnation from groups ranging from health care lobbies to conservative political organizations house speaker paul ryan continues to argue that the',\n",
              " 'oh my god there is no word to describe the feeling said a beaming strycova who lost to serena williams in the women s singles semi finals they became the first team to lift the doubles crown at wimbledon without dropping a set since serena and venus williams in',\n",
              " 'aa plc trading in line with the above rules traded in to the market this is the first step in the process of buying selling or exchanging shares of a company these trades may be made with or without the permission of the company s board of directors if you do not wish to have your shares traded in you may only trade in shares that are listed on the new york stock exchange the nyse you may not trade',\n",
              " 'washington reuters the new york times reported on thursday that u s intelligence agencies had concluded that russia intervened in the 2016 presidential election to help donald trump win the white house file photo president barack obama speaks during a news conference at the office of the director of national intelligence odni headquarters in washington april 29 2017 reuters joshua roberts file photo reporting by roberta rampton editing by peter cooney',\n",
              " 'brazilian state run petrobras this week received 425 million reais 112 million as part of a deal with the country s central bank brazil s economy grew at an annual rate of 2 4 percent in the first quarter of this year the international monetary fund imf said in a report on thursday that is more than double the 1 9 percent growth recorded in 2013',\n",
              " 'editorsnote fixed slug harden scores 42 in rockets ot win over bulls houston there wasn t a whole lot going right for houston on offense in the second half of friday s game against chicago but then james harden the player the rockets expect to carry them in the clutch took charge and got a lot of help from teammates eric gordon and trevor ariza in the final minutes of regulation that allowed houston to force overtime that s when',\n",
              " 'in shanghai metal is piling up in warehouses registered with the shanghai futures exchange shfe the price of metal has risen in the past two years but this is due to the high demand for metal in china said a spokesman for the shfe we are trying to find a way to reduce the demand in this market',\n",
              " 'regrettably this is not the first time that we ve seen it in 2009 we had a story about a young man who was raped by a group of young men we contacted the police and found out that this was a case of sexual assault and that they were investigating the incident it was reported to us and we were told that the victim had been sexually assaulted by the men in the group the police were called to the scene and the man was taken to',\n",
              " 's crude prices appear set to follow the international brent benchmark from contango into backwardation in the next few months as oil inventories in the united states dwindle u s commercial crude stocks have fallen by 23 million barrels since the start of the year',\n",
              " 'bilateral investment talks between the united states and russia are expected to take place in the next few days the russian foreign ministry said that the two sides had reached a framework agreement on the issue but that it was still unclear whether it would be possible to reach an agreement by this time next year russia s foreign minister sergei lavrov l and russian president vladimir putin r attend a news conference after a meeting at the white house in washington u s',\n",
              " 'the cost of insuring exposure to turkish government debt jumped on monday to its highest level since the days following the bungled coup on july 15 after moody s slashed the country s credit rating to junk five year turkish credit default swaps cds jumped by as much as 30 basis points to 276 bps from friday s close of 246 bps before trading at around 268 bps according to financial data provider markit',\n",
              " 'rookie power forward skal labissiere has been one of the hottest free agents on the market this offseason and he s the type of player you want on your team the 6 foot 2 230 pound labisiere is expected to sign a one year 1 5 million deal with the toronto maple leafs in the coming weeks he s coming off his best season of his career when he averaged 5 9 points 2 8 rebounds and',\n",
              " 'hedge fund appaloosa lp on thursday it s a very positive development said co founder and managing partner jeff morley we ve been looking for a way to build a long term relationship with the company and we re excited to be able to do that we re looking forward to working with them on this project',\n",
              " 'the country erupted in protest and the government responded with force at times firing live rounds into crowds of demonstrators some 30 people have died in the violence thus far today s crisis has roots going back almost a decade and has been consistently enabled by',\n",
              " 'history attorney general doug peterson said in a statement that his office would move to have an execution date set for jose sandoval 38 within 60 days twenty three people have been executed in the united states so far this year compared with 20 in 2016 and',\n",
              " 'the search giant announced changes to its tezuka database in a blog post on friday the company said that it has changed the name of the database to previously known as tezuka to reflect the new name the change was made to ensure that the search engine will not be used for commercial purposes it said in the post it also said it will no longer use search engines such as google bing or yahoo for its search results and will instead focus on the',\n",
              " '1 percent in june down from 7 1 percent at the fed s last survey in february and the lowest level since the new york fed began its consumer expectations credit access survey in october 2013 the proportion of respondents who were granted credit in',\n",
              " 'translation software maker sdl plc said 2016 results would be slightly ahead of market expectations helped by a weaker pound revenue from continuing operations and profit before taxation amortisation of intangible assets and one off costs would be slightly ahead of market expectations the company said companies with overseas businesses have seen their earnings rise in sterling',\n",
              " 'european banking supervisors have looked closely at ship portfolios in germany to ensure the banks have properly valued and provisioned for them nordlb s rivals such as hsh commerzbank dvb and kfw have',\n",
              " 'universal electronics inc universal electronics inc on october 27 2017 co entered into an amended and restated merger agreement the merger effective as of the date of this press release the following table sets forth the terms and conditions under which the company will enter into the mergers including a description of each of its key elements the company intends to use this table to provide you with information that will assist you in understanding the transactions contemplated by these merges',\n",
              " 'more than 20 states including virginia kentucky california new york and massachusetts have declined to expand medicaid under the affordable care act the states that have not expanded medicaid are alabama arkansas colorado connecticut delaware florida georgia hawaii idaho illinois indiana iowa kansas louisiana maine maryland michigan minnesota mississippi missouri montana nebraska nevada north carolina ohio oklahoma oregon pennsylvania rhode island south',\n",
              " 'facebook the world s largest social media network said in september only that russians had created several promoted events copies of the event pages that have surfaced since then show that at least some of them were political rallies centered on divisive subjects such as immigration russia denies the conclusions of u s intelligence agencies that it tried to meddle in american democracy facebook delivered the details to congress this month in response to written questions',\n",
              " 'the house oversight committee passed a vote on the bill on tuesday the bill now heads to the senate for a final vote',\n",
              " '05 billion euros 1 17 billion including debt two of the sources said brookfield plans to buy a 20 stake in the company from the riberas family an industrial dynasty from northern spain that founded car parts maker gestamp it also',\n",
              " 'some 3 4 billion mexican pesos had been paid to phantom companies the report said the mcci and animal politico report investigated findings by mexico s congressional auditor asf from',\n",
              " 'san far property ltd says it will use undistributed profit to pay cash dividends of t 0 6 per share to shareholders for 2017 says it will use undistributed profit to distribute stock dividend worth t 0 75 for every one share source text in chinese goo gl a7yymh further company coverage beijing headline news',\n",
              " 'sinomach automobile co ltd says it will pay a cash dividend of 1 2 yuan before tax per 10 shares to shareholders of record on may 19 says it will use additional paid in capital to distribute five',\n",
              " 'bank networks go down transport is unpredictable at first we weren t totally prepared for it said ellsworth who has come to accept short outages as normal after 15 years reporting in the country s capital once it was clear that march s first blackout would be longer than usual the bureau immediately stocked up on water and bought',\n",
              " 'if you ve been laying off the pokémon go for a while due to a lack of new monsters prepare to be glued to your phone again niantic is now adding pokémon from the rugged sinnoh region that first appeared in 2007 s diamond pearl and platinum games of course it s not so simple as a dump of a hundred new mon into your area the new guys are arriving in waves likely meaning the most',\n",
              " 'similarly a child s math skills were negatively impacted as well the study found the percentage of children who did not have a high school diploma dropped from 44 percent to 33 percent the findings suggest that we need to rethink the way we teach children about math and science said dr richard h davidson director of the national center for education statistics at the university of california san francisco if we re going to be able to teach kids about science and math then we',\n",
              " 'the firm blamed tough competition from china and the united states for slowing its growth in the past two years the u s has seen an increase in the number of chinese owned companies operating in china the firm said in a statement this is not the first time this has happened in fact it s the only time in recent history that china has experienced this type of growth',\n",
              " 'india s finance minister expressed concern on thursday that a growing populist backlash against globalization and free trade could have an adverse impact on the world economy addressing a gathering of finance officials of the brics group of emerging nations arun jaitley singled out britain s vote to leave the european union as well as an aggressive campaign against trade deals in the u s presidential election part of the developed world is moving towards protectionism jaitley said if developing countries see a trend of',\n",
              " 'correction an earlier version of this post stated that the photos had not been released before in fact the images have been available since september 2011 and were rereleased friday after it was brought to the agency s attention that there had been a problem with the link to the images since december the fbi has rereleased 27 photos of the 9 11 terrorist attack on the pentagon the pentagon attack was one of three coordinated terrorist attacks that day 189 people died at the pentagon',\n",
              " 'for the previous installments see ford spent 40 million to reshape asbestos science f a q to investigate bombing asbestos is one of the most common forms of asbestos in the united states it is a mineral that has been used in many industries for thousands of years in fact the u s department of health and human services hhs has estimated that there are more than 2 5 million asbestos related deaths each year',\n",
              " 'barra was at ces in las vegas this week to unveil a product that might help expedite facebook s mission a new standalone vr headset exclusively for the chinese market facebook is partnering with xiaomi barra s old employer on both the technical and distribution side of the new product while the arrangement was finalized after barra joined facebook he claims his presence at the social giant didn t',\n",
              " 'political analyst charlie cook today changed his race rating for the texas senate race to toss up from lean republican he also moved the race rating in west virginia in favor of democrats and the montana race in favor of republicans why it',\n",
              " 'the executive said we re going to make sure we do a better job of it the company said it would not comment further on the report which was commissioned by the company s board of directors and is due to be released later this month',\n",
              " 'locking yourself into the relatively narrow category of politicians who are willing to do anything to get what they want image copyright getty images image caption theresa may is facing a tough re election battle in may s leadership contest with jeremy corbyn who has been in power for six years says he would like to see the conservatives back in government but he says it is too early to say if he will be able to win back the support of the labour party i think',\n",
              " 'armed with hundreds of millions of dollars in tax breaks and subsidies the obama administration has been trying to sell itself as a champion of the middle class but that s not what it really is in fact it s an attempt to pretend to be a staunch defender of wall street s long standing role in the economy it is in other words a policy that takes a lot of money from the rich and gives it to the poor and in doing so obama has',\n",
              " 'if the answer is no then we have an obligation to purify that portfolio he told analysts on a conference call i don t think that spin off story at least vis a vis fca',\n",
              " 'value line inc value line inc announces a 5 88 pct increase in the price of its common stock on the tsx venture exchange the increase is in line with the company s expectation that the market will continue to grow at an average annualized rate of 4 5 per year over the next five years we are pleased to be able to launch our first 1 7 billion series a convertible note which will be issued on or after december 31 2017',\n",
              " 'independent bank corp independent bank corp reports first quarter net income of 27 6 million q1 earnings per share view 1 05 thomson reuters i b e s q4 earnings per share view 0 89 thomson reuters i b e s net interest income for q1 increased 0 9 to 68 5 million compared to 67 8 million',\n",
              " 'scientists have developed a tool that decodes brain signals for the speech related movements of the jaw larynx lips and tongue and synthesizes the signals into computerized speech according to a small study published in nature on wednesday why it matters researchers want to help',\n",
              " 'sinclair broadcast group inc sinclair broadcast group inc says its unit will redeem in full outstanding 350 0 million aggregate principal amount of notes on august 30 2016 sinclair announces redemption of 6 375 senior unsecured notes',\n",
              " '75 billion to 1 95 billion this year the government is trying to reduce the number of people who can t afford health insurance which will cost the government about 2 5 billion over the next decade according to a report released this month by the centers for medicare and medicaid services',\n",
              " 'longer dated u s treasury yields fell more than shorter dated yields on tuesday and the yield on the benchmark 10 year treasury note fell to its lowest level since june 2009 the fed s bond buying program which has been under review since the financial crisis is expected to last for at least another year or more according to a person familiar with the matter the central bank plans to raise interest rates next week a move that could push yields higher',\n",
              " 'o forecast slower revenue growth for the second quarter on monday sending its shares tumbling more than 9 percent even though its expansion in the first three months broadly met expectations the outlook from china s second biggest ecommerce firm after market leader alibaba group holding ltd baba n is the latest to raise questions about an economy that grew at its slowest pace since the global financial crisis in the first quarter jd com s shares fell as much as 9 1 percent to 22 90 in morning',\n",
              " 'the forestry office confirmed a permit was issued two years ago for the purpose of forestry research under the mandate of the mount kenya community forest association that association is legally recognised by the government to perform activities in the forest such as tree planting and forest fire prevention atiriri s chairman ngai m uboro said the politicians received a permit that communities would never be',\n",
              " 'distancing himself from political tensions over issues like the border wall u s defense secretary jim mattis said he aimed to build trust and show respect for mexico during a trip',\n",
              " 'the judge in the trial deemed the case to be a substantial factor in determining the guilt of the defendant the trial court concluded that the evidence was insufficient to support the jury s finding of guilt the trial judge found that there was no reasonable basis to believe that it was a substantial factor in this case he said however that there is no basis for concluding that the defendant is guilty of a crime the judge further stated that t',\n",
              " 's president donald trump advocated tightening background checks for guns in response to last week s mass shooting at a gay nightclub in orlando florida i think it s time for congress to do something about it trump said in an interview with fox news sean hannity we need to make sure that people don t have to go through a background check every time they buy a gun i think that s one of the things that we re going to be looking at very carefully',\n",
              " 'april 8 reuters diana shipping inc dwd n said on friday it had raised the price of its diesel powered vehicle from 1 000 to 2 500 for the first time in less than two years the company said it would raise the cost of diesel vehicles from the current 3 300 to the 4 100 level by the end of the year the price increase is expected to be phased in over the next five years it said',\n",
              " 'technical indicators suggest a cyber attack which hit russia and other countries this week was carried out by hackers behind a similar but bigger assault on ukraine in june security researchers who analyzed the two campaigns said on wednesday russia based cyber firm group ib said the badrabbit virus used in this week s attack shared a key piece of code with the notpetya malware that crippled businesses',\n",
              " 'the american chamber of commerce in china also said in a report on its annual membership survey even handed enforcement of laws and regulations regardless of shareholder nationality and an open investment environment were needed to reduce trade frictions between china and the united states after several years of contraction more companies are expanding investment yet the growth in investment will remain much slower than',\n",
              " 'swiss national bank governing board member andrea maechler has given another hint that the central bank will stick with its expansive monetary policy saying low swiss inflation gave little reason for it to change direction maechler warned against raising interest rates too early a move she said could be counterproductive for inflation and the overall swiss economy if we would now end our expansive monetary policy there would be a big risk that we would endanger the favorable development she told',\n",
              " 'zurich reuters switzerland should welcome innovation in cryptocurrencies but needs to be on guard against potential abuses by criminals ubs group chief executive sergio ermotti told a panel discussion on tuesday on balance a positive development but watch out he said when asked how he felt about the new swiss based libra',\n",
              " 'the way children watch tv is changing shifting away from the big screen in the living room to tablets and other mobile devices in order to better cater to the needs of this more digital audience pbs has now launched a new 24 7 tv channel pbs kids which is available on television through pbs member stations but also as a streaming service via the web and the pbs kids app according to the company the new station and its streaming service will',\n",
              " 'lyft along with 11 other companies is currently vying for a permit to operate an electric scooter service in san francisco as of july 19 the san francisco municipal transportation agency was still reviewing the 12 applications from companies to operate electric scooters in the city a',\n",
              " 'hanam south korea reuters south korea s hyundai motor 005380 ks will launch its standalone premium auto brand genesis in china within two to three years betting on a luxury lane to profit as competition bites at the lower end of the world s biggest auto market genesis brand chief',\n",
              " 'although we figured the economy was going to get better in the next couple of years there was still a lot of work to do he said',\n",
              " 'there were rumors that the border with venezuela was going to be shut and i left early to avoid getting stuck said irene bravo 55 sitting on the ground surrounded by big bags as she waited to get her passport stamped by colombian authorities the situation is unsustainable in venezuela everything is',\n",
              " 'guinness nigeria plans to seek shareholder approval to raise 40 billion naira 127 19 million via a rights issue on tuesday to boost its balance sheet the company said the company a unit of diageo posted a loss of 2 21 billion naira in the first quarter compared with 517 6 million naira a year ago guinness said it expected the share sale will give it financial and operational flexibility the issue is',\n",
              " 'everyone should read it the kemper project was supposed to be a lifeline for coal in a world that s inching toward low carbon energy owned by southern company the plant aimed to convert coal into synthetic gas',\n",
              " 'as snap the parent company of snapchat gears up to report its quarterly earnings next week it looks like the company is making some moves to beef up its primary business line advertising techcrunch has learned that the company has acquired metamarkets an ad tech startup that provides programmatic ad data related services to marketers such as a data dashboard to measure how campaigns are performing an api to import your programmatic',\n",
              " 'v sutton power station in north carolina about 8 miles northwest of wilmington duke sutton power station was built in 1867 and has been in operation since then it has a capacity of 2 000 megawatts and is located in a small town on the outskirts of durham n c about 15 miles northeast of raleigh the power is supplied by duke power which is owned by the duke energy corporation a subsidiary of the u s department of energy',\n",
              " 'u s stocks fell on tuesday the s p 500 closed down 1 4 percent the dow jones industrial average closed up 2 2 percent while the nasdaq composite gained 0 8 percent and the standard poor s 500 gained 1 percent on the day',\n",
              " 'britain s competition regulator said heineken s proposed takeover of punch taverns would face an in depth investigation unless the dutch brewer offers to address competition concerns around 33 pubs heineken and investment partner patron capital struck a 403 million pound 500 million deal december to buy and break up punch taverns paving the way for heineken to become britain s third biggest pubs group',\n",
              " 'the next step for us is to make sure that we re in a position where we can be able to provide the best possible service to our customers she said we re going to do everything in our power to ensure that this is the case',\n",
              " 'facebook inc on wednesday named one of its veteran executives andrew bosworth to lead all of its consumer hardware efforts including its building 8 division the business insider',\n",
              " 'norway state oil firm petoro s ceo grethe moen told an industry conference in washington last week we don t want to be in a situation where we re going to have to take that risk he said',\n",
              " 'most patients were discharged to home from the emergency room but 15 were hospitalized and two required admission to the intensive care unit just 10 patients had been wearing a',\n",
              " 'the south korean team s thoughts turned quickly to food after tying for the olympic silver medal in the four man bobsleigh on sunday and hungriest of all was brakeman kim donghyun i changed my position from pilot to brakeman so i had to lose weight by about 15 kg so i want to eat some high calorie food like',\n",
              " 'the founder of the largest indian chain of restaurants in the u s the indian express said in a statement we are very excited about the expansion of our business in india we are looking forward to working with our partners and our customers to bring indian cuisine to the united states the restaurant chain which opened its first location in new york city in 2009 has expanded to more than 1 500 locations across the country in the past year alone the chain has opened',\n",
              " 'borthwick also pointed to improved market sentiment regarding the political situation in the united kingdom the brexit vote and the vote to leave the european union have given the uk a strong mandate to deal with the challenges of the 21st century he said',\n",
              " 'apple has confirmed that former nest employee greg duffy has joined the company but won t say what the dropcam co founder will be doing duffy started dropcam with aamir virani in 2009 and sold it to google for 555 million in 2014 he drew headlines last year when he lashed out at nest boss tony fadell and expressed regrets at selling his company apple s hiring of duffy was reported earlier wednesday by the information correction',\n",
              " 'the boj reduced its purchase of bonds with three to five years left to maturity in its operation on monday to 320 billion yen 2 9 billion from the previous 350 billion yen as a result those maturities were the weakest on the yield curve with five year yield rising 1 5 basis points to minus 0 160 percent the benchmark 10 year jgb futures dropped 0 08 point to 151 00 1 110 12 yen reporting by tokyo markets team editing by sam holmes',\n",
              " 'however coal plants emit almost double the amount of carbon dioxide co2 a heat trapping gas blamed for global warming as gas fired power plants and were moved out of britain s cities from the late 1950 s to reduce air pollution as part of efforts to meet its climate target to cut greenhouse gas emissions by 80 percent',\n",
              " 'trump posted his twitter message a day after the president elect met with the chief executives of both aerospace companies using the bully pulpit to press them on projects he says are too expensive in after hours trading following trump s tweet lockheed shares fell 2 percent and boeing s',\n",
              " 'although copper prices have recovered somewhat in recent months they are still down some 30 percent from 2013 and last year saw a wave of job losses and output cuts across the industry this time',\n",
              " 'why it matters google withdrew from china eight years ago in protest of government hacking employees now want to know if the company s willingness to acquiesce to chinese demands to limit access to information online could violate google s famous unofficial',\n",
              " 'riga march 21 reuters latvia will put forward legislation forbidding banks to deal with shell companies prime minister maris kucinskis said on wednesday following demands by u s authorities for the baltic country',\n",
              " 'why it matters automakers will pour 255 billion into evs by 2023 but are resigned to losing money on them for the foreseeable future an expected outcome of a market dictated by regulators and lawmakers rather than consumers but because they re key to future self driving cars they ll keep investing in them the big picture right now electric vehicles are an expensive black hole for carmakers alixpartners says the industry won t make',\n",
              " 'communications systems inc declares quarterly dividend of 1 70 per share issuance of class a common stock for the fiscal year ended december 31 2012 and 2011 and class b common stock for each of fiscal years 2011 and 2012 is subject to the terms and conditions set forth in the company s annual report on form 10 k filed with the securities and exchange commission the sec on march 6 2013 the company has no obligation to pay dividends',\n",
              " 'drugs seem like the obvious place to start there are a number of things you can do to reduce the risk of addiction he says you can reduce your use of alcohol and drug use you can improve your health and your sense of well being it all depends on what you re trying to do',\n",
              " 's justice department took aim at another chinese firm it accused of unfair practices part of an across the board pressure campaign by the trump administration targeting china still investors cheered the resumption of dialogue and a report that trump was taking steps to resolve the tariff war with shares in asia hitting three week highs on friday and the dollar softening trump said on',\n",
              " '357 with five home runs 15 rbis and 11 stolen bases in 28 games even with its most recent loss washington has won seven of the last nine meetings against the mets who are hoping that saturday s production is a sign of things to come for struggling outfielders michael conforto and curtis granderson',\n",
              " 'huafa industrial co ltd zhuhai says its wholly owned investment unit plans to invest 500 million yuan to set up a zhuhai based equity investment fund with partner says unit will hold a 99 8 percent stake in the fund source text in chinese goo gl c5frz6 further company coverage beijing headline news',\n",
              " 'sent by the iraqi government it appears to have been ignored at the bottom of a stairwell in one of the apartment blocks lay the corpses of three militants who must have known they would lose against the overwhelming numbers and firepower of their opponents iraqi forces backed by a u s led coalition took the hadba apartment complex several days ago as the campaign to drive islamic state out of mosul gains momentum in the city s east a tour arranged for reuters to show off the government',\n",
              " 'the sense of euphoria i saw happiness written on people s faces and some teared up it reminds me of independence day in 2002 guterres was among some 500 people taking part in east timor s first ever pride parade the atmosphere was carnival like with participants waving colorful rainbow flags cheering and beating drums in the capital campaigners say the parade last month was a milestone for the tiny half island nation asia s youngest democracy and a beacon of hope for a region where',\n",
              " '22 it will be a landmark investment making us europe s top alumina producer he said mytilineos raised 300 million euros 358 million from a',\n",
              " 's attorney general jeff sessions will testify before the house judiciary committee about issues facing the justice department on nov 14 the committee confirmed on tuesday the hearing will take place at 10 a m 1500 gmt it said in a statement reuters reported on monday that the committee would hold a hearing with sessions next week it will offer democrats their first opportunity to question him about his past statements regarding contacts between president donald trump s 2016 election campaign and russian intermediaries in a letter to',\n",
              " 'turkish police killed two suspected islamic state is militants in the town of tal abyad on sunday according to local media the iraqi security forces said the attack was carried out by a member of the al qaeda linked ansar al sharia front which is believed to have killed more than 100 people in a series of attacks in iraq and syria in recent months including the killing of dozens of iraqi soldiers in mosul in august the militant group also claimed responsibility for',\n",
              " 'in the weeks since the conference issues of press freedom and criticizing those in power have been in the news still what i heard at the conference left me with the sense that the most powerful challenges to american democracy can occur without crossing any bright lines democracy is really in trouble argued new york university political scientist adam przeworski when we say',\n",
              " 'people have been speculating when the rallies would end said hikaru sato a 23 year old student at the university of tokyo i don t know what to make of it he added i m not sure if it s a good thing or a bad thing',\n",
              " '20 the leaders identified defeating the islamic state group and the policy of islamic extremism as their first foreign policy priority president donald trump and british prime minister theresa may looked past an embarrassing spelling gaffe and a week s worth of public criticism on both sides of the atlantic to reaffirm their countries so called special relationship during a',\n",
              " 'ryanair rya i expects higher oil prices to push up short haul air fares i think that we re going to see a lot more of it in the next couple of years he said',\n",
              " 'zimbabwe president robert mugabe his wife grace and two key figures from her g40 political faction are under house arrest at mugabe s blue house compound in harare and are insisting the 93 year old finishes his presidential term a source said the g40 figures are cabinet ministers jonathan moyo and saviour kasukuwere',\n",
              " 's coast guard used a floating crane on monday to raise the duck boat that sank beneath storm whipped waves in a missouri lake last week drowning 17 people in one of the deadliest tourist accidents in the united states in years workers in hard hats spent an hour or so helping divers connect slings to the world war two style amphibious vessel some 80 feet 24 meters below the water s surface before raising it and dragging it dripping but apparently intact to dry land the coast guard said it will load the',\n",
              " 'the world bank group is readying a 300 million package of grants and credits to support the fight against the deadly ebola virus in democratic republic of congo it said on wednesday it said the funding would meet about half the needs of a new ebola response plan that is due to be agreed by the congolese government and an international consortium next week previously the world health organization had said the response would need hundreds of millions of dollars for the rest of this year reporting',\n",
              " 'london reuters sterling slipped over 1 percent on monday against the dollar which followed u s bond yields sharply higher on expectations of a jump in inflation following donald trump s u s presidential election victory the pound has just recorded its best fortnightly performance on a trade weighted basis in eight years with investors focus having turned away from brexit and towards political',\n",
              " 'israeli troops shot dead on saturday two iraqi soldiers in the northern city of mosul the iraqi military said the two soldiers were killed when they were ambushed by the islamic state of iraq and the levant isil militants the militants have claimed responsibility for the attack',\n",
              " 'the s3 will apparently support sending around a million laser pulses per second with each pulse able to be directed and refocused independently to adapt to the real time vision needs of a vehicle',\n",
              " 'it is scheduled to hold a policy setting meeting on tuesday i think it s important that we get this right we need to have a conversation about how we re going to make sure that the american people know what s going on he said',\n",
              " 'that will likely trigger a long legal fight possibly stretching into trump s 2020 re election bid and embolden critics who already accuse him of authoritarian tendencies and unpredictable swerves in policy making congressional democrats are already vowing legal challenges they have balked at giving trump money for what they say is a wasteful and unnecessary wall trump made his promise to build a wall and have mexico pay for it a centerpiece of his 2016 presidential campaign the mexican government has refused to pay under the constitution decisions',\n",
              " 'american airlines and southwest airlines union representatives say their pilots have not been provided with a flight simulator for boeing s new 737 max 8 airplanes which have now crashed twice in less than six months capt dennis tajer spokesperson for the american airlines',\n",
              " 'pioneer natural resources co pioneer natural resources during q4 terminated interest rate derivative contracts on a notional amount of 150 million for cash proceeds of 7 million pioneer natural as of jan 16 co was party to interest rate derivative contracts whereby co will get three month libor rate for 10 year period pioneer natural to get three month',\n",
              " 'the higher and more stable oil prices definitely helped the issue despite the fact that oman is a deteriorating credit said zeina rizk director of fixed income asset management at dubai s arqaam capital the omani issue may set the tone for other regional sovereigns which are expected to borrow internationally in the first half of this year including saudi',\n",
              " 'reuters u s stocks plunged on thursday and 2 year u s treasury yields dropped below the federal reserve s policy rate for the first time in more than a decade delivering a signal the u s central bank could begin reversing its tightening regime before long catalysts for the action include a rare profit warning from apple inc aapl o and the weakest reading on a key measure of u s factory activity in two years stocks s p 500',\n",
              " 'spanish police arrested a moroccan man in spain s north african enclave of ceuta on thursday accusing him of promoting islamist militancy via social media the interior ministry said the arrest comes after a joint operation by moroccan and spanish police on tuesday detained four people accused of recruiting people to fight in syria and iraq or carry out attacks in spain or morocco spanish',\n",
              " '1 it will require companies working on federal contracts to provide up to seven days of earned leave you shouldn t have to win the boss lottery or the geographic lottery to have access to paid sick leave perez said noting that the rule would help businesses by decreasing turnover and ensuring sick employees don t show up for work meanwhile the equal employment opportunity commission eeoc which enforces federal employment discrimination laws released the final version of a',\n",
              " 'i m told that in addition to ivanka trump the presidential confidants making a last minute pitch to soften the paris deal included national security adviser h r',\n",
              " 'factory automation systems maker rockwell automation inc reported a 12 8 percent rise in quarterly profit helped by stabilizing demand from industries net income rose to 189 5 million or 1 45 per share in the second quarter ended march 31 from 168 million or 1 28 per share a year earlier on an adjusted basis the',\n",
              " 'editorsnote corrects antetokounmpo s rebounds in the post game against the thunder injuries marc gasol ankle andre roberson shoulder j j hickson knee kyle lowry groin andrew bynum hamstring and jonas valanciunas right knee are all listed as questionable for tonight s game',\n",
              " 'nasa s plans to send a lander and orbiter to europa one of jupiter s 79 known moons in the 2020s are in doubt',\n",
              " '4 percent in april from a 4 1 2 year high in march reinforcing the fed s view that the economy is continuing to grow at a healthy pace the fed will continue to look for ways to strengthen the u s economy in the near term but they are not going to be able to do so until after the end of the year said robert rubin chief economist at standard poor s in new york',\n",
              " 'before the election david and i were the only two citizens behind the effort even as college students we saw the 2000 election as our opportunity to push reform in the week following the election we circulated a petition to abolish the electoral college lobbied congress and',\n",
              " 'adds yildiz holding and orascom tmt investments sarl dec 23 reuters the following bids mergers acquisitions and disposals were reported by 2100 gmt on friday malaysia s state owned federal land development authority felda has agreed to buy a 37 percent stake in rajawali group s pt eagle high plantations tbk one of indonesia s',\n",
              " 'it lets anybody submit a pitch for a product then it establishes checks and balances for the prototyping and production process it says its model will make things more accountable for the backers current crowdfunding platforms fail to bring viable products to market said moshe baum co founder and ceo of fwdforce we re looking to shake up the space with our new model that will dramatically increase the products that go',\n",
              " 's heating oil 4 million and european gasoil 2 million position changes are no longer confined to long liquidation fund managers have started to establish short positions betting on further price falls tmsnrt rs 2p8lq1s short positions across all six contracts have doubled over the past five weeks to 192 million barrels the highest level for more than 10 months fund managers still favour bullish long',\n",
              " 'the conservative board is responsible for buying 48 million textbooks a year and volumes that win its support often are marketed by publishers to school districts nationally the textbook being considered at a hearing on tuesday in austin titled mexican american heritage was the only one submitted after texas put out a request for a book to be used in a proposed high school elective course on mexican american studies one of the few liberal members of the board ruben cortez said in a statement this week',\n",
              " 'while winter crossings are still open it s important to keep in mind that some of these crossings will be closed during the winter months if you re looking for a safe way to cross a snow covered road check out this map and if you have any questions feel free to reach out to us on twitter or facebook',\n",
              " 'representatives for salling a los angeles resident and his attorney did not immediately return calls the federal charges against the texas born salling for receipt and possession of child pornography stem from his arrest by los angeles police and',\n",
              " 'lennar corp the second largest u s homebuilder on wednesday cut its new order and deliveries forecast for the fourth quarter citing the impact of hurricane florence and sluggishness in the market the miami based builder said on a post earning call it now expects fourth quarter deliveries to be 14 500 down from its previous forecast of 15 000 the company also expects new orders of 11 400 from its previous view of 11 600 reporting by rachit vats in bengaluru editing by shounak dasgupta',\n",
              " '1 percent last month the first drop and weakest reading since march after being unchanged in november in the 12 months through december the cpi rose 1 9 percent slowing from november s 2 2 percent gain excluding the volatile food and energy components the cpi increased 0 2 percent advancing by the same margin for a third straight month in the 12 months through december the so called core cpi rose 2 2 percent',\n",
              " 'right now snapchat pushes a few discover channels to its users but the company has yet to make a formal announcement about how it plans to do so in the meantime there s a good chance that snapchat will soon be able to share content on its own it s not clear if that s going to happen anytime soon',\n",
              " 'the new law says that people must pay a fee of up to 1 000 for each month they spend on alcohol the state department of health and human services said in a news release that it is reviewing the law and will review it as soon as possible',\n",
              " 'visteon corp visteon announces third quarter 2017 results q3 adjusted earnings per share 0 43 down 0 7 from q2 up 2 2 year over year q4 adjusted eps 3 1 down 1 4 compared to q1 2016 q4 2016 earnings per share eps adjusted eps rmb operating income loss rmb operating margin',\n",
              " 'taipei reuters taiwan is on high alert for further damage by the fall armyworm said premier su tseng chang on tuesday after the island reported its first sighting of the invasive pest in a corn field the fall armyworm which has spread rapidly across asia in recent months was found in miaoli county on the island s northwest coast on saturday said the bureau of animal and plant health inspection and quarantine baphiq in a statement on monday the',\n",
              " 'mastercard mastercard and vocalink have proposed remedies to cma which could address its competition concerns by reducing cost to link of switching from vocalink to alternative suppliers of infrastructure services cma has decided that there are reasonable grounds for believing that proposals or a modified version of them might be',\n",
              " 'the bank of england did not intervene in the u s justice department s decision in 2012 to not prosecute hsbc for money laundering violations governor mark carney said on tuesday hsbc is under a deferred prosecution agreement in the united states and we didn t intervene with the justice department carney told british',\n",
              " 'bank of america corp chief executive brian moynihan this year predicted a new wave of big bank mergers at the world economic forum in davos switzerland not everybody was pleased about the deal this proposed merger between suntrust and bb t is a direct consequence of the deregulatory agenda that trump and congressional republicans have advanced said maxine waters chairwoman of the house financial services committee the proposed merger raises many questions and deserves serious scrutiny from banking regulators congress and the public to determine',\n",
              " 'a television advertisement set to air on tuesday from the university of texas at austin shows a woman in her 20s and a man in his 30s the advertisement which appears to be from texas a m university says the woman is a member of the phi kappa psi fraternity and that the man is a member of a sorority the ad is part of an effort by the university to raise awareness of sexual assault in the u s and to encourage students to',\n",
              " 'the iphone 8 and iphone x sport wireless charging and there are a handful of car manufacturers that already include qi charging pads basically apple says most of these wireless charging pads will work though there are some outliers the main exception is some of the pads are not',\n",
              " 'that they not make a sort of soft porn film called maidens in love because that s what they re doing the film which is based on the novel of the same name is set to be released in the uk on may 7',\n",
              " 'i cannot believe what i saw up there climber and filmmaker elia saikaly wrote on instagram death carnage chaos lineups dead bodies on the route and in tents at camp 4 people who i tried to turn back who ended up dying people being dragged',\n",
              " 'combined fees from advising on deals and from equity and debt underwriting have dropped a total of 8 5 billion in the past year according to data from the federal reserve bank of st louis the fed said it expects to raise interest rates next year to 2 75 percent the lowest level since 2007 the fed also said that it plans to increase the interest rate to 3 percent by the end of this year it said the u s economy is expected to',\n",
              " 'generic drugmaker perrigo company plc appointed uwe rohrhoff former ceo of gerresheimer ag as its new chief executive the company said on monday rohrhoff succeeds john hendrickson who will resign as ceo and board member on',\n",
              " 'dutchman lars boom took the lead of the tour of britain after winning a short individual time trial on thursday boom overall winner in 2011 was six seconds quicker than lotto nl jumbo team mate victor campenaerts over the 16km layout',\n",
              " 'rumors are swirling about potential acquirers for twitter right now but meanwhile the company is still seeing departures in some key staffing areas twitter s head of tv andrew adashek and its north american moments curation team lead marcus mabry have both departed the company mabry has been hired by cnn after a year spent at twitter managing the moments product for u s and canadian users according to a release by the news',\n",
              " '4 a move that will free up as much as 116 billion in new credit the looser monetary policy announcement came two days after the national rail operator said it planned 6 800 km 4 225 miles of new track this year a 40 percent lift on what was laid last year this',\n",
              " 'brazilian venture capital firm monashees said on monday it plans to raise 250 million to increase investments in startups in latin america founded in 2005 by eric acher and fabio igel monashees currently invests alongside other international funds in the delivery startups rappi and loggi as well as in the mobility group grow and the fintech neon among others',\n",
              " 'dollar on track for biggest weekly gain in five years it s not going to happen overnight we ll see how it turns out he said',\n",
              " 'it was the closing point of winfrey s speech accepting the golden globes cecil b demille award for career achievement a speech that started with winfrey reminiscing about being a young girl in 1964 watching sidney poitier become the first black man to win the academy award for best actor and then took listeners through a lifetime spent watching other people fight for justice some very publicly and',\n",
              " 'the company has also added third party browsers including firefox further blurring the line between web and mobile we re looking forward to working with google on this next phase of our partnership said eric schmidt google s chairman and ceo in a statement we are excited about the potential of this partnership and we are confident that we can deliver on our vision for the future of google',\n",
              " 'alphabet inc s google on friday announced a 1 4 billion deal to acquire merck co in a deal valued at more than 10 billion merck and google have been in talks over the past few months about the merger which would allow them to sell some of their patents to google the deal is expected to close by the end of the year according to a person familiar with the matter',\n",
              " 'bank of america merrill lynch on friday revised down its year end forecast for german bond yields and said yields on one of the world s safest assets could plummet to record lows in the third quarter as key events such as brexit reached crunch time yields on german 10 year government bonds hit 2 1 2',\n",
              " '6 billion says consolidated sales and other inflows were 44 6 billion in q4 of fiscal 2017 up 27 percent from 35 1 billion in q4 of fiscal 2016 says average consolidated assets under management were 413 9 billion in q4 up 22 percent from 338 9 billion in q4 of fiscal 2016 says had consolidated net inflows of 8 0 billion in q4 of 2017 compares to net inflows of 4 8 billion in',\n",
              " 'n ceasefire in 1991 ban said he was deeply concerned by the situation in syria i am deeply concerned about the lack of progress in the international community on the implementation of the geneva conventions and the cessation of hostilities he said',\n",
              " 'hooded gunmen shot dead two land rights activists in the capital kiev on wednesday the activists were killed by a sniper who fired his weapon at them according to a statement from the kiev prosecutor s office the gunmen then opened fire killing one of the activists and wounding three others the statement added',\n",
              " 'mallex smith walked stole second and third then scored on a single by matt duffy bauers followed with a two run home run all three runs in the inning coming against angels reliever hansel robles angels starter nick tropeano 4 6 held the rays scoreless through the first three innings before giving up',\n",
              " 'n in an interview with reuters in february yahoo chief executive officer marissa mayer said the company will entertain offers as they come but its first priority is a turnaround plan yahoo faces increasing pressure from shareholders and investors to sell its core business instead of going through a spinoff that would separate the company from its multibillion dollar stakes in yahoo japan and alibaba group activist hedge fund starboard value lp on',\n",
              " 'iridium communications inc iridium communications says on july 26 entered into a contract with u s carrier verizon wireless to provide high speed broadband service to customers in the united states the company said it will begin offering the service by the end of the year the service is expected to be available in 2026 according to a verizon press release',\n",
              " 'she will face china s saisai zheng who battled past fourth seeded american amanda anisimova 5 7 7 5 6 4 late friday night in the semifinals meanwhile second seeded aryna sabalenka of belarus rallied to top sixth seeded spaniard',\n",
              " 'the crew on a hong kong bound flight said they saw north korea s latest missile test blow up over the sea of japan last week korean air pilots on separate flights from california to seoul also reported seeing flashes of light believed to be the missile while flying over japan get smart experts told ap that it s unlikely a missile test would hit a civilian airliner vipin narang an expert on nuclear',\n",
              " 'after more than 24 hours shivering from the cold at the border she took the chance they haven t told us anything we are just waiting around like idiots she said wheeling her fuchsia colored suitcase across the open check point as guards looked on peru s government announced immigration measures similar to',\n",
              " 'if the decision holds up it s a veritable how to guide for suits against websites that enable illegal gun sales the wisconsin case unlike the many gun liability suits that have examined the scope of state and federal laws shielding licensed gun makers and sellers from liability for shootings turned on the court s interpretation of the communications decency act as you re no doubt aware a crucial section of that law says websites cannot be held liable for publishing content provided by users the protection',\n",
              " 'the u s trade representative s office also rejected them while it would not comment on the validity of alleged leaks a spokesman said the interpretations being given to these texts appear',\n",
              " 'but splice lets artists pay 7 99 per month to download up to 100 samples they can use royalty free to create music that s cheaper than it costs to listen to music on spotify splice then compensates artists based on how frequently their sounds are downloaded and has already paid out over 7 million splice sounds',\n",
              " 'a few months after nabbing a handsome 500 million funding round china s shared housing startup danke apartment got a talent boost on monday danke announced the appointment of gu guodong as its new chief operating',\n",
              " 'and unlike the oscars the golden globes notably split movies into comedy and drama categories to watch this year s 73rd annual ceremony and to see the nominees squirming under gervais s smirky gaze tune in to nbc for the live broadcast for all your red carpet needs preshow coverage starts on nbc and nbc com one hour before',\n",
              " 'boris johnson took over as britain s prime minister on wednesday succeeding theresa may with a promise to take the country out of the european union on oct 31 no ifs or buts below is the full text of the speech he gave outside his official downing street residence in central london good afternoon i have just been to see her majesty the queen who has invited me to form a government and i',\n",
              " 'negotiations on the future relationship between britain and the eu have been ongoing for some time now on monday the prime minister s office said it was disappointed by the uk s decision to leave the european union',\n",
              " 'china s state planner on friday launched a risk inspection campaign aimed at preventing defaults on debt issued by state owned companies known as enterprise bonds the national development reform commission said in a statement that the move is part of beijing s drive to guard against systemic risks in china s financial system which is burdened with severe credit risks in 2018 the credit market faces huge pressure in making principal and interest payments and the',\n",
              " 'this is dangerous according to lewis it raises the likelihood of a miscalculation which could potentially lead to an actual war between the united states south korea and',\n",
              " 'south korea s military believes north korea is preparing to launch an intercontinental ballistic missile capable of reaching the u s mainland the north s latest test came just hours after the united nations security council voted to impose sanctions on the north over its nuclear and missile programs the sanctions which are meant to punish north korean leader kim jong un for his provocative actions are expected to be lifted by the end of the year',\n",
              " 'yummy town cayman holdings says it will pay cash dividend of t 1 5 per share for 2015 says it will pay stock dividend of t 27 360 280 in total ex dividend and ex right date',\n",
              " 'under the terms of the proposed deal thomson reuters would retain a 45 percent stake in the f r business as part of a partnership with the u s buyout firm according to the sources the deal would be structured to pay more than 17 billion to thomson reuters for a unit with an enterprise value a measure of total value that includes equity and debt of about 20 billion two of the sources said that 17 billion would include about',\n",
              " 'hanon systems a south korean auto parts manufacturer said in a statement the company said it was deeply saddened by the incident which it said was the result of a misunderstanding between the company and the local police it added that it is cooperating with the authorities in the investigation',\n",
              " 'five of the asiatic lions the last remaining species of which live in the gir forests of western india were found to have died from the contagious canine distemper virus cdv the indian council of medical research icmr said in a statement the deaths have cast a renewed spotlight on the conditions at gir for the endangered wild cats as many as 600',\n",
              " 'washington reuters contractors likely breached a u s law that bars them from doing business in the united states without a court order file photo a sign is seen on the front of a building that will be built next to the dakota access pipeline construction site in cannon ball north dakota february 6 2017 reuters jim urquhart file photo',\n",
              " 'why it matters it s almost impossible for me to tell you how much i love you i want you to know that i know what i want to do with you and i don t care what you think of me i won t let you get away with anything and i ll do everything i can to make sure that you never have to worry about me again',\n",
              " 'sao paulo dec 13 reuters brazilian phone carrier oi sa has asked the court overseeing its bankruptcy protection proceedings for permission to sell a stake in timor telecom sa which serves the asian nation of east timor in a tuesday securities filing oi said it is in talks to sell the stake',\n",
              " 'the essential phone just got a camera software update that will allow owners of the device to broadcast live 360 degree video right from the native camera app provided they have the essential 360 camera too the update requires no extra',\n",
              " 'recognizing the possibility that some people just don t want to pedal that last mile china s transportation startup hellobike is setting up a 1 billion yuan 145 million joint venture with alibaba s financial affiliate ant financial and battery maker catl to provide battery swapping services for scooters that s according to an announcement from hellobike on wednesday though it did not specify individual shares of the three partners hellobike backed by ant financial has evolved from a bike sharing',\n",
              " 'her younger daughter lucy eloise smyth is the reluctant subject of the aforementioned virginity auction a hail mary attempt to save margaret s house from a devastating fine over at lydia quigley s stately soho home wan girls entertain the upper crust with tea and refined conversation before luring them into frantic sex sneaking secrets all the while when margaret s spunkiest girl emily lacey a very',\n",
              " 'his entrepreneurship teacher at the time haig farris found the young physicists ideas compelling enough to give him 1 000 to buy a computer and a printer to type up a business plan the company consulted with academics until 2005',\n",
              " '5 million bpd but in june this year it cut the growth forecast to 1 2 million bpd substantial amount of oil is coming from the united states about 1 8 million barrels per day plus oil from iraq brazil and libya birol said under normal circumstances he said he doesn t expect a huge increase in crude oil prices but birol warned serious political tensions could yet impact market dynamics crude oil prices rose nearly 2 on friday after a u s navy ship destroyed an iranian',\n",
              " 'adecoagro sa adecoagro reports strong full year and 4q 2016 results adjusted ebitda in 4q16 was 113 9 million 42 3 higher year over year driving 2016 full year adjusted ebitda to a record 298 0 million q4 sales rose 51 9 percent to 332 1 million',\n",
              " 'what made this tweet different from all my other tweets and please read that in your best passover seder voice is that in the past few weeks i ve received hundreds of negative replies from men ranging from the tame you re',\n",
              " 'egypt s 2019 2020 budget will be based on the size of the country s gross domestic product gdp in 2020 21 the prime minister s office said on friday that the budget would include an increase in the number of public sector employees as well as a reduction in spending on education health and social care',\n",
              " 'the british government and france s edf will officially sign a contract to build britain s first nuclear power plant in the uk in 2017 the deal will see the plant built on a 20 megawatt site in south east london with a capacity of 1 200 megawatts the plant will be operated by the national grid a joint venture between the british and french energy companies and is expected to be fully operational by 2020',\n",
              " 'temporary power provider aggreko said oil and gas companies have been trying to come up with a plan to fix the problem we don t have the resources to do it he said',\n",
              " 'the former mechanic had once worked on tanks and freight liners in the army and diesel trucks in civilian life but he had trouble returning to work in a battered economy after undergoing treatment for alcoholism through the va then his girlfriend suggested he apply for work with an agency supporting people with disabilities in their homes the job started',\n",
              " 'china has issued a warning to the united states we will not allow any u s citizens to enter our country without a warrant the us state department said in a statement we would like to assure the american people that our law enforcement and intelligence agencies are fully cooperating fully with our international partners and we will continue to work closely with them to ensure the safety of our citizens',\n",
              " 'moscow april 3 reuters the moscow exchange and two leading indian bourses signed agreements on wednesday designed to ease access to the russian market for indian capital amid moves by russia to attract a wider investor pool the moscow exchange russia s leading bourse signed a memorandum of understanding with bse india s no 1 exchange and the india international exchange to connect investors and companies in both countries alexander afanasyev the head of moscow exchange said indian investors were looking at the russian market with interest russia',\n",
              " 'april 20 reuters victoria s second biggest city will become the first city in australia to have a new public transport system after the state government agreed to invest 1 2 billion to upgrade its rail network the cost of upgrading the rail system will be 3 5 billion over five years according to a statement issued by the victorian government which is responsible for the 2 1 billion investment it will also include a 100 million upgrade to the city s',\n",
              " 'sao paulo reuters brazilian retailer gpa sa pcar4 sa expects higher profit margins over the next few months as sales seem to be reacting on',\n",
              " 'japan s planned revision of a law to take south korea off its so called white list comes amid a deepening row over compensation for wartime forced labor and after japan tightened curbs this month on exports to south korea of high tech materials used for making memory chips and display panels south korea s industry ministry said in a statement japan s removal of south korea from the',\n",
              " 'british finance minister george osborne said it was good news that interior minister theresa may was now the sole candidate to become the country s next prime minister after her remaining rival andrea leadsom dropped out of the race on monday welcome news we have 1 candidate with overwhelming support to be next pm osborne said on twitter theresa may has strength integrity and determination to',\n",
              " 'chicago may 1 reuters benchmark puerto rico general obligation bonds rose on monday bolstered by promised stopgap federal healthcare spending that would help the financially strapped u s territory even as it faces a midnight',\n",
              " 'air methods corporation airm o a u s medical helicopter company has reached a deal with boeing to develop a range of high altitude unmanned aerial vehicles uavs that will be able to fly in low earth orbit the deal which was announced by boeing last month is part of a larger deal between boeing and lockheed martin the world s second largest defense contractor that is expected to be completed by the end of the year the',\n",
              " 'more than six million people live in the united states and that number is expected to grow to more than seven million by 2030 the u s department of health and human services hhs estimates that the number of people living in poverty will increase by about 1 5 million over the next 10 years according to the centers for disease control and prevention cdc the average annual income for a family of four is about 80 000 while the median household income is',\n",
              " 'the united states continued to import large volumes of oil and gas from the middle east and north africa during the last decade he said',\n",
              " 'i will be in pittsburgh tomorrow for the first time since i was born he said i am a big fan of the pittsburgh steelers and i am looking forward to playing with them again in the near future',\n",
              " 'forward tim duncan was held scoreless in almost 14 minutes the first time in his career that he has scored in more than 20 minutes in a game i don t know if we re going to get a lot of rebounds tonight but we ve got to do a better job of defending the rim duncan said that s what we need to be doing',\n",
              " 'the federal communications commission wants you to know it takes the problem of robocalls very seriously and it has a report to do it details the report notes that until recently the',\n",
              " '28 era in 22 games for the athletics this season lhp sean manaea will look to continue his two month stretch of impressive pitching saturday night in the middle game of a three game series against the new',\n",
              " 'mediclinic international plc reported a 8 percent decline in half year core profit this is not the first time that the bank has been criticized for its practices in 2008 bank of america citigroup wells fargo and morgan stanley were among the banks that were fined by the u s securities and exchange commission sec for failing to disclose certain information about their financial transactions',\n",
              " 'eq oyj special investment fund eq finnish real estate aif has acquired five properties from citycon oyj for a total value of approximately 74 million euros 84 84 million the lead tenants are ruokakesko oy and tokmanni oy source text for eikon further company coverage 1 0 8722 euros gdynia newsroom',\n",
              " 'avic capital co ltd says its wholly owned subsidiary will jointly boost capital to symphony bidco limited the controlling shareholder of thompson aero seating limited the unit will hold 10 percent stake in symphony bidco limited and hold 10 percent stake in thompson aero seating limited indirectly source text in chinese goo gl mcbx6m further company coverage beijing headline news',\n",
              " 'it s a diverting comedy with funny performances but if you re looking for it to deliver on its title move along the crux of what men want as in what women want is a premise half lifted',\n",
              " 'london reuters christian bittar a former star deutsche bank trader has pleaded guilty to conspiring to manipulate euribor benchmark interest rates around three weeks before he was due to stand trial in london britain s serious fraud office sfo said bittar s plea had been subject to reporting restrictions but these were lifted on thursday',\n",
              " 'editorsnote adds bruce boudreau to lede ducks explode for 6 2 victory over bruins boston after starting the season with one win in their first 10 games sparking rumors that coach bruce boudreau was about to get fired the anaheim ducks have hit the nhl s all star break looking like they re ready to make a real run at the playoffs it s been good things have turned around sizzling right winger corey perry said after his goal and assist helped the',\n",
              " 's bank lending slowed in the second half of 2015 according to data from the federal reserve bank of st louis the data also show that the economy grew at an annual rate of 2 5 percent in 2015 compared with the same period a year earlier',\n",
              " '11 million driven by inflows into real estate and financial and insurance activities official data showed on friday foreign investment in real estate led with 8 79 billion rupees followed by financial and insurance activities with 3 32 billion rupees the central bank said',\n",
              " 'austria s matthias mayer will attempt to go where no man has gone before on sunday when he defends his olympic downhill title in what looks likely to be an open race against a pack of challengers hungry for his crown no one has won successive titles in the blue riband event of the olympic alpine skiing programme and',\n",
              " 'u s fund investors are starting to show doubt about emerging markets pulling the most cash in more than 18 months from stocks in those regions according to lipper data on thursday nearly 1 2 billion left emerging market mutual funds and exchange traded funds during the seven days through may 30 according to the research service that is the largest withdrawal since november 2016 reporting by trevor hunnicutt editing by cynthia osterman',\n",
              " 'iraq s armed forces chief of staff on monday expressed hope that the country s border crossing with turkey would be reopened by the end of the year turkish president recep tayyip erdogan said he was very happy to see the us led coalition backing the syrian government in its fight against the islamic state of iraq and the levant isil group which has taken over large swathes of territory in syria and iraq',\n",
              " 'exelon corp says its clinton nuclear plant cleared in 2016 2017 miso capacity auction exelon corp says clinton nuclear plant is committed to operate through may 31 2017 says decision on future operations of plant will be announced this year clinton nuclear plant plant continues to lose money and will have to be shut down source text for eikon further company coverage bengaluru newsroom 1 646 223 8780',\n",
              " 'scotland s first minister nicola sturgeon accused the ruling conservatives on thursday of jeopardizing the irish peace process by seeking support to govern from a northern irish party sturgeon whose scottish national party lost seats to the scottish conservatives in an election last week has long complained about may s approach to governing saying the prime minister ignored scotland s demands in her brexit plan may',\n",
              " 'the fight is fairly simple if you re going to give up you need to make sure you don t lose the key is to keep fighting you re fighting to win and if you lose it s because you ve lost that s how you win it s not that you can t fight but you have to fight to stay alive don t be afraid to take risks because if it comes down to it that s when you ll be able to do',\n",
              " 'qr energy lists assets in 1 billion to 10 billion range liabilities in 1 billion to 10 billion range court filing qr energy files for chapter 11 bankruptcy protection in southern district of new york court filing source text 1 usa gov 24u3ftm bengaluru newsroom 91 80 6749 1130 within u s 1 646 223 8780',\n",
              " '4 percent drop data by the internal affairs ministry showed on friday it was the fourth straight month of declines and the biggest drop since march 2015 suggesting that slow wage growth is keeping many households wary of spending separate data showed factory output fell 1 4 percent in december declining at the fastest pace in may 2015 and more than a market forecast for a 0 3 percent drop a sign weak external demand and sluggish consumption is weighing on manufacturing activity consumer price growth remained',\n",
              " 'one of uber s largest investors ford motor company has said it will invest 1 billion in the company this year',\n",
              " 'london reuters cboe and other share trading platforms have put on hold plans to move share trading from london to amsterdam on monday as britain delays brexit for at least two weeks british lawmakers voted down prime minister theresa may s divorce settlement for the third time on friday britain will now leave the eu on april 12 unless an alternative',\n",
              " 'this is tom perez he is the new chairman of the democratic national committee responding to a reince priebus tweet that promotes president trump s weekly address why it matters democrats aren t going to let the russia trump story stop any time soon and this is a sign they re willing to be not so nice about it as trump would put it why it doesn t matter it s a snarky tweet sent out to focus media attention on a subject russia trump that he wants covered',\n",
              " 'but its largely female fan base spent the first decade of the series run being ignored by the production itself throughout the show s early and middle seasons the writers consistently seemed to be writing for and in some instances about an imaginary audience',\n",
              " 'kate mckinnon and alex moffat play joe a young man who happens to be the father of a girl who has been kidnapped by aliens the film is set in the 1930s and features a cast of characters from the 1940s including a mad scientist named dr jekyll and mr hyde who is responsible for the creation of the world s first atomic bomb the film also features an interracial couple jack and jill as well as a couple of actors who',\n",
              " 'not so long ago the former house speaker john boehner even called him a miserable son of a bitch now he s showing he can laugh about his bad reputation still',\n",
              " 'with the 6 0 shooting guard averaging 23 7 points over the last three contests edwards and the 13th ranked boilermakers seek a ninth straight victory when lipscomb visits on thursday to conclude non conference play edwards scored 26 points one off his career high and made a career high six 3 pointers in eight attempts to lift his percentage beyond the arc to 47 4 percent in his last three games as purdue shot 58 6 percent from the field on dec 21 to win its 15th straight home game',\n",
              " 'spain s allfunds group is buying credit suisse s business to business investment fund platform investlab for an undisclosed sum as the investment services industry consolidates to reap the benefits of scale credit suisse will take a stake of up to 18 in the combined business the two companies said on tuesday it will also receive an undisclosed cash payment the swiss bank said the transaction would result in a 0 5 increase in return on tangible',\n",
              " 'the top five surpluses are with hong kong 32 5 billion in 2017 the philippines 28 4 billion japan 27 3 billion and china 26 2 billion the philippines is also the world s second largest economy accounting for more than half of global gross domestic product gdp growth the country is home to some of the fastest growing economies in asia the middle east and africa and has the fourth fastest',\n",
              " 'the family of a woman who died in a las vegas mass shooting filed a wrongful death lawsuit wednesday against colt and 7 other gun manufacturers and 3 dealers why it matters carrie parsons 31 of seattle was',\n",
              " 'ansaldo sts spa court of appeal of genoa overruled the previous decision of the court of genoa that appointed an attorney in fact appointment of the attorney in fact was requested by elliott international lp funds the liverpool limited partnership and elliott associates lp which challenged the resolutions appointing the board of directors and',\n",
              " 'this led to the suggestion that korea and japan might be able to co operate in the future the united states and south korea however have yet to agree on how to deal with north korea s nuclear and missile programs the two countries have been working together to develop a joint military force but the u s has not yet decided whether to deploy it',\n",
              " 'banks are seeking to recover about 1 4 billion that the indian authorities say kingfisher owes mallya has repeatedly dismissed the charges against him and defended himself in messages on twitter and rare interviews mallya has a base in london and a lavish country',\n",
              " 'french retailer carrefour is joining up with other with food companies including danone to launch miimosa transition a crowdfunding project to help farmers switch to organic farming in response to rising consumer demand for socially responsible practices food groups herta as well as french food co operatives d aucy and les paysans de rougeline are also part of the project that will help producers',\n",
              " 's listed shares falling as much as 3 7 percent in late wednesday trade an alibaba spokesman on thursday said the company detected the attack in the first instance reminded users to change passwords and worked closely with the police investigation chinese companies are grappling a sharp rise in the number of cyber attacks and cyber security experts say firms have a long way to go before defences catch up to u s counterparts in the latest case hackers obtained a database of 99',\n",
              " 'at the same time though the chain s honey barbecue glazed chicken tenders top 6 with no drinks or sides and prices vary by location and city but in chicago a new bacon smokehouse quarter pounder meal will run you nearly 9 a price point that puts it in direct competition with more traditionally upscale fast casual options bloomberg crunches the numbers in 2012 a hamburger from a fast casual joint like',\n",
              " 'global advisory firm willis towers watson plc said it appointed mary o connor to lead client and business development in great britain o connor has previously led the company s great britain financial lines business before that she was a senior regulator at the uk financial services authority in her new role o connor will report to head of great britain nicolas aubert and global industries lead eric speer reporting by john benny in bengaluru',\n",
              " ...]"
            ]
          },
          "execution_count": 87,
          "metadata": {},
          "output_type": "execute_result"
        }
      ],
      "source": [
        "process_df3"
      ]
    },
    {
      "cell_type": "code",
      "execution_count": 88,
      "metadata": {
        "id": "fOuAhfKA6WxS"
      },
      "outputs": [],
      "source": [
        "process_df3 = tokenizer.texts_to_sequences(process_df3)"
      ]
    },
    {
      "cell_type": "code",
      "execution_count": 89,
      "metadata": {
        "id": "EH5o6gDz6ngA"
      },
      "outputs": [],
      "source": [
        "process_df3 = tf.keras.preprocessing.sequence.pad_sequences(process_df3, padding='post', maxlen=256)"
      ]
    },
    {
      "cell_type": "code",
      "execution_count": 91,
      "metadata": {
        "id": "Y3KXvxi25iw6"
      },
      "outputs": [],
      "source": [
        "pred2 = model.predict(process_df3)\n",
        "\n",
        "binary_predictions2 = []\n",
        "\n",
        "for i in pred2:\n",
        "    if i >= 0.5:\n",
        "        binary_predictions2.append(1)\n",
        "    else:\n",
        "        binary_predictions2.append(0) "
      ]
    },
    {
      "cell_type": "code",
      "execution_count": 92,
      "metadata": {
        "colab": {
          "base_uri": "https://localhost:8080/",
          "height": 363
        },
        "id": "DljNlOZ47bTk",
        "outputId": "784c1505-373c-43c3-8924-bdefb66f83e6"
      },
      "outputs": [
        {
          "data": {
            "text/html": [
              "<div>\n",
              "<style scoped>\n",
              "    .dataframe tbody tr th:only-of-type {\n",
              "        vertical-align: middle;\n",
              "    }\n",
              "\n",
              "    .dataframe tbody tr th {\n",
              "        vertical-align: top;\n",
              "    }\n",
              "\n",
              "    .dataframe thead th {\n",
              "        text-align: right;\n",
              "    }\n",
              "</style>\n",
              "<table border=\"1\" class=\"dataframe\">\n",
              "  <thead>\n",
              "    <tr style=\"text-align: right;\">\n",
              "      <th></th>\n",
              "      <th>text</th>\n",
              "    </tr>\n",
              "  </thead>\n",
              "  <tbody>\n",
              "    <tr>\n",
              "      <th>0</th>\n",
              "      <td>We asked for \"disclosure of any information th...</td>\n",
              "    </tr>\n",
              "    <tr>\n",
              "      <th>1</th>\n",
              "      <td>Continued disruptions by a range of local grou...</td>\n",
              "    </tr>\n",
              "    <tr>\n",
              "      <th>2</th>\n",
              "      <td>Criminal gangs in China are faking outbreaks o...</td>\n",
              "    </tr>\n",
              "    <tr>\n",
              "      <th>3</th>\n",
              "      <td>\"After we announced the Hess transaction, we h...</td>\n",
              "    </tr>\n",
              "    <tr>\n",
              "      <th>4</th>\n",
              "      <td>A Syngenta spokesman clarified his comment ear...</td>\n",
              "    </tr>\n",
              "    <tr>\n",
              "      <th>5</th>\n",
              "      <td>U.S. pop singer Ariana Grande headlined a star...</td>\n",
              "    </tr>\n",
              "    <tr>\n",
              "      <th>6</th>\n",
              "      <td>Assets worth around a trillion pounds are movi...</td>\n",
              "    </tr>\n",
              "    <tr>\n",
              "      <th>7</th>\n",
              "      <td>Blinkx Plc * Today announces that it will chan...</td>\n",
              "    </tr>\n",
              "    <tr>\n",
              "      <th>8</th>\n",
              "      <td>\"The substantial and growing number of distres...</td>\n",
              "    </tr>\n",
              "    <tr>\n",
              "      <th>9</th>\n",
              "      <td>5% minimum yield - the highest for any euro su...</td>\n",
              "    </tr>\n",
              "  </tbody>\n",
              "</table>\n",
              "</div>"
            ],
            "text/plain": [
              "                                                text\n",
              "0  We asked for \"disclosure of any information th...\n",
              "1  Continued disruptions by a range of local grou...\n",
              "2  Criminal gangs in China are faking outbreaks o...\n",
              "3  \"After we announced the Hess transaction, we h...\n",
              "4  A Syngenta spokesman clarified his comment ear...\n",
              "5  U.S. pop singer Ariana Grande headlined a star...\n",
              "6  Assets worth around a trillion pounds are movi...\n",
              "7  Blinkx Plc * Today announces that it will chan...\n",
              "8  \"The substantial and growing number of distres...\n",
              "9  5% minimum yield - the highest for any euro su..."
            ]
          },
          "execution_count": 92,
          "metadata": {},
          "output_type": "execute_result"
        }
      ],
      "source": [
        "test_df3.head(10)"
      ]
    },
    {
      "cell_type": "code",
      "execution_count": 93,
      "metadata": {
        "id": "xsG0czGH7gVl"
      },
      "outputs": [],
      "source": [
        "test_df3[\"label\"] = binary_predictions2"
      ]
    },
    {
      "cell_type": "code",
      "execution_count": 94,
      "metadata": {
        "colab": {
          "base_uri": "https://localhost:8080/",
          "height": 423
        },
        "id": "ZKnwRrv07mfw",
        "outputId": "73abc9a7-5ce1-47e2-c627-b40b1cc3984e"
      },
      "outputs": [
        {
          "data": {
            "text/html": [
              "<div>\n",
              "<style scoped>\n",
              "    .dataframe tbody tr th:only-of-type {\n",
              "        vertical-align: middle;\n",
              "    }\n",
              "\n",
              "    .dataframe tbody tr th {\n",
              "        vertical-align: top;\n",
              "    }\n",
              "\n",
              "    .dataframe thead th {\n",
              "        text-align: right;\n",
              "    }\n",
              "</style>\n",
              "<table border=\"1\" class=\"dataframe\">\n",
              "  <thead>\n",
              "    <tr style=\"text-align: right;\">\n",
              "      <th></th>\n",
              "      <th>text</th>\n",
              "      <th>label</th>\n",
              "    </tr>\n",
              "  </thead>\n",
              "  <tbody>\n",
              "    <tr>\n",
              "      <th>0</th>\n",
              "      <td>We asked for \"disclosure of any information th...</td>\n",
              "      <td>1</td>\n",
              "    </tr>\n",
              "    <tr>\n",
              "      <th>1</th>\n",
              "      <td>Continued disruptions by a range of local grou...</td>\n",
              "      <td>1</td>\n",
              "    </tr>\n",
              "    <tr>\n",
              "      <th>2</th>\n",
              "      <td>Criminal gangs in China are faking outbreaks o...</td>\n",
              "      <td>1</td>\n",
              "    </tr>\n",
              "    <tr>\n",
              "      <th>3</th>\n",
              "      <td>\"After we announced the Hess transaction, we h...</td>\n",
              "      <td>1</td>\n",
              "    </tr>\n",
              "    <tr>\n",
              "      <th>4</th>\n",
              "      <td>A Syngenta spokesman clarified his comment ear...</td>\n",
              "      <td>1</td>\n",
              "    </tr>\n",
              "    <tr>\n",
              "      <th>...</th>\n",
              "      <td>...</td>\n",
              "      <td>...</td>\n",
              "    </tr>\n",
              "    <tr>\n",
              "      <th>115994</th>\n",
              "      <td>esponse team. A unanimous three-judge panel of...</td>\n",
              "      <td>1</td>\n",
              "    </tr>\n",
              "    <tr>\n",
              "      <th>115995</th>\n",
              "      <td>S. market for Singapore Airlines and Malaysia ...</td>\n",
              "      <td>0</td>\n",
              "    </tr>\n",
              "    <tr>\n",
              "      <th>115996</th>\n",
              "      <td>The top enforcer of a brutal war on drugs in t...</td>\n",
              "      <td>1</td>\n",
              "    </tr>\n",
              "    <tr>\n",
              "      <th>115997</th>\n",
              "      <td>Two South Korean envoys will travel to the Uni...</td>\n",
              "      <td>1</td>\n",
              "    </tr>\n",
              "    <tr>\n",
              "      <th>115998</th>\n",
              "      <td>Scope Ratings' structured finance head Guillau...</td>\n",
              "      <td>1</td>\n",
              "    </tr>\n",
              "  </tbody>\n",
              "</table>\n",
              "<p>115999 rows × 2 columns</p>\n",
              "</div>"
            ],
            "text/plain": [
              "                                                     text  label\n",
              "0       We asked for \"disclosure of any information th...      1\n",
              "1       Continued disruptions by a range of local grou...      1\n",
              "2       Criminal gangs in China are faking outbreaks o...      1\n",
              "3       \"After we announced the Hess transaction, we h...      1\n",
              "4       A Syngenta spokesman clarified his comment ear...      1\n",
              "...                                                   ...    ...\n",
              "115994  esponse team. A unanimous three-judge panel of...      1\n",
              "115995  S. market for Singapore Airlines and Malaysia ...      0\n",
              "115996  The top enforcer of a brutal war on drugs in t...      1\n",
              "115997  Two South Korean envoys will travel to the Uni...      1\n",
              "115998  Scope Ratings' structured finance head Guillau...      1\n",
              "\n",
              "[115999 rows x 2 columns]"
            ]
          },
          "execution_count": 94,
          "metadata": {},
          "output_type": "execute_result"
        }
      ],
      "source": [
        "test_df3"
      ]
    },
    {
      "cell_type": "code",
      "execution_count": 95,
      "metadata": {
        "id": "IyEvHh6X7t10"
      },
      "outputs": [],
      "source": [
        "test_df3['label'] = test_df3['label'].replace({0:'fake', 1:'real'})"
      ]
    },
    {
      "cell_type": "code",
      "execution_count": 96,
      "metadata": {
        "colab": {
          "base_uri": "https://localhost:8080/",
          "height": 423
        },
        "id": "1Y9ei6m57wvQ",
        "outputId": "053dc4b0-850d-4d26-96ea-ccb08310868c"
      },
      "outputs": [
        {
          "data": {
            "text/html": [
              "<div>\n",
              "<style scoped>\n",
              "    .dataframe tbody tr th:only-of-type {\n",
              "        vertical-align: middle;\n",
              "    }\n",
              "\n",
              "    .dataframe tbody tr th {\n",
              "        vertical-align: top;\n",
              "    }\n",
              "\n",
              "    .dataframe thead th {\n",
              "        text-align: right;\n",
              "    }\n",
              "</style>\n",
              "<table border=\"1\" class=\"dataframe\">\n",
              "  <thead>\n",
              "    <tr style=\"text-align: right;\">\n",
              "      <th></th>\n",
              "      <th>text</th>\n",
              "      <th>label</th>\n",
              "    </tr>\n",
              "  </thead>\n",
              "  <tbody>\n",
              "    <tr>\n",
              "      <th>0</th>\n",
              "      <td>We asked for \"disclosure of any information th...</td>\n",
              "      <td>real</td>\n",
              "    </tr>\n",
              "    <tr>\n",
              "      <th>1</th>\n",
              "      <td>Continued disruptions by a range of local grou...</td>\n",
              "      <td>real</td>\n",
              "    </tr>\n",
              "    <tr>\n",
              "      <th>2</th>\n",
              "      <td>Criminal gangs in China are faking outbreaks o...</td>\n",
              "      <td>real</td>\n",
              "    </tr>\n",
              "    <tr>\n",
              "      <th>3</th>\n",
              "      <td>\"After we announced the Hess transaction, we h...</td>\n",
              "      <td>real</td>\n",
              "    </tr>\n",
              "    <tr>\n",
              "      <th>4</th>\n",
              "      <td>A Syngenta spokesman clarified his comment ear...</td>\n",
              "      <td>real</td>\n",
              "    </tr>\n",
              "    <tr>\n",
              "      <th>...</th>\n",
              "      <td>...</td>\n",
              "      <td>...</td>\n",
              "    </tr>\n",
              "    <tr>\n",
              "      <th>115994</th>\n",
              "      <td>esponse team. A unanimous three-judge panel of...</td>\n",
              "      <td>real</td>\n",
              "    </tr>\n",
              "    <tr>\n",
              "      <th>115995</th>\n",
              "      <td>S. market for Singapore Airlines and Malaysia ...</td>\n",
              "      <td>fake</td>\n",
              "    </tr>\n",
              "    <tr>\n",
              "      <th>115996</th>\n",
              "      <td>The top enforcer of a brutal war on drugs in t...</td>\n",
              "      <td>real</td>\n",
              "    </tr>\n",
              "    <tr>\n",
              "      <th>115997</th>\n",
              "      <td>Two South Korean envoys will travel to the Uni...</td>\n",
              "      <td>real</td>\n",
              "    </tr>\n",
              "    <tr>\n",
              "      <th>115998</th>\n",
              "      <td>Scope Ratings' structured finance head Guillau...</td>\n",
              "      <td>real</td>\n",
              "    </tr>\n",
              "  </tbody>\n",
              "</table>\n",
              "<p>115999 rows × 2 columns</p>\n",
              "</div>"
            ],
            "text/plain": [
              "                                                     text label\n",
              "0       We asked for \"disclosure of any information th...  real\n",
              "1       Continued disruptions by a range of local grou...  real\n",
              "2       Criminal gangs in China are faking outbreaks o...  real\n",
              "3       \"After we announced the Hess transaction, we h...  real\n",
              "4       A Syngenta spokesman clarified his comment ear...  real\n",
              "...                                                   ...   ...\n",
              "115994  esponse team. A unanimous three-judge panel of...  real\n",
              "115995  S. market for Singapore Airlines and Malaysia ...  fake\n",
              "115996  The top enforcer of a brutal war on drugs in t...  real\n",
              "115997  Two South Korean envoys will travel to the Uni...  real\n",
              "115998  Scope Ratings' structured finance head Guillau...  real\n",
              "\n",
              "[115999 rows x 2 columns]"
            ]
          },
          "execution_count": 96,
          "metadata": {},
          "output_type": "execute_result"
        }
      ],
      "source": [
        "test_df3"
      ]
    },
    {
      "cell_type": "code",
      "execution_count": 97,
      "metadata": {
        "id": "pOPfKMRg8JUO"
      },
      "outputs": [],
      "source": [
        "test_df3.to_csv(\"submission.csv\", index=False)"
      ]
    },
    {
      "cell_type": "code",
      "execution_count": 98,
      "metadata": {
        "colab": {
          "base_uri": "https://localhost:8080/"
        },
        "id": "jQvEsdAu8Ni9",
        "outputId": "0a1a7af3-ff98-469a-d138-3e120d0079b8"
      },
      "outputs": [
        {
          "name": "stdout",
          "output_type": "stream",
          "text": [
            "\u001b[2K\u001b[1;34msubmission.csv\u001b[0m \u001b[90m━━━━━━━━━━━━━━━━━━━━━━\u001b[0m \u001b[35m100.0%\u001b[0m • \u001b[32m41.5/41.5 MB\u001b[0m • \u001b[31m2.0 MB/s\u001b[0m • \u001b[36m0:00:00\u001b[0m\n",
            "\u001b[?25h                                                       ╭─────────────────────────╮                                                       \n",
            "                                                       │ \u001b[1mSuccessfully submitted!\u001b[0m │                                                       \n",
            "                                                       ╰─────────────────────────╯                                                       \n",
            "\u001b[3m                                                             Important links                                                             \u001b[0m\n",
            "┌──────────────────┬────────────────────────────────────────────────────────────────────────────────────────────────────────────────────┐\n",
            "│  This submission │ https://www.aicrowd.com/challenges/kiit-ai-mini-blitz/problems/fake-news-detection/submissions/166192              │\n",
            "│                  │                                                                                                                    │\n",
            "│  All submissions │ https://www.aicrowd.com/challenges/kiit-ai-mini-blitz/problems/fake-news-detection/submissions?my_submissions=true │\n",
            "│                  │                                                                                                                    │\n",
            "│      Leaderboard │ https://www.aicrowd.com/challenges/kiit-ai-mini-blitz/problems/fake-news-detection/leaderboards                    │\n",
            "│                  │                                                                                                                    │\n",
            "│ Discussion forum │ https://discourse.aicrowd.com/c/kiit-ai-mini-blitz                                                                 │\n",
            "│                  │                                                                                                                    │\n",
            "│   Challenge page │ https://www.aicrowd.com/challenges/kiit-ai-mini-blitz/problems/fake-news-detection                                 │\n",
            "└──────────────────┴────────────────────────────────────────────────────────────────────────────────────────────────────────────────────┘\n",
            "{'submission_id': 166192, 'created_at': '2021-11-29T13:45:19.245Z'}\n"
          ]
        }
      ],
      "source": [
        "!aicrowd submission create -c fake-news-detection -f submission.csv"
      ]
    },
    {
      "cell_type": "markdown",
      "metadata": {
        "id": "dhxAiK3P_ZoR"
      },
      "source": [
        "# ✔ Method 3: Traditional ML Models & finally, Logistic Regression"
      ]
    },
    {
      "cell_type": "code",
      "execution_count": 6,
      "metadata": {
        "id": "towvLP9V_fEq"
      },
      "outputs": [],
      "source": [
        "# importing libraries\n",
        "import pandas as pd\n",
        "import numpy as np\n",
        "import seaborn as sns\n",
        "import matplotlib.pyplot as plt\n",
        "from sklearn.model_selection import train_test_split\n",
        "from sklearn.metrics import accuracy_score\n",
        "from sklearn.metrics import classification_report\n",
        "import re\n",
        "import string"
      ]
    },
    {
      "cell_type": "code",
      "execution_count": 7,
      "metadata": {
        "id": "hHAHrYGYAPj6"
      },
      "outputs": [],
      "source": [
        "# encoding labels fake and real to int labels\n",
        "train_df['label'] = train_df['label'].replace({'fake':0, 'real':1})\n",
        "val_df['label'] = val_df['label'].replace({'fake':0, 'real':1})"
      ]
    },
    {
      "cell_type": "code",
      "execution_count": 8,
      "metadata": {
        "colab": {
          "base_uri": "https://localhost:8080/",
          "height": 363
        },
        "id": "EyLWU9EBAfIK",
        "outputId": "8644bc40-5866-4755-f28a-530af193258e"
      },
      "outputs": [
        {
          "data": {
            "text/html": [
              "<div>\n",
              "<style scoped>\n",
              "    .dataframe tbody tr th:only-of-type {\n",
              "        vertical-align: middle;\n",
              "    }\n",
              "\n",
              "    .dataframe tbody tr th {\n",
              "        vertical-align: top;\n",
              "    }\n",
              "\n",
              "    .dataframe thead th {\n",
              "        text-align: right;\n",
              "    }\n",
              "</style>\n",
              "<table border=\"1\" class=\"dataframe\">\n",
              "  <thead>\n",
              "    <tr style=\"text-align: right;\">\n",
              "      <th></th>\n",
              "      <th>text</th>\n",
              "      <th>label</th>\n",
              "    </tr>\n",
              "  </thead>\n",
              "  <tbody>\n",
              "    <tr>\n",
              "      <th>0</th>\n",
              "      <td>The court granted by a 5-4 vote a request made...</td>\n",
              "      <td>1</td>\n",
              "    </tr>\n",
              "    <tr>\n",
              "      <th>1</th>\n",
              "      <td>\" Pennsylvania was a crucial swing state in th...</td>\n",
              "      <td>1</td>\n",
              "    </tr>\n",
              "    <tr>\n",
              "      <th>2</th>\n",
              "      <td>The company today is rolling out an update to ...</td>\n",
              "      <td>0</td>\n",
              "    </tr>\n",
              "    <tr>\n",
              "      <th>3</th>\n",
              "      <td>When it comes to trade policy, Hillary Clinton...</td>\n",
              "      <td>1</td>\n",
              "    </tr>\n",
              "    <tr>\n",
              "      <th>4</th>\n",
              "      <td>S. stocks had their worst April start since 19...</td>\n",
              "      <td>1</td>\n",
              "    </tr>\n",
              "    <tr>\n",
              "      <th>5</th>\n",
              "      <td>Journey Energy Inc * Journey Energy, Inc. (NAS...</td>\n",
              "      <td>0</td>\n",
              "    </tr>\n",
              "    <tr>\n",
              "      <th>6</th>\n",
              "      <td>Lights like the lights on the back of Alcatel'...</td>\n",
              "      <td>1</td>\n",
              "    </tr>\n",
              "    <tr>\n",
              "      <th>7</th>\n",
              "      <td>Chief Cabinet Secretary Yoshihide Suga said th...</td>\n",
              "      <td>1</td>\n",
              "    </tr>\n",
              "    <tr>\n",
              "      <th>8</th>\n",
              "      <td>(Adds quotes, details) AMSTERDAM, Dec 7 (Reute...</td>\n",
              "      <td>1</td>\n",
              "    </tr>\n",
              "    <tr>\n",
              "      <th>9</th>\n",
              "      <td>Feb 24 (Reuters) - Danske Andelskassers Bank A...</td>\n",
              "      <td>1</td>\n",
              "    </tr>\n",
              "  </tbody>\n",
              "</table>\n",
              "</div>"
            ],
            "text/plain": [
              "                                                text  label\n",
              "0  The court granted by a 5-4 vote a request made...      1\n",
              "1  \" Pennsylvania was a crucial swing state in th...      1\n",
              "2  The company today is rolling out an update to ...      0\n",
              "3  When it comes to trade policy, Hillary Clinton...      1\n",
              "4  S. stocks had their worst April start since 19...      1\n",
              "5  Journey Energy Inc * Journey Energy, Inc. (NAS...      0\n",
              "6  Lights like the lights on the back of Alcatel'...      1\n",
              "7  Chief Cabinet Secretary Yoshihide Suga said th...      1\n",
              "8  (Adds quotes, details) AMSTERDAM, Dec 7 (Reute...      1\n",
              "9  Feb 24 (Reuters) - Danske Andelskassers Bank A...      1"
            ]
          },
          "execution_count": 8,
          "metadata": {},
          "output_type": "execute_result"
        }
      ],
      "source": [
        "train_df.head(10)"
      ]
    },
    {
      "cell_type": "code",
      "execution_count": 9,
      "metadata": {
        "colab": {
          "base_uri": "https://localhost:8080/",
          "height": 363
        },
        "id": "_F6-kjsLAiEC",
        "outputId": "eef023e6-711b-4d20-91ae-9051b5cea571"
      },
      "outputs": [
        {
          "data": {
            "text/html": [
              "<div>\n",
              "<style scoped>\n",
              "    .dataframe tbody tr th:only-of-type {\n",
              "        vertical-align: middle;\n",
              "    }\n",
              "\n",
              "    .dataframe tbody tr th {\n",
              "        vertical-align: top;\n",
              "    }\n",
              "\n",
              "    .dataframe thead th {\n",
              "        text-align: right;\n",
              "    }\n",
              "</style>\n",
              "<table border=\"1\" class=\"dataframe\">\n",
              "  <thead>\n",
              "    <tr style=\"text-align: right;\">\n",
              "      <th></th>\n",
              "      <th>text</th>\n",
              "      <th>label</th>\n",
              "    </tr>\n",
              "  </thead>\n",
              "  <tbody>\n",
              "    <tr>\n",
              "      <th>0</th>\n",
              "      <td>Police investigating Saturday's fatal shooting...</td>\n",
              "      <td>1</td>\n",
              "    </tr>\n",
              "    <tr>\n",
              "      <th>1</th>\n",
              "      <td>A car bomb in Turkey's eastern province of Ela...</td>\n",
              "      <td>1</td>\n",
              "    </tr>\n",
              "    <tr>\n",
              "      <th>2</th>\n",
              "      <td>Democratic presidential candidate Hillary Clin...</td>\n",
              "      <td>1</td>\n",
              "    </tr>\n",
              "    <tr>\n",
              "      <th>3</th>\n",
              "      <td>Generally, each party gets two turns to decide...</td>\n",
              "      <td>0</td>\n",
              "    </tr>\n",
              "    <tr>\n",
              "      <th>4</th>\n",
              "      <td>Securitas CEO Alf Goransson told Reuters: * Se...</td>\n",
              "      <td>1</td>\n",
              "    </tr>\n",
              "    <tr>\n",
              "      <th>5</th>\n",
              "      <td>In \"Science and American Foreign Relations sin...</td>\n",
              "      <td>0</td>\n",
              "    </tr>\n",
              "    <tr>\n",
              "      <th>6</th>\n",
              "      <td>DE) operations in Britain, who told Reuters th...</td>\n",
              "      <td>1</td>\n",
              "    </tr>\n",
              "    <tr>\n",
              "      <th>7</th>\n",
              "      <td>In a consent order, the regulator also singled...</td>\n",
              "      <td>1</td>\n",
              "    </tr>\n",
              "    <tr>\n",
              "      <th>8</th>\n",
              "      <td>Europe must make clear to the United States th...</td>\n",
              "      <td>1</td>\n",
              "    </tr>\n",
              "    <tr>\n",
              "      <th>9</th>\n",
              "      <td>Brazilian cosmetics firm Natura Cosmeticos SA ...</td>\n",
              "      <td>1</td>\n",
              "    </tr>\n",
              "  </tbody>\n",
              "</table>\n",
              "</div>"
            ],
            "text/plain": [
              "                                                text  label\n",
              "0  Police investigating Saturday's fatal shooting...      1\n",
              "1  A car bomb in Turkey's eastern province of Ela...      1\n",
              "2  Democratic presidential candidate Hillary Clin...      1\n",
              "3  Generally, each party gets two turns to decide...      0\n",
              "4  Securitas CEO Alf Goransson told Reuters: * Se...      1\n",
              "5  In \"Science and American Foreign Relations sin...      0\n",
              "6  DE) operations in Britain, who told Reuters th...      1\n",
              "7  In a consent order, the regulator also singled...      1\n",
              "8  Europe must make clear to the United States th...      1\n",
              "9  Brazilian cosmetics firm Natura Cosmeticos SA ...      1"
            ]
          },
          "execution_count": 9,
          "metadata": {},
          "output_type": "execute_result"
        }
      ],
      "source": [
        "val_df.head(10)"
      ]
    },
    {
      "cell_type": "code",
      "execution_count": 10,
      "metadata": {
        "colab": {
          "base_uri": "https://localhost:8080/"
        },
        "id": "g6fsWFT7AtmT",
        "outputId": "9142982a-7b4d-49a1-dfbc-90a0f3d1c688"
      },
      "outputs": [
        {
          "name": "stdout",
          "output_type": "stream",
          "text": [
            "text     0\n",
            "label    0\n",
            "dtype: int64\n",
            "text     0\n",
            "label    0\n",
            "dtype: int64\n"
          ]
        }
      ],
      "source": [
        "print(train_df.isnull().sum())\n",
        "print(val_df.isnull().sum())"
      ]
    },
    {
      "cell_type": "code",
      "execution_count": 11,
      "metadata": {
        "colab": {
          "base_uri": "https://localhost:8080/",
          "height": 363
        },
        "id": "IwMmV7dYCG7X",
        "outputId": "6bf81880-e20d-4c27-d2d2-53c3146cefff"
      },
      "outputs": [
        {
          "data": {
            "text/html": [
              "<div>\n",
              "<style scoped>\n",
              "    .dataframe tbody tr th:only-of-type {\n",
              "        vertical-align: middle;\n",
              "    }\n",
              "\n",
              "    .dataframe tbody tr th {\n",
              "        vertical-align: top;\n",
              "    }\n",
              "\n",
              "    .dataframe thead th {\n",
              "        text-align: right;\n",
              "    }\n",
              "</style>\n",
              "<table border=\"1\" class=\"dataframe\">\n",
              "  <thead>\n",
              "    <tr style=\"text-align: right;\">\n",
              "      <th></th>\n",
              "      <th>text</th>\n",
              "      <th>label</th>\n",
              "    </tr>\n",
              "  </thead>\n",
              "  <tbody>\n",
              "    <tr>\n",
              "      <th>0</th>\n",
              "      <td>The court granted by a 5-4 vote a request made...</td>\n",
              "      <td>1</td>\n",
              "    </tr>\n",
              "    <tr>\n",
              "      <th>1</th>\n",
              "      <td>\" Pennsylvania was a crucial swing state in th...</td>\n",
              "      <td>1</td>\n",
              "    </tr>\n",
              "    <tr>\n",
              "      <th>2</th>\n",
              "      <td>The company today is rolling out an update to ...</td>\n",
              "      <td>0</td>\n",
              "    </tr>\n",
              "    <tr>\n",
              "      <th>3</th>\n",
              "      <td>When it comes to trade policy, Hillary Clinton...</td>\n",
              "      <td>1</td>\n",
              "    </tr>\n",
              "    <tr>\n",
              "      <th>4</th>\n",
              "      <td>S. stocks had their worst April start since 19...</td>\n",
              "      <td>1</td>\n",
              "    </tr>\n",
              "    <tr>\n",
              "      <th>5</th>\n",
              "      <td>Journey Energy Inc * Journey Energy, Inc. (NAS...</td>\n",
              "      <td>0</td>\n",
              "    </tr>\n",
              "    <tr>\n",
              "      <th>6</th>\n",
              "      <td>Lights like the lights on the back of Alcatel'...</td>\n",
              "      <td>1</td>\n",
              "    </tr>\n",
              "    <tr>\n",
              "      <th>7</th>\n",
              "      <td>Chief Cabinet Secretary Yoshihide Suga said th...</td>\n",
              "      <td>1</td>\n",
              "    </tr>\n",
              "    <tr>\n",
              "      <th>8</th>\n",
              "      <td>(Adds quotes, details) AMSTERDAM, Dec 7 (Reute...</td>\n",
              "      <td>1</td>\n",
              "    </tr>\n",
              "    <tr>\n",
              "      <th>9</th>\n",
              "      <td>Feb 24 (Reuters) - Danske Andelskassers Bank A...</td>\n",
              "      <td>1</td>\n",
              "    </tr>\n",
              "  </tbody>\n",
              "</table>\n",
              "</div>"
            ],
            "text/plain": [
              "                                                text  label\n",
              "0  The court granted by a 5-4 vote a request made...      1\n",
              "1  \" Pennsylvania was a crucial swing state in th...      1\n",
              "2  The company today is rolling out an update to ...      0\n",
              "3  When it comes to trade policy, Hillary Clinton...      1\n",
              "4  S. stocks had their worst April start since 19...      1\n",
              "5  Journey Energy Inc * Journey Energy, Inc. (NAS...      0\n",
              "6  Lights like the lights on the back of Alcatel'...      1\n",
              "7  Chief Cabinet Secretary Yoshihide Suga said th...      1\n",
              "8  (Adds quotes, details) AMSTERDAM, Dec 7 (Reute...      1\n",
              "9  Feb 24 (Reuters) - Danske Andelskassers Bank A...      1"
            ]
          },
          "execution_count": 11,
          "metadata": {},
          "output_type": "execute_result"
        }
      ],
      "source": [
        "# merging train and val df\n",
        "full_df = pd.concat([train_df, val_df], axis =0 )\n",
        "full_df.head(10)"
      ]
    },
    {
      "cell_type": "code",
      "execution_count": 12,
      "metadata": {
        "id": "WnDgYdAiA6Rw"
      },
      "outputs": [],
      "source": [
        "# randomly shuffling the df\n",
        "full_df = full_df.sample(frac = 1)"
      ]
    },
    {
      "cell_type": "code",
      "execution_count": 13,
      "metadata": {
        "colab": {
          "base_uri": "https://localhost:8080/",
          "height": 363
        },
        "id": "smEYGDOMBBg-",
        "outputId": "e088b2f3-3f53-4a03-c7f1-ed4c06303e5b"
      },
      "outputs": [
        {
          "data": {
            "text/html": [
              "<div>\n",
              "<style scoped>\n",
              "    .dataframe tbody tr th:only-of-type {\n",
              "        vertical-align: middle;\n",
              "    }\n",
              "\n",
              "    .dataframe tbody tr th {\n",
              "        vertical-align: top;\n",
              "    }\n",
              "\n",
              "    .dataframe thead th {\n",
              "        text-align: right;\n",
              "    }\n",
              "</style>\n",
              "<table border=\"1\" class=\"dataframe\">\n",
              "  <thead>\n",
              "    <tr style=\"text-align: right;\">\n",
              "      <th></th>\n",
              "      <th>text</th>\n",
              "      <th>label</th>\n",
              "    </tr>\n",
              "  </thead>\n",
              "  <tbody>\n",
              "    <tr>\n",
              "      <th>34658</th>\n",
              "      <td>The dollar was 0.1 percent higher at 114.160 y...</td>\n",
              "      <td>1</td>\n",
              "    </tr>\n",
              "    <tr>\n",
              "      <th>151780</th>\n",
              "      <td>investigation of bribery surrounding FIFA, soc...</td>\n",
              "      <td>0</td>\n",
              "    </tr>\n",
              "    <tr>\n",
              "      <th>132104</th>\n",
              "      <td>Britain has notified the Organisation for the ...</td>\n",
              "      <td>1</td>\n",
              "    </tr>\n",
              "    <tr>\n",
              "      <th>191077</th>\n",
              "      <td>Trade Representative Robert Lighthizer, who is...</td>\n",
              "      <td>1</td>\n",
              "    </tr>\n",
              "    <tr>\n",
              "      <th>141376</th>\n",
              "      <td>Harmonic Inc * Harmonic Inc - Limited Liabilit...</td>\n",
              "      <td>0</td>\n",
              "    </tr>\n",
              "    <tr>\n",
              "      <th>30175</th>\n",
              "      <td>One day he asked me if I wanted to talk to him...</td>\n",
              "      <td>0</td>\n",
              "    </tr>\n",
              "    <tr>\n",
              "      <th>117049</th>\n",
              "      <td>British industrialist Sanjeev Gupta is set to ...</td>\n",
              "      <td>1</td>\n",
              "    </tr>\n",
              "    <tr>\n",
              "      <th>88581</th>\n",
              "      <td>8337 trillion in the fourth quarter of 2016 fr...</td>\n",
              "      <td>0</td>\n",
              "    </tr>\n",
              "    <tr>\n",
              "      <th>225036</th>\n",
              "      <td>A U.S. government weather forecaster on Thursd...</td>\n",
              "      <td>1</td>\n",
              "    </tr>\n",
              "    <tr>\n",
              "      <th>60022</th>\n",
              "      <td>France should know that Iran's missile program...</td>\n",
              "      <td>1</td>\n",
              "    </tr>\n",
              "  </tbody>\n",
              "</table>\n",
              "</div>"
            ],
            "text/plain": [
              "                                                     text  label\n",
              "34658   The dollar was 0.1 percent higher at 114.160 y...      1\n",
              "151780  investigation of bribery surrounding FIFA, soc...      0\n",
              "132104  Britain has notified the Organisation for the ...      1\n",
              "191077  Trade Representative Robert Lighthizer, who is...      1\n",
              "141376  Harmonic Inc * Harmonic Inc - Limited Liabilit...      0\n",
              "30175   One day he asked me if I wanted to talk to him...      0\n",
              "117049  British industrialist Sanjeev Gupta is set to ...      1\n",
              "88581   8337 trillion in the fourth quarter of 2016 fr...      0\n",
              "225036  A U.S. government weather forecaster on Thursd...      1\n",
              "60022   France should know that Iran's missile program...      1"
            ]
          },
          "execution_count": 13,
          "metadata": {},
          "output_type": "execute_result"
        }
      ],
      "source": [
        "full_df.head(10)"
      ]
    },
    {
      "cell_type": "code",
      "execution_count": 14,
      "metadata": {
        "id": "R7LQwBLKBLns"
      },
      "outputs": [],
      "source": [
        "full_df.reset_index(inplace = True)\n",
        "full_df.drop([\"index\"], axis = 1, inplace = True)"
      ]
    },
    {
      "cell_type": "code",
      "execution_count": 15,
      "metadata": {
        "colab": {
          "base_uri": "https://localhost:8080/"
        },
        "id": "AhWbPtGYBRMl",
        "outputId": "9a63bb51-ec89-449e-87e7-f8da1070f806"
      },
      "outputs": [
        {
          "data": {
            "text/plain": [
              "Index(['text', 'label'], dtype='object')"
            ]
          },
          "execution_count": 15,
          "metadata": {},
          "output_type": "execute_result"
        }
      ],
      "source": [
        "full_df.columns"
      ]
    },
    {
      "cell_type": "code",
      "execution_count": 16,
      "metadata": {
        "id": "KxdRIIHUBVG7"
      },
      "outputs": [],
      "source": [
        "# creating a function to process the texts\n",
        "def wordopt(text):\n",
        "    text = text.lower()\n",
        "    text = re.sub('\\[.*?\\]', '', text)\n",
        "    text = re.sub(\"\\\\W\",\" \",text) \n",
        "    text = re.sub('https?://\\S+|www\\.\\S+', '', text)\n",
        "    text = re.sub('<.*?>+', '', text)\n",
        "    text = re.sub('[%s]' % re.escape(string.punctuation), '', text)\n",
        "    text = re.sub('\\n', '', text)\n",
        "    text = re.sub('\\w*\\d\\w*', '', text)    \n",
        "    return text"
      ]
    },
    {
      "cell_type": "code",
      "execution_count": 17,
      "metadata": {
        "id": "xuwpyYPzBYqg"
      },
      "outputs": [],
      "source": [
        "full_df[\"text\"] = full_df[\"text\"].apply(wordopt)"
      ]
    },
    {
      "cell_type": "code",
      "execution_count": 18,
      "metadata": {
        "id": "r2dFsEaFBisH"
      },
      "outputs": [],
      "source": [
        "# defining dependent and independent variables\n",
        "x = full_df[\"text\"]\n",
        "y = full_df[\"label\"]"
      ]
    },
    {
      "cell_type": "code",
      "execution_count": 19,
      "metadata": {
        "id": "5B1qKdufCyR7"
      },
      "outputs": [],
      "source": [
        "# splitting training and testing\n",
        "x_train, x_test, y_train, y_test = train_test_split(x, y, test_size=0.25)"
      ]
    },
    {
      "cell_type": "code",
      "execution_count": 20,
      "metadata": {
        "id": "gNBycnWuC7GF"
      },
      "outputs": [],
      "source": [
        "# convert text to vectors\n",
        "from sklearn.feature_extraction.text import TfidfVectorizer\n",
        "\n",
        "vectorization = TfidfVectorizer()\n",
        "xv_train = vectorization.fit_transform(x_train)\n",
        "xv_test = vectorization.transform(x_test)"
      ]
    },
    {
      "cell_type": "markdown",
      "metadata": {
        "id": "NZZ7hxnQDFHe"
      },
      "source": [
        "## Logistic Regression"
      ]
    },
    {
      "cell_type": "code",
      "execution_count": 21,
      "metadata": {
        "colab": {
          "base_uri": "https://localhost:8080/"
        },
        "id": "N7J1kwdgDG7O",
        "outputId": "105640d8-ec72-4a4f-9220-7b31d3b1e748"
      },
      "outputs": [
        {
          "data": {
            "text/plain": [
              "LogisticRegression(max_iter=500)"
            ]
          },
          "execution_count": 21,
          "metadata": {},
          "output_type": "execute_result"
        }
      ],
      "source": [
        "from sklearn.linear_model import LogisticRegression\n",
        "\n",
        "LR = LogisticRegression(max_iter=500)\n",
        "LR.fit(xv_train,y_train)"
      ]
    },
    {
      "cell_type": "code",
      "execution_count": 22,
      "metadata": {
        "id": "ff5G4GCCDKo0"
      },
      "outputs": [],
      "source": [
        "pred_lr=LR.predict(xv_test)"
      ]
    },
    {
      "cell_type": "code",
      "execution_count": 23,
      "metadata": {
        "colab": {
          "base_uri": "https://localhost:8080/"
        },
        "id": "WeJrrOAWD3ol",
        "outputId": "ff65d101-112d-4d91-d65c-bc6beac9e463"
      },
      "outputs": [
        {
          "data": {
            "text/plain": [
              "0.938892829697937"
            ]
          },
          "execution_count": 23,
          "metadata": {},
          "output_type": "execute_result"
        }
      ],
      "source": [
        "LR.score(xv_test, y_test)"
      ]
    },
    {
      "cell_type": "code",
      "execution_count": 24,
      "metadata": {
        "colab": {
          "base_uri": "https://localhost:8080/"
        },
        "id": "tIBWwe2BD6q0",
        "outputId": "37312a69-9dca-4296-96a1-b4059b2d3ae8"
      },
      "outputs": [
        {
          "name": "stdout",
          "output_type": "stream",
          "text": [
            "              precision    recall  f1-score   support\n",
            "\n",
            "           0       0.93      0.86      0.89     19618\n",
            "           1       0.94      0.97      0.96     48050\n",
            "\n",
            "    accuracy                           0.94     67668\n",
            "   macro avg       0.94      0.91      0.92     67668\n",
            "weighted avg       0.94      0.94      0.94     67668\n",
            "\n"
          ]
        }
      ],
      "source": [
        "print(classification_report(y_test, pred_lr))"
      ]
    },
    {
      "cell_type": "markdown",
      "metadata": {
        "id": "tLtC5xunEGEz"
      },
      "source": [
        "## Decision Tree Classification"
      ]
    },
    {
      "cell_type": "code",
      "execution_count": 27,
      "metadata": {
        "colab": {
          "base_uri": "https://localhost:8080/"
        },
        "id": "anssBFEREKMg",
        "outputId": "af0709f8-9e3b-4869-94ef-62aba91de7bc"
      },
      "outputs": [
        {
          "data": {
            "text/plain": [
              "DecisionTreeClassifier()"
            ]
          },
          "execution_count": 27,
          "metadata": {},
          "output_type": "execute_result"
        }
      ],
      "source": [
        "from sklearn.tree import DecisionTreeClassifier\n",
        "\n",
        "DT = DecisionTreeClassifier()\n",
        "DT.fit(xv_train, y_train)"
      ]
    },
    {
      "cell_type": "code",
      "execution_count": 28,
      "metadata": {
        "id": "bGs1xyvAEjSm"
      },
      "outputs": [],
      "source": [
        "pred_dt = DT.predict(xv_test)"
      ]
    },
    {
      "cell_type": "code",
      "execution_count": 29,
      "metadata": {
        "colab": {
          "base_uri": "https://localhost:8080/"
        },
        "id": "bpNNz6C6EkqK",
        "outputId": "0be7b5cd-6475-420b-bc82-e3264941135b"
      },
      "outputs": [
        {
          "data": {
            "text/plain": [
              "0.8368652834426907"
            ]
          },
          "execution_count": 29,
          "metadata": {},
          "output_type": "execute_result"
        }
      ],
      "source": [
        "DT.score(xv_test, y_test)"
      ]
    },
    {
      "cell_type": "code",
      "execution_count": 30,
      "metadata": {
        "colab": {
          "base_uri": "https://localhost:8080/"
        },
        "id": "SrmpQiB0El5t",
        "outputId": "4d326c05-37a8-4a93-a9ed-55f7e8fa07e1"
      },
      "outputs": [
        {
          "name": "stdout",
          "output_type": "stream",
          "text": [
            "              precision    recall  f1-score   support\n",
            "\n",
            "           0       0.72      0.72      0.72     19591\n",
            "           1       0.89      0.88      0.89     48077\n",
            "\n",
            "    accuracy                           0.84     67668\n",
            "   macro avg       0.80      0.80      0.80     67668\n",
            "weighted avg       0.84      0.84      0.84     67668\n",
            "\n"
          ]
        }
      ],
      "source": [
        "print(classification_report(y_test, pred_dt))"
      ]
    },
    {
      "cell_type": "markdown",
      "metadata": {
        "id": "Yx_bYI-ZEnGp"
      },
      "source": [
        "## Gradient Boosting Classifier"
      ]
    },
    {
      "cell_type": "code",
      "execution_count": 31,
      "metadata": {
        "colab": {
          "base_uri": "https://localhost:8080/"
        },
        "id": "52M2gMHMErZ7",
        "outputId": "2c6894e5-73b2-420c-b9a6-603585d7d090"
      },
      "outputs": [
        {
          "data": {
            "text/plain": [
              "GradientBoostingClassifier(random_state=0)"
            ]
          },
          "execution_count": 31,
          "metadata": {},
          "output_type": "execute_result"
        }
      ],
      "source": [
        "from sklearn.ensemble import GradientBoostingClassifier\n",
        "\n",
        "GBC = GradientBoostingClassifier(random_state=0)\n",
        "GBC.fit(xv_train, y_train)"
      ]
    },
    {
      "cell_type": "code",
      "execution_count": 32,
      "metadata": {
        "id": "Adff8brLEtgC"
      },
      "outputs": [],
      "source": [
        "pred_gbc = GBC.predict(xv_test)"
      ]
    },
    {
      "cell_type": "code",
      "execution_count": 33,
      "metadata": {
        "colab": {
          "base_uri": "https://localhost:8080/"
        },
        "id": "BSV_a4jsEvjR",
        "outputId": "2316d890-12b4-4de0-b237-0507e2e41f4b"
      },
      "outputs": [
        {
          "data": {
            "text/plain": [
              "0.8753029496955725"
            ]
          },
          "execution_count": 33,
          "metadata": {},
          "output_type": "execute_result"
        }
      ],
      "source": [
        "GBC.score(xv_test, y_test)"
      ]
    },
    {
      "cell_type": "code",
      "execution_count": 34,
      "metadata": {
        "colab": {
          "base_uri": "https://localhost:8080/"
        },
        "id": "M_8-Xx1mExGG",
        "outputId": "46181afd-33e4-4fcf-cecc-e412454c2c03"
      },
      "outputs": [
        {
          "name": "stdout",
          "output_type": "stream",
          "text": [
            "              precision    recall  f1-score   support\n",
            "\n",
            "           0       0.89      0.65      0.75     19591\n",
            "           1       0.87      0.97      0.92     48077\n",
            "\n",
            "    accuracy                           0.88     67668\n",
            "   macro avg       0.88      0.81      0.83     67668\n",
            "weighted avg       0.88      0.88      0.87     67668\n",
            "\n"
          ]
        }
      ],
      "source": [
        "print(classification_report(y_test, pred_gbc))"
      ]
    },
    {
      "cell_type": "markdown",
      "metadata": {
        "id": "P6KY2OdyEzD9"
      },
      "source": [
        "## Random Forest Classifier"
      ]
    },
    {
      "cell_type": "code",
      "execution_count": 35,
      "metadata": {
        "colab": {
          "base_uri": "https://localhost:8080/"
        },
        "id": "LbUThRqCE2j0",
        "outputId": "ffaf2af0-565a-42c4-c90a-f04d601b42de"
      },
      "outputs": [
        {
          "data": {
            "text/plain": [
              "RandomForestClassifier(random_state=0)"
            ]
          },
          "execution_count": 35,
          "metadata": {},
          "output_type": "execute_result"
        }
      ],
      "source": [
        "from sklearn.ensemble import RandomForestClassifier\n",
        "\n",
        "RFC = RandomForestClassifier(random_state=0)\n",
        "RFC.fit(xv_train, y_train)"
      ]
    },
    {
      "cell_type": "code",
      "execution_count": 36,
      "metadata": {
        "id": "-frlWeK3EyFf"
      },
      "outputs": [],
      "source": [
        "pred_rfc = RFC.predict(xv_test)"
      ]
    },
    {
      "cell_type": "code",
      "execution_count": 37,
      "metadata": {
        "colab": {
          "base_uri": "https://localhost:8080/"
        },
        "id": "b8bDEduNE8Bg",
        "outputId": "7811c4b5-53b2-4621-9e42-7f82bc537b56"
      },
      "outputs": [
        {
          "data": {
            "text/plain": [
              "0.9094993202104392"
            ]
          },
          "execution_count": 37,
          "metadata": {},
          "output_type": "execute_result"
        }
      ],
      "source": [
        "RFC.score(xv_test, y_test)"
      ]
    },
    {
      "cell_type": "code",
      "execution_count": 38,
      "metadata": {
        "colab": {
          "base_uri": "https://localhost:8080/"
        },
        "id": "wHc6m8ToE5sn",
        "outputId": "034283be-52a6-491e-8b2e-35d74ed8d843"
      },
      "outputs": [
        {
          "name": "stdout",
          "output_type": "stream",
          "text": [
            "              precision    recall  f1-score   support\n",
            "\n",
            "           0       0.96      0.72      0.82     19591\n",
            "           1       0.90      0.99      0.94     48077\n",
            "\n",
            "    accuracy                           0.91     67668\n",
            "   macro avg       0.93      0.85      0.88     67668\n",
            "weighted avg       0.91      0.91      0.91     67668\n",
            "\n"
          ]
        }
      ],
      "source": [
        "print(classification_report(y_test, pred_rfc))"
      ]
    },
    {
      "cell_type": "markdown",
      "metadata": {
        "id": "UJKBUOnVM7DC"
      },
      "source": [
        "## XGBoost"
      ]
    },
    {
      "cell_type": "code",
      "execution_count": 40,
      "metadata": {
        "id": "RqR7YzTjNHUo"
      },
      "outputs": [],
      "source": [
        "import xgboost as xgb"
      ]
    },
    {
      "cell_type": "code",
      "execution_count": 41,
      "metadata": {
        "colab": {
          "base_uri": "https://localhost:8080/"
        },
        "id": "tCqCM--RNDgc",
        "outputId": "8954b43d-3e57-4b79-9f88-cff10937decb"
      },
      "outputs": [
        {
          "data": {
            "text/plain": [
              "XGBRegressor(objective='binary:logistic', random_state=42)"
            ]
          },
          "execution_count": 41,
          "metadata": {},
          "output_type": "execute_result"
        }
      ],
      "source": [
        "xgb_model = xgb.XGBRegressor(objective=\"binary:logistic\", random_state=42)\n",
        "\n",
        "xgb_model.fit(xv_train, y_train)"
      ]
    },
    {
      "cell_type": "code",
      "execution_count": 43,
      "metadata": {
        "id": "FYkFvsZiNdro"
      },
      "outputs": [],
      "source": [
        "y_pred = xgb_model.predict(xv_test)"
      ]
    },
    {
      "cell_type": "code",
      "execution_count": 44,
      "metadata": {
        "colab": {
          "base_uri": "https://localhost:8080/"
        },
        "id": "WjcdBGJnNqGp",
        "outputId": "7ff97fea-de7e-4069-dc0d-b3fea1d1cfc3"
      },
      "outputs": [
        {
          "data": {
            "text/plain": [
              "0.9094993202104392"
            ]
          },
          "execution_count": 44,
          "metadata": {},
          "output_type": "execute_result"
        }
      ],
      "source": [
        "RFC.score(xv_test, y_test)"
      ]
    },
    {
      "cell_type": "code",
      "execution_count": 45,
      "metadata": {
        "colab": {
          "base_uri": "https://localhost:8080/"
        },
        "id": "8jpfAf5HNx_Q",
        "outputId": "99296d2a-779c-41c8-f802-6e2c2054aa17"
      },
      "outputs": [
        {
          "name": "stdout",
          "output_type": "stream",
          "text": [
            "              precision    recall  f1-score   support\n",
            "\n",
            "           0       0.96      0.72      0.82     19591\n",
            "           1       0.90      0.99      0.94     48077\n",
            "\n",
            "    accuracy                           0.91     67668\n",
            "   macro avg       0.93      0.85      0.88     67668\n",
            "weighted avg       0.91      0.91      0.91     67668\n",
            "\n"
          ]
        }
      ],
      "source": [
        "print(classification_report(y_test, pred_rfc))"
      ]
    },
    {
      "cell_type": "markdown",
      "metadata": {
        "id": "Bj1g_dnvPYfd"
      },
      "source": [
        "## Choosing Logistic Regression with F1 Score of 0.94 for Submission 2"
      ]
    },
    {
      "cell_type": "code",
      "execution_count": 25,
      "metadata": {
        "colab": {
          "base_uri": "https://localhost:8080/",
          "height": 423
        },
        "id": "11ECB7KMPeLC",
        "outputId": "0ff2fa31-7c41-4acc-dff0-f764bb95c2c7"
      },
      "outputs": [
        {
          "data": {
            "text/html": [
              "<div>\n",
              "<style scoped>\n",
              "    .dataframe tbody tr th:only-of-type {\n",
              "        vertical-align: middle;\n",
              "    }\n",
              "\n",
              "    .dataframe tbody tr th {\n",
              "        vertical-align: top;\n",
              "    }\n",
              "\n",
              "    .dataframe thead th {\n",
              "        text-align: right;\n",
              "    }\n",
              "</style>\n",
              "<table border=\"1\" class=\"dataframe\">\n",
              "  <thead>\n",
              "    <tr style=\"text-align: right;\">\n",
              "      <th></th>\n",
              "      <th>text</th>\n",
              "    </tr>\n",
              "  </thead>\n",
              "  <tbody>\n",
              "    <tr>\n",
              "      <th>0</th>\n",
              "      <td>We asked for \"disclosure of any information th...</td>\n",
              "    </tr>\n",
              "    <tr>\n",
              "      <th>1</th>\n",
              "      <td>Continued disruptions by a range of local grou...</td>\n",
              "    </tr>\n",
              "    <tr>\n",
              "      <th>2</th>\n",
              "      <td>Criminal gangs in China are faking outbreaks o...</td>\n",
              "    </tr>\n",
              "    <tr>\n",
              "      <th>3</th>\n",
              "      <td>\"After we announced the Hess transaction, we h...</td>\n",
              "    </tr>\n",
              "    <tr>\n",
              "      <th>4</th>\n",
              "      <td>A Syngenta spokesman clarified his comment ear...</td>\n",
              "    </tr>\n",
              "    <tr>\n",
              "      <th>...</th>\n",
              "      <td>...</td>\n",
              "    </tr>\n",
              "    <tr>\n",
              "      <th>115994</th>\n",
              "      <td>esponse team. A unanimous three-judge panel of...</td>\n",
              "    </tr>\n",
              "    <tr>\n",
              "      <th>115995</th>\n",
              "      <td>S. market for Singapore Airlines and Malaysia ...</td>\n",
              "    </tr>\n",
              "    <tr>\n",
              "      <th>115996</th>\n",
              "      <td>The top enforcer of a brutal war on drugs in t...</td>\n",
              "    </tr>\n",
              "    <tr>\n",
              "      <th>115997</th>\n",
              "      <td>Two South Korean envoys will travel to the Uni...</td>\n",
              "    </tr>\n",
              "    <tr>\n",
              "      <th>115998</th>\n",
              "      <td>Scope Ratings' structured finance head Guillau...</td>\n",
              "    </tr>\n",
              "  </tbody>\n",
              "</table>\n",
              "<p>115999 rows × 1 columns</p>\n",
              "</div>"
            ],
            "text/plain": [
              "                                                     text\n",
              "0       We asked for \"disclosure of any information th...\n",
              "1       Continued disruptions by a range of local grou...\n",
              "2       Criminal gangs in China are faking outbreaks o...\n",
              "3       \"After we announced the Hess transaction, we h...\n",
              "4       A Syngenta spokesman clarified his comment ear...\n",
              "...                                                   ...\n",
              "115994  esponse team. A unanimous three-judge panel of...\n",
              "115995  S. market for Singapore Airlines and Malaysia ...\n",
              "115996  The top enforcer of a brutal war on drugs in t...\n",
              "115997  Two South Korean envoys will travel to the Uni...\n",
              "115998  Scope Ratings' structured finance head Guillau...\n",
              "\n",
              "[115999 rows x 1 columns]"
            ]
          },
          "execution_count": 25,
          "metadata": {},
          "output_type": "execute_result"
        }
      ],
      "source": [
        "test_df"
      ]
    },
    {
      "cell_type": "code",
      "execution_count": 26,
      "metadata": {
        "id": "rATC-GMUPyjV"
      },
      "outputs": [],
      "source": [
        "def wordopt(text):\n",
        "    text = text.lower()\n",
        "    text = re.sub('\\[.*?\\]', '', text)\n",
        "    text = re.sub(\"\\\\W\",\" \",text) \n",
        "    text = re.sub('https?://\\S+|www\\.\\S+', '', text)\n",
        "    text = re.sub('<.*?>+', '', text)\n",
        "    text = re.sub('[%s]' % re.escape(string.punctuation), '', text)\n",
        "    text = re.sub('\\n', '', text)\n",
        "    text = re.sub('\\w*\\d\\w*', '', text)    \n",
        "    return text"
      ]
    },
    {
      "cell_type": "code",
      "execution_count": 27,
      "metadata": {
        "id": "0mDDjCjnQWTW"
      },
      "outputs": [],
      "source": [
        "test_df[\"text\"] = test_df[\"text\"].apply(wordopt)"
      ]
    },
    {
      "cell_type": "code",
      "execution_count": 29,
      "metadata": {
        "id": "172WvTTxQlQw"
      },
      "outputs": [],
      "source": [
        "xv_test2 = vectorization.transform(test_df[\"text\"])"
      ]
    },
    {
      "cell_type": "code",
      "execution_count": 30,
      "metadata": {
        "id": "oy9NuOeUTqPB"
      },
      "outputs": [],
      "source": [
        "pred_lr2=LR.predict(xv_test2)"
      ]
    },
    {
      "cell_type": "code",
      "execution_count": 66,
      "metadata": {
        "colab": {
          "base_uri": "https://localhost:8080/"
        },
        "id": "DgUYTG8Y3FVB",
        "outputId": "c447fe28-ea13-44a2-f2c9-da163440b5b6"
      },
      "outputs": [
        {
          "name": "stdout",
          "output_type": "stream",
          "text": [
            "                                                text\n",
            "0  We asked for \"disclosure of any information th...\n",
            "1  Continued disruptions by a range of local grou...\n",
            "2  Criminal gangs in China are faking outbreaks o...\n",
            "3  \"After we announced the Hess transaction, we h...\n",
            "4  A Syngenta spokesman clarified his comment ear...\n"
          ]
        }
      ],
      "source": [
        "test_df2 = pd.read_csv(os.path.join(\"data\", \"test\", \"test.csv\"))\n",
        "print(test_df2.head())"
      ]
    },
    {
      "cell_type": "code",
      "execution_count": 67,
      "metadata": {
        "id": "fI4COGanQ0E4"
      },
      "outputs": [],
      "source": [
        "test_df2[\"label\"] = pred_lr2"
      ]
    },
    {
      "cell_type": "code",
      "execution_count": 68,
      "metadata": {
        "colab": {
          "base_uri": "https://localhost:8080/",
          "height": 423
        },
        "id": "CXnRDcznT0p3",
        "outputId": "299ce646-5f12-4413-da55-240030d3f1ee"
      },
      "outputs": [
        {
          "data": {
            "text/html": [
              "<div>\n",
              "<style scoped>\n",
              "    .dataframe tbody tr th:only-of-type {\n",
              "        vertical-align: middle;\n",
              "    }\n",
              "\n",
              "    .dataframe tbody tr th {\n",
              "        vertical-align: top;\n",
              "    }\n",
              "\n",
              "    .dataframe thead th {\n",
              "        text-align: right;\n",
              "    }\n",
              "</style>\n",
              "<table border=\"1\" class=\"dataframe\">\n",
              "  <thead>\n",
              "    <tr style=\"text-align: right;\">\n",
              "      <th></th>\n",
              "      <th>text</th>\n",
              "      <th>label</th>\n",
              "    </tr>\n",
              "  </thead>\n",
              "  <tbody>\n",
              "    <tr>\n",
              "      <th>0</th>\n",
              "      <td>We asked for \"disclosure of any information th...</td>\n",
              "      <td>1</td>\n",
              "    </tr>\n",
              "    <tr>\n",
              "      <th>1</th>\n",
              "      <td>Continued disruptions by a range of local grou...</td>\n",
              "      <td>1</td>\n",
              "    </tr>\n",
              "    <tr>\n",
              "      <th>2</th>\n",
              "      <td>Criminal gangs in China are faking outbreaks o...</td>\n",
              "      <td>1</td>\n",
              "    </tr>\n",
              "    <tr>\n",
              "      <th>3</th>\n",
              "      <td>\"After we announced the Hess transaction, we h...</td>\n",
              "      <td>1</td>\n",
              "    </tr>\n",
              "    <tr>\n",
              "      <th>4</th>\n",
              "      <td>A Syngenta spokesman clarified his comment ear...</td>\n",
              "      <td>1</td>\n",
              "    </tr>\n",
              "    <tr>\n",
              "      <th>...</th>\n",
              "      <td>...</td>\n",
              "      <td>...</td>\n",
              "    </tr>\n",
              "    <tr>\n",
              "      <th>115994</th>\n",
              "      <td>esponse team. A unanimous three-judge panel of...</td>\n",
              "      <td>1</td>\n",
              "    </tr>\n",
              "    <tr>\n",
              "      <th>115995</th>\n",
              "      <td>S. market for Singapore Airlines and Malaysia ...</td>\n",
              "      <td>0</td>\n",
              "    </tr>\n",
              "    <tr>\n",
              "      <th>115996</th>\n",
              "      <td>The top enforcer of a brutal war on drugs in t...</td>\n",
              "      <td>1</td>\n",
              "    </tr>\n",
              "    <tr>\n",
              "      <th>115997</th>\n",
              "      <td>Two South Korean envoys will travel to the Uni...</td>\n",
              "      <td>1</td>\n",
              "    </tr>\n",
              "    <tr>\n",
              "      <th>115998</th>\n",
              "      <td>Scope Ratings' structured finance head Guillau...</td>\n",
              "      <td>1</td>\n",
              "    </tr>\n",
              "  </tbody>\n",
              "</table>\n",
              "<p>115999 rows × 2 columns</p>\n",
              "</div>"
            ],
            "text/plain": [
              "                                                     text  label\n",
              "0       We asked for \"disclosure of any information th...      1\n",
              "1       Continued disruptions by a range of local grou...      1\n",
              "2       Criminal gangs in China are faking outbreaks o...      1\n",
              "3       \"After we announced the Hess transaction, we h...      1\n",
              "4       A Syngenta spokesman clarified his comment ear...      1\n",
              "...                                                   ...    ...\n",
              "115994  esponse team. A unanimous three-judge panel of...      1\n",
              "115995  S. market for Singapore Airlines and Malaysia ...      0\n",
              "115996  The top enforcer of a brutal war on drugs in t...      1\n",
              "115997  Two South Korean envoys will travel to the Uni...      1\n",
              "115998  Scope Ratings' structured finance head Guillau...      1\n",
              "\n",
              "[115999 rows x 2 columns]"
            ]
          },
          "execution_count": 68,
          "metadata": {},
          "output_type": "execute_result"
        }
      ],
      "source": [
        "test_df2"
      ]
    },
    {
      "cell_type": "code",
      "execution_count": 69,
      "metadata": {
        "id": "uqwSskV4Vgel"
      },
      "outputs": [],
      "source": [
        "test_df2['label'] = test_df2['label'].replace({0:'fake', 1:'real'})"
      ]
    },
    {
      "cell_type": "code",
      "execution_count": 70,
      "metadata": {
        "colab": {
          "base_uri": "https://localhost:8080/",
          "height": 423
        },
        "id": "TD9drvPTVqkT",
        "outputId": "d30e7d51-6eac-4fe6-b8e5-786b16ac5b05"
      },
      "outputs": [
        {
          "data": {
            "text/html": [
              "<div>\n",
              "<style scoped>\n",
              "    .dataframe tbody tr th:only-of-type {\n",
              "        vertical-align: middle;\n",
              "    }\n",
              "\n",
              "    .dataframe tbody tr th {\n",
              "        vertical-align: top;\n",
              "    }\n",
              "\n",
              "    .dataframe thead th {\n",
              "        text-align: right;\n",
              "    }\n",
              "</style>\n",
              "<table border=\"1\" class=\"dataframe\">\n",
              "  <thead>\n",
              "    <tr style=\"text-align: right;\">\n",
              "      <th></th>\n",
              "      <th>text</th>\n",
              "      <th>label</th>\n",
              "    </tr>\n",
              "  </thead>\n",
              "  <tbody>\n",
              "    <tr>\n",
              "      <th>0</th>\n",
              "      <td>We asked for \"disclosure of any information th...</td>\n",
              "      <td>real</td>\n",
              "    </tr>\n",
              "    <tr>\n",
              "      <th>1</th>\n",
              "      <td>Continued disruptions by a range of local grou...</td>\n",
              "      <td>real</td>\n",
              "    </tr>\n",
              "    <tr>\n",
              "      <th>2</th>\n",
              "      <td>Criminal gangs in China are faking outbreaks o...</td>\n",
              "      <td>real</td>\n",
              "    </tr>\n",
              "    <tr>\n",
              "      <th>3</th>\n",
              "      <td>\"After we announced the Hess transaction, we h...</td>\n",
              "      <td>real</td>\n",
              "    </tr>\n",
              "    <tr>\n",
              "      <th>4</th>\n",
              "      <td>A Syngenta spokesman clarified his comment ear...</td>\n",
              "      <td>real</td>\n",
              "    </tr>\n",
              "    <tr>\n",
              "      <th>...</th>\n",
              "      <td>...</td>\n",
              "      <td>...</td>\n",
              "    </tr>\n",
              "    <tr>\n",
              "      <th>115994</th>\n",
              "      <td>esponse team. A unanimous three-judge panel of...</td>\n",
              "      <td>real</td>\n",
              "    </tr>\n",
              "    <tr>\n",
              "      <th>115995</th>\n",
              "      <td>S. market for Singapore Airlines and Malaysia ...</td>\n",
              "      <td>fake</td>\n",
              "    </tr>\n",
              "    <tr>\n",
              "      <th>115996</th>\n",
              "      <td>The top enforcer of a brutal war on drugs in t...</td>\n",
              "      <td>real</td>\n",
              "    </tr>\n",
              "    <tr>\n",
              "      <th>115997</th>\n",
              "      <td>Two South Korean envoys will travel to the Uni...</td>\n",
              "      <td>real</td>\n",
              "    </tr>\n",
              "    <tr>\n",
              "      <th>115998</th>\n",
              "      <td>Scope Ratings' structured finance head Guillau...</td>\n",
              "      <td>real</td>\n",
              "    </tr>\n",
              "  </tbody>\n",
              "</table>\n",
              "<p>115999 rows × 2 columns</p>\n",
              "</div>"
            ],
            "text/plain": [
              "                                                     text label\n",
              "0       We asked for \"disclosure of any information th...  real\n",
              "1       Continued disruptions by a range of local grou...  real\n",
              "2       Criminal gangs in China are faking outbreaks o...  real\n",
              "3       \"After we announced the Hess transaction, we h...  real\n",
              "4       A Syngenta spokesman clarified his comment ear...  real\n",
              "...                                                   ...   ...\n",
              "115994  esponse team. A unanimous three-judge panel of...  real\n",
              "115995  S. market for Singapore Airlines and Malaysia ...  fake\n",
              "115996  The top enforcer of a brutal war on drugs in t...  real\n",
              "115997  Two South Korean envoys will travel to the Uni...  real\n",
              "115998  Scope Ratings' structured finance head Guillau...  real\n",
              "\n",
              "[115999 rows x 2 columns]"
            ]
          },
          "execution_count": 70,
          "metadata": {},
          "output_type": "execute_result"
        }
      ],
      "source": [
        "test_df2"
      ]
    },
    {
      "cell_type": "code",
      "execution_count": 71,
      "metadata": {
        "id": "Q676xzAvP8KO"
      },
      "outputs": [],
      "source": [
        "test_df2.to_csv(\"submission.csv\", index=False)"
      ]
    },
    {
      "cell_type": "code",
      "execution_count": 72,
      "metadata": {
        "colab": {
          "base_uri": "https://localhost:8080/"
        },
        "id": "FtARST0PP-Nj",
        "outputId": "2217e229-8ae4-425f-cd88-89e73d59a92e"
      },
      "outputs": [
        {
          "name": "stdout",
          "output_type": "stream",
          "text": [
            "\u001b[2K\u001b[1;34msubmission.csv\u001b[0m \u001b[90m━━━━━━━━━━━━━━━━━━━━━━\u001b[0m \u001b[35m100.0%\u001b[0m • \u001b[32m41.5/41.5 MB\u001b[0m • \u001b[31m2.1 MB/s\u001b[0m • \u001b[36m0:00:00\u001b[0m\n",
            "\u001b[?25h                                                       ╭─────────────────────────╮                                                       \n",
            "                                                       │ \u001b[1mSuccessfully submitted!\u001b[0m │                                                       \n",
            "                                                       ╰─────────────────────────╯                                                       \n",
            "\u001b[3m                                                             Important links                                                             \u001b[0m\n",
            "┌──────────────────┬────────────────────────────────────────────────────────────────────────────────────────────────────────────────────┐\n",
            "│  This submission │ https://www.aicrowd.com/challenges/kiit-ai-mini-blitz/problems/fake-news-detection/submissions/166188              │\n",
            "│                  │                                                                                                                    │\n",
            "│  All submissions │ https://www.aicrowd.com/challenges/kiit-ai-mini-blitz/problems/fake-news-detection/submissions?my_submissions=true │\n",
            "│                  │                                                                                                                    │\n",
            "│      Leaderboard │ https://www.aicrowd.com/challenges/kiit-ai-mini-blitz/problems/fake-news-detection/leaderboards                    │\n",
            "│                  │                                                                                                                    │\n",
            "│ Discussion forum │ https://discourse.aicrowd.com/c/kiit-ai-mini-blitz                                                                 │\n",
            "│                  │                                                                                                                    │\n",
            "│   Challenge page │ https://www.aicrowd.com/challenges/kiit-ai-mini-blitz/problems/fake-news-detection                                 │\n",
            "└──────────────────┴────────────────────────────────────────────────────────────────────────────────────────────────────────────────────┘\n",
            "{'submission_id': 166188, 'created_at': '2021-11-29T13:23:55.100Z'}\n"
          ]
        }
      ],
      "source": [
        "!aicrowd submission create -c fake-news-detection -f submission.csv"
      ]
    },
    {
      "cell_type": "code",
      "execution_count": null,
      "metadata": {
        "id": "IozuaBSq_fcR"
      },
      "outputs": [],
      "source": [
        "bruh"
      ]
    },
    {
      "cell_type": "markdown",
      "metadata": {
        "id": "fKEoQfib1-3G"
      },
      "source": [
        "# Method 2: Pycaret"
      ]
    },
    {
      "cell_type": "code",
      "execution_count": null,
      "metadata": {
        "id": "2z2vIjU63jFR"
      },
      "outputs": [],
      "source": [
        "# merging train and val df into one df\n",
        "data=train_df.append(val_df).sample(frac=1).reset_index().drop(columns=['index'])"
      ]
    },
    {
      "cell_type": "code",
      "execution_count": null,
      "metadata": {
        "id": "cEQsDZCL3wQC"
      },
      "outputs": [],
      "source": [
        "data.head()"
      ]
    },
    {
      "cell_type": "code",
      "execution_count": null,
      "metadata": {
        "id": "KhH4Z1ao2CTL"
      },
      "outputs": [],
      "source": [
        "module_url = \"https://tfhub.dev/google/universal-sentence-encoder/4\"\n",
        "embed = hub.load(module_url)"
      ]
    },
    {
      "cell_type": "code",
      "execution_count": null,
      "metadata": {
        "id": "UacnNRAR2F6B"
      },
      "outputs": [],
      "source": [
        "data_matrix = embed(data.text.tolist())"
      ]
    },
    {
      "cell_type": "code",
      "execution_count": null,
      "metadata": {
        "id": "4rzxIXxp2GLN"
      },
      "outputs": [],
      "source": [
        "bruh"
      ]
    },
    {
      "cell_type": "markdown",
      "metadata": {
        "id": "TksOwVOzmNae"
      },
      "source": [
        "# Method 1: bert-base-uncased model"
      ]
    },
    {
      "cell_type": "markdown",
      "metadata": {
        "id": "9NzBAOVgf7jv"
      },
      "source": [
        "Starting actual work on Fake News Detection"
      ]
    },
    {
      "cell_type": "code",
      "execution_count": null,
      "metadata": {
        "id": "ocDr-_oHj0Po"
      },
      "outputs": [],
      "source": [
        "# reading in train, test, val files\n",
        "train_df = pd.read_csv(os.path.join(\"data\", \"train\", \"train.csv\"))\n",
        "print(train_df.head())\n",
        "\n",
        "test_df = pd.read_csv(os.path.join(\"data\", \"test\", \"test.csv\"))\n",
        "print(test_df.head())\n",
        "\n",
        "!unzip data/val -d data/val > /dev/null\n",
        "val_df = pd.read_csv(os.path.join(\"data\", \"val\", \"val.csv\"))\n",
        "print(val_df.head())"
      ]
    },
    {
      "cell_type": "code",
      "execution_count": null,
      "metadata": {
        "id": "qF1-Y2p1qnmt"
      },
      "outputs": [],
      "source": [
        "train_df['label'] = train_df['label'].replace({'fake':0, 'real':1})\n",
        "val_df['label'] = val_df['label'].replace({'fake':0, 'real':1})\n",
        "\n",
        "train_text = train_df[\"text\"]\n",
        "train_labels = train_df[\"label\"]\n",
        "\n",
        "val_text = val_df[\"text\"]\n",
        "val_labels = val_df[\"label\"]\n",
        "\n",
        "test_text = test_df[\"text\"]"
      ]
    },
    {
      "cell_type": "code",
      "execution_count": null,
      "metadata": {
        "id": "zudgAHk0spB6"
      },
      "outputs": [],
      "source": [
        "# ## converting the labels to int for tensors\n",
        "\n",
        "# # for the train set\n",
        "# temp_train = train_labels.tolist()\n",
        "# label_dict_train = {}\n",
        "# int_labels_train = []\n",
        "# for i in range(len(temp_train)):\n",
        "#     label_dict_train[i] = temp_train[i]\n",
        "#     int_labels_train.append(i)\n",
        "\n",
        "# # for the val set\n",
        "# temp_val = val_labels.tolist()\n",
        "# label_dict_val = {}\n",
        "# int_labels_val = []\n",
        "# for i in range(len(temp_val)):\n",
        "#     label_dict_val[i] = temp_val[i]\n",
        "#     int_labels_val.append(i)"
      ]
    },
    {
      "cell_type": "code",
      "execution_count": null,
      "metadata": {
        "id": "8uvFiwGnxdFI"
      },
      "outputs": [],
      "source": [
        "print(train_text.head())\n",
        "print(val_text.head())\n",
        "print(test_text.head())\n",
        "print(train_labels)\n",
        "print(val_labels)"
      ]
    },
    {
      "cell_type": "markdown",
      "metadata": {
        "id": "a1O3szetmRXQ"
      },
      "source": [
        "## Defining the Model"
      ]
    },
    {
      "cell_type": "code",
      "execution_count": null,
      "metadata": {
        "id": "G7paQssSlKGs"
      },
      "outputs": [],
      "source": [
        "bert = AutoModel.from_pretrained('bert-base-uncased')\n",
        "tokenizer = BertTokenizerFast.from_pretrained('bert-base-uncased')"
      ]
    },
    {
      "cell_type": "code",
      "execution_count": null,
      "metadata": {
        "id": "BliJ3n_bmYKD"
      },
      "outputs": [],
      "source": [
        "# plotting a histogram of number of words in the news titles\n",
        "seq_len = [len(i.split()) for i in train_text]\n",
        "\n",
        "pd.Series(seq_len).hist(bins = 40,color='firebrick')\n",
        "plt.xlabel('Number of Words')\n",
        "plt.ylabel('Number of texts')"
      ]
    },
    {
      "cell_type": "code",
      "execution_count": null,
      "metadata": {
        "id": "AM1BIASmnUTE"
      },
      "outputs": [],
      "source": [
        "#truncating and tokenizing the words\n",
        "MAX_LENGHT = 85\n",
        "#training set\n",
        "tokens_train = tokenizer.batch_encode_plus(\n",
        "    train_text.tolist(),\n",
        "    max_length = MAX_LENGHT,\n",
        "    pad_to_max_length=True,\n",
        "    truncation=True\n",
        ")\n",
        "\n",
        "# tokenize and encode sequences in the validation set\n",
        "tokens_val = tokenizer.batch_encode_plus(\n",
        "    val_text.tolist(),\n",
        "    max_length = MAX_LENGHT,\n",
        "    pad_to_max_length=True,\n",
        "    truncation=True\n",
        ")\n",
        "\n",
        "# tokenize and encode sequences in the test set\n",
        "tokens_test = tokenizer.batch_encode_plus(\n",
        "    test_text.tolist(),\n",
        "    max_length = MAX_LENGHT,\n",
        "    pad_to_max_length=True,\n",
        "    truncation=True\n",
        ")"
      ]
    },
    {
      "cell_type": "code",
      "execution_count": null,
      "metadata": {
        "id": "c4NOqWuoo7iG"
      },
      "outputs": [],
      "source": [
        "# converting lists to tensors\n",
        "train_seq = torch.tensor(tokens_train['input_ids'])\n",
        "train_mask = torch.tensor(tokens_train['attention_mask'])\n",
        "train_y = torch.tensor(train_labels)\n",
        "\n",
        "val_seq = torch.tensor(tokens_val['input_ids'])\n",
        "val_mask = torch.tensor(tokens_val['attention_mask'])\n",
        "val_y = torch.tensor(val_labels)\n",
        "\n",
        "# test_seq = torch.tensor(tokens_test['input_ids'])\n",
        "# test_mask = torch.tensor(tokens_test['attention_mask'])\n",
        "# test_y = torch.tensor(test_labels.tolist())"
      ]
    },
    {
      "cell_type": "markdown",
      "metadata": {
        "id": "kUo8p1rCuTW0"
      },
      "source": [
        "## Data Loader Structure"
      ]
    },
    {
      "cell_type": "code",
      "execution_count": null,
      "metadata": {
        "id": "FApWjo8ztoY1"
      },
      "outputs": [],
      "source": [
        "from torch.utils.data import TensorDataset, DataLoader, RandomSampler, SequentialSampler\n",
        "\n",
        "#define a batch size\n",
        "batch_size = 8 \n",
        "\n",
        "# wrap tensors\n",
        "train_data = TensorDataset(train_seq, train_mask, train_y)\n",
        "\n",
        "# sampler for sampling the data during training\n",
        "train_sampler = RandomSampler(train_data)\n",
        "\n",
        "# dataLoader for train set\n",
        "train_dataloader = DataLoader(train_data, sampler=train_sampler, batch_size=batch_size)\n",
        "\n",
        "# wrap tensors\n",
        "val_data = TensorDataset(val_seq, val_mask, val_y)\n",
        "\n",
        "# sampler for sampling the data during training\n",
        "val_sampler = SequentialSampler(val_data)\n",
        "\n",
        "# dataLoader for validation set\n",
        "val_dataloader = DataLoader(val_data, sampler = val_sampler, batch_size=batch_size)"
      ]
    },
    {
      "cell_type": "code",
      "execution_count": null,
      "metadata": {
        "id": "keMTRKehudUp"
      },
      "outputs": [],
      "source": [
        "# freezing parameters and defining trainable BERT structure\n",
        "for param in bert.parameters():\n",
        "    param.requires_grad = False"
      ]
    },
    {
      "cell_type": "code",
      "execution_count": null,
      "metadata": {
        "id": "3BMM_2R6uk1V"
      },
      "outputs": [],
      "source": [
        "class BERT_Arch(nn.Module):\n",
        "\n",
        "    def __init__(self, bert):\n",
        "      \n",
        "      super(BERT_Arch, self).__init__()\n",
        "\n",
        "      self.bert = bert \n",
        "      \n",
        "      # dropout layer\n",
        "      self.dropout = nn.Dropout(0.1)\n",
        "      \n",
        "      # relu activation function\n",
        "      self.relu =  nn.ReLU()\n",
        "\n",
        "      # dense layer 1\n",
        "      self.fc1 = nn.Linear(768,512)\n",
        "      \n",
        "      # dense layer 2 (Output layer)\n",
        "      self.fc2 = nn.Linear(512,2)\n",
        "\n",
        "      #softmax activation function\n",
        "      self.softmax = nn.LogSoftmax(dim=1)\n",
        "\n",
        "    #define the forward pass\n",
        "    def forward(self, sent_id, mask):\n",
        "\n",
        "      #pass the inputs to the model  \n",
        "      cls_hs = self.bert(sent_id, attention_mask=mask)['pooler_output']\n",
        "      x = self.fc1(cls_hs)\n",
        "\n",
        "      x = self.relu(x)\n",
        "\n",
        "      x = self.dropout(x)\n",
        "\n",
        "      # output layer\n",
        "      x = self.fc2(x)\n",
        "      \n",
        "      # apply softmax activation\n",
        "      x = self.softmax(x)\n",
        "\n",
        "      return x"
      ]
    },
    {
      "cell_type": "code",
      "execution_count": null,
      "metadata": {
        "id": "sITKOOipurnt"
      },
      "outputs": [],
      "source": [
        "model = BERT_Arch(bert)"
      ]
    },
    {
      "cell_type": "markdown",
      "metadata": {
        "id": "HwsZkIzHuvVC"
      },
      "source": [
        "## Defining the hyperparameters"
      ]
    },
    {
      "cell_type": "code",
      "execution_count": null,
      "metadata": {
        "id": "bsiNoeR1utPV"
      },
      "outputs": [],
      "source": [
        "from transformers import AdamW\n",
        "\n",
        "# define the optimizer\n",
        "optimizer = AdamW(model.parameters(),\n",
        "                  lr = 1e-5)          # learning rate"
      ]
    },
    {
      "cell_type": "code",
      "execution_count": null,
      "metadata": {
        "id": "YEp60pHc_F6y"
      },
      "outputs": [],
      "source": [
        "from sklearn.utils.class_weight import compute_class_weight\n",
        "\n",
        "#compute the class weights\n",
        "class_weights = compute_class_weight('balanced', np.unique(train_labels), train_labels)\n",
        "\n",
        "print(\"Class Weights:\",class_weights)"
      ]
    },
    {
      "cell_type": "code",
      "execution_count": null,
      "metadata": {
        "id": "HPrnMNpTu4qo"
      },
      "outputs": [],
      "source": [
        "weights= torch.tensor(class_weights,dtype=torch.float)\n",
        "\n",
        "# define the loss function\n",
        "cross_entropy  = nn.NLLLoss(weight=weights) \n",
        "\n",
        "# number of training epochs\n",
        "epochs = 10"
      ]
    },
    {
      "cell_type": "markdown",
      "metadata": {
        "id": "BwksiUNk-ZNw"
      },
      "source": [
        "## Defining Training and Evaluating Functions"
      ]
    },
    {
      "cell_type": "code",
      "execution_count": null,
      "metadata": {
        "id": "Nbg8yPy_u9FN"
      },
      "outputs": [],
      "source": [
        "def train():\n",
        "  \n",
        "  model.train()\n",
        "\n",
        "  total_loss, total_accuracy = 0, 0\n",
        "  \n",
        "  # empty list to save model predictions\n",
        "  total_preds=[]\n",
        "  \n",
        "  # iterate over batches\n",
        "  for step,batch in enumerate(train_dataloader):\n",
        "    \n",
        "    # progress update after every 50 batches.\n",
        "    if step % 50 == 0 and not step == 0:\n",
        "      print('  Batch {:>5,}  of  {:>5,}.'.format(step, len(train_dataloader)))\n",
        "\n",
        "    # push the batch to gpu\n",
        "    batch = [r for r in batch]\n",
        "    sent_id, mask, labels = batch\n",
        "    #print(type(labels),type(mask),type(sent_id))\n",
        "    #print(sent_id)\n",
        "    # clear previously calculated gradients \n",
        "    model.zero_grad()        \n",
        "    # get model predictions for the current batch\n",
        "    preds = model(sent_id, mask)\n",
        "\n",
        "    # compute the loss between actual and predicted values\n",
        "    loss = cross_entropy(preds, labels)\n",
        "\n",
        "    # add on to the total loss\n",
        "    total_loss = total_loss + loss.item()\n",
        "\n",
        "    # backward pass to calculate the gradients\n",
        "    loss.backward()\n",
        "\n",
        "    # clip the the gradients to 1.0. It helps in preventing the exploding gradient problem\n",
        "    torch.nn.utils.clip_grad_norm_(model.parameters(), 1.0)\n",
        "\n",
        "    # update parameters\n",
        "    optimizer.step()\n",
        "\n",
        "    # model predictions are stored on GPU. So, push it to CPU\n",
        "    preds=preds.detach().cpu().numpy()\n",
        "\n",
        "    # append the model predictions\n",
        "    total_preds.append(preds)\n",
        "\n",
        "  # compute the training loss of the epoch\n",
        "  avg_loss = total_loss / len(train_dataloader)\n",
        "  \n",
        "  # predictions are in the form of (no. of batches, size of batch, no. of classes).\n",
        "  # reshape the predictions in form of (number of samples, no. of classes)\n",
        "  total_preds  = np.concatenate(total_preds, axis=0)\n",
        "\n",
        "  #returns the loss and predictions\n",
        "  return avg_loss, total_preds\n",
        "def evaluate():\n",
        "  \n",
        "  print(\"\\nEvaluating...\")\n",
        "  \n",
        "  # deactivate dropout layers\n",
        "  model.eval()\n",
        "\n",
        "  total_loss, total_accuracy = 0, 0\n",
        "  \n",
        "  # empty list to save the model predictions\n",
        "  total_preds = []\n",
        "\n",
        "  # iterate over batches\n",
        "  for step,batch in enumerate(val_dataloader):\n",
        "    \n",
        "    # Progress update every 50 batches.\n",
        "    if step % 50 == 0 and not step == 0:\n",
        "      \n",
        "      # Calculate elapsed time in minutes.\n",
        "      #elapsed = format_time(time.time() - t0)\n",
        "            \n",
        "      # Report progress.\n",
        "      print('  Batch {:>5,}  of  {:>5,}.'.format(step, len(val_dataloader)))\n",
        "\n",
        "    # push the batch to gpu\n",
        "    batch = [t for t in batch]\n",
        "\n",
        "    sent_id, mask, labels = batch\n",
        "\n",
        "    # deactivate autograd\n",
        "    with torch.no_grad():\n",
        "      \n",
        "      # model predictions\n",
        "      preds = model(sent_id, mask)\n",
        "\n",
        "      # compute the validation loss between actual and predicted values\n",
        "      loss = cross_entropy(preds,labels)\n",
        "\n",
        "      total_loss = total_loss + loss.item()\n",
        "\n",
        "      preds = preds.detach().cpu().numpy()\n",
        "\n",
        "      total_preds.append(preds)\n",
        "\n",
        "  # compute the validation loss of the epoch\n",
        "  avg_loss = total_loss / len(val_dataloader) \n",
        "\n",
        "  # reshape the predictions in form of (number of samples, no. of classes)\n",
        "  total_preds  = np.concatenate(total_preds, axis=0)\n",
        "\n",
        "  return avg_loss, total_preds"
      ]
    },
    {
      "cell_type": "markdown",
      "metadata": {
        "id": "110ZtVJm-xTu"
      },
      "source": [
        "## Training and Evaluating"
      ]
    },
    {
      "cell_type": "code",
      "execution_count": null,
      "metadata": {
        "id": "C196-m0avINF"
      },
      "outputs": [],
      "source": [
        "best_valid_loss = float('inf')\n",
        "\n",
        "# empty lists to store training and validation loss of each epoch\n",
        "train_losses=[]\n",
        "valid_losses=[]\n",
        "\n",
        "#for each epoch\n",
        "for epoch in range(epochs):\n",
        "     \n",
        "    print('\\n Epoch {:} / {:}'.format(epoch + 1, epochs))\n",
        "    \n",
        "    #train model\n",
        "    train_loss, _ = train()\n",
        "    \n",
        "    #evaluate model\n",
        "    valid_loss, _ = evaluate()\n",
        "    \n",
        "    #save the best model\n",
        "    if valid_loss < best_valid_loss:\n",
        "        best_valid_loss = valid_loss\n",
        "        torch.save(model.state_dict(), 'saved_weights.pt')\n",
        "    \n",
        "    # append training and validation loss\n",
        "    train_losses.append(train_loss)\n",
        "    valid_losses.append(valid_loss)\n",
        "    \n",
        "    print(f'\\nTraining Loss: {train_loss:.3f}')\n",
        "    print(f'Validation Loss: {valid_loss:.3f}')"
      ]
    },
    {
      "cell_type": "code",
      "execution_count": null,
      "metadata": {
        "id": "cgkOO3nPI6dv"
      },
      "outputs": [],
      "source": [
        "#load weights of best model\n",
        "path = 'saved_weights.pt'\n",
        "model.load_state_dict(torch.load(path))"
      ]
    },
    {
      "cell_type": "code",
      "execution_count": null,
      "metadata": {
        "id": "jW_rhB-cI7QP"
      },
      "outputs": [],
      "source": [
        "with torch.no_grad():\n",
        "  preds = model(test_seq, test_mask)\n",
        "  preds = preds.detach().cpu().numpy()"
      ]
    }
  ],
  "metadata": {
    "accelerator": "GPU",
    "colab": {
      "collapsed_sections": [
        "4JqiZT52gEkK",
        "nw9KE3sIXKAz",
        "dhxAiK3P_ZoR",
        "tLtC5xunEGEz",
        "Yx_bYI-ZEnGp",
        "P6KY2OdyEzD9",
        "UJKBUOnVM7DC",
        "fKEoQfib1-3G",
        "TksOwVOzmNae"
      ],
      "machine_shape": "hm",
      "name": "AIcrowd Fake News Detection",
      "provenance": [],
      "toc_visible": true
    },
    "kernelspec": {
      "display_name": "Python 3",
      "language": "python",
      "name": "python3"
    },
    "widgets": {
      "application/vnd.jupyter.widget-state+json": {
        "0c07e943568f49a28e05bc14a30c571d": {
          "model_module": "@jupyter-widgets/controls",
          "model_module_version": "1.5.0",
          "model_name": "FloatProgressModel",
          "state": {
            "_dom_classes": [],
            "_model_module": "@jupyter-widgets/controls",
            "_model_module_version": "1.5.0",
            "_model_name": "FloatProgressModel",
            "_view_count": null,
            "_view_module": "@jupyter-widgets/controls",
            "_view_module_version": "1.5.0",
            "_view_name": "ProgressView",
            "bar_style": "success",
            "description": "",
            "description_tooltip": null,
            "layout": "IPY_MODEL_34aaf17e743a49af81ebfec62c9a0f34",
            "max": 33386653,
            "min": 0,
            "orientation": "horizontal",
            "style": "IPY_MODEL_a2f3e1361bad468a95569ab08f571421",
            "value": 33386653
          }
        },
        "1180c647a3fe4d829e24872e4098b20b": {
          "model_module": "@jupyter-widgets/controls",
          "model_module_version": "1.5.0",
          "model_name": "HTMLModel",
          "state": {
            "_dom_classes": [],
            "_model_module": "@jupyter-widgets/controls",
            "_model_module_version": "1.5.0",
            "_model_name": "HTMLModel",
            "_view_count": null,
            "_view_module": "@jupyter-widgets/controls",
            "_view_module_version": "1.5.0",
            "_view_name": "HTMLView",
            "description": "",
            "description_tooltip": null,
            "layout": "IPY_MODEL_d429e5593f8e4c83a3c75395466d4775",
            "placeholder": "​",
            "style": "IPY_MODEL_e9783451ef91411b99d69c6952c7b9c6",
            "value": "test.zip: 100%"
          }
        },
        "16005e3b7e9a46f2966390560c9859ad": {
          "model_module": "@jupyter-widgets/controls",
          "model_module_version": "1.5.0",
          "model_name": "ProgressStyleModel",
          "state": {
            "_model_module": "@jupyter-widgets/controls",
            "_model_module_version": "1.5.0",
            "_model_name": "ProgressStyleModel",
            "_view_count": null,
            "_view_module": "@jupyter-widgets/base",
            "_view_module_version": "1.2.0",
            "_view_name": "StyleView",
            "bar_color": null,
            "description_width": ""
          }
        },
        "1a2e01d3a5974cb4b29cab8ac2dead9a": {
          "model_module": "@jupyter-widgets/controls",
          "model_module_version": "1.5.0",
          "model_name": "HTMLModel",
          "state": {
            "_dom_classes": [],
            "_model_module": "@jupyter-widgets/controls",
            "_model_module_version": "1.5.0",
            "_model_name": "HTMLModel",
            "_view_count": null,
            "_view_module": "@jupyter-widgets/controls",
            "_view_module_version": "1.5.0",
            "_view_name": "HTMLView",
            "description": "",
            "description_tooltip": null,
            "layout": "IPY_MODEL_c42b1e0a18c44a2ab1b6ec6c8df42a24",
            "placeholder": "​",
            "style": "IPY_MODEL_6af467791cf94fcc8b4efd56b1726dd0",
            "value": "val.zip: 100%"
          }
        },
        "1b3d725a47814de69cd559c8a62ce5d7": {
          "model_module": "@jupyter-widgets/base",
          "model_module_version": "1.2.0",
          "model_name": "LayoutModel",
          "state": {
            "_model_module": "@jupyter-widgets/base",
            "_model_module_version": "1.2.0",
            "_model_name": "LayoutModel",
            "_view_count": null,
            "_view_module": "@jupyter-widgets/base",
            "_view_module_version": "1.2.0",
            "_view_name": "LayoutView",
            "align_content": null,
            "align_items": null,
            "align_self": null,
            "border": null,
            "bottom": null,
            "display": null,
            "flex": null,
            "flex_flow": null,
            "grid_area": null,
            "grid_auto_columns": null,
            "grid_auto_flow": null,
            "grid_auto_rows": null,
            "grid_column": null,
            "grid_gap": null,
            "grid_row": null,
            "grid_template_areas": null,
            "grid_template_columns": null,
            "grid_template_rows": null,
            "height": null,
            "justify_content": null,
            "justify_items": null,
            "left": null,
            "margin": null,
            "max_height": null,
            "max_width": null,
            "min_height": null,
            "min_width": null,
            "object_fit": null,
            "object_position": null,
            "order": null,
            "overflow": null,
            "overflow_x": null,
            "overflow_y": null,
            "padding": null,
            "right": null,
            "top": null,
            "visibility": null,
            "width": null
          }
        },
        "1e4ba96ab4bf4f658043ad69072c47c3": {
          "model_module": "@jupyter-widgets/controls",
          "model_module_version": "1.5.0",
          "model_name": "DescriptionStyleModel",
          "state": {
            "_model_module": "@jupyter-widgets/controls",
            "_model_module_version": "1.5.0",
            "_model_name": "DescriptionStyleModel",
            "_view_count": null,
            "_view_module": "@jupyter-widgets/base",
            "_view_module_version": "1.2.0",
            "_view_name": "StyleView",
            "description_width": ""
          }
        },
        "22302f03fcc148a78c9a22de04b054f3": {
          "model_module": "@jupyter-widgets/controls",
          "model_module_version": "1.5.0",
          "model_name": "HTMLModel",
          "state": {
            "_dom_classes": [],
            "_model_module": "@jupyter-widgets/controls",
            "_model_module_version": "1.5.0",
            "_model_name": "HTMLModel",
            "_view_count": null,
            "_view_module": "@jupyter-widgets/controls",
            "_view_module_version": "1.5.0",
            "_view_name": "HTMLView",
            "description": "",
            "description_tooltip": null,
            "layout": "IPY_MODEL_d45e8ca34e084507b63ba9e2157bb281",
            "placeholder": "​",
            "style": "IPY_MODEL_ed2f7c438cc046f49a7c50580a7085af",
            "value": " 5.56M/5.56M [00:00&lt;00:00, 13.5MB/s]"
          }
        },
        "2270a3665c60492ca5b7654d65060bc7": {
          "model_module": "@jupyter-widgets/controls",
          "model_module_version": "1.5.0",
          "model_name": "HBoxModel",
          "state": {
            "_dom_classes": [],
            "_model_module": "@jupyter-widgets/controls",
            "_model_module_version": "1.5.0",
            "_model_name": "HBoxModel",
            "_view_count": null,
            "_view_module": "@jupyter-widgets/controls",
            "_view_module_version": "1.5.0",
            "_view_name": "HBoxView",
            "box_style": "",
            "children": [
              "IPY_MODEL_70f64054cfec470cb863a0598a9630af",
              "IPY_MODEL_de4053e3e7164daa9267ce1f23a96df7",
              "IPY_MODEL_b4f4adb1dd874b58860a59d94fc60016"
            ],
            "layout": "IPY_MODEL_378596033da34d2dbdacd07621485d8c"
          }
        },
        "27eedc185402464a886a5f0469b11ef7": {
          "model_module": "@jupyter-widgets/base",
          "model_module_version": "1.2.0",
          "model_name": "LayoutModel",
          "state": {
            "_model_module": "@jupyter-widgets/base",
            "_model_module_version": "1.2.0",
            "_model_name": "LayoutModel",
            "_view_count": null,
            "_view_module": "@jupyter-widgets/base",
            "_view_module_version": "1.2.0",
            "_view_name": "LayoutView",
            "align_content": null,
            "align_items": null,
            "align_self": null,
            "border": null,
            "bottom": null,
            "display": null,
            "flex": null,
            "flex_flow": null,
            "grid_area": null,
            "grid_auto_columns": null,
            "grid_auto_flow": null,
            "grid_auto_rows": null,
            "grid_column": null,
            "grid_gap": null,
            "grid_row": null,
            "grid_template_areas": null,
            "grid_template_columns": null,
            "grid_template_rows": null,
            "height": null,
            "justify_content": null,
            "justify_items": null,
            "left": null,
            "margin": null,
            "max_height": null,
            "max_width": null,
            "min_height": null,
            "min_width": null,
            "object_fit": null,
            "object_position": null,
            "order": null,
            "overflow": null,
            "overflow_x": null,
            "overflow_y": null,
            "padding": null,
            "right": null,
            "top": null,
            "visibility": null,
            "width": null
          }
        },
        "314313d11572449f842375c6253770cd": {
          "model_module": "@jupyter-widgets/controls",
          "model_module_version": "1.5.0",
          "model_name": "DescriptionStyleModel",
          "state": {
            "_model_module": "@jupyter-widgets/controls",
            "_model_module_version": "1.5.0",
            "_model_name": "DescriptionStyleModel",
            "_view_count": null,
            "_view_module": "@jupyter-widgets/base",
            "_view_module_version": "1.2.0",
            "_view_name": "StyleView",
            "description_width": ""
          }
        },
        "34aaf17e743a49af81ebfec62c9a0f34": {
          "model_module": "@jupyter-widgets/base",
          "model_module_version": "1.2.0",
          "model_name": "LayoutModel",
          "state": {
            "_model_module": "@jupyter-widgets/base",
            "_model_module_version": "1.2.0",
            "_model_name": "LayoutModel",
            "_view_count": null,
            "_view_module": "@jupyter-widgets/base",
            "_view_module_version": "1.2.0",
            "_view_name": "LayoutView",
            "align_content": null,
            "align_items": null,
            "align_self": null,
            "border": null,
            "bottom": null,
            "display": null,
            "flex": null,
            "flex_flow": null,
            "grid_area": null,
            "grid_auto_columns": null,
            "grid_auto_flow": null,
            "grid_auto_rows": null,
            "grid_column": null,
            "grid_gap": null,
            "grid_row": null,
            "grid_template_areas": null,
            "grid_template_columns": null,
            "grid_template_rows": null,
            "height": null,
            "justify_content": null,
            "justify_items": null,
            "left": null,
            "margin": null,
            "max_height": null,
            "max_width": null,
            "min_height": null,
            "min_width": null,
            "object_fit": null,
            "object_position": null,
            "order": null,
            "overflow": null,
            "overflow_x": null,
            "overflow_y": null,
            "padding": null,
            "right": null,
            "top": null,
            "visibility": null,
            "width": null
          }
        },
        "378596033da34d2dbdacd07621485d8c": {
          "model_module": "@jupyter-widgets/base",
          "model_module_version": "1.2.0",
          "model_name": "LayoutModel",
          "state": {
            "_model_module": "@jupyter-widgets/base",
            "_model_module_version": "1.2.0",
            "_model_name": "LayoutModel",
            "_view_count": null,
            "_view_module": "@jupyter-widgets/base",
            "_view_module_version": "1.2.0",
            "_view_name": "LayoutView",
            "align_content": null,
            "align_items": null,
            "align_self": null,
            "border": null,
            "bottom": null,
            "display": null,
            "flex": null,
            "flex_flow": null,
            "grid_area": null,
            "grid_auto_columns": null,
            "grid_auto_flow": null,
            "grid_auto_rows": null,
            "grid_column": null,
            "grid_gap": null,
            "grid_row": null,
            "grid_template_areas": null,
            "grid_template_columns": null,
            "grid_template_rows": null,
            "height": null,
            "justify_content": null,
            "justify_items": null,
            "left": null,
            "margin": null,
            "max_height": null,
            "max_width": null,
            "min_height": null,
            "min_width": null,
            "object_fit": null,
            "object_position": null,
            "order": null,
            "overflow": null,
            "overflow_x": null,
            "overflow_y": null,
            "padding": null,
            "right": null,
            "top": null,
            "visibility": null,
            "width": null
          }
        },
        "3a0eb2d70f1c4d36ac35f3d6083c93d9": {
          "model_module": "@jupyter-widgets/base",
          "model_module_version": "1.2.0",
          "model_name": "LayoutModel",
          "state": {
            "_model_module": "@jupyter-widgets/base",
            "_model_module_version": "1.2.0",
            "_model_name": "LayoutModel",
            "_view_count": null,
            "_view_module": "@jupyter-widgets/base",
            "_view_module_version": "1.2.0",
            "_view_name": "LayoutView",
            "align_content": null,
            "align_items": null,
            "align_self": null,
            "border": null,
            "bottom": null,
            "display": null,
            "flex": null,
            "flex_flow": null,
            "grid_area": null,
            "grid_auto_columns": null,
            "grid_auto_flow": null,
            "grid_auto_rows": null,
            "grid_column": null,
            "grid_gap": null,
            "grid_row": null,
            "grid_template_areas": null,
            "grid_template_columns": null,
            "grid_template_rows": null,
            "height": null,
            "justify_content": null,
            "justify_items": null,
            "left": null,
            "margin": null,
            "max_height": null,
            "max_width": null,
            "min_height": null,
            "min_width": null,
            "object_fit": null,
            "object_position": null,
            "order": null,
            "overflow": null,
            "overflow_x": null,
            "overflow_y": null,
            "padding": null,
            "right": null,
            "top": null,
            "visibility": null,
            "width": null
          }
        },
        "3a395cf897534b27b2de97614b1446df": {
          "model_module": "@jupyter-widgets/controls",
          "model_module_version": "1.5.0",
          "model_name": "HTMLModel",
          "state": {
            "_dom_classes": [],
            "_model_module": "@jupyter-widgets/controls",
            "_model_module_version": "1.5.0",
            "_model_name": "HTMLModel",
            "_view_count": null,
            "_view_module": "@jupyter-widgets/controls",
            "_view_module_version": "1.5.0",
            "_view_name": "HTMLView",
            "description": "",
            "description_tooltip": null,
            "layout": "IPY_MODEL_f297e7c72d0c41cea74d47eb6b4c0b87",
            "placeholder": "​",
            "style": "IPY_MODEL_f1a75bf799c848e9a8fa0c87b85214cf",
            "value": "train.zip: 100%"
          }
        },
        "44b760815e1d409585ea1f85605eaba2": {
          "model_module": "@jupyter-widgets/controls",
          "model_module_version": "1.5.0",
          "model_name": "HBoxModel",
          "state": {
            "_dom_classes": [],
            "_model_module": "@jupyter-widgets/controls",
            "_model_module_version": "1.5.0",
            "_model_name": "HBoxModel",
            "_view_count": null,
            "_view_module": "@jupyter-widgets/controls",
            "_view_module_version": "1.5.0",
            "_view_name": "HBoxView",
            "box_style": "",
            "children": [
              "IPY_MODEL_1a2e01d3a5974cb4b29cab8ac2dead9a",
              "IPY_MODEL_cffcb0d215ea4ec9b5024660f446c266",
              "IPY_MODEL_22302f03fcc148a78c9a22de04b054f3"
            ],
            "layout": "IPY_MODEL_3a0eb2d70f1c4d36ac35f3d6083c93d9"
          }
        },
        "5b67591a311444e99e92c108b0b5cdf6": {
          "model_module": "@jupyter-widgets/controls",
          "model_module_version": "1.5.0",
          "model_name": "FloatProgressModel",
          "state": {
            "_dom_classes": [],
            "_model_module": "@jupyter-widgets/controls",
            "_model_module_version": "1.5.0",
            "_model_name": "FloatProgressModel",
            "_view_count": null,
            "_view_module": "@jupyter-widgets/controls",
            "_view_module_version": "1.5.0",
            "_view_name": "ProgressView",
            "bar_style": "success",
            "description": "",
            "description_tooltip": null,
            "layout": "IPY_MODEL_728ea688612041d590ac2a9acc10e532",
            "max": 16636215,
            "min": 0,
            "orientation": "horizontal",
            "style": "IPY_MODEL_5de6532d1e41416d91a3f8bb88d46207",
            "value": 16636215
          }
        },
        "5de6532d1e41416d91a3f8bb88d46207": {
          "model_module": "@jupyter-widgets/controls",
          "model_module_version": "1.5.0",
          "model_name": "ProgressStyleModel",
          "state": {
            "_model_module": "@jupyter-widgets/controls",
            "_model_module_version": "1.5.0",
            "_model_name": "ProgressStyleModel",
            "_view_count": null,
            "_view_module": "@jupyter-widgets/base",
            "_view_module_version": "1.2.0",
            "_view_name": "StyleView",
            "bar_color": null,
            "description_width": ""
          }
        },
        "6a7d1c82618840a995e940b17fcc433f": {
          "model_module": "@jupyter-widgets/controls",
          "model_module_version": "1.5.0",
          "model_name": "HTMLModel",
          "state": {
            "_dom_classes": [],
            "_model_module": "@jupyter-widgets/controls",
            "_model_module_version": "1.5.0",
            "_model_name": "HTMLModel",
            "_view_count": null,
            "_view_module": "@jupyter-widgets/controls",
            "_view_module_version": "1.5.0",
            "_view_name": "HTMLView",
            "description": "",
            "description_tooltip": null,
            "layout": "IPY_MODEL_b502595b8b1b43ad8daa7a96ff67a132",
            "placeholder": "​",
            "style": "IPY_MODEL_1e4ba96ab4bf4f658043ad69072c47c3",
            "value": " 33.4M/33.4M [00:01&lt;00:00, 27.3MB/s]"
          }
        },
        "6abe3fb7ddcf40cf91ece3b0bb8c213e": {
          "model_module": "@jupyter-widgets/base",
          "model_module_version": "1.2.0",
          "model_name": "LayoutModel",
          "state": {
            "_model_module": "@jupyter-widgets/base",
            "_model_module_version": "1.2.0",
            "_model_name": "LayoutModel",
            "_view_count": null,
            "_view_module": "@jupyter-widgets/base",
            "_view_module_version": "1.2.0",
            "_view_name": "LayoutView",
            "align_content": null,
            "align_items": null,
            "align_self": null,
            "border": null,
            "bottom": null,
            "display": null,
            "flex": null,
            "flex_flow": null,
            "grid_area": null,
            "grid_auto_columns": null,
            "grid_auto_flow": null,
            "grid_auto_rows": null,
            "grid_column": null,
            "grid_gap": null,
            "grid_row": null,
            "grid_template_areas": null,
            "grid_template_columns": null,
            "grid_template_rows": null,
            "height": null,
            "justify_content": null,
            "justify_items": null,
            "left": null,
            "margin": null,
            "max_height": null,
            "max_width": null,
            "min_height": null,
            "min_width": null,
            "object_fit": null,
            "object_position": null,
            "order": null,
            "overflow": null,
            "overflow_x": null,
            "overflow_y": null,
            "padding": null,
            "right": null,
            "top": null,
            "visibility": null,
            "width": null
          }
        },
        "6af467791cf94fcc8b4efd56b1726dd0": {
          "model_module": "@jupyter-widgets/controls",
          "model_module_version": "1.5.0",
          "model_name": "DescriptionStyleModel",
          "state": {
            "_model_module": "@jupyter-widgets/controls",
            "_model_module_version": "1.5.0",
            "_model_name": "DescriptionStyleModel",
            "_view_count": null,
            "_view_module": "@jupyter-widgets/base",
            "_view_module_version": "1.2.0",
            "_view_name": "StyleView",
            "description_width": ""
          }
        },
        "70f64054cfec470cb863a0598a9630af": {
          "model_module": "@jupyter-widgets/controls",
          "model_module_version": "1.5.0",
          "model_name": "HTMLModel",
          "state": {
            "_dom_classes": [],
            "_model_module": "@jupyter-widgets/controls",
            "_model_module_version": "1.5.0",
            "_model_name": "HTMLModel",
            "_view_count": null,
            "_view_module": "@jupyter-widgets/controls",
            "_view_module_version": "1.5.0",
            "_view_name": "HTMLView",
            "description": "",
            "description_tooltip": null,
            "layout": "IPY_MODEL_be3f63bd8b084340a554ea6945aa6798",
            "placeholder": "​",
            "style": "IPY_MODEL_314313d11572449f842375c6253770cd",
            "value": "sample_submission.csv: 100%"
          }
        },
        "71009c9ff5904617982a6173b2df17e2": {
          "model_module": "@jupyter-widgets/base",
          "model_module_version": "1.2.0",
          "model_name": "LayoutModel",
          "state": {
            "_model_module": "@jupyter-widgets/base",
            "_model_module_version": "1.2.0",
            "_model_name": "LayoutModel",
            "_view_count": null,
            "_view_module": "@jupyter-widgets/base",
            "_view_module_version": "1.2.0",
            "_view_name": "LayoutView",
            "align_content": null,
            "align_items": null,
            "align_self": null,
            "border": null,
            "bottom": null,
            "display": null,
            "flex": null,
            "flex_flow": null,
            "grid_area": null,
            "grid_auto_columns": null,
            "grid_auto_flow": null,
            "grid_auto_rows": null,
            "grid_column": null,
            "grid_gap": null,
            "grid_row": null,
            "grid_template_areas": null,
            "grid_template_columns": null,
            "grid_template_rows": null,
            "height": null,
            "justify_content": null,
            "justify_items": null,
            "left": null,
            "margin": null,
            "max_height": null,
            "max_width": null,
            "min_height": null,
            "min_width": null,
            "object_fit": null,
            "object_position": null,
            "order": null,
            "overflow": null,
            "overflow_x": null,
            "overflow_y": null,
            "padding": null,
            "right": null,
            "top": null,
            "visibility": null,
            "width": null
          }
        },
        "724ec6b18d424727bc4f41bc1db8bab9": {
          "model_module": "@jupyter-widgets/base",
          "model_module_version": "1.2.0",
          "model_name": "LayoutModel",
          "state": {
            "_model_module": "@jupyter-widgets/base",
            "_model_module_version": "1.2.0",
            "_model_name": "LayoutModel",
            "_view_count": null,
            "_view_module": "@jupyter-widgets/base",
            "_view_module_version": "1.2.0",
            "_view_name": "LayoutView",
            "align_content": null,
            "align_items": null,
            "align_self": null,
            "border": null,
            "bottom": null,
            "display": null,
            "flex": null,
            "flex_flow": null,
            "grid_area": null,
            "grid_auto_columns": null,
            "grid_auto_flow": null,
            "grid_auto_rows": null,
            "grid_column": null,
            "grid_gap": null,
            "grid_row": null,
            "grid_template_areas": null,
            "grid_template_columns": null,
            "grid_template_rows": null,
            "height": null,
            "justify_content": null,
            "justify_items": null,
            "left": null,
            "margin": null,
            "max_height": null,
            "max_width": null,
            "min_height": null,
            "min_width": null,
            "object_fit": null,
            "object_position": null,
            "order": null,
            "overflow": null,
            "overflow_x": null,
            "overflow_y": null,
            "padding": null,
            "right": null,
            "top": null,
            "visibility": null,
            "width": null
          }
        },
        "728ea688612041d590ac2a9acc10e532": {
          "model_module": "@jupyter-widgets/base",
          "model_module_version": "1.2.0",
          "model_name": "LayoutModel",
          "state": {
            "_model_module": "@jupyter-widgets/base",
            "_model_module_version": "1.2.0",
            "_model_name": "LayoutModel",
            "_view_count": null,
            "_view_module": "@jupyter-widgets/base",
            "_view_module_version": "1.2.0",
            "_view_name": "LayoutView",
            "align_content": null,
            "align_items": null,
            "align_self": null,
            "border": null,
            "bottom": null,
            "display": null,
            "flex": null,
            "flex_flow": null,
            "grid_area": null,
            "grid_auto_columns": null,
            "grid_auto_flow": null,
            "grid_auto_rows": null,
            "grid_column": null,
            "grid_gap": null,
            "grid_row": null,
            "grid_template_areas": null,
            "grid_template_columns": null,
            "grid_template_rows": null,
            "height": null,
            "justify_content": null,
            "justify_items": null,
            "left": null,
            "margin": null,
            "max_height": null,
            "max_width": null,
            "min_height": null,
            "min_width": null,
            "object_fit": null,
            "object_position": null,
            "order": null,
            "overflow": null,
            "overflow_x": null,
            "overflow_y": null,
            "padding": null,
            "right": null,
            "top": null,
            "visibility": null,
            "width": null
          }
        },
        "87ad4fe2e0b446958ff4f993f52dd8c0": {
          "model_module": "@jupyter-widgets/controls",
          "model_module_version": "1.5.0",
          "model_name": "ProgressStyleModel",
          "state": {
            "_model_module": "@jupyter-widgets/controls",
            "_model_module_version": "1.5.0",
            "_model_name": "ProgressStyleModel",
            "_view_count": null,
            "_view_module": "@jupyter-widgets/base",
            "_view_module_version": "1.2.0",
            "_view_name": "StyleView",
            "bar_color": null,
            "description_width": ""
          }
        },
        "8efdca9ff9af471986d39aa0eea55855": {
          "model_module": "@jupyter-widgets/controls",
          "model_module_version": "1.5.0",
          "model_name": "HTMLModel",
          "state": {
            "_dom_classes": [],
            "_model_module": "@jupyter-widgets/controls",
            "_model_module_version": "1.5.0",
            "_model_name": "HTMLModel",
            "_view_count": null,
            "_view_module": "@jupyter-widgets/controls",
            "_view_module_version": "1.5.0",
            "_view_name": "HTMLView",
            "description": "",
            "description_tooltip": null,
            "layout": "IPY_MODEL_27eedc185402464a886a5f0469b11ef7",
            "placeholder": "​",
            "style": "IPY_MODEL_abec2aff5fd54a6f97cc587dbd1590a7",
            "value": " 16.6M/16.6M [00:00&lt;00:00, 19.7MB/s]"
          }
        },
        "a2f3e1361bad468a95569ab08f571421": {
          "model_module": "@jupyter-widgets/controls",
          "model_module_version": "1.5.0",
          "model_name": "ProgressStyleModel",
          "state": {
            "_model_module": "@jupyter-widgets/controls",
            "_model_module_version": "1.5.0",
            "_model_name": "ProgressStyleModel",
            "_view_count": null,
            "_view_module": "@jupyter-widgets/base",
            "_view_module_version": "1.2.0",
            "_view_name": "StyleView",
            "bar_color": null,
            "description_width": ""
          }
        },
        "a973f60fccd8477c9bead4d4afca5f58": {
          "model_module": "@jupyter-widgets/controls",
          "model_module_version": "1.5.0",
          "model_name": "DescriptionStyleModel",
          "state": {
            "_model_module": "@jupyter-widgets/controls",
            "_model_module_version": "1.5.0",
            "_model_name": "DescriptionStyleModel",
            "_view_count": null,
            "_view_module": "@jupyter-widgets/base",
            "_view_module_version": "1.2.0",
            "_view_name": "StyleView",
            "description_width": ""
          }
        },
        "abec2aff5fd54a6f97cc587dbd1590a7": {
          "model_module": "@jupyter-widgets/controls",
          "model_module_version": "1.5.0",
          "model_name": "DescriptionStyleModel",
          "state": {
            "_model_module": "@jupyter-widgets/controls",
            "_model_module_version": "1.5.0",
            "_model_name": "DescriptionStyleModel",
            "_view_count": null,
            "_view_module": "@jupyter-widgets/base",
            "_view_module_version": "1.2.0",
            "_view_name": "StyleView",
            "description_width": ""
          }
        },
        "b4f4adb1dd874b58860a59d94fc60016": {
          "model_module": "@jupyter-widgets/controls",
          "model_module_version": "1.5.0",
          "model_name": "HTMLModel",
          "state": {
            "_dom_classes": [],
            "_model_module": "@jupyter-widgets/controls",
            "_model_module_version": "1.5.0",
            "_model_name": "HTMLModel",
            "_view_count": null,
            "_view_module": "@jupyter-widgets/controls",
            "_view_module_version": "1.5.0",
            "_view_name": "HTMLView",
            "description": "",
            "description_tooltip": null,
            "layout": "IPY_MODEL_1b3d725a47814de69cd559c8a62ce5d7",
            "placeholder": "​",
            "style": "IPY_MODEL_a973f60fccd8477c9bead4d4afca5f58",
            "value": " 580k/580k [00:00&lt;00:00, 2.26MB/s]"
          }
        },
        "b502595b8b1b43ad8daa7a96ff67a132": {
          "model_module": "@jupyter-widgets/base",
          "model_module_version": "1.2.0",
          "model_name": "LayoutModel",
          "state": {
            "_model_module": "@jupyter-widgets/base",
            "_model_module_version": "1.2.0",
            "_model_name": "LayoutModel",
            "_view_count": null,
            "_view_module": "@jupyter-widgets/base",
            "_view_module_version": "1.2.0",
            "_view_name": "LayoutView",
            "align_content": null,
            "align_items": null,
            "align_self": null,
            "border": null,
            "bottom": null,
            "display": null,
            "flex": null,
            "flex_flow": null,
            "grid_area": null,
            "grid_auto_columns": null,
            "grid_auto_flow": null,
            "grid_auto_rows": null,
            "grid_column": null,
            "grid_gap": null,
            "grid_row": null,
            "grid_template_areas": null,
            "grid_template_columns": null,
            "grid_template_rows": null,
            "height": null,
            "justify_content": null,
            "justify_items": null,
            "left": null,
            "margin": null,
            "max_height": null,
            "max_width": null,
            "min_height": null,
            "min_width": null,
            "object_fit": null,
            "object_position": null,
            "order": null,
            "overflow": null,
            "overflow_x": null,
            "overflow_y": null,
            "padding": null,
            "right": null,
            "top": null,
            "visibility": null,
            "width": null
          }
        },
        "b639e46dea314b129d1fc91ee404d15b": {
          "model_module": "@jupyter-widgets/controls",
          "model_module_version": "1.5.0",
          "model_name": "HBoxModel",
          "state": {
            "_dom_classes": [],
            "_model_module": "@jupyter-widgets/controls",
            "_model_module_version": "1.5.0",
            "_model_name": "HBoxModel",
            "_view_count": null,
            "_view_module": "@jupyter-widgets/controls",
            "_view_module_version": "1.5.0",
            "_view_name": "HBoxView",
            "box_style": "",
            "children": [
              "IPY_MODEL_1180c647a3fe4d829e24872e4098b20b",
              "IPY_MODEL_5b67591a311444e99e92c108b0b5cdf6",
              "IPY_MODEL_8efdca9ff9af471986d39aa0eea55855"
            ],
            "layout": "IPY_MODEL_6abe3fb7ddcf40cf91ece3b0bb8c213e"
          }
        },
        "be3f63bd8b084340a554ea6945aa6798": {
          "model_module": "@jupyter-widgets/base",
          "model_module_version": "1.2.0",
          "model_name": "LayoutModel",
          "state": {
            "_model_module": "@jupyter-widgets/base",
            "_model_module_version": "1.2.0",
            "_model_name": "LayoutModel",
            "_view_count": null,
            "_view_module": "@jupyter-widgets/base",
            "_view_module_version": "1.2.0",
            "_view_name": "LayoutView",
            "align_content": null,
            "align_items": null,
            "align_self": null,
            "border": null,
            "bottom": null,
            "display": null,
            "flex": null,
            "flex_flow": null,
            "grid_area": null,
            "grid_auto_columns": null,
            "grid_auto_flow": null,
            "grid_auto_rows": null,
            "grid_column": null,
            "grid_gap": null,
            "grid_row": null,
            "grid_template_areas": null,
            "grid_template_columns": null,
            "grid_template_rows": null,
            "height": null,
            "justify_content": null,
            "justify_items": null,
            "left": null,
            "margin": null,
            "max_height": null,
            "max_width": null,
            "min_height": null,
            "min_width": null,
            "object_fit": null,
            "object_position": null,
            "order": null,
            "overflow": null,
            "overflow_x": null,
            "overflow_y": null,
            "padding": null,
            "right": null,
            "top": null,
            "visibility": null,
            "width": null
          }
        },
        "c42b1e0a18c44a2ab1b6ec6c8df42a24": {
          "model_module": "@jupyter-widgets/base",
          "model_module_version": "1.2.0",
          "model_name": "LayoutModel",
          "state": {
            "_model_module": "@jupyter-widgets/base",
            "_model_module_version": "1.2.0",
            "_model_name": "LayoutModel",
            "_view_count": null,
            "_view_module": "@jupyter-widgets/base",
            "_view_module_version": "1.2.0",
            "_view_name": "LayoutView",
            "align_content": null,
            "align_items": null,
            "align_self": null,
            "border": null,
            "bottom": null,
            "display": null,
            "flex": null,
            "flex_flow": null,
            "grid_area": null,
            "grid_auto_columns": null,
            "grid_auto_flow": null,
            "grid_auto_rows": null,
            "grid_column": null,
            "grid_gap": null,
            "grid_row": null,
            "grid_template_areas": null,
            "grid_template_columns": null,
            "grid_template_rows": null,
            "height": null,
            "justify_content": null,
            "justify_items": null,
            "left": null,
            "margin": null,
            "max_height": null,
            "max_width": null,
            "min_height": null,
            "min_width": null,
            "object_fit": null,
            "object_position": null,
            "order": null,
            "overflow": null,
            "overflow_x": null,
            "overflow_y": null,
            "padding": null,
            "right": null,
            "top": null,
            "visibility": null,
            "width": null
          }
        },
        "cffcb0d215ea4ec9b5024660f446c266": {
          "model_module": "@jupyter-widgets/controls",
          "model_module_version": "1.5.0",
          "model_name": "FloatProgressModel",
          "state": {
            "_dom_classes": [],
            "_model_module": "@jupyter-widgets/controls",
            "_model_module_version": "1.5.0",
            "_model_name": "FloatProgressModel",
            "_view_count": null,
            "_view_module": "@jupyter-widgets/controls",
            "_view_module_version": "1.5.0",
            "_view_name": "ProgressView",
            "bar_style": "success",
            "description": "",
            "description_tooltip": null,
            "layout": "IPY_MODEL_d66720294d70409a9e91aa3babe55882",
            "max": 5564345,
            "min": 0,
            "orientation": "horizontal",
            "style": "IPY_MODEL_16005e3b7e9a46f2966390560c9859ad",
            "value": 5564345
          }
        },
        "d429e5593f8e4c83a3c75395466d4775": {
          "model_module": "@jupyter-widgets/base",
          "model_module_version": "1.2.0",
          "model_name": "LayoutModel",
          "state": {
            "_model_module": "@jupyter-widgets/base",
            "_model_module_version": "1.2.0",
            "_model_name": "LayoutModel",
            "_view_count": null,
            "_view_module": "@jupyter-widgets/base",
            "_view_module_version": "1.2.0",
            "_view_name": "LayoutView",
            "align_content": null,
            "align_items": null,
            "align_self": null,
            "border": null,
            "bottom": null,
            "display": null,
            "flex": null,
            "flex_flow": null,
            "grid_area": null,
            "grid_auto_columns": null,
            "grid_auto_flow": null,
            "grid_auto_rows": null,
            "grid_column": null,
            "grid_gap": null,
            "grid_row": null,
            "grid_template_areas": null,
            "grid_template_columns": null,
            "grid_template_rows": null,
            "height": null,
            "justify_content": null,
            "justify_items": null,
            "left": null,
            "margin": null,
            "max_height": null,
            "max_width": null,
            "min_height": null,
            "min_width": null,
            "object_fit": null,
            "object_position": null,
            "order": null,
            "overflow": null,
            "overflow_x": null,
            "overflow_y": null,
            "padding": null,
            "right": null,
            "top": null,
            "visibility": null,
            "width": null
          }
        },
        "d45e8ca34e084507b63ba9e2157bb281": {
          "model_module": "@jupyter-widgets/base",
          "model_module_version": "1.2.0",
          "model_name": "LayoutModel",
          "state": {
            "_model_module": "@jupyter-widgets/base",
            "_model_module_version": "1.2.0",
            "_model_name": "LayoutModel",
            "_view_count": null,
            "_view_module": "@jupyter-widgets/base",
            "_view_module_version": "1.2.0",
            "_view_name": "LayoutView",
            "align_content": null,
            "align_items": null,
            "align_self": null,
            "border": null,
            "bottom": null,
            "display": null,
            "flex": null,
            "flex_flow": null,
            "grid_area": null,
            "grid_auto_columns": null,
            "grid_auto_flow": null,
            "grid_auto_rows": null,
            "grid_column": null,
            "grid_gap": null,
            "grid_row": null,
            "grid_template_areas": null,
            "grid_template_columns": null,
            "grid_template_rows": null,
            "height": null,
            "justify_content": null,
            "justify_items": null,
            "left": null,
            "margin": null,
            "max_height": null,
            "max_width": null,
            "min_height": null,
            "min_width": null,
            "object_fit": null,
            "object_position": null,
            "order": null,
            "overflow": null,
            "overflow_x": null,
            "overflow_y": null,
            "padding": null,
            "right": null,
            "top": null,
            "visibility": null,
            "width": null
          }
        },
        "d66720294d70409a9e91aa3babe55882": {
          "model_module": "@jupyter-widgets/base",
          "model_module_version": "1.2.0",
          "model_name": "LayoutModel",
          "state": {
            "_model_module": "@jupyter-widgets/base",
            "_model_module_version": "1.2.0",
            "_model_name": "LayoutModel",
            "_view_count": null,
            "_view_module": "@jupyter-widgets/base",
            "_view_module_version": "1.2.0",
            "_view_name": "LayoutView",
            "align_content": null,
            "align_items": null,
            "align_self": null,
            "border": null,
            "bottom": null,
            "display": null,
            "flex": null,
            "flex_flow": null,
            "grid_area": null,
            "grid_auto_columns": null,
            "grid_auto_flow": null,
            "grid_auto_rows": null,
            "grid_column": null,
            "grid_gap": null,
            "grid_row": null,
            "grid_template_areas": null,
            "grid_template_columns": null,
            "grid_template_rows": null,
            "height": null,
            "justify_content": null,
            "justify_items": null,
            "left": null,
            "margin": null,
            "max_height": null,
            "max_width": null,
            "min_height": null,
            "min_width": null,
            "object_fit": null,
            "object_position": null,
            "order": null,
            "overflow": null,
            "overflow_x": null,
            "overflow_y": null,
            "padding": null,
            "right": null,
            "top": null,
            "visibility": null,
            "width": null
          }
        },
        "de4053e3e7164daa9267ce1f23a96df7": {
          "model_module": "@jupyter-widgets/controls",
          "model_module_version": "1.5.0",
          "model_name": "FloatProgressModel",
          "state": {
            "_dom_classes": [],
            "_model_module": "@jupyter-widgets/controls",
            "_model_module_version": "1.5.0",
            "_model_name": "FloatProgressModel",
            "_view_count": null,
            "_view_module": "@jupyter-widgets/controls",
            "_view_module_version": "1.5.0",
            "_view_name": "ProgressView",
            "bar_style": "success",
            "description": "",
            "description_tooltip": null,
            "layout": "IPY_MODEL_724ec6b18d424727bc4f41bc1db8bab9",
            "max": 580001,
            "min": 0,
            "orientation": "horizontal",
            "style": "IPY_MODEL_87ad4fe2e0b446958ff4f993f52dd8c0",
            "value": 580001
          }
        },
        "e9783451ef91411b99d69c6952c7b9c6": {
          "model_module": "@jupyter-widgets/controls",
          "model_module_version": "1.5.0",
          "model_name": "DescriptionStyleModel",
          "state": {
            "_model_module": "@jupyter-widgets/controls",
            "_model_module_version": "1.5.0",
            "_model_name": "DescriptionStyleModel",
            "_view_count": null,
            "_view_module": "@jupyter-widgets/base",
            "_view_module_version": "1.2.0",
            "_view_name": "StyleView",
            "description_width": ""
          }
        },
        "ed2f7c438cc046f49a7c50580a7085af": {
          "model_module": "@jupyter-widgets/controls",
          "model_module_version": "1.5.0",
          "model_name": "DescriptionStyleModel",
          "state": {
            "_model_module": "@jupyter-widgets/controls",
            "_model_module_version": "1.5.0",
            "_model_name": "DescriptionStyleModel",
            "_view_count": null,
            "_view_module": "@jupyter-widgets/base",
            "_view_module_version": "1.2.0",
            "_view_name": "StyleView",
            "description_width": ""
          }
        },
        "f1a75bf799c848e9a8fa0c87b85214cf": {
          "model_module": "@jupyter-widgets/controls",
          "model_module_version": "1.5.0",
          "model_name": "DescriptionStyleModel",
          "state": {
            "_model_module": "@jupyter-widgets/controls",
            "_model_module_version": "1.5.0",
            "_model_name": "DescriptionStyleModel",
            "_view_count": null,
            "_view_module": "@jupyter-widgets/base",
            "_view_module_version": "1.2.0",
            "_view_name": "StyleView",
            "description_width": ""
          }
        },
        "f297e7c72d0c41cea74d47eb6b4c0b87": {
          "model_module": "@jupyter-widgets/base",
          "model_module_version": "1.2.0",
          "model_name": "LayoutModel",
          "state": {
            "_model_module": "@jupyter-widgets/base",
            "_model_module_version": "1.2.0",
            "_model_name": "LayoutModel",
            "_view_count": null,
            "_view_module": "@jupyter-widgets/base",
            "_view_module_version": "1.2.0",
            "_view_name": "LayoutView",
            "align_content": null,
            "align_items": null,
            "align_self": null,
            "border": null,
            "bottom": null,
            "display": null,
            "flex": null,
            "flex_flow": null,
            "grid_area": null,
            "grid_auto_columns": null,
            "grid_auto_flow": null,
            "grid_auto_rows": null,
            "grid_column": null,
            "grid_gap": null,
            "grid_row": null,
            "grid_template_areas": null,
            "grid_template_columns": null,
            "grid_template_rows": null,
            "height": null,
            "justify_content": null,
            "justify_items": null,
            "left": null,
            "margin": null,
            "max_height": null,
            "max_width": null,
            "min_height": null,
            "min_width": null,
            "object_fit": null,
            "object_position": null,
            "order": null,
            "overflow": null,
            "overflow_x": null,
            "overflow_y": null,
            "padding": null,
            "right": null,
            "top": null,
            "visibility": null,
            "width": null
          }
        },
        "f9d395c80bef45d1a89e76364c8e4d6c": {
          "model_module": "@jupyter-widgets/controls",
          "model_module_version": "1.5.0",
          "model_name": "HBoxModel",
          "state": {
            "_dom_classes": [],
            "_model_module": "@jupyter-widgets/controls",
            "_model_module_version": "1.5.0",
            "_model_name": "HBoxModel",
            "_view_count": null,
            "_view_module": "@jupyter-widgets/controls",
            "_view_module_version": "1.5.0",
            "_view_name": "HBoxView",
            "box_style": "",
            "children": [
              "IPY_MODEL_3a395cf897534b27b2de97614b1446df",
              "IPY_MODEL_0c07e943568f49a28e05bc14a30c571d",
              "IPY_MODEL_6a7d1c82618840a995e940b17fcc433f"
            ],
            "layout": "IPY_MODEL_71009c9ff5904617982a6173b2df17e2"
          }
        }
      }
    }
  },
  "nbformat": 4,
  "nbformat_minor": 0
}
